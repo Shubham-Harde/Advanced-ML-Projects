{
  "nbformat": 4,
  "nbformat_minor": 0,
  "metadata": {
    "colab": {
      "provenance": []
    },
    "kernelspec": {
      "name": "python3",
      "display_name": "Python 3"
    },
    "language_info": {
      "name": "python"
    }
  },
  "cells": [
    {
      "cell_type": "markdown",
      "source": [
        "# Predictive Maintenance - Regression Approach\n",
        "\n",
        "> Task 1 - build a model to answer a question\n",
        "question: Model the err, and errf columns for individual 'scanners' to show a expected failure rate of the encoder component. Scanners identified into two groups, based on the following criteria and grouping:\n",
        "\n",
        "  never fail: scanners whom never reach the 12 % range for err\n",
        "  routinely fail: scanners whom reach the 12% range for err on a routine basis\n",
        "\n",
        "  err and errf are both float values, they are loosely tied to each other, and are not a 1 for 1 relationship, e.g. a rising err value doesn't mean a errf value will rise, nor the opposite. Failure is defined as a err that is above 12 % and/or a errf that is above 0.5 %\n",
        "\n",
        "\n",
        "  background: err and errf represent a encoder error rate at which a led light is pulsating into a window barrier. This barrier, and subsequent calculation, represent the rate of rotation of a component, and the compensated ERRor and ERRor Filtered value.\n",
        "\n",
        ">task 2 - explain why the model was chosen to answer the question asked\n",
        "\n",
        ">task 3 - explain the performance of the model, and of other models that would prove the same question.\n",
        "\n",
        ">task-5: Build documentation and share it across."
      ],
      "metadata": {
        "id": "66j0ynLwIOAv"
      }
    },
    {
      "cell_type": "code",
      "source": [
        "%reload_ext autoreload\n",
        "%autoreload 2"
      ],
      "metadata": {
        "id": "Prj-7NgQI8zq"
      },
      "execution_count": null,
      "outputs": []
    },
    {
      "cell_type": "code",
      "source": [
        "import numpy as np\n",
        "import pandas as pd\n",
        "from scipy.stats import randint\n",
        "import matplotlib.pyplot as plt\n",
        "import seaborn as sns\n",
        "\n",
        "%matplotlib inline\n",
        "\n",
        "plt.style.use('seaborn-whitegrid')\n",
        "from plotly import __version__\n",
        "\n",
        "\n",
        "from plotly.offline import download_plotlyjs, init_notebook_mode, plot, iplot\n",
        "import plotly.graph_objs as go\n",
        "\n",
        "from sklearn.model_selection import train_test_split\n",
        "from sklearn.linear_model import LogisticRegression\n",
        "from sklearn.feature_selection import RFE\n",
        "from sklearn.model_selection import KFold\n",
        "from sklearn.model_selection import GridSearchCV\n",
        "from sklearn.model_selection import RandomizedSearchCV\n",
        "from sklearn.preprocessing import StandardScaler\n",
        "from sklearn.model_selection import cross_val_score\n",
        "from sklearn.metrics import classification_report\n",
        "from sklearn.metrics import confusion_matrix\n",
        "from sklearn.feature_selection import SelectFromModel\n",
        "from sklearn.ensemble import RandomForestClassifier\n",
        "from sklearn.model_selection import GridSearchCV\n",
        "from sklearn import metrics\n",
        "import re"
      ],
      "metadata": {
        "colab": {
          "base_uri": "https://localhost:8080/"
        },
        "id": "Qa5SCR61Ji9k",
        "outputId": "e33baa9c-2aac-446f-c234-a2c6758719b6"
      },
      "execution_count": null,
      "outputs": [
        {
          "output_type": "stream",
          "name": "stderr",
          "text": [
            "<ipython-input-5-68f83b440201>:9: MatplotlibDeprecationWarning:\n",
            "\n",
            "The seaborn styles shipped by Matplotlib are deprecated since 3.6, as they no longer correspond to the styles shipped by seaborn. However, they will remain available as 'seaborn-v0_8-<style>'. Alternatively, directly use the seaborn API instead.\n",
            "\n"
          ]
        }
      ]
    },
    {
      "cell_type": "code",
      "source": [
        "df = pd.read_csv(\"/content/encoders (1).csv\", parse_dates=['date'], infer_datetime_format=True)"
      ],
      "metadata": {
        "colab": {
          "base_uri": "https://localhost:8080/"
        },
        "id": "uCWCH15TN1Qq",
        "outputId": "03e1a368-bd50-4af5-aa48-b0306f982ade"
      },
      "execution_count": null,
      "outputs": [
        {
          "output_type": "stream",
          "name": "stderr",
          "text": [
            "<ipython-input-6-0e122ee45a4a>:1: FutureWarning:\n",
            "\n",
            "The argument 'infer_datetime_format' is deprecated and will be removed in a future version. A strict version of it is now the default, see https://pandas.pydata.org/pdeps/0004-consistent-to-datetime-parsing.html. You can safely remove this argument.\n",
            "\n"
          ]
        }
      ]
    },
    {
      "cell_type": "code",
      "source": [
        "df.head()"
      ],
      "metadata": {
        "colab": {
          "base_uri": "https://localhost:8080/",
          "height": 206
        },
        "id": "Zrgt2W2icO6S",
        "outputId": "504ec4e2-ea25-406c-9963-6de24d322a08"
      },
      "execution_count": null,
      "outputs": [
        {
          "output_type": "execute_result",
          "data": {
            "text/plain": [
              "   id       date scanner    min    max   err  pixels   minf   maxf  errf  \\\n",
              "0  12 2017-12-17    K219  35435  35933  1.40       6  35681  35688  0.02   \n",
              "1  30 2017-12-18    H161  35155  36382  3.43      14  35731  35761  0.08   \n",
              "2  47 2017-12-18    K211  35305  36042  2.07      43  35692  35739  0.13   \n",
              "3  48 2017-12-18    K212  35216  36225  2.82      61  35686  35726  0.11   \n",
              "4  49 2017-12-18    K220  35196  36259  2.98      11  35709  35724  0.04   \n",
              "\n",
              "   created_at                  updated_at  \n",
              "0         NaN  2017-12-29 16:26:16.475205  \n",
              "1         NaN  2017-12-29 16:26:16.872783  \n",
              "2         NaN  2017-12-19 18:10:57.453846  \n",
              "3         NaN   2017-12-19 18:10:57.45983  \n",
              "4         NaN  2017-12-19 18:10:57.464388  "
            ],
            "text/html": [
              "\n",
              "  <div id=\"df-c31d2e64-675a-4943-95f0-484e8c84ddf6\" class=\"colab-df-container\">\n",
              "    <div>\n",
              "<style scoped>\n",
              "    .dataframe tbody tr th:only-of-type {\n",
              "        vertical-align: middle;\n",
              "    }\n",
              "\n",
              "    .dataframe tbody tr th {\n",
              "        vertical-align: top;\n",
              "    }\n",
              "\n",
              "    .dataframe thead th {\n",
              "        text-align: right;\n",
              "    }\n",
              "</style>\n",
              "<table border=\"1\" class=\"dataframe\">\n",
              "  <thead>\n",
              "    <tr style=\"text-align: right;\">\n",
              "      <th></th>\n",
              "      <th>id</th>\n",
              "      <th>date</th>\n",
              "      <th>scanner</th>\n",
              "      <th>min</th>\n",
              "      <th>max</th>\n",
              "      <th>err</th>\n",
              "      <th>pixels</th>\n",
              "      <th>minf</th>\n",
              "      <th>maxf</th>\n",
              "      <th>errf</th>\n",
              "      <th>created_at</th>\n",
              "      <th>updated_at</th>\n",
              "    </tr>\n",
              "  </thead>\n",
              "  <tbody>\n",
              "    <tr>\n",
              "      <th>0</th>\n",
              "      <td>12</td>\n",
              "      <td>2017-12-17</td>\n",
              "      <td>K219</td>\n",
              "      <td>35435</td>\n",
              "      <td>35933</td>\n",
              "      <td>1.40</td>\n",
              "      <td>6</td>\n",
              "      <td>35681</td>\n",
              "      <td>35688</td>\n",
              "      <td>0.02</td>\n",
              "      <td>NaN</td>\n",
              "      <td>2017-12-29 16:26:16.475205</td>\n",
              "    </tr>\n",
              "    <tr>\n",
              "      <th>1</th>\n",
              "      <td>30</td>\n",
              "      <td>2017-12-18</td>\n",
              "      <td>H161</td>\n",
              "      <td>35155</td>\n",
              "      <td>36382</td>\n",
              "      <td>3.43</td>\n",
              "      <td>14</td>\n",
              "      <td>35731</td>\n",
              "      <td>35761</td>\n",
              "      <td>0.08</td>\n",
              "      <td>NaN</td>\n",
              "      <td>2017-12-29 16:26:16.872783</td>\n",
              "    </tr>\n",
              "    <tr>\n",
              "      <th>2</th>\n",
              "      <td>47</td>\n",
              "      <td>2017-12-18</td>\n",
              "      <td>K211</td>\n",
              "      <td>35305</td>\n",
              "      <td>36042</td>\n",
              "      <td>2.07</td>\n",
              "      <td>43</td>\n",
              "      <td>35692</td>\n",
              "      <td>35739</td>\n",
              "      <td>0.13</td>\n",
              "      <td>NaN</td>\n",
              "      <td>2017-12-19 18:10:57.453846</td>\n",
              "    </tr>\n",
              "    <tr>\n",
              "      <th>3</th>\n",
              "      <td>48</td>\n",
              "      <td>2017-12-18</td>\n",
              "      <td>K212</td>\n",
              "      <td>35216</td>\n",
              "      <td>36225</td>\n",
              "      <td>2.82</td>\n",
              "      <td>61</td>\n",
              "      <td>35686</td>\n",
              "      <td>35726</td>\n",
              "      <td>0.11</td>\n",
              "      <td>NaN</td>\n",
              "      <td>2017-12-19 18:10:57.45983</td>\n",
              "    </tr>\n",
              "    <tr>\n",
              "      <th>4</th>\n",
              "      <td>49</td>\n",
              "      <td>2017-12-18</td>\n",
              "      <td>K220</td>\n",
              "      <td>35196</td>\n",
              "      <td>36259</td>\n",
              "      <td>2.98</td>\n",
              "      <td>11</td>\n",
              "      <td>35709</td>\n",
              "      <td>35724</td>\n",
              "      <td>0.04</td>\n",
              "      <td>NaN</td>\n",
              "      <td>2017-12-19 18:10:57.464388</td>\n",
              "    </tr>\n",
              "  </tbody>\n",
              "</table>\n",
              "</div>\n",
              "    <div class=\"colab-df-buttons\">\n",
              "\n",
              "  <div class=\"colab-df-container\">\n",
              "    <button class=\"colab-df-convert\" onclick=\"convertToInteractive('df-c31d2e64-675a-4943-95f0-484e8c84ddf6')\"\n",
              "            title=\"Convert this dataframe to an interactive table.\"\n",
              "            style=\"display:none;\">\n",
              "\n",
              "  <svg xmlns=\"http://www.w3.org/2000/svg\" height=\"24px\" viewBox=\"0 -960 960 960\">\n",
              "    <path d=\"M120-120v-720h720v720H120Zm60-500h600v-160H180v160Zm220 220h160v-160H400v160Zm0 220h160v-160H400v160ZM180-400h160v-160H180v160Zm440 0h160v-160H620v160ZM180-180h160v-160H180v160Zm440 0h160v-160H620v160Z\"/>\n",
              "  </svg>\n",
              "    </button>\n",
              "\n",
              "  <style>\n",
              "    .colab-df-container {\n",
              "      display:flex;\n",
              "      gap: 12px;\n",
              "    }\n",
              "\n",
              "    .colab-df-convert {\n",
              "      background-color: #E8F0FE;\n",
              "      border: none;\n",
              "      border-radius: 50%;\n",
              "      cursor: pointer;\n",
              "      display: none;\n",
              "      fill: #1967D2;\n",
              "      height: 32px;\n",
              "      padding: 0 0 0 0;\n",
              "      width: 32px;\n",
              "    }\n",
              "\n",
              "    .colab-df-convert:hover {\n",
              "      background-color: #E2EBFA;\n",
              "      box-shadow: 0px 1px 2px rgba(60, 64, 67, 0.3), 0px 1px 3px 1px rgba(60, 64, 67, 0.15);\n",
              "      fill: #174EA6;\n",
              "    }\n",
              "\n",
              "    .colab-df-buttons div {\n",
              "      margin-bottom: 4px;\n",
              "    }\n",
              "\n",
              "    [theme=dark] .colab-df-convert {\n",
              "      background-color: #3B4455;\n",
              "      fill: #D2E3FC;\n",
              "    }\n",
              "\n",
              "    [theme=dark] .colab-df-convert:hover {\n",
              "      background-color: #434B5C;\n",
              "      box-shadow: 0px 1px 3px 1px rgba(0, 0, 0, 0.15);\n",
              "      filter: drop-shadow(0px 1px 2px rgba(0, 0, 0, 0.3));\n",
              "      fill: #FFFFFF;\n",
              "    }\n",
              "  </style>\n",
              "\n",
              "    <script>\n",
              "      const buttonEl =\n",
              "        document.querySelector('#df-c31d2e64-675a-4943-95f0-484e8c84ddf6 button.colab-df-convert');\n",
              "      buttonEl.style.display =\n",
              "        google.colab.kernel.accessAllowed ? 'block' : 'none';\n",
              "\n",
              "      async function convertToInteractive(key) {\n",
              "        const element = document.querySelector('#df-c31d2e64-675a-4943-95f0-484e8c84ddf6');\n",
              "        const dataTable =\n",
              "          await google.colab.kernel.invokeFunction('convertToInteractive',\n",
              "                                                    [key], {});\n",
              "        if (!dataTable) return;\n",
              "\n",
              "        const docLinkHtml = 'Like what you see? Visit the ' +\n",
              "          '<a target=\"_blank\" href=https://colab.research.google.com/notebooks/data_table.ipynb>data table notebook</a>'\n",
              "          + ' to learn more about interactive tables.';\n",
              "        element.innerHTML = '';\n",
              "        dataTable['output_type'] = 'display_data';\n",
              "        await google.colab.output.renderOutput(dataTable, element);\n",
              "        const docLink = document.createElement('div');\n",
              "        docLink.innerHTML = docLinkHtml;\n",
              "        element.appendChild(docLink);\n",
              "      }\n",
              "    </script>\n",
              "  </div>\n",
              "\n",
              "\n",
              "<div id=\"df-4e00259e-a131-4bc9-b398-a80c286e7f02\">\n",
              "  <button class=\"colab-df-quickchart\" onclick=\"quickchart('df-4e00259e-a131-4bc9-b398-a80c286e7f02')\"\n",
              "            title=\"Suggest charts\"\n",
              "            style=\"display:none;\">\n",
              "\n",
              "<svg xmlns=\"http://www.w3.org/2000/svg\" height=\"24px\"viewBox=\"0 0 24 24\"\n",
              "     width=\"24px\">\n",
              "    <g>\n",
              "        <path d=\"M19 3H5c-1.1 0-2 .9-2 2v14c0 1.1.9 2 2 2h14c1.1 0 2-.9 2-2V5c0-1.1-.9-2-2-2zM9 17H7v-7h2v7zm4 0h-2V7h2v10zm4 0h-2v-4h2v4z\"/>\n",
              "    </g>\n",
              "</svg>\n",
              "  </button>\n",
              "\n",
              "<style>\n",
              "  .colab-df-quickchart {\n",
              "      --bg-color: #E8F0FE;\n",
              "      --fill-color: #1967D2;\n",
              "      --hover-bg-color: #E2EBFA;\n",
              "      --hover-fill-color: #174EA6;\n",
              "      --disabled-fill-color: #AAA;\n",
              "      --disabled-bg-color: #DDD;\n",
              "  }\n",
              "\n",
              "  [theme=dark] .colab-df-quickchart {\n",
              "      --bg-color: #3B4455;\n",
              "      --fill-color: #D2E3FC;\n",
              "      --hover-bg-color: #434B5C;\n",
              "      --hover-fill-color: #FFFFFF;\n",
              "      --disabled-bg-color: #3B4455;\n",
              "      --disabled-fill-color: #666;\n",
              "  }\n",
              "\n",
              "  .colab-df-quickchart {\n",
              "    background-color: var(--bg-color);\n",
              "    border: none;\n",
              "    border-radius: 50%;\n",
              "    cursor: pointer;\n",
              "    display: none;\n",
              "    fill: var(--fill-color);\n",
              "    height: 32px;\n",
              "    padding: 0;\n",
              "    width: 32px;\n",
              "  }\n",
              "\n",
              "  .colab-df-quickchart:hover {\n",
              "    background-color: var(--hover-bg-color);\n",
              "    box-shadow: 0 1px 2px rgba(60, 64, 67, 0.3), 0 1px 3px 1px rgba(60, 64, 67, 0.15);\n",
              "    fill: var(--button-hover-fill-color);\n",
              "  }\n",
              "\n",
              "  .colab-df-quickchart-complete:disabled,\n",
              "  .colab-df-quickchart-complete:disabled:hover {\n",
              "    background-color: var(--disabled-bg-color);\n",
              "    fill: var(--disabled-fill-color);\n",
              "    box-shadow: none;\n",
              "  }\n",
              "\n",
              "  .colab-df-spinner {\n",
              "    border: 2px solid var(--fill-color);\n",
              "    border-color: transparent;\n",
              "    border-bottom-color: var(--fill-color);\n",
              "    animation:\n",
              "      spin 1s steps(1) infinite;\n",
              "  }\n",
              "\n",
              "  @keyframes spin {\n",
              "    0% {\n",
              "      border-color: transparent;\n",
              "      border-bottom-color: var(--fill-color);\n",
              "      border-left-color: var(--fill-color);\n",
              "    }\n",
              "    20% {\n",
              "      border-color: transparent;\n",
              "      border-left-color: var(--fill-color);\n",
              "      border-top-color: var(--fill-color);\n",
              "    }\n",
              "    30% {\n",
              "      border-color: transparent;\n",
              "      border-left-color: var(--fill-color);\n",
              "      border-top-color: var(--fill-color);\n",
              "      border-right-color: var(--fill-color);\n",
              "    }\n",
              "    40% {\n",
              "      border-color: transparent;\n",
              "      border-right-color: var(--fill-color);\n",
              "      border-top-color: var(--fill-color);\n",
              "    }\n",
              "    60% {\n",
              "      border-color: transparent;\n",
              "      border-right-color: var(--fill-color);\n",
              "    }\n",
              "    80% {\n",
              "      border-color: transparent;\n",
              "      border-right-color: var(--fill-color);\n",
              "      border-bottom-color: var(--fill-color);\n",
              "    }\n",
              "    90% {\n",
              "      border-color: transparent;\n",
              "      border-bottom-color: var(--fill-color);\n",
              "    }\n",
              "  }\n",
              "</style>\n",
              "\n",
              "  <script>\n",
              "    async function quickchart(key) {\n",
              "      const quickchartButtonEl =\n",
              "        document.querySelector('#' + key + ' button');\n",
              "      quickchartButtonEl.disabled = true;  // To prevent multiple clicks.\n",
              "      quickchartButtonEl.classList.add('colab-df-spinner');\n",
              "      try {\n",
              "        const charts = await google.colab.kernel.invokeFunction(\n",
              "            'suggestCharts', [key], {});\n",
              "      } catch (error) {\n",
              "        console.error('Error during call to suggestCharts:', error);\n",
              "      }\n",
              "      quickchartButtonEl.classList.remove('colab-df-spinner');\n",
              "      quickchartButtonEl.classList.add('colab-df-quickchart-complete');\n",
              "    }\n",
              "    (() => {\n",
              "      let quickchartButtonEl =\n",
              "        document.querySelector('#df-4e00259e-a131-4bc9-b398-a80c286e7f02 button');\n",
              "      quickchartButtonEl.style.display =\n",
              "        google.colab.kernel.accessAllowed ? 'block' : 'none';\n",
              "    })();\n",
              "  </script>\n",
              "</div>\n",
              "\n",
              "    </div>\n",
              "  </div>\n"
            ],
            "application/vnd.google.colaboratory.intrinsic+json": {
              "type": "dataframe",
              "variable_name": "df",
              "summary": "{\n  \"name\": \"df\",\n  \"rows\": 2752,\n  \"fields\": [\n    {\n      \"column\": \"id\",\n      \"properties\": {\n        \"dtype\": \"number\",\n        \"std\": 794,\n        \"min\": 1,\n        \"max\": 2752,\n        \"num_unique_values\": 2752,\n        \"samples\": [\n          1358,\n          487,\n          218\n        ],\n        \"semantic_type\": \"\",\n        \"description\": \"\"\n      }\n    },\n    {\n      \"column\": \"date\",\n      \"properties\": {\n        \"dtype\": \"date\",\n        \"min\": \"2014-07-18 00:00:00\",\n        \"max\": \"2018-03-07 00:00:00\",\n        \"num_unique_values\": 173,\n        \"samples\": [\n          \"2017-04-28 00:00:00\",\n          \"2017-06-29 00:00:00\",\n          \"2018-01-16 00:00:00\"\n        ],\n        \"semantic_type\": \"\",\n        \"description\": \"\"\n      }\n    },\n    {\n      \"column\": \"scanner\",\n      \"properties\": {\n        \"dtype\": \"category\",\n        \"num_unique_values\": 73,\n        \"samples\": [\n          \"K220\",\n          \"H156\",\n          \"K239\"\n        ],\n        \"semantic_type\": \"\",\n        \"description\": \"\"\n      }\n    },\n    {\n      \"column\": \"min\",\n      \"properties\": {\n        \"dtype\": \"number\",\n        \"std\": 8003,\n        \"min\": -1,\n        \"max\": 45275,\n        \"num_unique_values\": 724,\n        \"samples\": [\n          35051,\n          34406,\n          34994\n        ],\n        \"semantic_type\": \"\",\n        \"description\": \"\"\n      }\n    },\n    {\n      \"column\": \"max\",\n      \"properties\": {\n        \"dtype\": \"number\",\n        \"std\": 8211,\n        \"min\": -1,\n        \"max\": 47057,\n        \"num_unique_values\": 735,\n        \"samples\": [\n          37042,\n          36433,\n          36153\n        ],\n        \"semantic_type\": \"\",\n        \"description\": \"\"\n      }\n    },\n    {\n      \"column\": \"err\",\n      \"properties\": {\n        \"dtype\": \"number\",\n        \"std\": 4.337743076371398,\n        \"min\": -0.0,\n        \"max\": 200.01,\n        \"num_unique_values\": 443,\n        \"samples\": [\n          2.16,\n          2.33,\n          1.46\n        ],\n        \"semantic_type\": \"\",\n        \"description\": \"\"\n      }\n    },\n    {\n      \"column\": \"pixels\",\n      \"properties\": {\n        \"dtype\": \"number\",\n        \"std\": 32,\n        \"min\": -1,\n        \"max\": 175,\n        \"num_unique_values\": 143,\n        \"samples\": [\n          173,\n          49,\n          139\n        ],\n        \"semantic_type\": \"\",\n        \"description\": \"\"\n      }\n    },\n    {\n      \"column\": \"minf\",\n      \"properties\": {\n        \"dtype\": \"number\",\n        \"std\": 8112,\n        \"min\": -1,\n        \"max\": 45717,\n        \"num_unique_values\": 147,\n        \"samples\": [\n          35747,\n          35740,\n          35657\n        ],\n        \"semantic_type\": \"\",\n        \"description\": \"\"\n      }\n    },\n    {\n      \"column\": \"maxf\",\n      \"properties\": {\n        \"dtype\": \"number\",\n        \"std\": 8094,\n        \"min\": -1,\n        \"max\": 46344,\n        \"num_unique_values\": 166,\n        \"samples\": [\n          35732,\n          35780,\n          35572\n        ],\n        \"semantic_type\": \"\",\n        \"description\": \"\"\n      }\n    },\n    {\n      \"column\": \"errf\",\n      \"properties\": {\n        \"dtype\": \"number\",\n        \"std\": 3.812030898874114,\n        \"min\": -0.0,\n        \"max\": 200.01,\n        \"num_unique_values\": 34,\n        \"samples\": [\n          0.12,\n          0.17,\n          0.19\n        ],\n        \"semantic_type\": \"\",\n        \"description\": \"\"\n      }\n    },\n    {\n      \"column\": \"created_at\",\n      \"properties\": {\n        \"dtype\": \"number\",\n        \"std\": null,\n        \"min\": null,\n        \"max\": null,\n        \"num_unique_values\": 0,\n        \"samples\": [],\n        \"semantic_type\": \"\",\n        \"description\": \"\"\n      }\n    },\n    {\n      \"column\": \"updated_at\",\n      \"properties\": {\n        \"dtype\": \"object\",\n        \"num_unique_values\": 1921,\n        \"samples\": [],\n        \"semantic_type\": \"\",\n        \"description\": \"\"\n      }\n    }\n  ]\n}"
            }
          },
          "metadata": {},
          "execution_count": 7
        }
      ]
    },
    {
      "cell_type": "markdown",
      "source": [
        "Note:\n",
        "> From the \"updates_at\" value we can get the duration of which scanner worked before doing the measurement"
      ],
      "metadata": {
        "id": "MoO-EOVdcdQO"
      }
    },
    {
      "cell_type": "code",
      "source": [
        "df = df.drop(['updated_at', 'date'], axis = 1)\n",
        "df = df.loc[~((df['min']<=0) & (df['max']<=0) & (df['err']<=0)),:]"
      ],
      "metadata": {
        "id": "13W_juEScRFh"
      },
      "execution_count": null,
      "outputs": []
    },
    {
      "cell_type": "code",
      "source": [
        "df.info()"
      ],
      "metadata": {
        "colab": {
          "base_uri": "https://localhost:8080/"
        },
        "id": "63ei9zKhdOud",
        "outputId": "bcd4d43f-eec8-4552-feaa-e4ea7ca32e7b"
      },
      "execution_count": null,
      "outputs": [
        {
          "output_type": "stream",
          "name": "stdout",
          "text": [
            "<class 'pandas.core.frame.DataFrame'>\n",
            "Index: 2603 entries, 0 to 2751\n",
            "Data columns (total 10 columns):\n",
            " #   Column      Non-Null Count  Dtype  \n",
            "---  ------      --------------  -----  \n",
            " 0   id          2603 non-null   int64  \n",
            " 1   scanner     2603 non-null   object \n",
            " 2   min         2603 non-null   int64  \n",
            " 3   max         2603 non-null   int64  \n",
            " 4   err         2603 non-null   float64\n",
            " 5   pixels      2603 non-null   int64  \n",
            " 6   minf        2603 non-null   int64  \n",
            " 7   maxf        2603 non-null   int64  \n",
            " 8   errf        2603 non-null   float64\n",
            " 9   created_at  0 non-null      float64\n",
            "dtypes: float64(3), int64(6), object(1)\n",
            "memory usage: 223.7+ KB\n"
          ]
        }
      ]
    },
    {
      "cell_type": "code",
      "source": [
        "df.head()"
      ],
      "metadata": {
        "colab": {
          "base_uri": "https://localhost:8080/",
          "height": 206
        },
        "id": "PCdtYKmXizT-",
        "outputId": "a7680897-ade3-4e31-bdda-5bcfebba00b5"
      },
      "execution_count": null,
      "outputs": [
        {
          "output_type": "execute_result",
          "data": {
            "text/plain": [
              "   id scanner    min    max   err  pixels   minf   maxf  errf  created_at\n",
              "0  12    K219  35435  35933  1.40       6  35681  35688  0.02         NaN\n",
              "1  30    H161  35155  36382  3.43      14  35731  35761  0.08         NaN\n",
              "2  47    K211  35305  36042  2.07      43  35692  35739  0.13         NaN\n",
              "3  48    K212  35216  36225  2.82      61  35686  35726  0.11         NaN\n",
              "4  49    K220  35196  36259  2.98      11  35709  35724  0.04         NaN"
            ],
            "text/html": [
              "\n",
              "  <div id=\"df-2ff65763-82d3-4bbf-b8e8-ee652ef19a71\" class=\"colab-df-container\">\n",
              "    <div>\n",
              "<style scoped>\n",
              "    .dataframe tbody tr th:only-of-type {\n",
              "        vertical-align: middle;\n",
              "    }\n",
              "\n",
              "    .dataframe tbody tr th {\n",
              "        vertical-align: top;\n",
              "    }\n",
              "\n",
              "    .dataframe thead th {\n",
              "        text-align: right;\n",
              "    }\n",
              "</style>\n",
              "<table border=\"1\" class=\"dataframe\">\n",
              "  <thead>\n",
              "    <tr style=\"text-align: right;\">\n",
              "      <th></th>\n",
              "      <th>id</th>\n",
              "      <th>scanner</th>\n",
              "      <th>min</th>\n",
              "      <th>max</th>\n",
              "      <th>err</th>\n",
              "      <th>pixels</th>\n",
              "      <th>minf</th>\n",
              "      <th>maxf</th>\n",
              "      <th>errf</th>\n",
              "      <th>created_at</th>\n",
              "    </tr>\n",
              "  </thead>\n",
              "  <tbody>\n",
              "    <tr>\n",
              "      <th>0</th>\n",
              "      <td>12</td>\n",
              "      <td>K219</td>\n",
              "      <td>35435</td>\n",
              "      <td>35933</td>\n",
              "      <td>1.40</td>\n",
              "      <td>6</td>\n",
              "      <td>35681</td>\n",
              "      <td>35688</td>\n",
              "      <td>0.02</td>\n",
              "      <td>NaN</td>\n",
              "    </tr>\n",
              "    <tr>\n",
              "      <th>1</th>\n",
              "      <td>30</td>\n",
              "      <td>H161</td>\n",
              "      <td>35155</td>\n",
              "      <td>36382</td>\n",
              "      <td>3.43</td>\n",
              "      <td>14</td>\n",
              "      <td>35731</td>\n",
              "      <td>35761</td>\n",
              "      <td>0.08</td>\n",
              "      <td>NaN</td>\n",
              "    </tr>\n",
              "    <tr>\n",
              "      <th>2</th>\n",
              "      <td>47</td>\n",
              "      <td>K211</td>\n",
              "      <td>35305</td>\n",
              "      <td>36042</td>\n",
              "      <td>2.07</td>\n",
              "      <td>43</td>\n",
              "      <td>35692</td>\n",
              "      <td>35739</td>\n",
              "      <td>0.13</td>\n",
              "      <td>NaN</td>\n",
              "    </tr>\n",
              "    <tr>\n",
              "      <th>3</th>\n",
              "      <td>48</td>\n",
              "      <td>K212</td>\n",
              "      <td>35216</td>\n",
              "      <td>36225</td>\n",
              "      <td>2.82</td>\n",
              "      <td>61</td>\n",
              "      <td>35686</td>\n",
              "      <td>35726</td>\n",
              "      <td>0.11</td>\n",
              "      <td>NaN</td>\n",
              "    </tr>\n",
              "    <tr>\n",
              "      <th>4</th>\n",
              "      <td>49</td>\n",
              "      <td>K220</td>\n",
              "      <td>35196</td>\n",
              "      <td>36259</td>\n",
              "      <td>2.98</td>\n",
              "      <td>11</td>\n",
              "      <td>35709</td>\n",
              "      <td>35724</td>\n",
              "      <td>0.04</td>\n",
              "      <td>NaN</td>\n",
              "    </tr>\n",
              "  </tbody>\n",
              "</table>\n",
              "</div>\n",
              "    <div class=\"colab-df-buttons\">\n",
              "\n",
              "  <div class=\"colab-df-container\">\n",
              "    <button class=\"colab-df-convert\" onclick=\"convertToInteractive('df-2ff65763-82d3-4bbf-b8e8-ee652ef19a71')\"\n",
              "            title=\"Convert this dataframe to an interactive table.\"\n",
              "            style=\"display:none;\">\n",
              "\n",
              "  <svg xmlns=\"http://www.w3.org/2000/svg\" height=\"24px\" viewBox=\"0 -960 960 960\">\n",
              "    <path d=\"M120-120v-720h720v720H120Zm60-500h600v-160H180v160Zm220 220h160v-160H400v160Zm0 220h160v-160H400v160ZM180-400h160v-160H180v160Zm440 0h160v-160H620v160ZM180-180h160v-160H180v160Zm440 0h160v-160H620v160Z\"/>\n",
              "  </svg>\n",
              "    </button>\n",
              "\n",
              "  <style>\n",
              "    .colab-df-container {\n",
              "      display:flex;\n",
              "      gap: 12px;\n",
              "    }\n",
              "\n",
              "    .colab-df-convert {\n",
              "      background-color: #E8F0FE;\n",
              "      border: none;\n",
              "      border-radius: 50%;\n",
              "      cursor: pointer;\n",
              "      display: none;\n",
              "      fill: #1967D2;\n",
              "      height: 32px;\n",
              "      padding: 0 0 0 0;\n",
              "      width: 32px;\n",
              "    }\n",
              "\n",
              "    .colab-df-convert:hover {\n",
              "      background-color: #E2EBFA;\n",
              "      box-shadow: 0px 1px 2px rgba(60, 64, 67, 0.3), 0px 1px 3px 1px rgba(60, 64, 67, 0.15);\n",
              "      fill: #174EA6;\n",
              "    }\n",
              "\n",
              "    .colab-df-buttons div {\n",
              "      margin-bottom: 4px;\n",
              "    }\n",
              "\n",
              "    [theme=dark] .colab-df-convert {\n",
              "      background-color: #3B4455;\n",
              "      fill: #D2E3FC;\n",
              "    }\n",
              "\n",
              "    [theme=dark] .colab-df-convert:hover {\n",
              "      background-color: #434B5C;\n",
              "      box-shadow: 0px 1px 3px 1px rgba(0, 0, 0, 0.15);\n",
              "      filter: drop-shadow(0px 1px 2px rgba(0, 0, 0, 0.3));\n",
              "      fill: #FFFFFF;\n",
              "    }\n",
              "  </style>\n",
              "\n",
              "    <script>\n",
              "      const buttonEl =\n",
              "        document.querySelector('#df-2ff65763-82d3-4bbf-b8e8-ee652ef19a71 button.colab-df-convert');\n",
              "      buttonEl.style.display =\n",
              "        google.colab.kernel.accessAllowed ? 'block' : 'none';\n",
              "\n",
              "      async function convertToInteractive(key) {\n",
              "        const element = document.querySelector('#df-2ff65763-82d3-4bbf-b8e8-ee652ef19a71');\n",
              "        const dataTable =\n",
              "          await google.colab.kernel.invokeFunction('convertToInteractive',\n",
              "                                                    [key], {});\n",
              "        if (!dataTable) return;\n",
              "\n",
              "        const docLinkHtml = 'Like what you see? Visit the ' +\n",
              "          '<a target=\"_blank\" href=https://colab.research.google.com/notebooks/data_table.ipynb>data table notebook</a>'\n",
              "          + ' to learn more about interactive tables.';\n",
              "        element.innerHTML = '';\n",
              "        dataTable['output_type'] = 'display_data';\n",
              "        await google.colab.output.renderOutput(dataTable, element);\n",
              "        const docLink = document.createElement('div');\n",
              "        docLink.innerHTML = docLinkHtml;\n",
              "        element.appendChild(docLink);\n",
              "      }\n",
              "    </script>\n",
              "  </div>\n",
              "\n",
              "\n",
              "<div id=\"df-8e5ca493-b7a4-48da-b1bf-145184849384\">\n",
              "  <button class=\"colab-df-quickchart\" onclick=\"quickchart('df-8e5ca493-b7a4-48da-b1bf-145184849384')\"\n",
              "            title=\"Suggest charts\"\n",
              "            style=\"display:none;\">\n",
              "\n",
              "<svg xmlns=\"http://www.w3.org/2000/svg\" height=\"24px\"viewBox=\"0 0 24 24\"\n",
              "     width=\"24px\">\n",
              "    <g>\n",
              "        <path d=\"M19 3H5c-1.1 0-2 .9-2 2v14c0 1.1.9 2 2 2h14c1.1 0 2-.9 2-2V5c0-1.1-.9-2-2-2zM9 17H7v-7h2v7zm4 0h-2V7h2v10zm4 0h-2v-4h2v4z\"/>\n",
              "    </g>\n",
              "</svg>\n",
              "  </button>\n",
              "\n",
              "<style>\n",
              "  .colab-df-quickchart {\n",
              "      --bg-color: #E8F0FE;\n",
              "      --fill-color: #1967D2;\n",
              "      --hover-bg-color: #E2EBFA;\n",
              "      --hover-fill-color: #174EA6;\n",
              "      --disabled-fill-color: #AAA;\n",
              "      --disabled-bg-color: #DDD;\n",
              "  }\n",
              "\n",
              "  [theme=dark] .colab-df-quickchart {\n",
              "      --bg-color: #3B4455;\n",
              "      --fill-color: #D2E3FC;\n",
              "      --hover-bg-color: #434B5C;\n",
              "      --hover-fill-color: #FFFFFF;\n",
              "      --disabled-bg-color: #3B4455;\n",
              "      --disabled-fill-color: #666;\n",
              "  }\n",
              "\n",
              "  .colab-df-quickchart {\n",
              "    background-color: var(--bg-color);\n",
              "    border: none;\n",
              "    border-radius: 50%;\n",
              "    cursor: pointer;\n",
              "    display: none;\n",
              "    fill: var(--fill-color);\n",
              "    height: 32px;\n",
              "    padding: 0;\n",
              "    width: 32px;\n",
              "  }\n",
              "\n",
              "  .colab-df-quickchart:hover {\n",
              "    background-color: var(--hover-bg-color);\n",
              "    box-shadow: 0 1px 2px rgba(60, 64, 67, 0.3), 0 1px 3px 1px rgba(60, 64, 67, 0.15);\n",
              "    fill: var(--button-hover-fill-color);\n",
              "  }\n",
              "\n",
              "  .colab-df-quickchart-complete:disabled,\n",
              "  .colab-df-quickchart-complete:disabled:hover {\n",
              "    background-color: var(--disabled-bg-color);\n",
              "    fill: var(--disabled-fill-color);\n",
              "    box-shadow: none;\n",
              "  }\n",
              "\n",
              "  .colab-df-spinner {\n",
              "    border: 2px solid var(--fill-color);\n",
              "    border-color: transparent;\n",
              "    border-bottom-color: var(--fill-color);\n",
              "    animation:\n",
              "      spin 1s steps(1) infinite;\n",
              "  }\n",
              "\n",
              "  @keyframes spin {\n",
              "    0% {\n",
              "      border-color: transparent;\n",
              "      border-bottom-color: var(--fill-color);\n",
              "      border-left-color: var(--fill-color);\n",
              "    }\n",
              "    20% {\n",
              "      border-color: transparent;\n",
              "      border-left-color: var(--fill-color);\n",
              "      border-top-color: var(--fill-color);\n",
              "    }\n",
              "    30% {\n",
              "      border-color: transparent;\n",
              "      border-left-color: var(--fill-color);\n",
              "      border-top-color: var(--fill-color);\n",
              "      border-right-color: var(--fill-color);\n",
              "    }\n",
              "    40% {\n",
              "      border-color: transparent;\n",
              "      border-right-color: var(--fill-color);\n",
              "      border-top-color: var(--fill-color);\n",
              "    }\n",
              "    60% {\n",
              "      border-color: transparent;\n",
              "      border-right-color: var(--fill-color);\n",
              "    }\n",
              "    80% {\n",
              "      border-color: transparent;\n",
              "      border-right-color: var(--fill-color);\n",
              "      border-bottom-color: var(--fill-color);\n",
              "    }\n",
              "    90% {\n",
              "      border-color: transparent;\n",
              "      border-bottom-color: var(--fill-color);\n",
              "    }\n",
              "  }\n",
              "</style>\n",
              "\n",
              "  <script>\n",
              "    async function quickchart(key) {\n",
              "      const quickchartButtonEl =\n",
              "        document.querySelector('#' + key + ' button');\n",
              "      quickchartButtonEl.disabled = true;  // To prevent multiple clicks.\n",
              "      quickchartButtonEl.classList.add('colab-df-spinner');\n",
              "      try {\n",
              "        const charts = await google.colab.kernel.invokeFunction(\n",
              "            'suggestCharts', [key], {});\n",
              "      } catch (error) {\n",
              "        console.error('Error during call to suggestCharts:', error);\n",
              "      }\n",
              "      quickchartButtonEl.classList.remove('colab-df-spinner');\n",
              "      quickchartButtonEl.classList.add('colab-df-quickchart-complete');\n",
              "    }\n",
              "    (() => {\n",
              "      let quickchartButtonEl =\n",
              "        document.querySelector('#df-8e5ca493-b7a4-48da-b1bf-145184849384 button');\n",
              "      quickchartButtonEl.style.display =\n",
              "        google.colab.kernel.accessAllowed ? 'block' : 'none';\n",
              "    })();\n",
              "  </script>\n",
              "</div>\n",
              "\n",
              "    </div>\n",
              "  </div>\n"
            ],
            "application/vnd.google.colaboratory.intrinsic+json": {
              "type": "dataframe",
              "variable_name": "df",
              "summary": "{\n  \"name\": \"df\",\n  \"rows\": 2603,\n  \"fields\": [\n    {\n      \"column\": \"id\",\n      \"properties\": {\n        \"dtype\": \"number\",\n        \"std\": 795,\n        \"min\": 1,\n        \"max\": 2752,\n        \"num_unique_values\": 2603,\n        \"samples\": [\n          797,\n          980,\n          1908\n        ],\n        \"semantic_type\": \"\",\n        \"description\": \"\"\n      }\n    },\n    {\n      \"column\": \"scanner\",\n      \"properties\": {\n        \"dtype\": \"category\",\n        \"num_unique_values\": 69,\n        \"samples\": [\n          \"H132\",\n          \"K219\",\n          \"K173\"\n        ],\n        \"semantic_type\": \"\",\n        \"description\": \"\"\n      }\n    },\n    {\n      \"column\": \"min\",\n      \"properties\": {\n        \"dtype\": \"number\",\n        \"std\": 882,\n        \"min\": -1,\n        \"max\": 45275,\n        \"num_unique_values\": 723,\n        \"samples\": [\n          35483,\n          34406,\n          35458\n        ],\n        \"semantic_type\": \"\",\n        \"description\": \"\"\n      }\n    },\n    {\n      \"column\": \"max\",\n      \"properties\": {\n        \"dtype\": \"number\",\n        \"std\": 554,\n        \"min\": 35761,\n        \"max\": 47057,\n        \"num_unique_values\": 733,\n        \"samples\": [\n          36329,\n          36473,\n          36354\n        ],\n        \"semantic_type\": \"\",\n        \"description\": \"\"\n      }\n    },\n    {\n      \"column\": \"err\",\n      \"properties\": {\n        \"dtype\": \"number\",\n        \"std\": 4.406524695147797,\n        \"min\": 1.03,\n        \"max\": 200.01,\n        \"num_unique_values\": 442,\n        \"samples\": [\n          6.07,\n          3.37,\n          1.33\n        ],\n        \"semantic_type\": \"\",\n        \"description\": \"\"\n      }\n    },\n    {\n      \"column\": \"pixels\",\n      \"properties\": {\n        \"dtype\": \"number\",\n        \"std\": 32,\n        \"min\": -1,\n        \"max\": 175,\n        \"num_unique_values\": 143,\n        \"samples\": [\n          79,\n          59,\n          155\n        ],\n        \"semantic_type\": \"\",\n        \"description\": \"\"\n      }\n    },\n    {\n      \"column\": \"minf\",\n      \"properties\": {\n        \"dtype\": \"number\",\n        \"std\": 800,\n        \"min\": -1,\n        \"max\": 45717,\n        \"num_unique_values\": 146,\n        \"samples\": [\n          35717,\n          35543,\n          35517\n        ],\n        \"semantic_type\": \"\",\n        \"description\": \"\"\n      }\n    },\n    {\n      \"column\": \"maxf\",\n      \"properties\": {\n        \"dtype\": \"number\",\n        \"std\": 413,\n        \"min\": 35527,\n        \"max\": 46344,\n        \"num_unique_values\": 164,\n        \"samples\": [\n          35791,\n          35788,\n          35755\n        ],\n        \"semantic_type\": \"\",\n        \"description\": \"\"\n      }\n    },\n    {\n      \"column\": \"errf\",\n      \"properties\": {\n        \"dtype\": \"number\",\n        \"std\": 3.9195133407782223,\n        \"min\": 0.0,\n        \"max\": 200.01,\n        \"num_unique_values\": 34,\n        \"samples\": [\n          0.22,\n          0.15,\n          0.27\n        ],\n        \"semantic_type\": \"\",\n        \"description\": \"\"\n      }\n    },\n    {\n      \"column\": \"created_at\",\n      \"properties\": {\n        \"dtype\": \"number\",\n        \"std\": null,\n        \"min\": null,\n        \"max\": null,\n        \"num_unique_values\": 0,\n        \"samples\": [],\n        \"semantic_type\": \"\",\n        \"description\": \"\"\n      }\n    }\n  ]\n}"
            }
          },
          "metadata": {},
          "execution_count": 10
        }
      ]
    },
    {
      "cell_type": "markdown",
      "source": [
        "We can see that zero non-null values in created_at so we can diretly delete or remove this column"
      ],
      "metadata": {
        "id": "ldfBgP_9i9aw"
      }
    },
    {
      "cell_type": "code",
      "source": [
        "df = df.drop(['created_at'], axis=1)\n",
        "print(df.head())"
      ],
      "metadata": {
        "colab": {
          "base_uri": "https://localhost:8080/"
        },
        "id": "Qa6u8Ovti32e",
        "outputId": "9afedcf0-2b39-41e8-9bca-6ae456ade6ae"
      },
      "execution_count": null,
      "outputs": [
        {
          "output_type": "stream",
          "name": "stdout",
          "text": [
            "   id scanner    min    max   err  pixels   minf   maxf  errf\n",
            "0  12    K219  35435  35933  1.40       6  35681  35688  0.02\n",
            "1  30    H161  35155  36382  3.43      14  35731  35761  0.08\n",
            "2  47    K211  35305  36042  2.07      43  35692  35739  0.13\n",
            "3  48    K212  35216  36225  2.82      61  35686  35726  0.11\n",
            "4  49    K220  35196  36259  2.98      11  35709  35724  0.04\n"
          ]
        }
      ]
    },
    {
      "cell_type": "code",
      "source": [
        "df.columns"
      ],
      "metadata": {
        "colab": {
          "base_uri": "https://localhost:8080/"
        },
        "id": "_0Sutd_yjUut",
        "outputId": "72092ffe-33d7-4d6e-acad-624b30914b1d"
      },
      "execution_count": null,
      "outputs": [
        {
          "output_type": "execute_result",
          "data": {
            "text/plain": [
              "Index(['id', 'scanner', 'min', 'max', 'err', 'pixels', 'minf', 'maxf', 'errf'], dtype='object')"
            ]
          },
          "metadata": {},
          "execution_count": 12
        }
      ]
    },
    {
      "cell_type": "code",
      "source": [
        "from numpy import absolute\n",
        "df['MaxMinDiff'] = absolute(df['max']-df['min'])\n",
        "\n",
        "df['MaxfMinfDiff'] = absolute(df['maxf']-df['minf'])"
      ],
      "metadata": {
        "id": "pRiwR2dkjahd"
      },
      "execution_count": null,
      "outputs": []
    },
    {
      "cell_type": "code",
      "source": [
        "df"
      ],
      "metadata": {
        "colab": {
          "base_uri": "https://localhost:8080/",
          "height": 423
        },
        "id": "dR3dub0o0OxQ",
        "outputId": "9292d91a-9449-4efe-f442-2e35f659522a"
      },
      "execution_count": null,
      "outputs": [
        {
          "output_type": "execute_result",
          "data": {
            "text/plain": [
              "        id scanner    min    max   err  pixels   minf   maxf  errf  \\\n",
              "0       12    K219  35435  35933  1.40       6  35681  35688  0.02   \n",
              "1       30    H161  35155  36382  3.43      14  35731  35761  0.08   \n",
              "2       47    K211  35305  36042  2.07      43  35692  35739  0.13   \n",
              "3       48    K212  35216  36225  2.82      61  35686  35726  0.11   \n",
              "4       49    K220  35196  36259  2.98      11  35709  35724  0.04   \n",
              "...    ...     ...    ...    ...   ...     ...    ...    ...   ...   \n",
              "2745  2745    K168  35185  35958  2.17      48  35541  35565  0.07   \n",
              "2746  2747    K114  35220  36071  2.39      17  35715  35735  0.06   \n",
              "2747  2748    K171  35109  35912  2.26      50  35504  35531  0.08   \n",
              "2750  2751    K220  35181  36229  2.94       9  35702  35715  0.04   \n",
              "2751  2752    K221  35288  36266  2.73       3  35734  35737  0.01   \n",
              "\n",
              "      MaxMinDiff  MaxfMinfDiff  \n",
              "0            498             7  \n",
              "1           1227            30  \n",
              "2            737            47  \n",
              "3           1009            40  \n",
              "4           1063            15  \n",
              "...          ...           ...  \n",
              "2745         773            24  \n",
              "2746         851            20  \n",
              "2747         803            27  \n",
              "2750        1048            13  \n",
              "2751         978             3  \n",
              "\n",
              "[2603 rows x 11 columns]"
            ],
            "text/html": [
              "\n",
              "  <div id=\"df-4bcde47e-f641-43cb-9a7e-53a857d9bcb1\" class=\"colab-df-container\">\n",
              "    <div>\n",
              "<style scoped>\n",
              "    .dataframe tbody tr th:only-of-type {\n",
              "        vertical-align: middle;\n",
              "    }\n",
              "\n",
              "    .dataframe tbody tr th {\n",
              "        vertical-align: top;\n",
              "    }\n",
              "\n",
              "    .dataframe thead th {\n",
              "        text-align: right;\n",
              "    }\n",
              "</style>\n",
              "<table border=\"1\" class=\"dataframe\">\n",
              "  <thead>\n",
              "    <tr style=\"text-align: right;\">\n",
              "      <th></th>\n",
              "      <th>id</th>\n",
              "      <th>scanner</th>\n",
              "      <th>min</th>\n",
              "      <th>max</th>\n",
              "      <th>err</th>\n",
              "      <th>pixels</th>\n",
              "      <th>minf</th>\n",
              "      <th>maxf</th>\n",
              "      <th>errf</th>\n",
              "      <th>MaxMinDiff</th>\n",
              "      <th>MaxfMinfDiff</th>\n",
              "    </tr>\n",
              "  </thead>\n",
              "  <tbody>\n",
              "    <tr>\n",
              "      <th>0</th>\n",
              "      <td>12</td>\n",
              "      <td>K219</td>\n",
              "      <td>35435</td>\n",
              "      <td>35933</td>\n",
              "      <td>1.40</td>\n",
              "      <td>6</td>\n",
              "      <td>35681</td>\n",
              "      <td>35688</td>\n",
              "      <td>0.02</td>\n",
              "      <td>498</td>\n",
              "      <td>7</td>\n",
              "    </tr>\n",
              "    <tr>\n",
              "      <th>1</th>\n",
              "      <td>30</td>\n",
              "      <td>H161</td>\n",
              "      <td>35155</td>\n",
              "      <td>36382</td>\n",
              "      <td>3.43</td>\n",
              "      <td>14</td>\n",
              "      <td>35731</td>\n",
              "      <td>35761</td>\n",
              "      <td>0.08</td>\n",
              "      <td>1227</td>\n",
              "      <td>30</td>\n",
              "    </tr>\n",
              "    <tr>\n",
              "      <th>2</th>\n",
              "      <td>47</td>\n",
              "      <td>K211</td>\n",
              "      <td>35305</td>\n",
              "      <td>36042</td>\n",
              "      <td>2.07</td>\n",
              "      <td>43</td>\n",
              "      <td>35692</td>\n",
              "      <td>35739</td>\n",
              "      <td>0.13</td>\n",
              "      <td>737</td>\n",
              "      <td>47</td>\n",
              "    </tr>\n",
              "    <tr>\n",
              "      <th>3</th>\n",
              "      <td>48</td>\n",
              "      <td>K212</td>\n",
              "      <td>35216</td>\n",
              "      <td>36225</td>\n",
              "      <td>2.82</td>\n",
              "      <td>61</td>\n",
              "      <td>35686</td>\n",
              "      <td>35726</td>\n",
              "      <td>0.11</td>\n",
              "      <td>1009</td>\n",
              "      <td>40</td>\n",
              "    </tr>\n",
              "    <tr>\n",
              "      <th>4</th>\n",
              "      <td>49</td>\n",
              "      <td>K220</td>\n",
              "      <td>35196</td>\n",
              "      <td>36259</td>\n",
              "      <td>2.98</td>\n",
              "      <td>11</td>\n",
              "      <td>35709</td>\n",
              "      <td>35724</td>\n",
              "      <td>0.04</td>\n",
              "      <td>1063</td>\n",
              "      <td>15</td>\n",
              "    </tr>\n",
              "    <tr>\n",
              "      <th>...</th>\n",
              "      <td>...</td>\n",
              "      <td>...</td>\n",
              "      <td>...</td>\n",
              "      <td>...</td>\n",
              "      <td>...</td>\n",
              "      <td>...</td>\n",
              "      <td>...</td>\n",
              "      <td>...</td>\n",
              "      <td>...</td>\n",
              "      <td>...</td>\n",
              "      <td>...</td>\n",
              "    </tr>\n",
              "    <tr>\n",
              "      <th>2745</th>\n",
              "      <td>2745</td>\n",
              "      <td>K168</td>\n",
              "      <td>35185</td>\n",
              "      <td>35958</td>\n",
              "      <td>2.17</td>\n",
              "      <td>48</td>\n",
              "      <td>35541</td>\n",
              "      <td>35565</td>\n",
              "      <td>0.07</td>\n",
              "      <td>773</td>\n",
              "      <td>24</td>\n",
              "    </tr>\n",
              "    <tr>\n",
              "      <th>2746</th>\n",
              "      <td>2747</td>\n",
              "      <td>K114</td>\n",
              "      <td>35220</td>\n",
              "      <td>36071</td>\n",
              "      <td>2.39</td>\n",
              "      <td>17</td>\n",
              "      <td>35715</td>\n",
              "      <td>35735</td>\n",
              "      <td>0.06</td>\n",
              "      <td>851</td>\n",
              "      <td>20</td>\n",
              "    </tr>\n",
              "    <tr>\n",
              "      <th>2747</th>\n",
              "      <td>2748</td>\n",
              "      <td>K171</td>\n",
              "      <td>35109</td>\n",
              "      <td>35912</td>\n",
              "      <td>2.26</td>\n",
              "      <td>50</td>\n",
              "      <td>35504</td>\n",
              "      <td>35531</td>\n",
              "      <td>0.08</td>\n",
              "      <td>803</td>\n",
              "      <td>27</td>\n",
              "    </tr>\n",
              "    <tr>\n",
              "      <th>2750</th>\n",
              "      <td>2751</td>\n",
              "      <td>K220</td>\n",
              "      <td>35181</td>\n",
              "      <td>36229</td>\n",
              "      <td>2.94</td>\n",
              "      <td>9</td>\n",
              "      <td>35702</td>\n",
              "      <td>35715</td>\n",
              "      <td>0.04</td>\n",
              "      <td>1048</td>\n",
              "      <td>13</td>\n",
              "    </tr>\n",
              "    <tr>\n",
              "      <th>2751</th>\n",
              "      <td>2752</td>\n",
              "      <td>K221</td>\n",
              "      <td>35288</td>\n",
              "      <td>36266</td>\n",
              "      <td>2.73</td>\n",
              "      <td>3</td>\n",
              "      <td>35734</td>\n",
              "      <td>35737</td>\n",
              "      <td>0.01</td>\n",
              "      <td>978</td>\n",
              "      <td>3</td>\n",
              "    </tr>\n",
              "  </tbody>\n",
              "</table>\n",
              "<p>2603 rows × 11 columns</p>\n",
              "</div>\n",
              "    <div class=\"colab-df-buttons\">\n",
              "\n",
              "  <div class=\"colab-df-container\">\n",
              "    <button class=\"colab-df-convert\" onclick=\"convertToInteractive('df-4bcde47e-f641-43cb-9a7e-53a857d9bcb1')\"\n",
              "            title=\"Convert this dataframe to an interactive table.\"\n",
              "            style=\"display:none;\">\n",
              "\n",
              "  <svg xmlns=\"http://www.w3.org/2000/svg\" height=\"24px\" viewBox=\"0 -960 960 960\">\n",
              "    <path d=\"M120-120v-720h720v720H120Zm60-500h600v-160H180v160Zm220 220h160v-160H400v160Zm0 220h160v-160H400v160ZM180-400h160v-160H180v160Zm440 0h160v-160H620v160ZM180-180h160v-160H180v160Zm440 0h160v-160H620v160Z\"/>\n",
              "  </svg>\n",
              "    </button>\n",
              "\n",
              "  <style>\n",
              "    .colab-df-container {\n",
              "      display:flex;\n",
              "      gap: 12px;\n",
              "    }\n",
              "\n",
              "    .colab-df-convert {\n",
              "      background-color: #E8F0FE;\n",
              "      border: none;\n",
              "      border-radius: 50%;\n",
              "      cursor: pointer;\n",
              "      display: none;\n",
              "      fill: #1967D2;\n",
              "      height: 32px;\n",
              "      padding: 0 0 0 0;\n",
              "      width: 32px;\n",
              "    }\n",
              "\n",
              "    .colab-df-convert:hover {\n",
              "      background-color: #E2EBFA;\n",
              "      box-shadow: 0px 1px 2px rgba(60, 64, 67, 0.3), 0px 1px 3px 1px rgba(60, 64, 67, 0.15);\n",
              "      fill: #174EA6;\n",
              "    }\n",
              "\n",
              "    .colab-df-buttons div {\n",
              "      margin-bottom: 4px;\n",
              "    }\n",
              "\n",
              "    [theme=dark] .colab-df-convert {\n",
              "      background-color: #3B4455;\n",
              "      fill: #D2E3FC;\n",
              "    }\n",
              "\n",
              "    [theme=dark] .colab-df-convert:hover {\n",
              "      background-color: #434B5C;\n",
              "      box-shadow: 0px 1px 3px 1px rgba(0, 0, 0, 0.15);\n",
              "      filter: drop-shadow(0px 1px 2px rgba(0, 0, 0, 0.3));\n",
              "      fill: #FFFFFF;\n",
              "    }\n",
              "  </style>\n",
              "\n",
              "    <script>\n",
              "      const buttonEl =\n",
              "        document.querySelector('#df-4bcde47e-f641-43cb-9a7e-53a857d9bcb1 button.colab-df-convert');\n",
              "      buttonEl.style.display =\n",
              "        google.colab.kernel.accessAllowed ? 'block' : 'none';\n",
              "\n",
              "      async function convertToInteractive(key) {\n",
              "        const element = document.querySelector('#df-4bcde47e-f641-43cb-9a7e-53a857d9bcb1');\n",
              "        const dataTable =\n",
              "          await google.colab.kernel.invokeFunction('convertToInteractive',\n",
              "                                                    [key], {});\n",
              "        if (!dataTable) return;\n",
              "\n",
              "        const docLinkHtml = 'Like what you see? Visit the ' +\n",
              "          '<a target=\"_blank\" href=https://colab.research.google.com/notebooks/data_table.ipynb>data table notebook</a>'\n",
              "          + ' to learn more about interactive tables.';\n",
              "        element.innerHTML = '';\n",
              "        dataTable['output_type'] = 'display_data';\n",
              "        await google.colab.output.renderOutput(dataTable, element);\n",
              "        const docLink = document.createElement('div');\n",
              "        docLink.innerHTML = docLinkHtml;\n",
              "        element.appendChild(docLink);\n",
              "      }\n",
              "    </script>\n",
              "  </div>\n",
              "\n",
              "\n",
              "<div id=\"df-4484354c-fa3f-4007-9f61-b927176737ff\">\n",
              "  <button class=\"colab-df-quickchart\" onclick=\"quickchart('df-4484354c-fa3f-4007-9f61-b927176737ff')\"\n",
              "            title=\"Suggest charts\"\n",
              "            style=\"display:none;\">\n",
              "\n",
              "<svg xmlns=\"http://www.w3.org/2000/svg\" height=\"24px\"viewBox=\"0 0 24 24\"\n",
              "     width=\"24px\">\n",
              "    <g>\n",
              "        <path d=\"M19 3H5c-1.1 0-2 .9-2 2v14c0 1.1.9 2 2 2h14c1.1 0 2-.9 2-2V5c0-1.1-.9-2-2-2zM9 17H7v-7h2v7zm4 0h-2V7h2v10zm4 0h-2v-4h2v4z\"/>\n",
              "    </g>\n",
              "</svg>\n",
              "  </button>\n",
              "\n",
              "<style>\n",
              "  .colab-df-quickchart {\n",
              "      --bg-color: #E8F0FE;\n",
              "      --fill-color: #1967D2;\n",
              "      --hover-bg-color: #E2EBFA;\n",
              "      --hover-fill-color: #174EA6;\n",
              "      --disabled-fill-color: #AAA;\n",
              "      --disabled-bg-color: #DDD;\n",
              "  }\n",
              "\n",
              "  [theme=dark] .colab-df-quickchart {\n",
              "      --bg-color: #3B4455;\n",
              "      --fill-color: #D2E3FC;\n",
              "      --hover-bg-color: #434B5C;\n",
              "      --hover-fill-color: #FFFFFF;\n",
              "      --disabled-bg-color: #3B4455;\n",
              "      --disabled-fill-color: #666;\n",
              "  }\n",
              "\n",
              "  .colab-df-quickchart {\n",
              "    background-color: var(--bg-color);\n",
              "    border: none;\n",
              "    border-radius: 50%;\n",
              "    cursor: pointer;\n",
              "    display: none;\n",
              "    fill: var(--fill-color);\n",
              "    height: 32px;\n",
              "    padding: 0;\n",
              "    width: 32px;\n",
              "  }\n",
              "\n",
              "  .colab-df-quickchart:hover {\n",
              "    background-color: var(--hover-bg-color);\n",
              "    box-shadow: 0 1px 2px rgba(60, 64, 67, 0.3), 0 1px 3px 1px rgba(60, 64, 67, 0.15);\n",
              "    fill: var(--button-hover-fill-color);\n",
              "  }\n",
              "\n",
              "  .colab-df-quickchart-complete:disabled,\n",
              "  .colab-df-quickchart-complete:disabled:hover {\n",
              "    background-color: var(--disabled-bg-color);\n",
              "    fill: var(--disabled-fill-color);\n",
              "    box-shadow: none;\n",
              "  }\n",
              "\n",
              "  .colab-df-spinner {\n",
              "    border: 2px solid var(--fill-color);\n",
              "    border-color: transparent;\n",
              "    border-bottom-color: var(--fill-color);\n",
              "    animation:\n",
              "      spin 1s steps(1) infinite;\n",
              "  }\n",
              "\n",
              "  @keyframes spin {\n",
              "    0% {\n",
              "      border-color: transparent;\n",
              "      border-bottom-color: var(--fill-color);\n",
              "      border-left-color: var(--fill-color);\n",
              "    }\n",
              "    20% {\n",
              "      border-color: transparent;\n",
              "      border-left-color: var(--fill-color);\n",
              "      border-top-color: var(--fill-color);\n",
              "    }\n",
              "    30% {\n",
              "      border-color: transparent;\n",
              "      border-left-color: var(--fill-color);\n",
              "      border-top-color: var(--fill-color);\n",
              "      border-right-color: var(--fill-color);\n",
              "    }\n",
              "    40% {\n",
              "      border-color: transparent;\n",
              "      border-right-color: var(--fill-color);\n",
              "      border-top-color: var(--fill-color);\n",
              "    }\n",
              "    60% {\n",
              "      border-color: transparent;\n",
              "      border-right-color: var(--fill-color);\n",
              "    }\n",
              "    80% {\n",
              "      border-color: transparent;\n",
              "      border-right-color: var(--fill-color);\n",
              "      border-bottom-color: var(--fill-color);\n",
              "    }\n",
              "    90% {\n",
              "      border-color: transparent;\n",
              "      border-bottom-color: var(--fill-color);\n",
              "    }\n",
              "  }\n",
              "</style>\n",
              "\n",
              "  <script>\n",
              "    async function quickchart(key) {\n",
              "      const quickchartButtonEl =\n",
              "        document.querySelector('#' + key + ' button');\n",
              "      quickchartButtonEl.disabled = true;  // To prevent multiple clicks.\n",
              "      quickchartButtonEl.classList.add('colab-df-spinner');\n",
              "      try {\n",
              "        const charts = await google.colab.kernel.invokeFunction(\n",
              "            'suggestCharts', [key], {});\n",
              "      } catch (error) {\n",
              "        console.error('Error during call to suggestCharts:', error);\n",
              "      }\n",
              "      quickchartButtonEl.classList.remove('colab-df-spinner');\n",
              "      quickchartButtonEl.classList.add('colab-df-quickchart-complete');\n",
              "    }\n",
              "    (() => {\n",
              "      let quickchartButtonEl =\n",
              "        document.querySelector('#df-4484354c-fa3f-4007-9f61-b927176737ff button');\n",
              "      quickchartButtonEl.style.display =\n",
              "        google.colab.kernel.accessAllowed ? 'block' : 'none';\n",
              "    })();\n",
              "  </script>\n",
              "</div>\n",
              "\n",
              "  <div id=\"id_3ce37104-b152-4922-a44b-125f5d5a2779\">\n",
              "    <style>\n",
              "      .colab-df-generate {\n",
              "        background-color: #E8F0FE;\n",
              "        border: none;\n",
              "        border-radius: 50%;\n",
              "        cursor: pointer;\n",
              "        display: none;\n",
              "        fill: #1967D2;\n",
              "        height: 32px;\n",
              "        padding: 0 0 0 0;\n",
              "        width: 32px;\n",
              "      }\n",
              "\n",
              "      .colab-df-generate:hover {\n",
              "        background-color: #E2EBFA;\n",
              "        box-shadow: 0px 1px 2px rgba(60, 64, 67, 0.3), 0px 1px 3px 1px rgba(60, 64, 67, 0.15);\n",
              "        fill: #174EA6;\n",
              "      }\n",
              "\n",
              "      [theme=dark] .colab-df-generate {\n",
              "        background-color: #3B4455;\n",
              "        fill: #D2E3FC;\n",
              "      }\n",
              "\n",
              "      [theme=dark] .colab-df-generate:hover {\n",
              "        background-color: #434B5C;\n",
              "        box-shadow: 0px 1px 3px 1px rgba(0, 0, 0, 0.15);\n",
              "        filter: drop-shadow(0px 1px 2px rgba(0, 0, 0, 0.3));\n",
              "        fill: #FFFFFF;\n",
              "      }\n",
              "    </style>\n",
              "    <button class=\"colab-df-generate\" onclick=\"generateWithVariable('df')\"\n",
              "            title=\"Generate code using this dataframe.\"\n",
              "            style=\"display:none;\">\n",
              "\n",
              "  <svg xmlns=\"http://www.w3.org/2000/svg\" height=\"24px\"viewBox=\"0 0 24 24\"\n",
              "       width=\"24px\">\n",
              "    <path d=\"M7,19H8.4L18.45,9,17,7.55,7,17.6ZM5,21V16.75L18.45,3.32a2,2,0,0,1,2.83,0l1.4,1.43a1.91,1.91,0,0,1,.58,1.4,1.91,1.91,0,0,1-.58,1.4L9.25,21ZM18.45,9,17,7.55Zm-12,3A5.31,5.31,0,0,0,4.9,8.1,5.31,5.31,0,0,0,1,6.5,5.31,5.31,0,0,0,4.9,4.9,5.31,5.31,0,0,0,6.5,1,5.31,5.31,0,0,0,8.1,4.9,5.31,5.31,0,0,0,12,6.5,5.46,5.46,0,0,0,6.5,12Z\"/>\n",
              "  </svg>\n",
              "    </button>\n",
              "    <script>\n",
              "      (() => {\n",
              "      const buttonEl =\n",
              "        document.querySelector('#id_3ce37104-b152-4922-a44b-125f5d5a2779 button.colab-df-generate');\n",
              "      buttonEl.style.display =\n",
              "        google.colab.kernel.accessAllowed ? 'block' : 'none';\n",
              "\n",
              "      buttonEl.onclick = () => {\n",
              "        google.colab.notebook.generateWithVariable('df');\n",
              "      }\n",
              "      })();\n",
              "    </script>\n",
              "  </div>\n",
              "\n",
              "    </div>\n",
              "  </div>\n"
            ],
            "application/vnd.google.colaboratory.intrinsic+json": {
              "type": "dataframe",
              "variable_name": "df",
              "summary": "{\n  \"name\": \"df\",\n  \"rows\": 2603,\n  \"fields\": [\n    {\n      \"column\": \"id\",\n      \"properties\": {\n        \"dtype\": \"number\",\n        \"std\": 795,\n        \"min\": 1,\n        \"max\": 2752,\n        \"num_unique_values\": 2603,\n        \"samples\": [\n          797,\n          980,\n          1908\n        ],\n        \"semantic_type\": \"\",\n        \"description\": \"\"\n      }\n    },\n    {\n      \"column\": \"scanner\",\n      \"properties\": {\n        \"dtype\": \"category\",\n        \"num_unique_values\": 69,\n        \"samples\": [\n          \"H132\",\n          \"K219\",\n          \"K173\"\n        ],\n        \"semantic_type\": \"\",\n        \"description\": \"\"\n      }\n    },\n    {\n      \"column\": \"min\",\n      \"properties\": {\n        \"dtype\": \"number\",\n        \"std\": 882,\n        \"min\": -1,\n        \"max\": 45275,\n        \"num_unique_values\": 723,\n        \"samples\": [\n          35483,\n          34406,\n          35458\n        ],\n        \"semantic_type\": \"\",\n        \"description\": \"\"\n      }\n    },\n    {\n      \"column\": \"max\",\n      \"properties\": {\n        \"dtype\": \"number\",\n        \"std\": 554,\n        \"min\": 35761,\n        \"max\": 47057,\n        \"num_unique_values\": 733,\n        \"samples\": [\n          36329,\n          36473,\n          36354\n        ],\n        \"semantic_type\": \"\",\n        \"description\": \"\"\n      }\n    },\n    {\n      \"column\": \"err\",\n      \"properties\": {\n        \"dtype\": \"number\",\n        \"std\": 4.406524695147797,\n        \"min\": 1.03,\n        \"max\": 200.01,\n        \"num_unique_values\": 442,\n        \"samples\": [\n          6.07,\n          3.37,\n          1.33\n        ],\n        \"semantic_type\": \"\",\n        \"description\": \"\"\n      }\n    },\n    {\n      \"column\": \"pixels\",\n      \"properties\": {\n        \"dtype\": \"number\",\n        \"std\": 32,\n        \"min\": -1,\n        \"max\": 175,\n        \"num_unique_values\": 143,\n        \"samples\": [\n          79,\n          59,\n          155\n        ],\n        \"semantic_type\": \"\",\n        \"description\": \"\"\n      }\n    },\n    {\n      \"column\": \"minf\",\n      \"properties\": {\n        \"dtype\": \"number\",\n        \"std\": 800,\n        \"min\": -1,\n        \"max\": 45717,\n        \"num_unique_values\": 146,\n        \"samples\": [\n          35717,\n          35543,\n          35517\n        ],\n        \"semantic_type\": \"\",\n        \"description\": \"\"\n      }\n    },\n    {\n      \"column\": \"maxf\",\n      \"properties\": {\n        \"dtype\": \"number\",\n        \"std\": 413,\n        \"min\": 35527,\n        \"max\": 46344,\n        \"num_unique_values\": 164,\n        \"samples\": [\n          35791,\n          35788,\n          35755\n        ],\n        \"semantic_type\": \"\",\n        \"description\": \"\"\n      }\n    },\n    {\n      \"column\": \"errf\",\n      \"properties\": {\n        \"dtype\": \"number\",\n        \"std\": 3.9195133407782223,\n        \"min\": 0.0,\n        \"max\": 200.01,\n        \"num_unique_values\": 34,\n        \"samples\": [\n          0.22,\n          0.15,\n          0.27\n        ],\n        \"semantic_type\": \"\",\n        \"description\": \"\"\n      }\n    },\n    {\n      \"column\": \"MaxMinDiff\",\n      \"properties\": {\n        \"dtype\": \"number\",\n        \"std\": 1020,\n        \"min\": 369,\n        \"max\": 36018,\n        \"num_unique_values\": 1001,\n        \"samples\": [\n          1179,\n          1077,\n          1310\n        ],\n        \"semantic_type\": \"\",\n        \"description\": \"\"\n      }\n    },\n    {\n      \"column\": \"MaxfMinfDiff\",\n      \"properties\": {\n        \"dtype\": \"number\",\n        \"std\": 699,\n        \"min\": 0,\n        \"max\": 35708,\n        \"num_unique_values\": 102,\n        \"samples\": [\n          13,\n          72,\n          99\n        ],\n        \"semantic_type\": \"\",\n        \"description\": \"\"\n      }\n    }\n  ]\n}"
            }
          },
          "metadata": {},
          "execution_count": 14
        }
      ]
    },
    {
      "cell_type": "code",
      "source": [
        "f, axes = plt.subplots(1,2, figsize=(15, 5), facecolor='white')\n",
        "f.suptitle('New plot')\n",
        "sns.scatterplot(x=df['MaxMinDiff'],y=df['err'],palette =\"Set1\",ax=axes[0])\n",
        "sns.scatterplot(x=df['MaxfMinfDiff'],y=df['errf'],palette =\"Set1\", ax=axes[1])"
      ],
      "metadata": {
        "id": "yce_WYcNj_M0",
        "colab": {
          "base_uri": "https://localhost:8080/",
          "height": 626
        },
        "outputId": "2793025f-9eb3-4f87-ca79-c447ee5336de"
      },
      "execution_count": null,
      "outputs": [
        {
          "output_type": "stream",
          "name": "stderr",
          "text": [
            "<ipython-input-15-1b1b8ef642a5>:3: UserWarning:\n",
            "\n",
            "Ignoring `palette` because no `hue` variable has been assigned.\n",
            "\n",
            "<ipython-input-15-1b1b8ef642a5>:4: UserWarning:\n",
            "\n",
            "Ignoring `palette` because no `hue` variable has been assigned.\n",
            "\n"
          ]
        },
        {
          "output_type": "execute_result",
          "data": {
            "text/plain": [
              "<Axes: xlabel='MaxfMinfDiff', ylabel='errf'>"
            ]
          },
          "metadata": {},
          "execution_count": 15
        },
        {
          "output_type": "display_data",
          "data": {
            "text/plain": [
              "<Figure size 1500x500 with 2 Axes>"
            ],
            "image/png": "[encoded data removed]"
          },
          "metadata": {}
        }
      ]
    },
    {
      "cell_type": "code",
      "source": [
        "import plotly.express as px\n",
        "\n",
        "fig = px.scatter_3d(df, x='MaxMinDiff', y='err', z='pixels', color='scanner')\n",
        "\n",
        "fig.show()"
      ],
      "metadata": {
        "colab": {
          "base_uri": "https://localhost:8080/",
          "height": 542
        },
        "id": "ts73LFmqxt90",
        "outputId": "454753d0-c5da-4888-a51f-8cd65262f76b"
      },
      "execution_count": null,
      "outputs": [
        {
          "output_type": "display_data",
          "data": {
            "text/html": [
              "<html>\n",
              "<head><meta charset=\"utf-8\" /></head>\n",
              "<body>\n",
              "    <div>            <script src=\"https://cdnjs.cloudflare.com/ajax/libs/mathjax/2.7.5/MathJax.js?config=TeX-AMS-MML_SVG\"></script><script type=\"text/javascript\">if (window.MathJax && window.MathJax.Hub && window.MathJax.Hub.Config) {window.MathJax.Hub.Config({SVG: {font: \"STIX-Web\"}});}</script>                <script type=\"text/javascript\">window.PlotlyConfig = {MathJaxConfig: 'local'};</script>\n",
              "        <script charset=\"utf-8\" src=\"https://cdn.plot.ly/plotly-2.24.1.min.js\"></script>                <div id=\"48233bd7-e9e8-43a8-8ef5-e755ec12e22a\" class=\"plotly-graph-div\" style=\"height:525px; width:100%;\"></div>            <script type=\"text/javascript\">                                    window.PLOTLYENV=window.PLOTLYENV || {};                                    if (document.getElementById(\"48233bd7-e9e8-43a8-8ef5-e755ec12e22a\")) {                    Plotly.newPlot(                        \"48233bd7-e9e8-43a8-8ef5-e755ec12e22a\",                        [{\"hovertemplate\":\"scanner=K219\\u003cbr\\u003eMaxMinDiff=%{x}\\u003cbr\\u003eerr=%{y}\\u003cbr\\u003epixels=%{z}\\u003cextra\\u003e\\u003c\\u002fextra\\u003e\",\"legendgroup\":\"K219\",\"marker\":{\"color\":\"#636efa\",\"symbol\":\"circle\"},\"mode\":\"markers\",\"name\":\"K219\",\"scene\":\"scene\",\"showlegend\":true,\"x\":[498,476,483,503,495,510,520,569,567,579,579,542,542,537,517,512,518,519,542,540,535,531,535,537,564,595,586,589,590,658,649,646,660,660,656,658,652,650],\"y\":[1.4,1.33,1.35,1.41,1.39,1.43,1.46,1.6,1.59,1.62,1.62,1.52,1.52,1.5,1.45,1.43,1.45,1.45,1.52,1.51,1.5,1.49,1.5,1.5,1.58,1.67,1.64,1.65,1.65,1.84,1.82,1.81,1.85,1.85,1.84,1.84,1.83,1.82],\"z\":[6,11,10,6,8,6,6,6,6,6,6,6,6,6,8,8,7,7,8,8,8,8,7,7,5,4,5,5,6,5,5,8,7,7,6,5,5,5],\"type\":\"scatter3d\"},{\"hovertemplate\":\"scanner=H161\\u003cbr\\u003eMaxMinDiff=%{x}\\u003cbr\\u003eerr=%{y}\\u003cbr\\u003epixels=%{z}\\u003cextra\\u003e\\u003c\\u002fextra\\u003e\",\"legendgroup\":\"H161\",\"marker\":{\"color\":\"#EF553B\",\"symbol\":\"circle\"},\"mode\":\"markers\",\"name\":\"H161\",\"scene\":\"scene\",\"showlegend\":true,\"x\":[1227,1219,1241,1245,1244,1240,1242,1238,1921,1249,1215,1227,1215,1215,1220,1220,1239,1260,1266,1283,1293,1238,1246,1275,1277,1274,1274,1272,1281,1271,1272,1272,1275,1277,1280,1277,1278,1254,1251,1255,1252,1246,1251,1241,1258,1247,1243,1239,1244,1242,1244,1249,1214,1203,1203,1200,1215,1214,1217,1221,1217,1218,1221,1212,1188,1184,1190,1194],\"y\":[3.43,3.41,3.47,3.48,3.48,3.47,3.47,3.46,4.17,3.49,3.4,3.43,3.4,3.4,3.41,3.41,3.46,3.52,3.54,3.59,3.62,3.46,3.48,3.57,3.57,3.56,3.56,3.56,3.58,3.55,3.56,3.56,3.57,3.57,3.58,3.57,3.57,3.51,3.5,3.51,3.5,3.48,3.5,3.47,3.52,3.49,3.48,3.46,3.48,3.47,3.48,3.49,3.39,3.36,3.36,3.35,3.4,3.39,3.4,3.41,3.4,3.41,3.41,3.39,3.32,3.31,3.33,3.34],\"z\":[14,15,12,22,22,39,42,18,20,24,8,15,17,18,21,19,7,8,13,13,14,15,8,10,11,13,17,19,24,24,32,32,35,35,36,37,37,16,19,22,24,25,28,30,34,7,7,8,9,10,11,7,22,26,26,28,9,11,14,15,8,8,9,9,8,11,13,14],\"type\":\"scatter3d\"},{\"hovertemplate\":\"scanner=K211\\u003cbr\\u003eMaxMinDiff=%{x}\\u003cbr\\u003eerr=%{y}\\u003cbr\\u003epixels=%{z}\\u003cextra\\u003e\\u003c\\u002fextra\\u003e\",\"legendgroup\":\"K211\",\"marker\":{\"color\":\"#00cc96\",\"symbol\":\"circle\"},\"mode\":\"markers\",\"name\":\"K211\",\"scene\":\"scene\",\"showlegend\":true,\"x\":[737,714,744,1174,1169,1141,1069],\"y\":[2.07,2.0,2.09,3.29,3.28,3.2,3.0],\"z\":[43,43,43,56,58,60,63],\"type\":\"scatter3d\"},{\"hovertemplate\":\"scanner=K212\\u003cbr\\u003eMaxMinDiff=%{x}\\u003cbr\\u003eerr=%{y}\\u003cbr\\u003epixels=%{z}\\u003cextra\\u003e\\u003c\\u002fextra\\u003e\",\"legendgroup\":\"K212\",\"marker\":{\"color\":\"#ab63fa\",\"symbol\":\"circle\"},\"mode\":\"markers\",\"name\":\"K212\",\"scene\":\"scene\",\"showlegend\":true,\"x\":[1009,1002,1000,881,878,878,927],\"y\":[2.82,2.81,2.8,2.47,2.46,2.46,2.6],\"z\":[61,61,61,30,30,33,37],\"type\":\"scatter3d\"},{\"hovertemplate\":\"scanner=K220\\u003cbr\\u003eMaxMinDiff=%{x}\\u003cbr\\u003eerr=%{y}\\u003cbr\\u003epixels=%{z}\\u003cextra\\u003e\\u003c\\u002fextra\\u003e\",\"legendgroup\":\"K220\",\"marker\":{\"color\":\"#FFA15A\",\"symbol\":\"circle\"},\"mode\":\"markers\",\"name\":\"K220\",\"scene\":\"scene\",\"showlegend\":true,\"x\":[1063,1062,1064,1053,1056,1056,1069,1066,1053,1057,1233,1018,1038,1017,997,996,1015,991,997,1937,1942,2224,967,952,876,838,845,829,862,856,865,1047,1051,1048],\"y\":[2.98,2.97,2.98,2.95,2.96,2.96,2.99,2.98,2.95,2.96,3.45,2.84,2.89,2.84,2.78,2.78,2.83,2.76,2.78,5.41,5.43,6.22,2.71,2.67,2.45,2.35,2.37,2.32,2.42,2.4,2.42,2.93,2.94,2.94],\"z\":[11,11,8,6,11,6,5,5,5,5,7,9,11,10,6,5,9,5,7,11,11,9,9,10,11,10,12,10,11,10,10,10,10,9],\"type\":\"scatter3d\"},{\"hovertemplate\":\"scanner=K221\\u003cbr\\u003eMaxMinDiff=%{x}\\u003cbr\\u003eerr=%{y}\\u003cbr\\u003epixels=%{z}\\u003cextra\\u003e\\u003c\\u002fextra\\u003e\",\"legendgroup\":\"K221\",\"marker\":{\"color\":\"#19d3f3\",\"symbol\":\"circle\"},\"mode\":\"markers\",\"name\":\"K221\",\"scene\":\"scene\",\"showlegend\":true,\"x\":[663,659,644,874,871,869,815,813,803,812,834,825,1018,1007,895,894,1024,932,861,878,874,871,875,877,882,878,880,873,867,862,878,952,945,978],\"y\":[1.86,1.84,1.8,2.45,2.44,2.43,2.28,2.28,2.25,2.27,2.33,2.31,2.85,2.82,2.5,2.5,2.87,2.61,2.41,2.46,2.45,2.44,2.45,2.45,2.47,2.46,2.46,2.44,2.42,2.41,2.45,2.66,2.64,2.73],\"z\":[5,6,5,3,3,3,3,3,3,3,3,4,5,5,3,3,3,3,3,4,3,3,3,3,4,3,5,5,5,5,5,5,5,3],\"type\":\"scatter3d\"},{\"hovertemplate\":\"scanner=K169\\u003cbr\\u003eMaxMinDiff=%{x}\\u003cbr\\u003eerr=%{y}\\u003cbr\\u003epixels=%{z}\\u003cextra\\u003e\\u003c\\u002fextra\\u003e\",\"legendgroup\":\"K169\",\"marker\":{\"color\":\"#FF6692\",\"symbol\":\"circle\"},\"mode\":\"markers\",\"name\":\"K169\",\"scene\":\"scene\",\"showlegend\":true,\"x\":[1284,1276,1357,1306,1332,1325,1282,1277,1272,1349,1275,1281,1275,1278,1280,1308,1303,1313,1308,1298,1296,1304,1299,1300,1293,1338,1338,1346,1338,1339,1342,1331,1344,1291,1289,1284,1287,1301,1309,1307,1310,1304,1310,1300,1300,1304,1312,1301,1303,1292,1286,1282,1287,1291,1281,1300,1301,1297,1295,1294,1299,1291,1300,1298,1292,1290,1345,1342,1274,1269,1263],\"y\":[3.61,3.59,3.81,3.67,3.74,3.72,3.61,3.59,3.58,3.79,3.59,3.6,3.59,3.6,3.6,3.68,3.67,3.69,3.68,3.65,3.65,3.67,3.66,3.66,3.64,3.76,3.76,3.78,3.76,3.76,3.77,3.74,3.78,3.63,3.62,3.61,3.62,3.66,3.68,3.67,3.68,3.67,3.68,3.65,3.65,3.67,3.69,3.66,3.66,3.63,3.61,3.6,3.62,3.63,3.6,3.65,3.66,3.65,3.64,3.64,3.65,3.63,3.65,3.65,3.63,3.63,3.78,3.77,3.58,3.57,3.55],\"z\":[51,33,59,59,65,67,47,59,59,59,45,47,47,48,52,37,47,49,38,42,46,49,49,49,54,33,33,34,34,38,39,40,45,30,34,39,40,37,39,40,30,30,33,36,37,39,39,41,42,44,32,33,38,38,41,28,40,40,32,34,38,41,42,44,33,34,34,37,30,46,49],\"type\":\"scatter3d\"},{\"hovertemplate\":\"scanner=H162\\u003cbr\\u003eMaxMinDiff=%{x}\\u003cbr\\u003eerr=%{y}\\u003cbr\\u003epixels=%{z}\\u003cextra\\u003e\\u003c\\u002fextra\\u003e\",\"legendgroup\":\"H162\",\"marker\":{\"color\":\"#B6E880\",\"symbol\":\"circle\"},\"mode\":\"markers\",\"name\":\"H162\",\"scene\":\"scene\",\"showlegend\":true,\"x\":[725,720,720,723,1245,732,734,729,731,728,821,820,819,804,818,812,816,650,672,656,662,658,656,654,687,696,687,686,683,678,680,680,676,663,663,674,678,661,665,662,655,649,646,650,663,732,740,733,741,723,722,728,699,688,688,683,711,704,725,730,727,704,680,679,746,686,695,693],\"y\":[2.03,2.02,2.02,2.02,2.76,2.05,2.05,2.04,2.05,2.04,2.3,2.29,2.29,2.25,2.29,2.27,2.28,1.82,1.88,1.84,1.85,1.84,1.84,1.83,1.92,1.95,1.92,1.92,1.91,1.9,1.9,1.9,1.89,1.86,1.86,1.89,1.9,1.85,1.86,1.85,1.83,1.82,1.81,1.82,1.86,2.05,2.07,2.05,2.07,2.02,2.02,2.04,1.96,1.93,1.93,1.91,1.99,1.97,2.03,2.04,2.04,1.97,1.9,1.9,2.09,1.92,1.95,1.94],\"z\":[39,41,26,32,36,43,46,47,52,42,20,24,26,29,45,32,47,21,28,28,29,33,37,37,25,27,28,28,29,29,30,30,23,23,23,25,28,22,28,30,31,36,39,41,18,31,32,33,35,38,22,24,35,35,35,23,21,23,28,31,45,23,23,23,27,22,26,27],\"type\":\"scatter3d\"},{\"hovertemplate\":\"scanner=K238\\u003cbr\\u003eMaxMinDiff=%{x}\\u003cbr\\u003eerr=%{y}\\u003cbr\\u003epixels=%{z}\\u003cextra\\u003e\\u003c\\u002fextra\\u003e\",\"legendgroup\":\"K238\",\"marker\":{\"color\":\"#FF97FF\",\"symbol\":\"circle\"},\"mode\":\"markers\",\"name\":\"K238\",\"scene\":\"scene\",\"showlegend\":true,\"x\":[1052,1916,2042,2042,1080,1099,1099,1099,1094,1052,1099,1091,1239,1239,1239,1239,1239,1240,1221,1216,1217,1217,1217,988,987,982,985,1002,1002,1002,998,970,985,985,943,943,980,986,985,970,935,904,912,909,975,975,975,976,950,979,964,949,960,1061,1061,1061,1090,1110,1115,1115,1112,2003,948,2042,922,922,980,983],\"y\":[2.95,5.36,5.71,5.71,3.03,3.08,3.08,3.08,3.07,2.95,3.08,3.06,3.47,3.47,3.47,3.47,3.47,3.47,3.42,3.4,3.4,3.4,3.4,2.77,2.77,2.75,2.76,2.81,2.81,2.81,2.8,2.72,2.76,2.76,2.64,2.64,2.75,2.76,2.76,2.72,2.62,2.54,2.56,2.55,2.73,2.73,2.73,2.74,2.66,2.75,2.7,2.66,2.69,2.97,2.97,2.97,3.05,3.11,3.12,3.12,3.11,5.61,2.65,5.72,2.58,2.58,2.75,2.76],\"z\":[6,6,6,6,6,6,6,6,6,6,6,6,7,7,7,7,7,6,5,6,6,6,6,6,6,6,6,6,6,6,6,6,5,6,5,5,6,6,5,6,6,6,6,6,6,6,6,6,6,6,6,6,6,6,6,6,6,6,6,6,6,6,6,6,4,4,6,5],\"type\":\"scatter3d\"},{\"hovertemplate\":\"scanner=K250\\u003cbr\\u003eMaxMinDiff=%{x}\\u003cbr\\u003eerr=%{y}\\u003cbr\\u003epixels=%{z}\\u003cextra\\u003e\\u003c\\u002fextra\\u003e\",\"legendgroup\":\"K250\",\"marker\":{\"color\":\"#FECB52\",\"symbol\":\"circle\"},\"mode\":\"markers\",\"name\":\"K250\",\"scene\":\"scene\",\"showlegend\":true,\"x\":[658,658,645,643,644,618,36018,621,621,827,1015,655,808,808,808,808,808,681,676,680,680,680,604,609,615,610,596,596,596,596,709,720,713,713,715,724,709,723,713,713,853,851,853,853,1962,1922,2638,2660,977,972,886,886,886,888,897,898,898,937,940,934,830,830,826,829],\"y\":[1.84,1.84,1.81,1.8,1.8,1.73,200.01,1.74,1.74,2.32,2.84,1.84,2.27,2.27,2.27,2.27,2.27,1.91,1.89,1.9,1.9,1.9,1.69,1.71,1.72,1.71,1.67,1.67,1.67,1.67,1.98,2.01,1.99,1.99,2.0,2.03,1.98,2.02,1.99,1.99,2.39,2.39,2.39,2.39,5.49,5.38,7.38,7.45,2.72,2.71,2.48,2.48,2.48,2.49,2.51,2.52,2.52,2.63,2.63,2.62,2.33,2.33,2.32,2.33],\"z\":[17,17,17,17,17,17,17,17,17,17,17,17,17,17,17,17,17,16,17,17,17,17,17,17,17,18,18,18,18,17,19,19,18,18,19,20,19,18,19,18,19,19,19,19,19,19,19,19,20,19,25,25,25,26,27,23,23,25,26,24,32,32,25,24],\"type\":\"scatter3d\"},{\"hovertemplate\":\"scanner=K237\\u003cbr\\u003eMaxMinDiff=%{x}\\u003cbr\\u003eerr=%{y}\\u003cbr\\u003epixels=%{z}\\u003cextra\\u003e\\u003c\\u002fextra\\u003e\",\"legendgroup\":\"K237\",\"marker\":{\"color\":\"#636efa\",\"symbol\":\"circle\"},\"mode\":\"markers\",\"name\":\"K237\",\"scene\":\"scene\",\"showlegend\":true,\"x\":[617,617,552,551,552,552,552,550,569,550,550,552,567,567,567,567,567,567,599,1126,1126,1126,1121,1121,1132,676,677,676,676,676,678,678,677,676,519,518,518,518,518,502,499,497,504,503,532,504,504,504,499,481,481,481,479,484,481,479,445,445,448,449],\"y\":[1.72,1.72,1.54,1.54,1.54,1.54,1.54,1.54,1.59,1.54,1.54,1.54,1.59,1.59,1.59,1.59,1.59,1.59,1.68,3.15,3.15,3.15,3.14,3.14,3.17,1.9,1.9,1.9,1.9,1.9,1.9,1.9,1.9,1.9,1.45,1.45,1.45,1.45,1.45,1.41,1.4,1.39,1.41,1.41,1.49,1.41,1.41,1.41,1.4,1.35,1.35,1.35,1.34,1.35,1.35,1.34,1.24,1.24,1.25,1.26],\"z\":[11,11,12,11,11,13,13,12,12,11,13,13,12,12,12,12,12,11,10,12,12,12,11,11,11,12,11,11,11,11,13,11,12,11,11,12,12,11,11,11,11,12,11,11,11,11,11,11,11,11,11,11,11,11,11,14,9,9,11,11],\"type\":\"scatter3d\"},{\"hovertemplate\":\"scanner=H173\\u003cbr\\u003eMaxMinDiff=%{x}\\u003cbr\\u003eerr=%{y}\\u003cbr\\u003epixels=%{z}\\u003cextra\\u003e\\u003c\\u002fextra\\u003e\",\"legendgroup\":\"H173\",\"marker\":{\"color\":\"#EF553B\",\"symbol\":\"circle\"},\"mode\":\"markers\",\"name\":\"H173\",\"scene\":\"scene\",\"showlegend\":true,\"x\":[542,546,577,577,538,757,788,818,598,601,896,889,874,519,637,638,647,646,648,648,478,476,476,471,473,469,467,492,493,491,488,447,446,417,419,668,659,657,653,727,727,727,733,1561,1150,1143,1004,968,997,784,782,785,787],\"y\":[1.52,1.53,1.61,1.61,1.5,2.11,2.2,2.28,1.67,1.68,2.51,2.49,2.45,1.45,1.78,1.78,1.81,1.81,1.81,1.81,1.34,1.33,1.33,1.32,1.32,1.31,1.31,1.38,1.38,1.37,1.37,1.25,1.25,1.17,1.17,1.87,1.85,1.84,1.83,2.04,2.04,2.04,2.06,4.37,3.22,3.21,2.81,2.71,2.79,2.19,2.19,2.2,2.2],\"z\":[11,13,15,20,11,27,28,28,11,15,13,15,15,17,17,19,19,20,21,21,22,23,23,23,23,24,24,8,19,24,24,26,28,38,41,43,45,65,72,8,21,22,28,29,40,44,44,50,51,7,12,14,14],\"type\":\"scatter3d\"},{\"hovertemplate\":\"scanner=H175\\u003cbr\\u003eMaxMinDiff=%{x}\\u003cbr\\u003eerr=%{y}\\u003cbr\\u003epixels=%{z}\\u003cextra\\u003e\\u003c\\u002fextra\\u003e\",\"legendgroup\":\"H175\",\"marker\":{\"color\":\"#00cc96\",\"symbol\":\"circle\"},\"mode\":\"markers\",\"name\":\"H175\",\"scene\":\"scene\",\"showlegend\":true,\"x\":[3056,3039,3037,3110,3117,2985,2983,2989,2980,2977,2976,2980,2977,2976,2975,3017,3016,3013,3021,3022,3022,3039,3035,3027,3019,3016,3018,3014,3023,3024,3024,3014,3017,3020,3046,3047,3044,3050,3047,3039,3040,3036,3042,3040,3036,3007,3017,3014,3012,3021,3008,3033,3042,3045],\"y\":[8.6,8.55,8.55,8.75,8.77,8.4,8.4,8.41,8.39,8.38,8.37,8.39,8.38,8.37,8.37,8.49,8.49,8.48,8.5,8.5,8.5,8.55,8.54,8.52,8.5,8.49,8.49,8.48,8.51,8.51,8.51,8.48,8.49,8.5,8.57,8.57,8.56,8.58,8.57,8.55,8.55,8.54,8.56,8.55,8.54,8.47,8.49,8.48,8.48,8.5,8.47,8.54,8.56,8.57],\"z\":[50,54,56,66,69,53,54,56,40,46,46,46,46,47,47,53,58,58,58,58,58,61,62,64,65,67,70,70,73,73,73,74,74,75,43,50,53,58,64,66,66,68,70,78,78,79,79,80,83,83,84,86,88,47],\"type\":\"scatter3d\"},{\"hovertemplate\":\"scanner=H177\\u003cbr\\u003eMaxMinDiff=%{x}\\u003cbr\\u003eerr=%{y}\\u003cbr\\u003epixels=%{z}\\u003cextra\\u003e\\u003c\\u002fextra\\u003e\",\"legendgroup\":\"H177\",\"marker\":{\"color\":\"#ab63fa\",\"symbol\":\"circle\"},\"mode\":\"markers\",\"name\":\"H177\",\"scene\":\"scene\",\"showlegend\":true,\"x\":[974,969,968,971,909,894,898,898,895,892,889,888,886,884,886,889,887,886,754,757,757,754,754,734,736,784,797,794,805,799,794,1600,1614,1620,1621,1599,1604,1629,804,796,804,808,820,808,798,797,798,786,796,802,926,912,921,918],\"y\":[2.72,2.71,2.71,2.71,2.54,2.5,2.51,2.51,2.5,2.5,2.49,2.48,2.48,2.47,2.48,2.49,2.48,2.48,2.11,2.12,2.12,2.11,2.11,2.05,2.06,2.19,2.23,2.22,2.25,2.23,2.22,4.47,4.51,4.53,4.53,4.47,4.48,4.55,2.25,2.23,2.25,2.26,2.29,2.26,2.23,2.23,2.23,2.2,2.23,2.24,2.59,2.55,2.58,2.57],\"z\":[42,32,31,37,31,31,32,37,37,39,30,31,31,32,39,44,44,45,23,29,29,29,30,31,32,21,30,30,31,31,32,34,35,37,39,39,40,30,63,66,66,68,72,72,74,74,74,75,78,78,25,31,41,46],\"type\":\"scatter3d\"},{\"hovertemplate\":\"scanner=H176\\u003cbr\\u003eMaxMinDiff=%{x}\\u003cbr\\u003eerr=%{y}\\u003cbr\\u003epixels=%{z}\\u003cextra\\u003e\\u003c\\u002fextra\\u003e\",\"legendgroup\":\"H176\",\"marker\":{\"color\":\"#FFA15A\",\"symbol\":\"circle\"},\"mode\":\"markers\",\"name\":\"H176\",\"scene\":\"scene\",\"showlegend\":true,\"x\":[533,545,551,557,544,507,502,500,498,579,574,573,574,581,581,578,581,1023,1018,1015,1015,1015,1019,1028,1012,1017,1025,1016,1020,1022,620,627,1210,1217,1207,1204,1215,1226,1273,1273,1264,1265,1259,1259,573,570,568,563,567,557,559,560,556,553],\"y\":[1.49,1.53,1.54,1.56,1.52,1.42,1.4,1.4,1.39,1.62,1.61,1.6,1.61,1.63,1.63,1.62,1.63,2.86,2.85,2.84,2.84,2.84,2.85,2.87,2.83,2.84,2.87,2.84,2.85,2.86,1.73,1.75,3.38,3.4,3.38,3.37,3.4,3.43,3.56,3.56,3.54,3.54,3.52,3.52,1.6,1.6,1.59,1.58,1.59,1.56,1.56,1.57,1.56,1.55],\"z\":[25,29,29,30,26,16,16,16,17,12,16,18,19,20,20,23,25,26,27,27,27,28,28,28,29,37,38,39,43,52,11,18,18,18,21,21,25,27,22,22,22,24,25,26,32,33,35,36,38,44,56,57,61,64],\"type\":\"scatter3d\"},{\"hovertemplate\":\"scanner=H174\\u003cbr\\u003eMaxMinDiff=%{x}\\u003cbr\\u003eerr=%{y}\\u003cbr\\u003epixels=%{z}\\u003cextra\\u003e\\u003c\\u002fextra\\u003e\",\"legendgroup\":\"H174\",\"marker\":{\"color\":\"#19d3f3\",\"symbol\":\"circle\"},\"mode\":\"markers\",\"name\":\"H174\",\"scene\":\"scene\",\"showlegend\":true,\"x\":[720,739,739,716,1139,756,811,771,723,748,746,740,741,716,722,706,729,717,711,736,736,711,708,720,716,700,692,698,721,691,702,710,702,721,717,819,756,747,762,785,774,797,804,802,745,742,750,743,772,715,725,745,731,728],\"y\":[2.01,2.07,2.07,2.0,3.19,2.11,2.27,2.15,2.02,2.09,2.09,2.07,2.07,2.0,2.02,1.97,2.04,2.0,1.99,2.06,2.06,1.99,1.98,2.01,2.0,1.96,1.93,1.95,2.02,1.93,1.96,1.99,1.96,2.02,2.0,2.29,2.11,2.09,2.13,2.19,2.16,2.23,2.25,2.24,2.08,2.07,2.1,2.08,2.16,2.0,2.03,2.08,2.04,2.03],\"z\":[39,39,39,40,43,54,54,55,47,47,50,50,62,64,36,39,31,37,40,41,41,41,44,46,46,49,51,51,53,34,34,34,34,34,39,39,40,41,40,40,42,43,49,49,34,35,35,42,48,50,32,36,36,36],\"type\":\"scatter3d\"},{\"hovertemplate\":\"scanner=H128\\u003cbr\\u003eMaxMinDiff=%{x}\\u003cbr\\u003eerr=%{y}\\u003cbr\\u003epixels=%{z}\\u003cextra\\u003e\\u003c\\u002fextra\\u003e\",\"legendgroup\":\"H128\",\"marker\":{\"color\":\"#FF6692\",\"symbol\":\"circle\"},\"mode\":\"markers\",\"name\":\"H128\",\"scene\":\"scene\",\"showlegend\":true,\"x\":[702,976,976,838,976,976,976,859,847,841,860,865,849,976,850,850,866,873,853,901,986,917,898,920,919,900,933,911,2198,2291,2169,2238,2450,2371,2388,2418,2418,543,536,507,615,802,802,836,369,409,409,401,387,402,392,410,411,421,428,412,407,433,729,731,722,726,721,723,477,475,475,478,510,502],\"y\":[1.97,2.73,2.73,2.35,2.73,2.73,2.73,2.41,2.37,2.35,2.41,2.42,2.38,2.73,2.38,2.38,2.42,2.44,2.39,2.52,2.76,2.57,2.51,2.58,2.57,2.52,2.61,2.55,6.17,6.43,6.09,6.29,6.88,6.66,6.71,6.79,6.79,1.52,1.5,1.42,1.73,2.24,2.24,2.34,1.03,1.15,1.15,1.12,1.08,1.13,1.1,1.15,1.15,1.18,1.2,1.15,1.14,1.21,2.04,2.05,2.02,2.04,2.02,2.03,1.33,1.33,1.33,1.34,1.43,1.4],\"z\":[119,119,119,121,119,119,119,130,130,131,132,134,138,119,138,139,139,139,141,141,143,146,146,146,146,146,149,151,152,153,153,153,154,156,157,158,158,159,160,160,164,164,164,166,166,175,175,175,175,175,175,175,175,175,175,175,175,175,22,24,24,25,26,28,8,10,13,13,14,15],\"type\":\"scatter3d\"},{\"hovertemplate\":\"scanner=H163\\u003cbr\\u003eMaxMinDiff=%{x}\\u003cbr\\u003eerr=%{y}\\u003cbr\\u003epixels=%{z}\\u003cextra\\u003e\\u003c\\u002fextra\\u003e\",\"legendgroup\":\"H163\",\"marker\":{\"color\":\"#B6E880\",\"symbol\":\"circle\"},\"mode\":\"markers\",\"name\":\"H163\",\"scene\":\"scene\",\"showlegend\":true,\"x\":[949,937,957,1500,949,946,959,949,961,916,999,1020,1026,983,896,983,1510,1481,1556,1503,1589,1571,854,850,849,849,834,830,849,817,829,829,897,903,875,905,907,915,916,927,893,920,895,860,882,901,868,891,886,901,865,883,884,914,914,883,879,895,889,900,920,924,907,924,952,910,939,928],\"y\":[2.65,2.62,2.67,3.26,2.65,2.64,2.68,2.65,2.69,2.56,2.79,2.85,2.87,2.75,2.5,2.75,4.22,4.14,4.36,4.21,4.45,4.4,2.39,2.38,2.37,2.37,2.33,2.32,2.37,2.28,2.31,2.31,2.51,2.52,2.45,2.53,2.53,2.56,2.56,2.59,2.5,2.57,2.5,2.4,2.47,2.52,2.43,2.49,2.48,2.52,2.42,2.47,2.47,2.55,2.55,2.46,2.45,2.5,2.49,2.51,2.57,2.58,2.53,2.58,2.66,2.54,2.63,2.59],\"z\":[58,59,59,59,65,71,71,43,48,59,55,60,61,66,38,39,52,54,55,55,57,57,42,47,47,49,51,51,53,54,57,57,51,52,53,54,45,46,47,48,49,44,45,41,47,52,53,56,61,61,61,53,57,57,57,57,58,61,45,50,50,54,58,49,56,62,69,69],\"type\":\"scatter3d\"},{\"hovertemplate\":\"scanner=K239\\u003cbr\\u003eMaxMinDiff=%{x}\\u003cbr\\u003eerr=%{y}\\u003cbr\\u003epixels=%{z}\\u003cextra\\u003e\\u003c\\u002fextra\\u003e\",\"legendgroup\":\"K239\",\"marker\":{\"color\":\"#FF97FF\",\"symbol\":\"circle\"},\"mode\":\"markers\",\"name\":\"K239\",\"scene\":\"scene\",\"showlegend\":true,\"x\":[982,982,978,1085,1082,1089,1108,1108,1108,1128,1112,1108,1222,1222,1222,1222,1222,1220,1007,1022,1022,1022,1022,1017,1020,1020,1023,1027,1027,1027,994,987,991,992,993,993,990,988,991,987,990,1042,1156,1156,1147,1078,1078,1073,1031,1091,1070,1075,1841,1837,1837,1837,1876,1886,1820,1820,1830,1838,1362,1836,1331,1331,1333,1334],\"y\":[2.75,2.75,2.74,3.04,3.03,3.05,3.1,3.1,3.1,3.15,3.1,3.1,3.42,3.42,3.42,3.42,3.42,3.41,2.82,2.86,2.86,2.86,2.86,2.84,2.85,2.85,2.86,2.87,2.87,2.87,2.78,2.76,2.77,2.78,2.78,2.78,2.77,2.76,2.77,2.76,2.77,2.91,3.23,3.23,3.21,3.01,3.01,3.0,2.88,3.05,2.99,3.0,5.16,5.14,5.14,5.14,5.25,5.28,5.09,5.09,5.12,5.14,3.81,5.14,3.72,3.72,3.73,3.73],\"z\":[21,21,21,20,21,20,22,22,22,21,21,22,21,21,21,21,21,21,17,21,18,18,18,19,21,21,21,20,20,20,18,20,20,20,18,18,21,21,20,20,21,19,21,19,22,20,20,21,19,21,21,21,20,19,19,19,20,22,20,20,21,20,19,21,17,17,19,20],\"type\":\"scatter3d\"},{\"hovertemplate\":\"scanner=K141\\u003cbr\\u003eMaxMinDiff=%{x}\\u003cbr\\u003eerr=%{y}\\u003cbr\\u003epixels=%{z}\\u003cextra\\u003e\\u003c\\u002fextra\\u003e\",\"legendgroup\":\"K141\",\"marker\":{\"color\":\"#FECB52\",\"symbol\":\"circle\"},\"mode\":\"markers\",\"name\":\"K141\",\"scene\":\"scene\",\"showlegend\":true,\"x\":[652,673,668,669,659,667,641,659,670,663,628,642,650,651,660,680,694,684,680,678,674,715,702,732,701,680,676,703,681,682,759,740,738,754,755,735,733,689,681,680,694,663,670,662,653,665,675,672,670,682,647,667,660,681,704,701,718,707,638,637,633,649,651,612,715,702,700,699,712,703,2276],\"y\":[1.83,1.88,1.87,1.87,1.85,1.87,1.79,1.85,1.88,1.86,1.76,1.8,1.82,1.82,1.85,1.9,1.94,1.92,1.9,1.9,1.89,2.0,1.97,2.05,1.96,1.9,1.89,1.97,1.91,1.91,2.13,2.07,2.07,2.11,2.11,2.06,2.05,1.93,1.91,1.9,1.94,1.86,1.88,1.85,1.83,1.86,1.89,1.88,1.88,1.91,1.81,1.87,1.85,1.91,1.97,1.96,2.01,1.98,1.79,1.78,1.77,1.82,1.82,1.71,2.01,1.97,1.96,1.96,2.0,1.97,6.42],\"z\":[44,32,34,41,42,43,38,34,41,43,28,29,32,32,33,29,29,31,32,33,35,27,29,30,32,33,33,33,35,37,39,40,42,43,45,49,50,26,27,27,30,34,35,41,42,43,43,44,50,50,33,35,35,57,44,44,60,60,28,29,32,32,32,29,34,35,36,38,35,42,49],\"type\":\"scatter3d\"},{\"hovertemplate\":\"scanner=H148\\u003cbr\\u003eMaxMinDiff=%{x}\\u003cbr\\u003eerr=%{y}\\u003cbr\\u003epixels=%{z}\\u003cextra\\u003e\\u003c\\u002fextra\\u003e\",\"legendgroup\":\"H148\",\"marker\":{\"color\":\"#636efa\",\"symbol\":\"circle\"},\"mode\":\"markers\",\"name\":\"H148\",\"scene\":\"scene\",\"showlegend\":true,\"x\":[569,615,615,613,715],\"y\":[1.59,1.72,1.72,1.72,2.0],\"z\":[19,27,27,21,57],\"type\":\"scatter3d\"},{\"hovertemplate\":\"scanner=H131\\u003cbr\\u003eMaxMinDiff=%{x}\\u003cbr\\u003eerr=%{y}\\u003cbr\\u003epixels=%{z}\\u003cextra\\u003e\\u003c\\u002fextra\\u003e\",\"legendgroup\":\"H131\",\"marker\":{\"color\":\"#EF553B\",\"symbol\":\"circle\"},\"mode\":\"markers\",\"name\":\"H131\",\"scene\":\"scene\",\"showlegend\":true,\"x\":[616,614,614,604,644],\"y\":[1.73,1.72,1.72,1.69,1.81],\"z\":[29,29,29,32,9],\"type\":\"scatter3d\"},{\"hovertemplate\":\"scanner=H132\\u003cbr\\u003eMaxMinDiff=%{x}\\u003cbr\\u003eerr=%{y}\\u003cbr\\u003epixels=%{z}\\u003cextra\\u003e\\u003c\\u002fextra\\u003e\",\"legendgroup\":\"H132\",\"marker\":{\"color\":\"#00cc96\",\"symbol\":\"circle\"},\"mode\":\"markers\",\"name\":\"H132\",\"scene\":\"scene\",\"showlegend\":true,\"x\":[1648,1577,1652,1652,1651],\"y\":[4.62,4.41,4.63,4.63,4.62],\"z\":[49,43,49,49,41],\"type\":\"scatter3d\"},{\"hovertemplate\":\"scanner=H134\\u003cbr\\u003eMaxMinDiff=%{x}\\u003cbr\\u003eerr=%{y}\\u003cbr\\u003epixels=%{z}\\u003cextra\\u003e\\u003c\\u002fextra\\u003e\",\"legendgroup\":\"H134\",\"marker\":{\"color\":\"#ab63fa\",\"symbol\":\"circle\"},\"mode\":\"markers\",\"name\":\"H134\",\"scene\":\"scene\",\"showlegend\":true,\"x\":[672,669,666,717],\"y\":[1.87,1.87,1.86,2.0],\"z\":[59,61,46,47],\"type\":\"scatter3d\"},{\"hovertemplate\":\"scanner=H133\\u003cbr\\u003eMaxMinDiff=%{x}\\u003cbr\\u003eerr=%{y}\\u003cbr\\u003epixels=%{z}\\u003cextra\\u003e\\u003c\\u002fextra\\u003e\",\"legendgroup\":\"H133\",\"marker\":{\"color\":\"#FFA15A\",\"symbol\":\"circle\"},\"mode\":\"markers\",\"name\":\"H133\",\"scene\":\"scene\",\"showlegend\":true,\"x\":[1811,1795,1795,1800,1854],\"y\":[5.07,5.03,5.03,5.04,5.2],\"z\":[76,77,77,91,63],\"type\":\"scatter3d\"},{\"hovertemplate\":\"scanner=H135\\u003cbr\\u003eMaxMinDiff=%{x}\\u003cbr\\u003eerr=%{y}\\u003cbr\\u003epixels=%{z}\\u003cextra\\u003e\\u003c\\u002fextra\\u003e\",\"legendgroup\":\"H135\",\"marker\":{\"color\":\"#19d3f3\",\"symbol\":\"circle\"},\"mode\":\"markers\",\"name\":\"H135\",\"scene\":\"scene\",\"showlegend\":true,\"x\":[2071,2480,2924,3397],\"y\":[5.8,6.95,8.19,9.51],\"z\":[52,56,26,45],\"type\":\"scatter3d\"},{\"hovertemplate\":\"scanner=H138\\u003cbr\\u003eMaxMinDiff=%{x}\\u003cbr\\u003eerr=%{y}\\u003cbr\\u003epixels=%{z}\\u003cextra\\u003e\\u003c\\u002fextra\\u003e\",\"legendgroup\":\"H138\",\"marker\":{\"color\":\"#FF6692\",\"symbol\":\"circle\"},\"mode\":\"markers\",\"name\":\"H138\",\"scene\":\"scene\",\"showlegend\":true,\"x\":[684,685,707,714],\"y\":[1.92,1.92,1.98,2.0],\"z\":[85,88,61,60],\"type\":\"scatter3d\"},{\"hovertemplate\":\"scanner=H139\\u003cbr\\u003eMaxMinDiff=%{x}\\u003cbr\\u003eerr=%{y}\\u003cbr\\u003epixels=%{z}\\u003cextra\\u003e\\u003c\\u002fextra\\u003e\",\"legendgroup\":\"H139\",\"marker\":{\"color\":\"#B6E880\",\"symbol\":\"circle\"},\"mode\":\"markers\",\"name\":\"H139\",\"scene\":\"scene\",\"showlegend\":true,\"x\":[1087,1089,1094,1146],\"y\":[3.04,3.05,3.06,3.21],\"z\":[98,98,83,83],\"type\":\"scatter3d\"},{\"hovertemplate\":\"scanner=H149\\u003cbr\\u003eMaxMinDiff=%{x}\\u003cbr\\u003eerr=%{y}\\u003cbr\\u003epixels=%{z}\\u003cextra\\u003e\\u003c\\u002fextra\\u003e\",\"legendgroup\":\"H149\",\"marker\":{\"color\":\"#FF97FF\",\"symbol\":\"circle\"},\"mode\":\"markers\",\"name\":\"H149\",\"scene\":\"scene\",\"showlegend\":true,\"x\":[2528,2530,2530,2557,2493],\"y\":[7.12,7.13,7.13,7.21,7.03],\"z\":[34,34,34,42,24],\"type\":\"scatter3d\"},{\"hovertemplate\":\"scanner=K115\\u003cbr\\u003eMaxMinDiff=%{x}\\u003cbr\\u003eerr=%{y}\\u003cbr\\u003epixels=%{z}\\u003cextra\\u003e\\u003c\\u002fextra\\u003e\",\"legendgroup\":\"K115\",\"marker\":{\"color\":\"#FECB52\",\"symbol\":\"circle\"},\"mode\":\"markers\",\"name\":\"K115\",\"scene\":\"scene\",\"showlegend\":true,\"x\":[584,576,582,579,579,579,579,579,579,576,580,574,579,590,579,579,577,578,583,576,569,572,553,576,577,579,576,561,570,555,554,536,556,563,542,563,550,560,535,538,543,555,557,556,548,545,551,557,547,554,591,595,591,597,581,581,575,592,570,581,572,575,570,570,568,570,576,577,633,637,621,629,628,628,638,571,571,571],\"y\":[1.64,1.62,1.64,1.63,1.63,1.63,1.63,1.63,1.63,1.62,1.63,1.62,1.63,1.66,1.63,1.63,1.62,1.63,1.64,1.62,1.6,1.61,1.56,1.62,1.62,1.63,1.62,1.58,1.6,1.56,1.56,1.51,1.56,1.58,1.52,1.58,1.55,1.58,1.5,1.51,1.53,1.56,1.57,1.56,1.54,1.53,1.55,1.57,1.54,1.56,1.66,1.67,1.66,1.68,1.63,1.63,1.62,1.67,1.6,1.63,1.61,1.62,1.6,1.6,1.6,1.6,1.62,1.62,1.78,1.79,1.75,1.77,1.77,1.77,1.79,1.61,1.61,1.61],\"z\":[35,36,44,46,46,46,46,46,46,46,47,49,46,52,46,46,52,55,56,56,20,29,29,31,32,34,35,35,36,36,36,38,39,40,41,41,41,42,42,44,45,47,48,48,10,19,20,23,23,23,13,17,19,26,27,27,28,29,34,35,35,36,36,36,37,37,21,21,22,25,26,29,29,29,30,36,36,36],\"type\":\"scatter3d\"},{\"hovertemplate\":\"scanner=H129\\u003cbr\\u003eMaxMinDiff=%{x}\\u003cbr\\u003eerr=%{y}\\u003cbr\\u003epixels=%{z}\\u003cextra\\u003e\\u003c\\u002fextra\\u003e\",\"legendgroup\":\"H129\",\"marker\":{\"color\":\"#636efa\",\"symbol\":\"circle\"},\"mode\":\"markers\",\"name\":\"H129\",\"scene\":\"scene\",\"showlegend\":true,\"x\":[620,620,620,620,620,620,401,409,406,378,378,392,376,620,390,394,376,437,432,400,751,717,708,694,702,518,573,1325,1273,1355,1386,1323,1488,1512,1512,1524,1465,1454,1463,1429,1429,1468,1468,722,722,432,415,571,577,612,603,586,669,665,915,952,385,445,416,423,454,427,432,430,448,418,430,416],\"y\":[1.74,1.74,1.74,1.74,1.74,1.74,1.12,1.15,1.14,1.06,1.06,1.1,1.05,1.74,1.09,1.1,1.05,1.22,1.21,1.12,2.11,2.01,1.98,1.95,1.97,1.45,1.6,3.72,3.57,3.8,3.89,3.71,4.16,4.23,4.23,4.27,4.1,4.07,4.09,4.0,4.0,4.11,4.11,2.02,2.02,1.21,1.16,1.6,1.62,1.71,1.69,1.64,1.87,1.86,2.56,2.67,1.08,1.25,1.16,1.18,1.27,1.2,1.21,1.2,1.25,1.17,1.2,1.16],\"z\":[67,67,67,67,67,67,30,43,26,26,26,26,26,67,26,40,48,52,58,71,27,35,44,49,54,60,70,70,72,74,79,82,91,98,98,105,117,127,135,48,48,54,54,17,17,26,28,30,33,34,39,44,49,49,49,52,70,76,79,37,54,68,73,35,50,58,65,67],\"type\":\"scatter3d\"},{\"hovertemplate\":\"scanner=H130\\u003cbr\\u003eMaxMinDiff=%{x}\\u003cbr\\u003eerr=%{y}\\u003cbr\\u003epixels=%{z}\\u003cextra\\u003e\\u003c\\u002fextra\\u003e\",\"legendgroup\":\"H130\",\"marker\":{\"color\":\"#EF553B\",\"symbol\":\"circle\"},\"mode\":\"markers\",\"name\":\"H130\",\"scene\":\"scene\",\"showlegend\":true,\"x\":[934,934,934,934,934,934,934,934,934,934,934,934,934,934,934,934,934,934,934,934,934,934,934,934,934,934,934,934,934,934,934,934,934,934,934,934,934,934,934,934,934,934,934,934,934,934,934,934,934,934,934,934,934,934,934,934,934,934,934,934,934,934,934,934,934,934,934,934,934,934],\"y\":[2.62,2.62,2.62,2.62,2.62,2.62,2.62,2.62,2.62,2.62,2.62,2.62,2.62,2.62,2.62,2.62,2.62,2.62,2.62,2.62,2.62,2.62,2.62,2.62,2.62,2.62,2.62,2.62,2.62,2.62,2.62,2.62,2.62,2.62,2.62,2.62,2.62,2.62,2.62,2.62,2.62,2.62,2.62,2.62,2.62,2.62,2.62,2.62,2.62,2.62,2.62,2.62,2.62,2.62,2.62,2.62,2.62,2.62,2.62,2.62,2.62,2.62,2.62,2.62,2.62,2.62,2.62,2.62,2.62,2.62],\"z\":[-1,-1,-1,-1,-1,-1,-1,-1,-1,-1,-1,-1,-1,-1,-1,-1,-1,-1,-1,-1,-1,-1,-1,-1,-1,-1,-1,-1,-1,-1,-1,-1,-1,-1,-1,-1,-1,-1,-1,-1,-1,-1,-1,-1,-1,-1,-1,-1,-1,-1,-1,-1,-1,-1,-1,-1,-1,-1,-1,-1,-1,-1,-1,-1,-1,-1,-1,-1,-1,-1],\"type\":\"scatter3d\"},{\"hovertemplate\":\"scanner=H127\\u003cbr\\u003eMaxMinDiff=%{x}\\u003cbr\\u003eerr=%{y}\\u003cbr\\u003epixels=%{z}\\u003cextra\\u003e\\u003c\\u002fextra\\u003e\",\"legendgroup\":\"H127\",\"marker\":{\"color\":\"#00cc96\",\"symbol\":\"circle\"},\"mode\":\"markers\",\"name\":\"H127\",\"scene\":\"scene\",\"showlegend\":true,\"x\":[718,716,716,720,716,716,716,739,722,729,740,736,716,716,713,723,704,739,757,757,753,747,784,799,826,824,820,735,728,751,730,736,721,740,665,688,688,682,691,702,715,705,705,671,684,678,678,659,681,678,692,669,663,671,689,708,708,711,834,822,809,844,812,820,841,1373,1381,1368,1347,1331],\"y\":[2.01,2.01,2.01,2.02,2.01,2.01,2.01,2.07,2.02,2.04,2.07,2.06,2.01,2.01,2.0,2.03,1.97,2.07,2.12,2.12,2.11,2.09,2.2,2.24,2.31,2.31,2.3,2.06,2.04,2.1,2.05,2.06,2.02,2.07,1.87,1.93,1.93,1.91,1.94,1.97,2.01,1.98,1.98,1.88,1.92,1.9,1.9,1.85,1.91,1.9,1.94,1.88,1.86,1.88,1.93,1.99,1.99,1.99,2.34,2.3,2.27,2.36,2.27,2.3,2.36,3.84,3.87,3.83,3.77,3.73],\"z\":[147,149,149,150,149,149,151,151,151,151,152,153,149,149,151,155,156,158,159,161,161,164,164,165,168,168,170,170,170,170,172,173,174,174,175,175,175,175,175,175,175,175,175,175,175,5,5,6,6,8,8,11,19,21,23,27,29,32,22,26,26,27,31,31,37,37,37,4,4,10],\"type\":\"scatter3d\"},{\"hovertemplate\":\"scanner=K167\\u003cbr\\u003eMaxMinDiff=%{x}\\u003cbr\\u003eerr=%{y}\\u003cbr\\u003epixels=%{z}\\u003cextra\\u003e\\u003c\\u002fextra\\u003e\",\"legendgroup\":\"K167\",\"marker\":{\"color\":\"#ab63fa\",\"symbol\":\"circle\"},\"mode\":\"markers\",\"name\":\"K167\",\"scene\":\"scene\",\"showlegend\":true,\"x\":[1616,1649,1654,1646,1646,1646,1648,1648,1652,1649,1649,1652,1618,1618,1618,1618,1623,1624,1688,1642,1642,1642,1873,1873,1873,1853,1844,1841,1844,1852,1855,1853,1842,1843,1841,1841,1841,1853,1845,1845,1846,1845,1847,1855,1912,1912,1891,1891,1891,1891,1891,1907,1907,1907,1907,1907,1903,1903,1903,1903,1913,1913,1905,1913,1913,1899,1907,1907,1912,1917,1923,1922],\"y\":[4.54,4.63,4.64,4.62,4.62,4.62,4.62,4.62,4.63,4.63,4.63,4.63,4.54,4.54,4.54,4.54,4.55,4.56,4.73,4.6,4.6,4.6,5.25,5.25,5.25,5.19,5.16,5.16,5.16,5.18,5.19,5.19,5.16,5.16,5.15,5.15,5.15,5.19,5.17,5.17,5.17,5.17,5.17,5.19,5.36,5.36,5.3,5.3,5.3,5.3,5.3,5.34,5.34,5.34,5.34,5.34,5.33,5.33,5.33,5.33,5.36,5.36,5.34,5.36,5.36,5.32,5.34,5.34,5.36,5.37,5.39,5.39],\"z\":[48,53,53,63,63,63,63,41,41,49,53,41,55,55,55,55,57,57,57,40,40,40,44,44,44,41,44,36,44,49,49,49,49,49,49,49,49,51,58,58,53,58,59,62,43,43,45,45,45,45,45,52,52,52,52,52,52,52,52,52,52,52,52,52,52,52,55,55,55,63,63,63],\"type\":\"scatter3d\"},{\"hovertemplate\":\"scanner=K150\\u003cbr\\u003eMaxMinDiff=%{x}\\u003cbr\\u003eerr=%{y}\\u003cbr\\u003epixels=%{z}\\u003cextra\\u003e\\u003c\\u002fextra\\u003e\",\"legendgroup\":\"K150\",\"marker\":{\"color\":\"#FFA15A\",\"symbol\":\"circle\"},\"mode\":\"markers\",\"name\":\"K150\",\"scene\":\"scene\",\"showlegend\":true,\"x\":[1383,1380,1343,1346,1346,1389,1369,1380,1398,1431,1380,1398,1400,1400,1400,1400,1404,1435,1450,1538,1538,1538,1549,1549,1534,1546,1571,1560,1612,1726,1721,1721,1848,1892,1805,1805,1805,1902,4292,4247,4283,4247,4213,4337,16517,16517,1485,1484,1485,1484,1484,1170,1170,1170,1170,1170,1161,1161,1161,1161,1202,1202,1168,1202,1186,1167,1180,1180,1180,1181,1195,1171],\"y\":[3.87,3.86,3.75,3.76,3.76,3.88,3.83,3.86,3.91,4.0,3.86,3.91,3.91,3.91,3.91,3.91,3.92,4.01,4.05,4.3,4.3,4.3,4.33,4.33,4.29,4.33,4.4,4.37,4.51,4.82,4.81,4.81,5.17,5.29,5.05,5.05,5.05,5.32,12.04,11.92,12.01,11.92,11.83,12.17,46.26,46.26,4.16,4.15,4.16,4.15,4.15,3.28,3.28,3.28,3.28,3.28,3.25,3.25,3.25,3.25,3.36,3.36,3.27,3.36,3.32,3.27,3.3,3.3,3.3,3.31,3.34,3.28],\"z\":[19,26,29,17,17,17,19,21,21,21,26,21,20,20,20,20,22,23,23,28,28,28,32,32,32,33,35,37,37,27,27,27,28,28,28,28,28,29,18,18,18,18,19,21,34,34,25,25,25,25,25,41,41,41,41,41,41,41,41,41,42,42,41,42,42,42,44,44,44,47,47,47],\"type\":\"scatter3d\"},{\"hovertemplate\":\"scanner=K210\\u003cbr\\u003eMaxMinDiff=%{x}\\u003cbr\\u003eerr=%{y}\\u003cbr\\u003epixels=%{z}\\u003cextra\\u003e\\u003c\\u002fextra\\u003e\",\"legendgroup\":\"K210\",\"marker\":{\"color\":\"#19d3f3\",\"symbol\":\"circle\"},\"mode\":\"markers\",\"name\":\"K210\",\"scene\":\"scene\",\"showlegend\":true,\"x\":[1180,837,836,839,839,839,838,848,843,796,796,806,791,796,804,692,685,685,692,688,689,692,689,689,689,689,688,688,687,687,690,819,819,819,806,812,808,809,777,782,774,774,779,779,774,774,763,767,767,748,767,748,763,742,765,755,778,773,774,753,753,744,756,756,761],\"y\":[3.31,2.34,2.34,2.35,2.35,2.35,2.35,2.37,2.36,2.23,2.23,2.26,2.21,2.23,2.25,1.94,1.92,1.92,1.94,1.93,1.93,1.94,1.93,1.93,1.93,1.93,1.93,1.93,1.92,1.92,1.93,2.29,2.29,2.29,2.26,2.27,2.26,2.27,2.18,2.19,2.17,2.17,2.18,2.18,2.17,2.17,2.14,2.15,2.15,2.1,2.15,2.1,2.14,2.08,2.14,2.12,2.18,2.17,2.17,2.11,2.11,2.08,2.12,2.12,2.13],\"z\":[43,43,44,38,38,39,39,41,42,36,36,37,49,51,53,43,44,44,44,48,50,50,56,56,56,56,57,57,59,59,62,38,38,38,38,39,40,42,40,46,47,47,47,51,51,51,42,51,51,51,51,51,52,41,40,42,43,44,46,49,49,49,54,54,54],\"type\":\"scatter3d\"},{\"hovertemplate\":\"scanner=K209\\u003cbr\\u003eMaxMinDiff=%{x}\\u003cbr\\u003eerr=%{y}\\u003cbr\\u003epixels=%{z}\\u003cextra\\u003e\\u003c\\u002fextra\\u003e\",\"legendgroup\":\"K209\",\"marker\":{\"color\":\"#FF6692\",\"symbol\":\"circle\"},\"mode\":\"markers\",\"name\":\"K209\",\"scene\":\"scene\",\"showlegend\":true,\"x\":[978,984,982,1008,1020,1017,1014,1011,1005,1211,1211,1222,1218,1611,2050,1959,1959,1975,2421,2420,2115,2315,2315,2315,2315,2236,2236,2239,2239,2158,1858,1858,1858,1878,1887,1715,1698,1650,1605,1545,1545,1623,1101,1103,1103,1101,1144,1144,1144,1144,1144,1134,1517,1077,1652,1561,1563,1553,1533,1533,1538],\"y\":[2.75,2.77,2.76,2.84,2.87,2.86,2.85,2.85,2.83,3.41,3.41,3.44,3.43,4.54,5.77,5.52,5.52,5.56,6.81,6.81,5.96,6.51,6.51,6.51,6.51,6.3,6.3,6.3,6.3,6.08,5.23,5.23,5.23,5.29,5.31,4.83,4.78,4.65,4.52,4.35,4.35,4.57,3.1,3.1,3.1,3.1,3.22,3.22,3.22,3.22,3.22,3.19,4.27,3.03,4.65,4.4,4.4,4.37,4.32,4.32,4.33],\"z\":[30,38,39,26,26,27,27,25,27,24,24,26,27,23,22,23,23,26,26,27,27,26,26,26,26,26,26,26,26,26,24,24,24,24,26,26,28,29,30,30,30,30,24,24,24,24,27,27,27,27,27,26,27,27,27,30,32,33,24,24,24],\"type\":\"scatter3d\"},{\"hovertemplate\":\"scanner=K149\\u003cbr\\u003eMaxMinDiff=%{x}\\u003cbr\\u003eerr=%{y}\\u003cbr\\u003epixels=%{z}\\u003cextra\\u003e\\u003c\\u002fextra\\u003e\",\"legendgroup\":\"K149\",\"marker\":{\"color\":\"#B6E880\",\"symbol\":\"circle\"},\"mode\":\"markers\",\"name\":\"K149\",\"scene\":\"scene\",\"showlegend\":true,\"x\":[1369,1357,824,823,823,831,830,834,834,834,830,1357,820,820,820,820,827,829,822,813,813,813,813,813,813,813,813,815,810,774,768,770,767,767,766,766,766,766,946,946,946,946,940,941,1230,1230,1230,1230,1230,1230,1230,1495,1495,1495,1495,1495,1501,1501,1501,1501,1542,1542,1495,1542,1525,1532,1576,1576,1576,1569,1575,1561],\"y\":[3.83,3.8,2.31,2.31,2.31,2.33,2.33,2.34,2.34,2.34,2.33,3.8,2.3,2.3,2.3,2.3,2.32,2.33,2.31,2.28,2.28,2.28,2.28,2.28,2.28,2.28,2.28,2.29,2.27,2.17,2.15,2.16,2.15,2.15,2.15,2.15,2.15,2.15,2.65,2.65,2.65,2.65,2.63,2.63,3.46,3.46,3.45,3.45,3.45,3.45,3.45,4.19,4.19,4.19,4.19,4.19,4.21,4.21,4.21,4.21,4.32,4.32,4.19,4.32,4.27,4.29,4.42,4.42,4.42,4.4,4.41,4.37],\"z\":[35,27,22,25,25,25,30,31,31,31,34,27,36,36,36,36,40,43,43,43,43,43,43,43,43,43,43,27,30,34,34,34,36,36,37,37,37,39,38,38,37,38,38,39,51,51,51,51,51,51,51,24,24,24,24,24,24,24,24,24,27,27,24,27,30,32,33,33,33,38,38,38],\"type\":\"scatter3d\"},{\"hovertemplate\":\"scanner=K120\\u003cbr\\u003eMaxMinDiff=%{x}\\u003cbr\\u003eerr=%{y}\\u003cbr\\u003epixels=%{z}\\u003cextra\\u003e\\u003c\\u002fextra\\u003e\",\"legendgroup\":\"K120\",\"marker\":{\"color\":\"#FF97FF\",\"symbol\":\"circle\"},\"mode\":\"markers\",\"name\":\"K120\",\"scene\":\"scene\",\"showlegend\":true,\"x\":[916,916,908,933,907,920,910,911,901,926,910,909,855,876,860,860,833,858,864,849,866,907,909,906,933,911,907,901,903,899,878,879,854,869,879,883,869,877,862,903,908,878,890,907,880,903,914,886,891,988,909,899,886,882,1040,1054,1049,1046,893,885,904,888,932,884,910],\"y\":[2.58,2.58,2.56,2.63,2.56,2.59,2.56,2.57,2.54,2.61,2.56,2.56,2.41,2.47,2.42,2.42,2.35,2.42,2.43,2.39,2.44,2.56,2.56,2.55,2.63,2.57,2.56,2.54,2.54,2.53,2.47,2.48,2.41,2.45,2.48,2.49,2.45,2.47,2.43,2.54,2.56,2.47,2.51,2.55,2.48,2.54,2.57,2.5,2.51,2.78,2.56,2.53,2.5,2.49,2.93,2.97,2.96,2.95,2.52,2.49,2.55,2.5,2.63,2.49,2.57],\"z\":[37,29,28,26,24,26,29,22,30,33,30,32,38,33,41,42,43,43,44,47,49,30,36,38,39,40,31,35,38,42,27,31,36,37,39,39,39,41,41,28,30,32,32,33,35,35,38,24,40,26,27,27,28,29,36,37,38,39,24,27,29,31,30,38,40],\"type\":\"scatter3d\"},{\"hovertemplate\":\"scanner=H150\\u003cbr\\u003eMaxMinDiff=%{x}\\u003cbr\\u003eerr=%{y}\\u003cbr\\u003epixels=%{z}\\u003cextra\\u003e\\u003c\\u002fextra\\u003e\",\"legendgroup\":\"H150\",\"marker\":{\"color\":\"#FECB52\",\"symbol\":\"circle\"},\"mode\":\"markers\",\"name\":\"H150\",\"scene\":\"scene\",\"showlegend\":true,\"x\":[616,615,615,1406,1358],\"y\":[1.72,1.72,1.72,3.94,3.81],\"z\":[32,32,32,35,28],\"type\":\"scatter3d\"},{\"hovertemplate\":\"scanner=K121\\u003cbr\\u003eMaxMinDiff=%{x}\\u003cbr\\u003eerr=%{y}\\u003cbr\\u003epixels=%{z}\\u003cextra\\u003e\\u003c\\u002fextra\\u003e\",\"legendgroup\":\"K121\",\"marker\":{\"color\":\"#636efa\",\"symbol\":\"circle\"},\"mode\":\"markers\",\"name\":\"K121\",\"scene\":\"scene\",\"showlegend\":true,\"x\":[636,667,683,667,667,667,667,667,667,690,667,684,706,667,664,687,671,676,656,654,655,667,656,661,941,939,923,922,944,933,954,955,937,943,947,945,957,944,965,973,863,858,863,848,839,830,825,721,720,735,716,712,718,721,722,772,793,795,799,807,793,793,801,799,809,809,800,738,722,707,715,719,731,707,707,707],\"y\":[1.78,1.87,1.91,1.87,1.87,1.87,1.87,1.87,1.87,1.93,1.87,1.92,1.98,1.87,1.86,1.92,1.88,1.89,1.84,1.83,1.83,1.87,1.84,1.85,2.63,2.62,2.58,2.58,2.64,2.61,2.67,2.67,2.62,2.64,2.65,2.64,2.67,2.64,2.7,2.72,2.42,2.4,2.42,2.37,2.35,2.32,2.31,2.02,2.02,2.06,2.01,2.0,2.01,2.02,2.02,2.16,2.22,2.23,2.24,2.26,2.22,2.22,2.24,2.24,2.27,2.27,2.24,2.07,2.03,1.98,2.01,2.02,2.05,1.98,1.98,1.98],\"z\":[24,33,28,33,33,33,33,33,33,26,33,28,25,33,27,30,34,37,42,32,24,34,36,37,23,30,32,32,35,35,39,44,45,47,36,37,38,34,36,40,27,33,35,35,36,39,39,31,39,40,0,19,21,21,22,17,23,16,19,19,21,21,22,22,30,30,30,19,21,22,23,23,25,19,19,19],\"type\":\"scatter3d\"},{\"hovertemplate\":\"scanner=K168\\u003cbr\\u003eMaxMinDiff=%{x}\\u003cbr\\u003eerr=%{y}\\u003cbr\\u003epixels=%{z}\\u003cextra\\u003e\\u003c\\u002fextra\\u003e\",\"legendgroup\":\"K168\",\"marker\":{\"color\":\"#EF553B\",\"symbol\":\"circle\"},\"mode\":\"markers\",\"name\":\"K168\",\"scene\":\"scene\",\"showlegend\":true,\"x\":[813,814,811,814,814,814,814,814,814,815,815,812,812,812,814,814,813,813,814,814,815,814,813,814,814,813,813,813,1188,1186,1181,1174,1177,787,789,788,787,791,790,788,790,790,789,789,795,794,789,790,790,790,788,786,787,791,788,788,787,784,787,783,786,972,961,954,954,924,924,922,919,935,930,938,772,773,773],\"y\":[2.29,2.29,2.28,2.29,2.29,2.29,2.29,2.29,2.29,2.29,2.29,2.28,2.28,2.28,2.29,2.29,2.29,2.29,2.29,2.29,2.29,2.29,2.29,2.29,2.29,2.29,2.29,2.29,3.36,3.35,3.34,3.32,3.32,2.21,2.22,2.22,2.21,2.22,2.22,2.22,2.22,2.22,2.22,2.22,2.24,2.23,2.22,2.22,2.22,2.22,2.22,2.21,2.21,2.22,2.22,2.22,2.21,2.2,2.21,2.2,2.21,2.74,2.7,2.68,2.68,2.6,2.6,2.59,2.59,2.63,2.62,2.64,2.17,2.17,2.17],\"z\":[48,42,41,42,42,42,42,42,42,42,44,28,30,33,42,42,30,35,35,39,40,32,41,34,38,40,42,42,43,45,30,33,34,30,33,33,35,35,36,37,42,45,36,37,37,37,39,43,43,30,33,36,36,36,34,34,35,35,37,37,39,36,36,45,45,30,38,41,32,45,45,46,48,48,48],\"type\":\"scatter3d\"},{\"hovertemplate\":\"scanner=K114\\u003cbr\\u003eMaxMinDiff=%{x}\\u003cbr\\u003eerr=%{y}\\u003cbr\\u003epixels=%{z}\\u003cextra\\u003e\\u003c\\u002fextra\\u003e\",\"legendgroup\":\"K114\",\"marker\":{\"color\":\"#00cc96\",\"symbol\":\"circle\"},\"mode\":\"markers\",\"name\":\"K114\",\"scene\":\"scene\",\"showlegend\":true,\"x\":[853,856,856,866,866,866,866,866,866,867,867,866,876,866,866,877,867,872,864,863,963,939,962,943,958,962,955,955,940,937,924,937,940,925,937,926,928,921,926,930,930,933,938,931,933,932,936,930,859,864,864,861,867,860,860,863,860,1046,1051,1034,1036,1023,1023,1033,1023,1028,1035,871,870,869,864,863,863,866,851,851,851],\"y\":[2.39,2.4,2.4,2.43,2.43,2.43,2.43,2.43,2.43,2.43,2.43,2.43,2.46,2.43,2.43,2.46,2.43,2.45,2.43,2.42,2.7,2.64,2.7,2.65,2.69,2.7,2.68,2.68,2.64,2.63,2.59,2.63,2.64,2.6,2.63,2.6,2.6,2.58,2.6,2.61,2.61,2.62,2.63,2.61,2.62,2.62,2.63,2.61,2.41,2.42,2.42,2.42,2.43,2.41,2.41,2.42,2.41,2.93,2.95,2.9,2.91,2.87,2.87,2.9,2.87,2.88,2.9,2.44,2.44,2.44,2.42,2.42,2.42,2.43,2.39,2.39,2.39],\"z\":[24,26,26,29,29,29,29,29,29,30,30,29,34,29,29,34,35,37,39,41,18,18,18,13,18,20,22,23,23,23,23,24,24,26,27,15,18,19,19,19,19,19,17,18,18,18,18,18,16,20,21,21,21,23,23,27,28,34,36,38,15,18,18,18,18,15,15,12,15,18,14,14,14,13,17,17,17],\"type\":\"scatter3d\"},{\"hovertemplate\":\"scanner=K171\\u003cbr\\u003eMaxMinDiff=%{x}\\u003cbr\\u003eerr=%{y}\\u003cbr\\u003epixels=%{z}\\u003cextra\\u003e\\u003c\\u002fextra\\u003e\",\"legendgroup\":\"K171\",\"marker\":{\"color\":\"#ab63fa\",\"symbol\":\"circle\"},\"mode\":\"markers\",\"name\":\"K171\",\"scene\":\"scene\",\"showlegend\":true,\"x\":[893,890,905,897,905,905,905,905,905,905,907,904,905,892,905,905,896,863,862,863,931,946,945,939,940,936,938,936,777,776,781,795,799,873,865,863,958,952,955,946,897,839,842,844,808,808,806,840,838,829,828,771,769,766,769,764,760,765,765,767,767,768,768,773,761,759,758,766,765,805,803,803,803],\"y\":[2.5,2.49,2.54,2.51,2.54,2.54,2.54,2.54,2.54,2.54,2.54,2.53,2.54,2.5,2.54,2.54,2.51,2.42,2.42,2.42,2.61,2.65,2.65,2.63,2.63,2.62,2.63,2.62,2.18,2.17,2.19,2.23,2.24,2.44,2.42,2.42,2.68,2.66,2.67,2.65,2.51,2.35,2.36,2.36,2.26,2.26,2.26,2.37,2.36,2.34,2.33,2.17,2.16,2.16,2.16,2.15,2.14,2.15,2.15,2.16,2.16,2.16,2.16,2.18,2.14,2.14,2.13,2.16,2.15,2.27,2.26,2.26,2.26],\"z\":[40,53,43,38,43,43,43,43,43,43,43,41,43,41,43,35,41,38,41,44,44,40,37,39,42,33,45,47,48,49,52,53,53,35,41,35,38,39,39,40,38,32,37,34,32,32,38,40,34,42,42,36,41,46,49,49,50,52,52,53,54,53,53,54,42,43,46,47,47,47,50,50,50],\"type\":\"scatter3d\"},{\"hovertemplate\":\"scanner=H171\\u003cbr\\u003eMaxMinDiff=%{x}\\u003cbr\\u003eerr=%{y}\\u003cbr\\u003epixels=%{z}\\u003cextra\\u003e\\u003c\\u002fextra\\u003e\",\"legendgroup\":\"H171\",\"marker\":{\"color\":\"#FFA15A\",\"symbol\":\"circle\"},\"mode\":\"markers\",\"name\":\"H171\",\"scene\":\"scene\",\"showlegend\":true,\"x\":[714,669,658,663,701,679,595,584,598,616,562,549,834,583,582,726,716,718,713,543,543,537,545,540,546,542,558,552,594,593,601,599,600,595,609,599,604,602,572,579,576,571,572,567,564,536,536,535,540,539,534,539,527,536],\"y\":[2.0,1.87,1.84,1.85,1.96,1.9,1.66,1.63,1.67,1.72,1.57,1.53,2.34,1.63,1.63,2.03,2.0,2.01,1.99,1.52,1.52,1.5,1.52,1.51,1.53,1.52,1.56,1.54,1.66,1.66,1.68,1.68,1.68,1.67,1.7,1.68,1.69,1.69,1.6,1.62,1.61,1.6,1.6,1.59,1.58,1.5,1.5,1.5,1.51,1.51,1.49,1.51,1.48,1.5],\"z\":[18,22,22,24,26,36,13,21,21,23,28,34,18,23,25,26,26,28,31,32,32,33,33,35,36,37,37,39,28,32,34,35,35,38,40,41,42,42,37,38,22,26,38,39,39,17,19,20,27,27,18,20,22,24],\"type\":\"scatter3d\"},{\"hovertemplate\":\"scanner=K147\\u003cbr\\u003eMaxMinDiff=%{x}\\u003cbr\\u003eerr=%{y}\\u003cbr\\u003epixels=%{z}\\u003cextra\\u003e\\u003c\\u002fextra\\u003e\",\"legendgroup\":\"K147\",\"marker\":{\"color\":\"#19d3f3\",\"symbol\":\"circle\"},\"mode\":\"markers\",\"name\":\"K147\",\"scene\":\"scene\",\"showlegend\":true,\"x\":[826,816,816,476,483,483,479,482,482,482,481,479,487,487,487,487,476,487,484,484,484,484,475,475,480,482,479,470,478,489,498,485,487,484,483,483,483,490,540,540,538,540,533,537,627,627,528,528,528,528,528,485,485,485,485,485,416,416,416,416,410,410,431,410,422,411,454,454,454,583,583,601],\"y\":[2.32,2.29,2.29,1.34,1.36,1.36,1.35,1.36,1.36,1.36,1.35,1.35,1.37,1.37,1.37,1.37,1.34,1.37,1.36,1.36,1.36,1.36,1.34,1.34,1.35,1.36,1.35,1.32,1.34,1.38,1.4,1.36,1.37,1.36,1.36,1.36,1.36,1.38,1.52,1.52,1.51,1.52,1.5,1.51,1.76,1.76,1.49,1.49,1.49,1.49,1.49,1.36,1.36,1.36,1.36,1.36,1.17,1.17,1.17,1.17,1.15,1.15,1.21,1.15,1.19,1.16,1.28,1.28,1.28,1.64,1.64,1.69],\"z\":[61,41,41,44,37,37,37,48,48,48,44,52,59,59,59,59,60,61,62,66,66,66,38,38,38,41,43,47,48,61,61,61,64,64,64,64,64,39,50,50,45,50,56,57,68,68,69,69,69,69,69,101,101,101,101,101,101,101,101,101,102,102,101,102,103,103,107,107,107,111,111,111],\"type\":\"scatter3d\"},{\"hovertemplate\":\"scanner=K172\\u003cbr\\u003eMaxMinDiff=%{x}\\u003cbr\\u003eerr=%{y}\\u003cbr\\u003epixels=%{z}\\u003cextra\\u003e\\u003c\\u002fextra\\u003e\",\"legendgroup\":\"K172\",\"marker\":{\"color\":\"#FF6692\",\"symbol\":\"circle\"},\"mode\":\"markers\",\"name\":\"K172\",\"scene\":\"scene\",\"showlegend\":true,\"x\":[914,931,915,856,856,857,867,869,876,869,869,873,868,868,883,1177,1196,1196,1193,1190,1179,1182,861,865,865,865,862,862,865,865,865,885,885,885,888,896,878,881,905,900,862,862,870,892,887,887,894,897,897,897,897,897,901,911,914,912,921,927,921,936,936,937,944,944,949],\"y\":[2.58,2.63,2.58,2.41,2.41,2.42,2.44,2.45,2.47,2.45,2.45,2.46,2.45,2.45,2.49,3.31,3.36,3.36,3.36,3.35,3.32,3.32,2.42,2.43,2.43,2.43,2.43,2.43,2.43,2.43,2.43,2.49,2.49,2.49,2.5,2.52,2.47,2.48,2.55,2.54,2.43,2.43,2.45,2.51,2.5,2.5,2.52,2.52,2.52,2.52,2.52,2.52,2.54,2.57,2.57,2.57,2.59,2.61,2.59,2.64,2.64,2.64,2.66,2.66,2.67],\"z\":[30,31,25,24,24,24,24,24,31,24,24,24,24,25,25,20,21,21,21,23,24,25,24,24,24,24,26,26,28,28,30,31,31,31,31,31,31,31,30,30,32,32,32,24,25,25,25,27,27,27,27,27,27,29,28,30,30,37,37,40,40,40,44,44,41],\"type\":\"scatter3d\"},{\"hovertemplate\":\"scanner=K173\\u003cbr\\u003eMaxMinDiff=%{x}\\u003cbr\\u003eerr=%{y}\\u003cbr\\u003epixels=%{z}\\u003cextra\\u003e\\u003c\\u002fextra\\u003e\",\"legendgroup\":\"K173\",\"marker\":{\"color\":\"#B6E880\",\"symbol\":\"circle\"},\"mode\":\"markers\",\"name\":\"K173\",\"scene\":\"scene\",\"showlegend\":true,\"x\":[1344,1340,1340,1339,1353,1353,1357,1356,1356,1356,1360,1351,1354,1354,1354,1354,1350,1359,1346,1353,1353,1353,1355,1355,1355,1355,1362,1114,1113,1096,1096,1096,1075,1074,1076,1076,1076,1069,1064,1162,1166,1166,1260,1260,1260,1260,1260,980,980,980,980,980,980,980,980,980,970,970,975,970,987,1002,980,980,980,996,999,996],\"y\":[3.77,3.76,3.76,3.75,3.79,3.79,3.81,3.8,3.8,3.8,3.81,3.79,3.8,3.8,3.8,3.8,3.79,3.81,3.77,3.79,3.79,3.79,3.8,3.8,3.8,3.79,3.81,3.13,3.13,3.08,3.08,3.08,3.02,3.02,3.02,3.02,3.02,3.0,2.99,3.26,3.27,3.27,3.53,3.53,3.53,3.53,3.53,2.75,2.75,2.75,2.75,2.75,2.75,2.75,2.75,2.75,2.73,2.73,2.74,2.73,2.77,2.81,2.75,2.75,2.75,2.8,2.81,2.8],\"z\":[53,53,53,42,50,50,52,56,56,56,60,50,65,65,65,65,65,67,68,74,74,74,77,77,77,77,81,50,54,48,48,48,56,56,56,56,56,56,59,50,64,64,67,67,67,67,67,68,68,68,68,68,68,68,68,68,69,69,68,69,69,70,70,70,70,79,79,79],\"type\":\"scatter3d\"},{\"hovertemplate\":\"scanner=K208\\u003cbr\\u003eMaxMinDiff=%{x}\\u003cbr\\u003eerr=%{y}\\u003cbr\\u003epixels=%{z}\\u003cextra\\u003e\\u003c\\u002fextra\\u003e\",\"legendgroup\":\"K208\",\"marker\":{\"color\":\"#FF97FF\",\"symbol\":\"circle\"},\"mode\":\"markers\",\"name\":\"K208\",\"scene\":\"scene\",\"showlegend\":true,\"x\":[525,514,483,483,474,481,532,516,481,484,457,448,448,456,458,479,483,625,625,625,625,638,638,633,633,640,614,614,614,629,639,637,638,546,518,503,503,526,514,501,501,506,506,506,507,506,507,507,632,620,606,610,612,613,617,617,607,749,749,762],\"y\":[1.47,1.44,1.35,1.35,1.33,1.35,1.49,1.45,1.35,1.36,1.28,1.26,1.26,1.28,1.28,1.34,1.35,1.75,1.75,1.75,1.75,1.79,1.79,1.77,1.77,1.79,1.72,1.72,1.72,1.76,1.79,1.78,1.79,1.53,1.45,1.41,1.41,1.47,1.44,1.4,1.4,1.42,1.42,1.42,1.42,1.42,1.42,1.42,1.77,1.74,1.7,1.71,1.71,1.72,1.73,1.73,1.7,2.1,2.1,2.13],\"z\":[52,63,39,39,39,46,61,63,46,40,39,41,41,43,44,46,48,51,51,51,51,51,51,52,52,52,41,41,41,41,41,49,53,55,70,73,73,73,43,43,43,44,55,55,54,55,54,55,54,54,55,56,58,58,64,64,63,67,67,67],\"type\":\"scatter3d\"},{\"hovertemplate\":\"scanner=K218\\u003cbr\\u003eMaxMinDiff=%{x}\\u003cbr\\u003eerr=%{y}\\u003cbr\\u003epixels=%{z}\\u003cextra\\u003e\\u003c\\u002fextra\\u003e\",\"legendgroup\":\"K218\",\"marker\":{\"color\":\"#FECB52\",\"symbol\":\"circle\"},\"mode\":\"markers\",\"name\":\"K218\",\"scene\":\"scene\",\"showlegend\":true,\"x\":[556,541,521,521,1116,521,522,654,651,651,651,594,594,596,601,767,758,762,707,691,660,659,656,675,564,2183,2394,2331,2388,614,618,628,622,622,618,640,634,628],\"y\":[1.56,1.51,1.46,1.46,3.13,1.46,1.46,1.83,1.82,1.82,1.82,1.66,1.66,1.67,1.68,2.14,2.12,2.13,1.98,1.93,1.85,1.84,1.84,1.89,1.58,6.12,6.71,6.54,6.7,1.72,1.73,1.76,1.74,1.74,1.73,1.79,1.78,1.76],\"z\":[12,11,11,10,12,14,12,13,16,16,16,12,12,13,18,12,11,12,11,11,11,12,12,11,11,11,8,8,7,8,8,14,12,12,15,8,8,8],\"type\":\"scatter3d\"},{\"hovertemplate\":\"scanner=H169\\u003cbr\\u003eMaxMinDiff=%{x}\\u003cbr\\u003eerr=%{y}\\u003cbr\\u003epixels=%{z}\\u003cextra\\u003e\\u003c\\u002fextra\\u003e\",\"legendgroup\":\"H169\",\"marker\":{\"color\":\"#636efa\",\"symbol\":\"circle\"},\"mode\":\"markers\",\"name\":\"H169\",\"scene\":\"scene\",\"showlegend\":true,\"x\":[1137,1120],\"y\":[3.18,3.13],\"z\":[40,18],\"type\":\"scatter3d\"},{\"hovertemplate\":\"scanner=H170\\u003cbr\\u003eMaxMinDiff=%{x}\\u003cbr\\u003eerr=%{y}\\u003cbr\\u003epixels=%{z}\\u003cextra\\u003e\\u003c\\u002fextra\\u003e\",\"legendgroup\":\"H170\",\"marker\":{\"color\":\"#EF553B\",\"symbol\":\"circle\"},\"mode\":\"markers\",\"name\":\"H170\",\"scene\":\"scene\",\"showlegend\":true,\"x\":[577,530],\"y\":[1.62,1.48],\"z\":[36,24],\"type\":\"scatter3d\"},{\"hovertemplate\":\"scanner=H172\\u003cbr\\u003eMaxMinDiff=%{x}\\u003cbr\\u003eerr=%{y}\\u003cbr\\u003epixels=%{z}\\u003cextra\\u003e\\u003c\\u002fextra\\u003e\",\"legendgroup\":\"H172\",\"marker\":{\"color\":\"#00cc96\",\"symbol\":\"circle\"},\"mode\":\"markers\",\"name\":\"H172\",\"scene\":\"scene\",\"showlegend\":true,\"x\":[780,784],\"y\":[2.18,2.19],\"z\":[30,32],\"type\":\"scatter3d\"},{\"hovertemplate\":\"scanner=H168\\u003cbr\\u003eMaxMinDiff=%{x}\\u003cbr\\u003eerr=%{y}\\u003cbr\\u003epixels=%{z}\\u003cextra\\u003e\\u003c\\u002fextra\\u003e\",\"legendgroup\":\"H168\",\"marker\":{\"color\":\"#ab63fa\",\"symbol\":\"circle\"},\"mode\":\"markers\",\"name\":\"H168\",\"scene\":\"scene\",\"showlegend\":true,\"x\":[1120,1160],\"y\":[3.14,3.25],\"z\":[59,40],\"type\":\"scatter3d\"},{\"hovertemplate\":\"scanner=K112\\u003cbr\\u003eMaxMinDiff=%{x}\\u003cbr\\u003eerr=%{y}\\u003cbr\\u003epixels=%{z}\\u003cextra\\u003e\\u003c\\u002fextra\\u003e\",\"legendgroup\":\"K112\",\"marker\":{\"color\":\"#FFA15A\",\"symbol\":\"circle\"},\"mode\":\"markers\",\"name\":\"K112\",\"scene\":\"scene\",\"showlegend\":true,\"x\":[1429,1426,1433,1469,1461,1455,1468],\"y\":[4.02,4.01,4.03,4.13,4.11,4.09,4.13],\"z\":[-1,-1,-1,-1,-1,-1,-1],\"type\":\"scatter3d\"},{\"hovertemplate\":\"scanner=K113\\u003cbr\\u003eMaxMinDiff=%{x}\\u003cbr\\u003eerr=%{y}\\u003cbr\\u003epixels=%{z}\\u003cextra\\u003e\\u003c\\u002fextra\\u003e\",\"legendgroup\":\"K113\",\"marker\":{\"color\":\"#19d3f3\",\"symbol\":\"circle\"},\"mode\":\"markers\",\"name\":\"K113\",\"scene\":\"scene\",\"showlegend\":true,\"x\":[947,942,925,826,820,835,825,829],\"y\":[2.66,2.65,2.6,2.32,2.3,2.35,2.32,2.33],\"z\":[-1,-1,-1,-1,-1,-1,-1,-1],\"type\":\"scatter3d\"},{\"hovertemplate\":\"scanner=H143\\u003cbr\\u003eMaxMinDiff=%{x}\\u003cbr\\u003eerr=%{y}\\u003cbr\\u003epixels=%{z}\\u003cextra\\u003e\\u003c\\u002fextra\\u003e\",\"legendgroup\":\"H143\",\"marker\":{\"color\":\"#FF6692\",\"symbol\":\"circle\"},\"mode\":\"markers\",\"name\":\"H143\",\"scene\":\"scene\",\"showlegend\":true,\"x\":[4024,4024,4024,4024,4024,4024],\"y\":[11.26,11.26,11.26,11.26,11.26,11.26],\"z\":[-1,-1,-1,-1,-1,-1],\"type\":\"scatter3d\"},{\"hovertemplate\":\"scanner=H142\\u003cbr\\u003eMaxMinDiff=%{x}\\u003cbr\\u003eerr=%{y}\\u003cbr\\u003epixels=%{z}\\u003cextra\\u003e\\u003c\\u002fextra\\u003e\",\"legendgroup\":\"H142\",\"marker\":{\"color\":\"#B6E880\",\"symbol\":\"circle\"},\"mode\":\"markers\",\"name\":\"H142\",\"scene\":\"scene\",\"showlegend\":true,\"x\":[1185,793,1192,1293,1549,1557],\"y\":[3.32,2.23,3.34,3.63,4.35,4.37],\"z\":[92,91,92,94,94,107],\"type\":\"scatter3d\"},{\"hovertemplate\":\"scanner=H147\\u003cbr\\u003eMaxMinDiff=%{x}\\u003cbr\\u003eerr=%{y}\\u003cbr\\u003epixels=%{z}\\u003cextra\\u003e\\u003c\\u002fextra\\u003e\",\"legendgroup\":\"H147\",\"marker\":{\"color\":\"#FF97FF\",\"symbol\":\"circle\"},\"mode\":\"markers\",\"name\":\"H147\",\"scene\":\"scene\",\"showlegend\":true,\"x\":[1214,1206,1184,1164,1164,1166],\"y\":[3.4,3.38,3.32,3.26,3.26,3.27],\"z\":[68,68,70,70,74,77],\"type\":\"scatter3d\"},{\"hovertemplate\":\"scanner=H151\\u003cbr\\u003eMaxMinDiff=%{x}\\u003cbr\\u003eerr=%{y}\\u003cbr\\u003epixels=%{z}\\u003cextra\\u003e\\u003c\\u002fextra\\u003e\",\"legendgroup\":\"H151\",\"marker\":{\"color\":\"#FECB52\",\"symbol\":\"circle\"},\"mode\":\"markers\",\"name\":\"H151\",\"scene\":\"scene\",\"showlegend\":true,\"x\":[739,741,712,709,707,701],\"y\":[2.06,2.07,1.99,1.99,1.98,1.96],\"z\":[18,17,8,13,17,28],\"type\":\"scatter3d\"},{\"hovertemplate\":\"scanner=H152\\u003cbr\\u003eMaxMinDiff=%{x}\\u003cbr\\u003eerr=%{y}\\u003cbr\\u003epixels=%{z}\\u003cextra\\u003e\\u003c\\u002fextra\\u003e\",\"legendgroup\":\"H152\",\"marker\":{\"color\":\"#636efa\",\"symbol\":\"circle\"},\"mode\":\"markers\",\"name\":\"H152\",\"scene\":\"scene\",\"showlegend\":true,\"x\":[12144,12209,2479,2450,2422,2567],\"y\":[34.0,34.19,6.99,6.91,6.83,7.23],\"z\":[15,15,12,14,19,26],\"type\":\"scatter3d\"},{\"hovertemplate\":\"scanner=H154\\u003cbr\\u003eMaxMinDiff=%{x}\\u003cbr\\u003eerr=%{y}\\u003cbr\\u003epixels=%{z}\\u003cextra\\u003e\\u003c\\u002fextra\\u003e\",\"legendgroup\":\"H154\",\"marker\":{\"color\":\"#EF553B\",\"symbol\":\"circle\"},\"mode\":\"markers\",\"name\":\"H154\",\"scene\":\"scene\",\"showlegend\":true,\"x\":[1987,1977,1993,1948,1984,2276],\"y\":[5.58,5.55,5.6,5.47,5.57,6.39],\"z\":[96,96,100,100,106,44],\"type\":\"scatter3d\"},{\"hovertemplate\":\"scanner=H155\\u003cbr\\u003eMaxMinDiff=%{x}\\u003cbr\\u003eerr=%{y}\\u003cbr\\u003epixels=%{z}\\u003cextra\\u003e\\u003c\\u002fextra\\u003e\",\"legendgroup\":\"H155\",\"marker\":{\"color\":\"#00cc96\",\"symbol\":\"circle\"},\"mode\":\"markers\",\"name\":\"H155\",\"scene\":\"scene\",\"showlegend\":true,\"x\":[2156,2162,2172,2139,2166,1740],\"y\":[6.04,6.06,6.09,6.0,6.07,4.88],\"z\":[74,71,76,76,77,45],\"type\":\"scatter3d\"},{\"hovertemplate\":\"scanner=H156\\u003cbr\\u003eMaxMinDiff=%{x}\\u003cbr\\u003eerr=%{y}\\u003cbr\\u003epixels=%{z}\\u003cextra\\u003e\\u003c\\u002fextra\\u003e\",\"legendgroup\":\"H156\",\"marker\":{\"color\":\"#ab63fa\",\"symbol\":\"circle\"},\"mode\":\"markers\",\"name\":\"H156\",\"scene\":\"scene\",\"showlegend\":true,\"x\":[1205,1198,1216,1213,1266,1295],\"y\":[3.37,3.35,3.4,3.4,3.54,3.63],\"z\":[128,128,129,38,49,66],\"type\":\"scatter3d\"},{\"hovertemplate\":\"scanner=H157\\u003cbr\\u003eMaxMinDiff=%{x}\\u003cbr\\u003eerr=%{y}\\u003cbr\\u003epixels=%{z}\\u003cextra\\u003e\\u003c\\u002fextra\\u003e\",\"legendgroup\":\"H157\",\"marker\":{\"color\":\"#FFA15A\",\"symbol\":\"circle\"},\"mode\":\"markers\",\"name\":\"H157\",\"scene\":\"scene\",\"showlegend\":true,\"x\":[2914,2933,2917,2923,2913,2703],\"y\":[8.18,8.23,8.19,8.2,8.18,7.57],\"z\":[143,143,143,146,149,27],\"type\":\"scatter3d\"},{\"hovertemplate\":\"scanner=H153\\u003cbr\\u003eMaxMinDiff=%{x}\\u003cbr\\u003eerr=%{y}\\u003cbr\\u003epixels=%{z}\\u003cextra\\u003e\\u003c\\u002fextra\\u003e\",\"legendgroup\":\"H153\",\"marker\":{\"color\":\"#19d3f3\",\"symbol\":\"circle\"},\"mode\":\"markers\",\"name\":\"H153\",\"scene\":\"scene\",\"showlegend\":true,\"x\":[992,994,1535,1005,972,994],\"y\":[2.78,2.78,3.36,2.82,2.72,2.78],\"z\":[67,67,67,31,35,45],\"type\":\"scatter3d\"},{\"hovertemplate\":\"scanner=H166\\u003cbr\\u003eMaxMinDiff=%{x}\\u003cbr\\u003eerr=%{y}\\u003cbr\\u003epixels=%{z}\\u003cextra\\u003e\\u003c\\u002fextra\\u003e\",\"legendgroup\":\"H166\",\"marker\":{\"color\":\"#FF6692\",\"symbol\":\"circle\"},\"mode\":\"markers\",\"name\":\"H166\",\"scene\":\"scene\",\"showlegend\":true,\"x\":[1371,1365,1356,1355,1306,1296,1280,1278,1294,1277,1288,1293,1264,1276],\"y\":[3.83,3.82,3.79,3.79,3.65,3.62,3.58,3.57,3.62,3.57,3.6,3.61,3.53,3.57],\"z\":[98,98,101,48,54,58,58,58,58,62,66,67,82,84],\"type\":\"scatter3d\"},{\"hovertemplate\":\"scanner=H167\\u003cbr\\u003eMaxMinDiff=%{x}\\u003cbr\\u003eerr=%{y}\\u003cbr\\u003epixels=%{z}\\u003cextra\\u003e\\u003c\\u002fextra\\u003e\",\"legendgroup\":\"H167\",\"marker\":{\"color\":\"#B6E880\",\"symbol\":\"circle\"},\"mode\":\"markers\",\"name\":\"H167\",\"scene\":\"scene\",\"showlegend\":true,\"x\":[922,926,923,998,997,995,995,991,995,993,993,995,1000,991,988,988,990,990,991,992,993,993],\"y\":[2.58,2.59,2.58,2.79,2.79,2.78,2.78,2.77,2.78,2.78,2.78,2.78,2.8,2.77,2.76,2.76,2.77,2.77,2.77,2.77,2.78,2.78],\"z\":[63,63,67,75,75,77,81,81,81,82,85,92,94,108,108,108,108,113,113,114,118,118],\"type\":\"scatter3d\"},{\"hovertemplate\":\"scanner=H165\\u003cbr\\u003eMaxMinDiff=%{x}\\u003cbr\\u003eerr=%{y}\\u003cbr\\u003epixels=%{z}\\u003cextra\\u003e\\u003c\\u002fextra\\u003e\",\"legendgroup\":\"H165\",\"marker\":{\"color\":\"#FF97FF\",\"symbol\":\"circle\"},\"mode\":\"markers\",\"name\":\"H165\",\"scene\":\"scene\",\"showlegend\":true,\"x\":[1088,1094,1092,1056,1078,1046,1068,1212,1210,1228,1236,1277,1319,1340,1332,1333,1335,1422,1420,1424,1403,1296],\"y\":[3.05,3.06,3.06,2.96,3.02,2.93,2.99,3.4,3.39,3.44,3.46,3.58,3.7,3.76,3.74,3.74,3.74,3.99,3.98,3.99,3.93,3.64],\"z\":[27,32,34,36,37,39,13,20,22,25,21,25,17,17,17,17,19,19,21,22,23,29],\"type\":\"scatter3d\"}],                        {\"template\":{\"data\":{\"histogram2dcontour\":[{\"type\":\"histogram2dcontour\",\"colorbar\":{\"outlinewidth\":0,\"ticks\":\"\"},\"colorscale\":[[0.0,\"#0d0887\"],[0.1111111111111111,\"#46039f\"],[0.2222222222222222,\"#7201a8\"],[0.3333333333333333,\"#9c179e\"],[0.4444444444444444,\"#bd3786\"],[0.5555555555555556,\"#d8576b\"],[0.6666666666666666,\"#ed7953\"],[0.7777777777777778,\"#fb9f3a\"],[0.8888888888888888,\"#fdca26\"],[1.0,\"#f0f921\"]]}],\"choropleth\":[{\"type\":\"choropleth\",\"colorbar\":{\"outlinewidth\":0,\"ticks\":\"\"}}],\"histogram2d\":[{\"type\":\"histogram2d\",\"colorbar\":{\"outlinewidth\":0,\"ticks\":\"\"},\"colorscale\":[[0.0,\"#0d0887\"],[0.1111111111111111,\"#46039f\"],[0.2222222222222222,\"#7201a8\"],[0.3333333333333333,\"#9c179e\"],[0.4444444444444444,\"#bd3786\"],[0.5555555555555556,\"#d8576b\"],[0.6666666666666666,\"#ed7953\"],[0.7777777777777778,\"#fb9f3a\"],[0.8888888888888888,\"#fdca26\"],[1.0,\"#f0f921\"]]}],\"heatmap\":[{\"type\":\"heatmap\",\"colorbar\":{\"outlinewidth\":0,\"ticks\":\"\"},\"colorscale\":[[0.0,\"#0d0887\"],[0.1111111111111111,\"#46039f\"],[0.2222222222222222,\"#7201a8\"],[0.3333333333333333,\"#9c179e\"],[0.4444444444444444,\"#bd3786\"],[0.5555555555555556,\"#d8576b\"],[0.6666666666666666,\"#ed7953\"],[0.7777777777777778,\"#fb9f3a\"],[0.8888888888888888,\"#fdca26\"],[1.0,\"#f0f921\"]]}],\"heatmapgl\":[{\"type\":\"heatmapgl\",\"colorbar\":{\"outlinewidth\":0,\"ticks\":\"\"},\"colorscale\":[[0.0,\"#0d0887\"],[0.1111111111111111,\"#46039f\"],[0.2222222222222222,\"#7201a8\"],[0.3333333333333333,\"#9c179e\"],[0.4444444444444444,\"#bd3786\"],[0.5555555555555556,\"#d8576b\"],[0.6666666666666666,\"#ed7953\"],[0.7777777777777778,\"#fb9f3a\"],[0.8888888888888888,\"#fdca26\"],[1.0,\"#f0f921\"]]}],\"contourcarpet\":[{\"type\":\"contourcarpet\",\"colorbar\":{\"outlinewidth\":0,\"ticks\":\"\"}}],\"contour\":[{\"type\":\"contour\",\"colorbar\":{\"outlinewidth\":0,\"ticks\":\"\"},\"colorscale\":[[0.0,\"#0d0887\"],[0.1111111111111111,\"#46039f\"],[0.2222222222222222,\"#7201a8\"],[0.3333333333333333,\"#9c179e\"],[0.4444444444444444,\"#bd3786\"],[0.5555555555555556,\"#d8576b\"],[0.6666666666666666,\"#ed7953\"],[0.7777777777777778,\"#fb9f3a\"],[0.8888888888888888,\"#fdca26\"],[1.0,\"#f0f921\"]]}],\"surface\":[{\"type\":\"surface\",\"colorbar\":{\"outlinewidth\":0,\"ticks\":\"\"},\"colorscale\":[[0.0,\"#0d0887\"],[0.1111111111111111,\"#46039f\"],[0.2222222222222222,\"#7201a8\"],[0.3333333333333333,\"#9c179e\"],[0.4444444444444444,\"#bd3786\"],[0.5555555555555556,\"#d8576b\"],[0.6666666666666666,\"#ed7953\"],[0.7777777777777778,\"#fb9f3a\"],[0.8888888888888888,\"#fdca26\"],[1.0,\"#f0f921\"]]}],\"mesh3d\":[{\"type\":\"mesh3d\",\"colorbar\":{\"outlinewidth\":0,\"ticks\":\"\"}}],\"scatter\":[{\"fillpattern\":{\"fillmode\":\"overlay\",\"size\":10,\"solidity\":0.2},\"type\":\"scatter\"}],\"parcoords\":[{\"type\":\"parcoords\",\"line\":{\"colorbar\":{\"outlinewidth\":0,\"ticks\":\"\"}}}],\"scatterpolargl\":[{\"type\":\"scatterpolargl\",\"marker\":{\"colorbar\":{\"outlinewidth\":0,\"ticks\":\"\"}}}],\"bar\":[{\"error_x\":{\"color\":\"#2a3f5f\"},\"error_y\":{\"color\":\"#2a3f5f\"},\"marker\":{\"line\":{\"color\":\"#E5ECF6\",\"width\":0.5},\"pattern\":{\"fillmode\":\"overlay\",\"size\":10,\"solidity\":0.2}},\"type\":\"bar\"}],\"scattergeo\":[{\"type\":\"scattergeo\",\"marker\":{\"colorbar\":{\"outlinewidth\":0,\"ticks\":\"\"}}}],\"scatterpolar\":[{\"type\":\"scatterpolar\",\"marker\":{\"colorbar\":{\"outlinewidth\":0,\"ticks\":\"\"}}}],\"histogram\":[{\"marker\":{\"pattern\":{\"fillmode\":\"overlay\",\"size\":10,\"solidity\":0.2}},\"type\":\"histogram\"}],\"scattergl\":[{\"type\":\"scattergl\",\"marker\":{\"colorbar\":{\"outlinewidth\":0,\"ticks\":\"\"}}}],\"scatter3d\":[{\"type\":\"scatter3d\",\"line\":{\"colorbar\":{\"outlinewidth\":0,\"ticks\":\"\"}},\"marker\":{\"colorbar\":{\"outlinewidth\":0,\"ticks\":\"\"}}}],\"scattermapbox\":[{\"type\":\"scattermapbox\",\"marker\":{\"colorbar\":{\"outlinewidth\":0,\"ticks\":\"\"}}}],\"scatterternary\":[{\"type\":\"scatterternary\",\"marker\":{\"colorbar\":{\"outlinewidth\":0,\"ticks\":\"\"}}}],\"scattercarpet\":[{\"type\":\"scattercarpet\",\"marker\":{\"colorbar\":{\"outlinewidth\":0,\"ticks\":\"\"}}}],\"carpet\":[{\"aaxis\":{\"endlinecolor\":\"#2a3f5f\",\"gridcolor\":\"white\",\"linecolor\":\"white\",\"minorgridcolor\":\"white\",\"startlinecolor\":\"#2a3f5f\"},\"baxis\":{\"endlinecolor\":\"#2a3f5f\",\"gridcolor\":\"white\",\"linecolor\":\"white\",\"minorgridcolor\":\"white\",\"startlinecolor\":\"#2a3f5f\"},\"type\":\"carpet\"}],\"table\":[{\"cells\":{\"fill\":{\"color\":\"#EBF0F8\"},\"line\":{\"color\":\"white\"}},\"header\":{\"fill\":{\"color\":\"#C8D4E3\"},\"line\":{\"color\":\"white\"}},\"type\":\"table\"}],\"barpolar\":[{\"marker\":{\"line\":{\"color\":\"#E5ECF6\",\"width\":0.5},\"pattern\":{\"fillmode\":\"overlay\",\"size\":10,\"solidity\":0.2}},\"type\":\"barpolar\"}],\"pie\":[{\"automargin\":true,\"type\":\"pie\"}]},\"layout\":{\"autotypenumbers\":\"strict\",\"colorway\":[\"#636efa\",\"#EF553B\",\"#00cc96\",\"#ab63fa\",\"#FFA15A\",\"#19d3f3\",\"#FF6692\",\"#B6E880\",\"#FF97FF\",\"#FECB52\"],\"font\":{\"color\":\"#2a3f5f\"},\"hovermode\":\"closest\",\"hoverlabel\":{\"align\":\"left\"},\"paper_bgcolor\":\"white\",\"plot_bgcolor\":\"#E5ECF6\",\"polar\":{\"bgcolor\":\"#E5ECF6\",\"angularaxis\":{\"gridcolor\":\"white\",\"linecolor\":\"white\",\"ticks\":\"\"},\"radialaxis\":{\"gridcolor\":\"white\",\"linecolor\":\"white\",\"ticks\":\"\"}},\"ternary\":{\"bgcolor\":\"#E5ECF6\",\"aaxis\":{\"gridcolor\":\"white\",\"linecolor\":\"white\",\"ticks\":\"\"},\"baxis\":{\"gridcolor\":\"white\",\"linecolor\":\"white\",\"ticks\":\"\"},\"caxis\":{\"gridcolor\":\"white\",\"linecolor\":\"white\",\"ticks\":\"\"}},\"coloraxis\":{\"colorbar\":{\"outlinewidth\":0,\"ticks\":\"\"}},\"colorscale\":{\"sequential\":[[0.0,\"#0d0887\"],[0.1111111111111111,\"#46039f\"],[0.2222222222222222,\"#7201a8\"],[0.3333333333333333,\"#9c179e\"],[0.4444444444444444,\"#bd3786\"],[0.5555555555555556,\"#d8576b\"],[0.6666666666666666,\"#ed7953\"],[0.7777777777777778,\"#fb9f3a\"],[0.8888888888888888,\"#fdca26\"],[1.0,\"#f0f921\"]],\"sequentialminus\":[[0.0,\"#0d0887\"],[0.1111111111111111,\"#46039f\"],[0.2222222222222222,\"#7201a8\"],[0.3333333333333333,\"#9c179e\"],[0.4444444444444444,\"#bd3786\"],[0.5555555555555556,\"#d8576b\"],[0.6666666666666666,\"#ed7953\"],[0.7777777777777778,\"#fb9f3a\"],[0.8888888888888888,\"#fdca26\"],[1.0,\"#f0f921\"]],\"diverging\":[[0,\"#8e0152\"],[0.1,\"#c51b7d\"],[0.2,\"#de77ae\"],[0.3,\"#f1b6da\"],[0.4,\"#fde0ef\"],[0.5,\"#f7f7f7\"],[0.6,\"#e6f5d0\"],[0.7,\"#b8e186\"],[0.8,\"#7fbc41\"],[0.9,\"#4d9221\"],[1,\"#276419\"]]},\"xaxis\":{\"gridcolor\":\"white\",\"linecolor\":\"white\",\"ticks\":\"\",\"title\":{\"standoff\":15},\"zerolinecolor\":\"white\",\"automargin\":true,\"zerolinewidth\":2},\"yaxis\":{\"gridcolor\":\"white\",\"linecolor\":\"white\",\"ticks\":\"\",\"title\":{\"standoff\":15},\"zerolinecolor\":\"white\",\"automargin\":true,\"zerolinewidth\":2},\"scene\":{\"xaxis\":{\"backgroundcolor\":\"#E5ECF6\",\"gridcolor\":\"white\",\"linecolor\":\"white\",\"showbackground\":true,\"ticks\":\"\",\"zerolinecolor\":\"white\",\"gridwidth\":2},\"yaxis\":{\"backgroundcolor\":\"#E5ECF6\",\"gridcolor\":\"white\",\"linecolor\":\"white\",\"showbackground\":true,\"ticks\":\"\",\"zerolinecolor\":\"white\",\"gridwidth\":2},\"zaxis\":{\"backgroundcolor\":\"#E5ECF6\",\"gridcolor\":\"white\",\"linecolor\":\"white\",\"showbackground\":true,\"ticks\":\"\",\"zerolinecolor\":\"white\",\"gridwidth\":2}},\"shapedefaults\":{\"line\":{\"color\":\"#2a3f5f\"}},\"annotationdefaults\":{\"arrowcolor\":\"#2a3f5f\",\"arrowhead\":0,\"arrowwidth\":1},\"geo\":{\"bgcolor\":\"white\",\"landcolor\":\"#E5ECF6\",\"subunitcolor\":\"white\",\"showland\":true,\"showlakes\":true,\"lakecolor\":\"white\"},\"title\":{\"x\":0.05},\"mapbox\":{\"style\":\"light\"}}},\"scene\":{\"domain\":{\"x\":[0.0,1.0],\"y\":[0.0,1.0]},\"xaxis\":{\"title\":{\"text\":\"MaxMinDiff\"}},\"yaxis\":{\"title\":{\"text\":\"err\"}},\"zaxis\":{\"title\":{\"text\":\"pixels\"}}},\"legend\":{\"title\":{\"text\":\"scanner\"},\"tracegroupgap\":0},\"margin\":{\"t\":60}},                        {\"responsive\": true}                    ).then(function(){\n",
              "                            \n",
              "var gd = document.getElementById('48233bd7-e9e8-43a8-8ef5-e755ec12e22a');\n",
              "var x = new MutationObserver(function (mutations, observer) {{\n",
              "        var display = window.getComputedStyle(gd).display;\n",
              "        if (!display || display === 'none') {{\n",
              "            console.log([gd, 'removed!']);\n",
              "            Plotly.purge(gd);\n",
              "            observer.disconnect();\n",
              "        }}\n",
              "}});\n",
              "\n",
              "// Listen for the removal of the full notebook cells\n",
              "var notebookContainer = gd.closest('#notebook-container');\n",
              "if (notebookContainer) {{\n",
              "    x.observe(notebookContainer, {childList: true});\n",
              "}}\n",
              "\n",
              "// Listen for the clearing of the current output cell\n",
              "var outputEl = gd.closest('.output');\n",
              "if (outputEl) {{\n",
              "    x.observe(outputEl, {childList: true});\n",
              "}}\n",
              "\n",
              "                        })                };                            </script>        </div>\n",
              "</body>\n",
              "</html>"
            ]
          },
          "metadata": {}
        }
      ]
    },
    {
      "cell_type": "code",
      "source": [
        "df_copy = df.drop('scanner',axis =1)\n",
        "df_copy['Failure'] = np.where((df_copy['err'] >= 12.0) | (df_copy['errf'] >=0.5),2, 1)\n",
        "df_copy['Failure'].unique()"
      ],
      "metadata": {
        "colab": {
          "base_uri": "https://localhost:8080/"
        },
        "id": "9Rqz-8vFyXGi",
        "outputId": "1c630273-ca0c-4a82-8819-89496d344d59"
      },
      "execution_count": null,
      "outputs": [
        {
          "output_type": "execute_result",
          "data": {
            "text/plain": [
              "array([1, 2])"
            ]
          },
          "metadata": {},
          "execution_count": 17
        }
      ]
    },
    {
      "cell_type": "code",
      "source": [
        "df_copy['Failure'].value_counts()\n"
      ],
      "metadata": {
        "colab": {
          "base_uri": "https://localhost:8080/"
        },
        "id": "7aN0QVaaytgw",
        "outputId": "35fe461a-10c0-4c2e-f874-d2146e00eb93"
      },
      "execution_count": null,
      "outputs": [
        {
          "output_type": "execute_result",
          "data": {
            "text/plain": [
              "Failure\n",
              "1    2591\n",
              "2      12\n",
              "Name: count, dtype: int64"
            ]
          },
          "metadata": {},
          "execution_count": 18
        }
      ]
    },
    {
      "cell_type": "code",
      "source": [
        "df_copy['scanner'] = df['scanner']"
      ],
      "metadata": {
        "id": "Ru0zaU9AywRb"
      },
      "execution_count": null,
      "outputs": []
    },
    {
      "cell_type": "code",
      "source": [
        "# Creating a new dataframe with categorical variables\n",
        "\n",
        "\n",
        "f, axes = plt.subplots(1, 1, figsize=(50, 35), facecolor='white')\n",
        "f.suptitle('FREQUENCY OF CATEGORICAL FEATURES (BY TARGET)')\n",
        "sns.countplot(x=\"scanner\", hue=\"Failure\", data=df_copy, palette=\"Blues\")"
      ],
      "metadata": {
        "colab": {
          "base_uri": "https://localhost:8080/",
          "height": 912
        },
        "id": "sCsulqXqATbM",
        "outputId": "dc2807cd-0b3c-4d22-a2dd-2d6da3e3e089"
      },
      "execution_count": null,
      "outputs": [
        {
          "output_type": "execute_result",
          "data": {
            "text/plain": [
              "<Axes: xlabel='scanner', ylabel='count'>"
            ]
          },
          "metadata": {},
          "execution_count": 20
        },
        {
          "output_type": "display_data",
          "data": {
            "text/plain": [
              "<Figure size 5000x3500 with 1 Axes>"
            ],
            "image/png": "[encoded data removed]"
          },
          "metadata": {}
        }
      ]
    },
    {
      "cell_type": "code",
      "source": [
        "df_cp = pd.concat([df_copy, pd.get_dummies(df_copy['scanner'], prefix='scanner', dummy_na=True).astype(int)], axis=1).drop(['scanner'], axis=1)\n",
        "df_cp.head()"
      ],
      "metadata": {
        "colab": {
          "base_uri": "https://localhost:8080/",
          "height": 255
        },
        "id": "_T7bgrwlArez",
        "outputId": "d68f0f3f-442d-45cc-8e7d-7274ca074c50"
      },
      "execution_count": null,
      "outputs": [
        {
          "output_type": "execute_result",
          "data": {
            "text/plain": [
              "   id    min    max   err  pixels   minf   maxf  errf  MaxMinDiff  \\\n",
              "0  12  35435  35933  1.40       6  35681  35688  0.02         498   \n",
              "1  30  35155  36382  3.43      14  35731  35761  0.08        1227   \n",
              "2  47  35305  36042  2.07      43  35692  35739  0.13         737   \n",
              "3  48  35216  36225  2.82      61  35686  35726  0.11        1009   \n",
              "4  49  35196  36259  2.98      11  35709  35724  0.04        1063   \n",
              "\n",
              "   MaxfMinfDiff  ...  scanner_K212  scanner_K218  scanner_K219  scanner_K220  \\\n",
              "0             7  ...             0             0             1             0   \n",
              "1            30  ...             0             0             0             0   \n",
              "2            47  ...             0             0             0             0   \n",
              "3            40  ...             1             0             0             0   \n",
              "4            15  ...             0             0             0             1   \n",
              "\n",
              "   scanner_K221  scanner_K237  scanner_K238  scanner_K239  scanner_K250  \\\n",
              "0             0             0             0             0             0   \n",
              "1             0             0             0             0             0   \n",
              "2             0             0             0             0             0   \n",
              "3             0             0             0             0             0   \n",
              "4             0             0             0             0             0   \n",
              "\n",
              "   scanner_nan  \n",
              "0            0  \n",
              "1            0  \n",
              "2            0  \n",
              "3            0  \n",
              "4            0  \n",
              "\n",
              "[5 rows x 81 columns]"
            ],
            "text/html": [
              "\n",
              "  <div id=\"df-530af9fd-f798-4f58-a85c-f511e5d8b53e\" class=\"colab-df-container\">\n",
              "    <div>\n",
              "<style scoped>\n",
              "    .dataframe tbody tr th:only-of-type {\n",
              "        vertical-align: middle;\n",
              "    }\n",
              "\n",
              "    .dataframe tbody tr th {\n",
              "        vertical-align: top;\n",
              "    }\n",
              "\n",
              "    .dataframe thead th {\n",
              "        text-align: right;\n",
              "    }\n",
              "</style>\n",
              "<table border=\"1\" class=\"dataframe\">\n",
              "  <thead>\n",
              "    <tr style=\"text-align: right;\">\n",
              "      <th></th>\n",
              "      <th>id</th>\n",
              "      <th>min</th>\n",
              "      <th>max</th>\n",
              "      <th>err</th>\n",
              "      <th>pixels</th>\n",
              "      <th>minf</th>\n",
              "      <th>maxf</th>\n",
              "      <th>errf</th>\n",
              "      <th>MaxMinDiff</th>\n",
              "      <th>MaxfMinfDiff</th>\n",
              "      <th>...</th>\n",
              "      <th>scanner_K212</th>\n",
              "      <th>scanner_K218</th>\n",
              "      <th>scanner_K219</th>\n",
              "      <th>scanner_K220</th>\n",
              "      <th>scanner_K221</th>\n",
              "      <th>scanner_K237</th>\n",
              "      <th>scanner_K238</th>\n",
              "      <th>scanner_K239</th>\n",
              "      <th>scanner_K250</th>\n",
              "      <th>scanner_nan</th>\n",
              "    </tr>\n",
              "  </thead>\n",
              "  <tbody>\n",
              "    <tr>\n",
              "      <th>0</th>\n",
              "      <td>12</td>\n",
              "      <td>35435</td>\n",
              "      <td>35933</td>\n",
              "      <td>1.40</td>\n",
              "      <td>6</td>\n",
              "      <td>35681</td>\n",
              "      <td>35688</td>\n",
              "      <td>0.02</td>\n",
              "      <td>498</td>\n",
              "      <td>7</td>\n",
              "      <td>...</td>\n",
              "      <td>0</td>\n",
              "      <td>0</td>\n",
              "      <td>1</td>\n",
              "      <td>0</td>\n",
              "      <td>0</td>\n",
              "      <td>0</td>\n",
              "      <td>0</td>\n",
              "      <td>0</td>\n",
              "      <td>0</td>\n",
              "      <td>0</td>\n",
              "    </tr>\n",
              "    <tr>\n",
              "      <th>1</th>\n",
              "      <td>30</td>\n",
              "      <td>35155</td>\n",
              "      <td>36382</td>\n",
              "      <td>3.43</td>\n",
              "      <td>14</td>\n",
              "      <td>35731</td>\n",
              "      <td>35761</td>\n",
              "      <td>0.08</td>\n",
              "      <td>1227</td>\n",
              "      <td>30</td>\n",
              "      <td>...</td>\n",
              "      <td>0</td>\n",
              "      <td>0</td>\n",
              "      <td>0</td>\n",
              "      <td>0</td>\n",
              "      <td>0</td>\n",
              "      <td>0</td>\n",
              "      <td>0</td>\n",
              "      <td>0</td>\n",
              "      <td>0</td>\n",
              "      <td>0</td>\n",
              "    </tr>\n",
              "    <tr>\n",
              "      <th>2</th>\n",
              "      <td>47</td>\n",
              "      <td>35305</td>\n",
              "      <td>36042</td>\n",
              "      <td>2.07</td>\n",
              "      <td>43</td>\n",
              "      <td>35692</td>\n",
              "      <td>35739</td>\n",
              "      <td>0.13</td>\n",
              "      <td>737</td>\n",
              "      <td>47</td>\n",
              "      <td>...</td>\n",
              "      <td>0</td>\n",
              "      <td>0</td>\n",
              "      <td>0</td>\n",
              "      <td>0</td>\n",
              "      <td>0</td>\n",
              "      <td>0</td>\n",
              "      <td>0</td>\n",
              "      <td>0</td>\n",
              "      <td>0</td>\n",
              "      <td>0</td>\n",
              "    </tr>\n",
              "    <tr>\n",
              "      <th>3</th>\n",
              "      <td>48</td>\n",
              "      <td>35216</td>\n",
              "      <td>36225</td>\n",
              "      <td>2.82</td>\n",
              "      <td>61</td>\n",
              "      <td>35686</td>\n",
              "      <td>35726</td>\n",
              "      <td>0.11</td>\n",
              "      <td>1009</td>\n",
              "      <td>40</td>\n",
              "      <td>...</td>\n",
              "      <td>1</td>\n",
              "      <td>0</td>\n",
              "      <td>0</td>\n",
              "      <td>0</td>\n",
              "      <td>0</td>\n",
              "      <td>0</td>\n",
              "      <td>0</td>\n",
              "      <td>0</td>\n",
              "      <td>0</td>\n",
              "      <td>0</td>\n",
              "    </tr>\n",
              "    <tr>\n",
              "      <th>4</th>\n",
              "      <td>49</td>\n",
              "      <td>35196</td>\n",
              "      <td>36259</td>\n",
              "      <td>2.98</td>\n",
              "      <td>11</td>\n",
              "      <td>35709</td>\n",
              "      <td>35724</td>\n",
              "      <td>0.04</td>\n",
              "      <td>1063</td>\n",
              "      <td>15</td>\n",
              "      <td>...</td>\n",
              "      <td>0</td>\n",
              "      <td>0</td>\n",
              "      <td>0</td>\n",
              "      <td>1</td>\n",
              "      <td>0</td>\n",
              "      <td>0</td>\n",
              "      <td>0</td>\n",
              "      <td>0</td>\n",
              "      <td>0</td>\n",
              "      <td>0</td>\n",
              "    </tr>\n",
              "  </tbody>\n",
              "</table>\n",
              "<p>5 rows × 81 columns</p>\n",
              "</div>\n",
              "    <div class=\"colab-df-buttons\">\n",
              "\n",
              "  <div class=\"colab-df-container\">\n",
              "    <button class=\"colab-df-convert\" onclick=\"convertToInteractive('df-530af9fd-f798-4f58-a85c-f511e5d8b53e')\"\n",
              "            title=\"Convert this dataframe to an interactive table.\"\n",
              "            style=\"display:none;\">\n",
              "\n",
              "  <svg xmlns=\"http://www.w3.org/2000/svg\" height=\"24px\" viewBox=\"0 -960 960 960\">\n",
              "    <path d=\"M120-120v-720h720v720H120Zm60-500h600v-160H180v160Zm220 220h160v-160H400v160Zm0 220h160v-160H400v160ZM180-400h160v-160H180v160Zm440 0h160v-160H620v160ZM180-180h160v-160H180v160Zm440 0h160v-160H620v160Z\"/>\n",
              "  </svg>\n",
              "    </button>\n",
              "\n",
              "  <style>\n",
              "    .colab-df-container {\n",
              "      display:flex;\n",
              "      gap: 12px;\n",
              "    }\n",
              "\n",
              "    .colab-df-convert {\n",
              "      background-color: #E8F0FE;\n",
              "      border: none;\n",
              "      border-radius: 50%;\n",
              "      cursor: pointer;\n",
              "      display: none;\n",
              "      fill: #1967D2;\n",
              "      height: 32px;\n",
              "      padding: 0 0 0 0;\n",
              "      width: 32px;\n",
              "    }\n",
              "\n",
              "    .colab-df-convert:hover {\n",
              "      background-color: #E2EBFA;\n",
              "      box-shadow: 0px 1px 2px rgba(60, 64, 67, 0.3), 0px 1px 3px 1px rgba(60, 64, 67, 0.15);\n",
              "      fill: #174EA6;\n",
              "    }\n",
              "\n",
              "    .colab-df-buttons div {\n",
              "      margin-bottom: 4px;\n",
              "    }\n",
              "\n",
              "    [theme=dark] .colab-df-convert {\n",
              "      background-color: #3B4455;\n",
              "      fill: #D2E3FC;\n",
              "    }\n",
              "\n",
              "    [theme=dark] .colab-df-convert:hover {\n",
              "      background-color: #434B5C;\n",
              "      box-shadow: 0px 1px 3px 1px rgba(0, 0, 0, 0.15);\n",
              "      filter: drop-shadow(0px 1px 2px rgba(0, 0, 0, 0.3));\n",
              "      fill: #FFFFFF;\n",
              "    }\n",
              "  </style>\n",
              "\n",
              "    <script>\n",
              "      const buttonEl =\n",
              "        document.querySelector('#df-530af9fd-f798-4f58-a85c-f511e5d8b53e button.colab-df-convert');\n",
              "      buttonEl.style.display =\n",
              "        google.colab.kernel.accessAllowed ? 'block' : 'none';\n",
              "\n",
              "      async function convertToInteractive(key) {\n",
              "        const element = document.querySelector('#df-530af9fd-f798-4f58-a85c-f511e5d8b53e');\n",
              "        const dataTable =\n",
              "          await google.colab.kernel.invokeFunction('convertToInteractive',\n",
              "                                                    [key], {});\n",
              "        if (!dataTable) return;\n",
              "\n",
              "        const docLinkHtml = 'Like what you see? Visit the ' +\n",
              "          '<a target=\"_blank\" href=https://colab.research.google.com/notebooks/data_table.ipynb>data table notebook</a>'\n",
              "          + ' to learn more about interactive tables.';\n",
              "        element.innerHTML = '';\n",
              "        dataTable['output_type'] = 'display_data';\n",
              "        await google.colab.output.renderOutput(dataTable, element);\n",
              "        const docLink = document.createElement('div');\n",
              "        docLink.innerHTML = docLinkHtml;\n",
              "        element.appendChild(docLink);\n",
              "      }\n",
              "    </script>\n",
              "  </div>\n",
              "\n",
              "\n",
              "<div id=\"df-4de587fd-8246-48e2-a53e-43dfee96eb70\">\n",
              "  <button class=\"colab-df-quickchart\" onclick=\"quickchart('df-4de587fd-8246-48e2-a53e-43dfee96eb70')\"\n",
              "            title=\"Suggest charts\"\n",
              "            style=\"display:none;\">\n",
              "\n",
              "<svg xmlns=\"http://www.w3.org/2000/svg\" height=\"24px\"viewBox=\"0 0 24 24\"\n",
              "     width=\"24px\">\n",
              "    <g>\n",
              "        <path d=\"M19 3H5c-1.1 0-2 .9-2 2v14c0 1.1.9 2 2 2h14c1.1 0 2-.9 2-2V5c0-1.1-.9-2-2-2zM9 17H7v-7h2v7zm4 0h-2V7h2v10zm4 0h-2v-4h2v4z\"/>\n",
              "    </g>\n",
              "</svg>\n",
              "  </button>\n",
              "\n",
              "<style>\n",
              "  .colab-df-quickchart {\n",
              "      --bg-color: #E8F0FE;\n",
              "      --fill-color: #1967D2;\n",
              "      --hover-bg-color: #E2EBFA;\n",
              "      --hover-fill-color: #174EA6;\n",
              "      --disabled-fill-color: #AAA;\n",
              "      --disabled-bg-color: #DDD;\n",
              "  }\n",
              "\n",
              "  [theme=dark] .colab-df-quickchart {\n",
              "      --bg-color: #3B4455;\n",
              "      --fill-color: #D2E3FC;\n",
              "      --hover-bg-color: #434B5C;\n",
              "      --hover-fill-color: #FFFFFF;\n",
              "      --disabled-bg-color: #3B4455;\n",
              "      --disabled-fill-color: #666;\n",
              "  }\n",
              "\n",
              "  .colab-df-quickchart {\n",
              "    background-color: var(--bg-color);\n",
              "    border: none;\n",
              "    border-radius: 50%;\n",
              "    cursor: pointer;\n",
              "    display: none;\n",
              "    fill: var(--fill-color);\n",
              "    height: 32px;\n",
              "    padding: 0;\n",
              "    width: 32px;\n",
              "  }\n",
              "\n",
              "  .colab-df-quickchart:hover {\n",
              "    background-color: var(--hover-bg-color);\n",
              "    box-shadow: 0 1px 2px rgba(60, 64, 67, 0.3), 0 1px 3px 1px rgba(60, 64, 67, 0.15);\n",
              "    fill: var(--button-hover-fill-color);\n",
              "  }\n",
              "\n",
              "  .colab-df-quickchart-complete:disabled,\n",
              "  .colab-df-quickchart-complete:disabled:hover {\n",
              "    background-color: var(--disabled-bg-color);\n",
              "    fill: var(--disabled-fill-color);\n",
              "    box-shadow: none;\n",
              "  }\n",
              "\n",
              "  .colab-df-spinner {\n",
              "    border: 2px solid var(--fill-color);\n",
              "    border-color: transparent;\n",
              "    border-bottom-color: var(--fill-color);\n",
              "    animation:\n",
              "      spin 1s steps(1) infinite;\n",
              "  }\n",
              "\n",
              "  @keyframes spin {\n",
              "    0% {\n",
              "      border-color: transparent;\n",
              "      border-bottom-color: var(--fill-color);\n",
              "      border-left-color: var(--fill-color);\n",
              "    }\n",
              "    20% {\n",
              "      border-color: transparent;\n",
              "      border-left-color: var(--fill-color);\n",
              "      border-top-color: var(--fill-color);\n",
              "    }\n",
              "    30% {\n",
              "      border-color: transparent;\n",
              "      border-left-color: var(--fill-color);\n",
              "      border-top-color: var(--fill-color);\n",
              "      border-right-color: var(--fill-color);\n",
              "    }\n",
              "    40% {\n",
              "      border-color: transparent;\n",
              "      border-right-color: var(--fill-color);\n",
              "      border-top-color: var(--fill-color);\n",
              "    }\n",
              "    60% {\n",
              "      border-color: transparent;\n",
              "      border-right-color: var(--fill-color);\n",
              "    }\n",
              "    80% {\n",
              "      border-color: transparent;\n",
              "      border-right-color: var(--fill-color);\n",
              "      border-bottom-color: var(--fill-color);\n",
              "    }\n",
              "    90% {\n",
              "      border-color: transparent;\n",
              "      border-bottom-color: var(--fill-color);\n",
              "    }\n",
              "  }\n",
              "</style>\n",
              "\n",
              "  <script>\n",
              "    async function quickchart(key) {\n",
              "      const quickchartButtonEl =\n",
              "        document.querySelector('#' + key + ' button');\n",
              "      quickchartButtonEl.disabled = true;  // To prevent multiple clicks.\n",
              "      quickchartButtonEl.classList.add('colab-df-spinner');\n",
              "      try {\n",
              "        const charts = await google.colab.kernel.invokeFunction(\n",
              "            'suggestCharts', [key], {});\n",
              "      } catch (error) {\n",
              "        console.error('Error during call to suggestCharts:', error);\n",
              "      }\n",
              "      quickchartButtonEl.classList.remove('colab-df-spinner');\n",
              "      quickchartButtonEl.classList.add('colab-df-quickchart-complete');\n",
              "    }\n",
              "    (() => {\n",
              "      let quickchartButtonEl =\n",
              "        document.querySelector('#df-4de587fd-8246-48e2-a53e-43dfee96eb70 button');\n",
              "      quickchartButtonEl.style.display =\n",
              "        google.colab.kernel.accessAllowed ? 'block' : 'none';\n",
              "    })();\n",
              "  </script>\n",
              "</div>\n",
              "\n",
              "    </div>\n",
              "  </div>\n"
            ],
            "application/vnd.google.colaboratory.intrinsic+json": {
              "type": "dataframe",
              "variable_name": "df_cp"
            }
          },
          "metadata": {},
          "execution_count": 21
        }
      ]
    },
    {
      "cell_type": "code",
      "source": [
        "df_cp.columns"
      ],
      "metadata": {
        "colab": {
          "base_uri": "https://localhost:8080/"
        },
        "id": "5pD_HU8tDEvE",
        "outputId": "7c7a6fed-0512-4031-f047-7297df6891f4"
      },
      "execution_count": null,
      "outputs": [
        {
          "output_type": "execute_result",
          "data": {
            "text/plain": [
              "Index(['id', 'min', 'max', 'err', 'pixels', 'minf', 'maxf', 'errf',\n",
              "       'MaxMinDiff', 'MaxfMinfDiff', 'Failure', 'scanner_H127', 'scanner_H128',\n",
              "       'scanner_H129', 'scanner_H130', 'scanner_H131', 'scanner_H132',\n",
              "       'scanner_H133', 'scanner_H134', 'scanner_H135', 'scanner_H138',\n",
              "       'scanner_H139', 'scanner_H142', 'scanner_H143', 'scanner_H147',\n",
              "       'scanner_H148', 'scanner_H149', 'scanner_H150', 'scanner_H151',\n",
              "       'scanner_H152', 'scanner_H153', 'scanner_H154', 'scanner_H155',\n",
              "       'scanner_H156', 'scanner_H157', 'scanner_H161', 'scanner_H162',\n",
              "       'scanner_H163', 'scanner_H165', 'scanner_H166', 'scanner_H167',\n",
              "       'scanner_H168', 'scanner_H169', 'scanner_H170', 'scanner_H171',\n",
              "       'scanner_H172', 'scanner_H173', 'scanner_H174', 'scanner_H175',\n",
              "       'scanner_H176', 'scanner_H177', 'scanner_K112', 'scanner_K113',\n",
              "       'scanner_K114', 'scanner_K115', 'scanner_K120', 'scanner_K121',\n",
              "       'scanner_K141', 'scanner_K147', 'scanner_K149', 'scanner_K150',\n",
              "       'scanner_K167', 'scanner_K168', 'scanner_K169', 'scanner_K171',\n",
              "       'scanner_K172', 'scanner_K173', 'scanner_K208', 'scanner_K209',\n",
              "       'scanner_K210', 'scanner_K211', 'scanner_K212', 'scanner_K218',\n",
              "       'scanner_K219', 'scanner_K220', 'scanner_K221', 'scanner_K237',\n",
              "       'scanner_K238', 'scanner_K239', 'scanner_K250', 'scanner_nan'],\n",
              "      dtype='object')"
            ]
          },
          "metadata": {},
          "execution_count": 22
        }
      ]
    },
    {
      "cell_type": "code",
      "source": [
        "df_cp = df_cp.drop('scanner_nan', axis =1)\n"
      ],
      "metadata": {
        "id": "I3SR2Dz3ArE4"
      },
      "execution_count": null,
      "outputs": []
    },
    {
      "cell_type": "code",
      "source": [
        "print(df_cp['min'].value_counts())"
      ],
      "metadata": {
        "colab": {
          "base_uri": "https://localhost:8080/"
        },
        "id": "hw4kWqI9DZ4X",
        "outputId": "dfb6a574-c13a-4cb9-c329-d2dcc82a6fd2"
      },
      "execution_count": null,
      "outputs": [
        {
          "output_type": "stream",
          "name": "stdout",
          "text": [
            "min\n",
            "35186    72\n",
            "35232    23\n",
            "35386    15\n",
            "35318    15\n",
            "35313    15\n",
            "         ..\n",
            "34863     1\n",
            "35084     1\n",
            "34198     1\n",
            "34484     1\n",
            "34730     1\n",
            "Name: count, Length: 723, dtype: int64\n"
          ]
        }
      ]
    },
    {
      "cell_type": "code",
      "source": [
        "df_cp['min'] = np.where(df_cp['min'] == -1,df_cp['min'].mean(),df_cp['min'])\n",
        "df_cp['max'] = np.where(df_cp['max'] == -1,df_cp['max'].mean(),df_cp['max'])"
      ],
      "metadata": {
        "id": "TgRf4dAjDcA6"
      },
      "execution_count": null,
      "outputs": []
    },
    {
      "cell_type": "code",
      "source": [
        "df_cp['max'].describe()"
      ],
      "metadata": {
        "colab": {
          "base_uri": "https://localhost:8080/"
        },
        "id": "h0pQzJK2DgZq",
        "outputId": "25c7322f-590a-42dc-d70e-a96303cbb649"
      },
      "execution_count": null,
      "outputs": [
        {
          "output_type": "execute_result",
          "data": {
            "text/plain": [
              "count     2603.000000\n",
              "mean     36200.400307\n",
              "std        554.719813\n",
              "min      35761.000000\n",
              "25%      36007.500000\n",
              "50%      36119.000000\n",
              "75%      36264.000000\n",
              "max      47057.000000\n",
              "Name: max, dtype: float64"
            ]
          },
          "metadata": {},
          "execution_count": 26
        }
      ]
    },
    {
      "cell_type": "code",
      "source": [
        "df_cp = df_cp.drop(['id'], axis=1)"
      ],
      "metadata": {
        "id": "SnTfRFjJDuSC"
      },
      "execution_count": null,
      "outputs": []
    },
    {
      "cell_type": "code",
      "source": [
        "df_cp.columns.size"
      ],
      "metadata": {
        "colab": {
          "base_uri": "https://localhost:8080/"
        },
        "id": "G8AnoTaZDh3K",
        "outputId": "50d97f50-9c2a-4d51-eeac-60d5ffa7a6ed"
      },
      "execution_count": null,
      "outputs": [
        {
          "output_type": "execute_result",
          "data": {
            "text/plain": [
              "79"
            ]
          },
          "metadata": {},
          "execution_count": 28
        }
      ]
    },
    {
      "cell_type": "code",
      "source": [
        "# Original dataset\n",
        "\n",
        "df_f = df_cp.drop('Failure', axis=1)\n",
        "X = df_f.drop(['err','errf'],axis = 1)\n",
        "\n",
        "columns = ['err','errf']\n",
        "Y = pd.DataFrame(df_f, columns=columns)\n",
        "\n",
        "\n",
        "X_train, X_test, Y_train, Y_test = train_test_split(X,Y, test_size=0.3)"
      ],
      "metadata": {
        "id": "pvTOKtlBDj96"
      },
      "execution_count": null,
      "outputs": []
    },
    {
      "cell_type": "code",
      "source": [
        "from sklearn.ensemble import GradientBoostingRegressor\n",
        "from sklearn.multioutput import MultiOutputRegressor\n",
        "from sklearn.metrics import mean_squared_error\n",
        "from sklearn.ensemble import RandomForestRegressor"
      ],
      "metadata": {
        "id": "1eZFtlsfEGMK"
      },
      "execution_count": null,
      "outputs": []
    },
    {
      "cell_type": "code",
      "source": [
        "gbr = GradientBoostingRegressor()\n",
        "model = MultiOutputRegressor(estimator=gbr)\n",
        "print(model)"
      ],
      "metadata": {
        "colab": {
          "base_uri": "https://localhost:8080/"
        },
        "id": "uXzJcyRoEIo6",
        "outputId": "51e52e1f-2c4c-4131-a407-363d0033ade6"
      },
      "execution_count": null,
      "outputs": [
        {
          "output_type": "stream",
          "name": "stdout",
          "text": [
            "MultiOutputRegressor(estimator=GradientBoostingRegressor())\n"
          ]
        }
      ]
    },
    {
      "cell_type": "code",
      "source": [
        "#cv.fit(X_train, Y_train)\n",
        "model.fit(X_train, Y_train)"
      ],
      "metadata": {
        "colab": {
          "base_uri": "https://localhost:8080/",
          "height": 117
        },
        "id": "8wQDGPqTEKYq",
        "outputId": "bfd7c2b9-fb4b-42d4-9245-0b7464f72c96"
      },
      "execution_count": null,
      "outputs": [
        {
          "output_type": "execute_result",
          "data": {
            "text/plain": [
              "MultiOutputRegressor(estimator=GradientBoostingRegressor())"
            ],
            "text/html": [
              "<style>#sk-container-id-1 {color: black;background-color: white;}#sk-container-id-1 pre{padding: 0;}#sk-container-id-1 div.sk-toggleable {background-color: white;}#sk-container-id-1 label.sk-toggleable__label {cursor: pointer;display: block;width: 100%;margin-bottom: 0;padding: 0.3em;box-sizing: border-box;text-align: center;}#sk-container-id-1 label.sk-toggleable__label-arrow:before {content: \"▸\";float: left;margin-right: 0.25em;color: #696969;}#sk-container-id-1 label.sk-toggleable__label-arrow:hover:before {color: black;}#sk-container-id-1 div.sk-estimator:hover label.sk-toggleable__label-arrow:before {color: black;}#sk-container-id-1 div.sk-toggleable__content {max-height: 0;max-width: 0;overflow: hidden;text-align: left;background-color: #f0f8ff;}#sk-container-id-1 div.sk-toggleable__content pre {margin: 0.2em;color: black;border-radius: 0.25em;background-color: #f0f8ff;}#sk-container-id-1 input.sk-toggleable__control:checked~div.sk-toggleable__content {max-height: 200px;max-width: 100%;overflow: auto;}#sk-container-id-1 input.sk-toggleable__control:checked~label.sk-toggleable__label-arrow:before {content: \"▾\";}#sk-container-id-1 div.sk-estimator input.sk-toggleable__control:checked~label.sk-toggleable__label {background-color: #d4ebff;}#sk-container-id-1 div.sk-label input.sk-toggleable__control:checked~label.sk-toggleable__label {background-color: #d4ebff;}#sk-container-id-1 input.sk-hidden--visually {border: 0;clip: rect(1px 1px 1px 1px);clip: rect(1px, 1px, 1px, 1px);height: 1px;margin: -1px;overflow: hidden;padding: 0;position: absolute;width: 1px;}#sk-container-id-1 div.sk-estimator {font-family: monospace;background-color: #f0f8ff;border: 1px dotted black;border-radius: 0.25em;box-sizing: border-box;margin-bottom: 0.5em;}#sk-container-id-1 div.sk-estimator:hover {background-color: #d4ebff;}#sk-container-id-1 div.sk-parallel-item::after {content: \"\";width: 100%;border-bottom: 1px solid gray;flex-grow: 1;}#sk-container-id-1 div.sk-label:hover label.sk-toggleable__label {background-color: #d4ebff;}#sk-container-id-1 div.sk-serial::before {content: \"\";position: absolute;border-left: 1px solid gray;box-sizing: border-box;top: 0;bottom: 0;left: 50%;z-index: 0;}#sk-container-id-1 div.sk-serial {display: flex;flex-direction: column;align-items: center;background-color: white;padding-right: 0.2em;padding-left: 0.2em;position: relative;}#sk-container-id-1 div.sk-item {position: relative;z-index: 1;}#sk-container-id-1 div.sk-parallel {display: flex;align-items: stretch;justify-content: center;background-color: white;position: relative;}#sk-container-id-1 div.sk-item::before, #sk-container-id-1 div.sk-parallel-item::before {content: \"\";position: absolute;border-left: 1px solid gray;box-sizing: border-box;top: 0;bottom: 0;left: 50%;z-index: -1;}#sk-container-id-1 div.sk-parallel-item {display: flex;flex-direction: column;z-index: 1;position: relative;background-color: white;}#sk-container-id-1 div.sk-parallel-item:first-child::after {align-self: flex-end;width: 50%;}#sk-container-id-1 div.sk-parallel-item:last-child::after {align-self: flex-start;width: 50%;}#sk-container-id-1 div.sk-parallel-item:only-child::after {width: 0;}#sk-container-id-1 div.sk-dashed-wrapped {border: 1px dashed gray;margin: 0 0.4em 0.5em 0.4em;box-sizing: border-box;padding-bottom: 0.4em;background-color: white;}#sk-container-id-1 div.sk-label label {font-family: monospace;font-weight: bold;display: inline-block;line-height: 1.2em;}#sk-container-id-1 div.sk-label-container {text-align: center;}#sk-container-id-1 div.sk-container {/* jupyter's `normalize.less` sets `[hidden] { display: none; }` but bootstrap.min.css set `[hidden] { display: none !important; }` so we also need the `!important` here to be able to override the default hidden behavior on the sphinx rendered scikit-learn.org. See: https://github.com/scikit-learn/scikit-learn/issues/21755 */display: inline-block !important;position: relative;}#sk-container-id-1 div.sk-text-repr-fallback {display: none;}</style><div id=\"sk-container-id-1\" class=\"sk-top-container\"><div class=\"sk-text-repr-fallback\"><pre>MultiOutputRegressor(estimator=GradientBoostingRegressor())</pre><b>In a Jupyter environment, please rerun this cell to show the HTML representation or trust the notebook. <br />On GitHub, the HTML representation is unable to render, please try loading this page with nbviewer.org.</b></div><div class=\"sk-container\" hidden><div class=\"sk-item sk-dashed-wrapped\"><div class=\"sk-label-container\"><div class=\"sk-label sk-toggleable\"><input class=\"sk-toggleable__control sk-hidden--visually\" id=\"sk-estimator-id-1\" type=\"checkbox\" ><label for=\"sk-estimator-id-1\" class=\"sk-toggleable__label sk-toggleable__label-arrow\">MultiOutputRegressor</label><div class=\"sk-toggleable__content\"><pre>MultiOutputRegressor(estimator=GradientBoostingRegressor())</pre></div></div></div><div class=\"sk-parallel\"><div class=\"sk-parallel-item\"><div class=\"sk-item\"><div class=\"sk-label-container\"><div class=\"sk-label sk-toggleable\"><input class=\"sk-toggleable__control sk-hidden--visually\" id=\"sk-estimator-id-2\" type=\"checkbox\" ><label for=\"sk-estimator-id-2\" class=\"sk-toggleable__label sk-toggleable__label-arrow\">estimator: GradientBoostingRegressor</label><div class=\"sk-toggleable__content\"><pre>GradientBoostingRegressor()</pre></div></div></div><div class=\"sk-serial\"><div class=\"sk-item\"><div class=\"sk-estimator sk-toggleable\"><input class=\"sk-toggleable__control sk-hidden--visually\" id=\"sk-estimator-id-3\" type=\"checkbox\" ><label for=\"sk-estimator-id-3\" class=\"sk-toggleable__label sk-toggleable__label-arrow\">GradientBoostingRegressor</label><div class=\"sk-toggleable__content\"><pre>GradientBoostingRegressor()</pre></div></div></div></div></div></div></div></div></div></div>"
            ]
          },
          "metadata": {},
          "execution_count": 32
        }
      ]
    },
    {
      "cell_type": "code",
      "source": [
        "score = model.score(X_train, Y_train)\n",
        "print(score)"
      ],
      "metadata": {
        "colab": {
          "base_uri": "https://localhost:8080/"
        },
        "id": "dcuVWeeOEPsq",
        "outputId": "228c5978-b618-43d3-8962-df6bd268af3a"
      },
      "execution_count": null,
      "outputs": [
        {
          "output_type": "stream",
          "name": "stdout",
          "text": [
            "0.9999842916576225\n"
          ]
        }
      ]
    },
    {
      "cell_type": "code",
      "source": [
        "Y_pred= model.predict(X_test)\n",
        "\n",
        "print(\"Y1 MSE:%.4f\" % mean_squared_error(Y_test[\"err\"], Y_pred[:,0]))\n",
        "print(\"Y2 MSE:%.4f\" % mean_squared_error(Y_test[\"errf\"], Y_pred[:,1]))"
      ],
      "metadata": {
        "colab": {
          "base_uri": "https://localhost:8080/"
        },
        "id": "tXsD4kfdET-6",
        "outputId": "ba048e1b-34ea-4ced-aaa4-c8918bd89354"
      },
      "execution_count": null,
      "outputs": [
        {
          "output_type": "stream",
          "name": "stdout",
          "text": [
            "Y1 MSE:0.0019\n",
            "Y2 MSE:0.0000\n"
          ]
        }
      ]
    },
    {
      "cell_type": "code",
      "source": [
        "from sklearn.model_selection import RepeatedKFold\n",
        "from numpy import absolute\n",
        "\n",
        "cv = RepeatedKFold(n_splits=10, n_repeats=3, random_state=1)\n",
        "cv_scores =cross_val_score(model, X, Y, cv=cv)"
      ],
      "metadata": {
        "id": "Jl_71DT1EZoa"
      },
      "execution_count": null,
      "outputs": []
    },
    {
      "cell_type": "code",
      "source": [
        "from numpy import absolute\n",
        "from numpy import mean\n",
        "from numpy import std\n",
        "\n",
        "#summarize performance\n",
        "cv_score = absolute(cv_scores)\n",
        "print('Result: %.4f (%.4f)' % (mean(cv_scores), std(cv_scores)))"
      ],
      "metadata": {
        "colab": {
          "base_uri": "https://localhost:8080/"
        },
        "id": "SKcesWLdTJKH",
        "outputId": "04555b26-eda8-471d-f52d-d467b17cd38e"
      },
      "execution_count": null,
      "outputs": [
        {
          "output_type": "stream",
          "name": "stdout",
          "text": [
            "Result: 0.9094 (0.2698)\n"
          ]
        }
      ]
    },
    {
      "cell_type": "code",
      "source": [
        "def multi_out_regression(mod_est):\n",
        "      brk_str = '=='*50\n",
        "      model_rf = MultiOutputRegressor(estimator=mod_est)\n",
        "      print(model_rf)\n",
        "      print(brk_str)\n",
        "      model_rf.fit(X_train, Y_train)\n",
        "\n",
        "\n",
        "      score_rf = model_rf.score(X_train, Y_train)\n",
        "      print(score_rf)\n",
        "      print(brk_str)\n",
        "\n",
        "      Y_pred= model_rf.predict(X_test)\n",
        "\n",
        "      print(\"Y1 MSE:%.4f\" % mean_squared_error(Y_test[\"err\"], Y_pred[:,0]))\n",
        "      print(\"Y2 MSE:%.4f\" % mean_squared_error(Y_test[\"errf\"], Y_pred[:,1]))\n",
        "\n",
        "      cv = RepeatedKFold(n_splits=10, n_repeats=3, random_state=1)\n",
        "      cv_scores_rf =cross_val_score(model_rf, X, Y, cv=cv)\n",
        "      print(brk_str)\n",
        "      cv_scores_rf = absolute(cv_scores_rf)\n",
        "      print('Result: %.4f (%.4f)' % (mean(cv_scores_rf), std(cv_scores_rf)))"
      ],
      "metadata": {
        "id": "XKCEna26UucF"
      },
      "execution_count": null,
      "outputs": []
    },
    {
      "cell_type": "code",
      "source": [
        "multi_out_regression( RandomForestRegressor())"
      ],
      "metadata": {
        "colab": {
          "base_uri": "https://localhost:8080/"
        },
        "id": "_UX7g12DVIsh",
        "outputId": "a2075fd4-f0c8-48f5-8b94-c80d105bc44b"
      },
      "execution_count": null,
      "outputs": [
        {
          "output_type": "stream",
          "name": "stdout",
          "text": [
            "MultiOutputRegressor(estimator=RandomForestRegressor())\n",
            "====================================================================================================\n",
            "0.9144678806491101\n",
            "====================================================================================================\n",
            "y1 MSE:0.0478\n",
            "y2 MSE:0.0001\n",
            "====================================================================================================\n",
            "Result: 0.9052 (0.2649)\n"
          ]
        }
      ]
    },
    {
      "cell_type": "code",
      "source": [
        "from sklearn.svm import LinearSVR\n",
        "multi_out_regression(LinearSVR())"
      ],
      "metadata": {
        "colab": {
          "base_uri": "https://localhost:8080/"
        },
        "id": "8D_RnHueVN3R",
        "outputId": "ce94f252-a707-4c0f-ede8-524101d2162f"
      },
      "execution_count": null,
      "outputs": [
        {
          "output_type": "stream",
          "name": "stdout",
          "text": [
            "MultiOutputRegressor(estimator=LinearSVR())\n",
            "====================================================================================================\n"
          ]
        },
        {
          "output_type": "stream",
          "name": "stderr",
          "text": [
            "/usr/local/lib/python3.10/dist-packages/sklearn/svm/_base.py:1244: ConvergenceWarning:\n",
            "\n",
            "Liblinear failed to converge, increase the number of iterations.\n",
            "\n",
            "/usr/local/lib/python3.10/dist-packages/sklearn/svm/_base.py:1244: ConvergenceWarning:\n",
            "\n",
            "Liblinear failed to converge, increase the number of iterations.\n",
            "\n"
          ]
        },
        {
          "output_type": "stream",
          "name": "stdout",
          "text": [
            "0.999731268894304\n",
            "====================================================================================================\n",
            "y1 MSE:0.0219\n",
            "y2 MSE:0.0065\n"
          ]
        },
        {
          "output_type": "stream",
          "name": "stderr",
          "text": [
            "/usr/local/lib/python3.10/dist-packages/sklearn/svm/_base.py:1244: ConvergenceWarning:\n",
            "\n",
            "Liblinear failed to converge, increase the number of iterations.\n",
            "\n",
            "/usr/local/lib/python3.10/dist-packages/sklearn/svm/_base.py:1244: ConvergenceWarning:\n",
            "\n",
            "Liblinear failed to converge, increase the number of iterations.\n",
            "\n",
            "/usr/local/lib/python3.10/dist-packages/sklearn/svm/_base.py:1244: ConvergenceWarning:\n",
            "\n",
            "Liblinear failed to converge, increase the number of iterations.\n",
            "\n",
            "/usr/local/lib/python3.10/dist-packages/sklearn/svm/_base.py:1244: ConvergenceWarning:\n",
            "\n",
            "Liblinear failed to converge, increase the number of iterations.\n",
            "\n",
            "/usr/local/lib/python3.10/dist-packages/sklearn/svm/_base.py:1244: ConvergenceWarning:\n",
            "\n",
            "Liblinear failed to converge, increase the number of iterations.\n",
            "\n",
            "/usr/local/lib/python3.10/dist-packages/sklearn/svm/_base.py:1244: ConvergenceWarning:\n",
            "\n",
            "Liblinear failed to converge, increase the number of iterations.\n",
            "\n",
            "/usr/local/lib/python3.10/dist-packages/sklearn/svm/_base.py:1244: ConvergenceWarning:\n",
            "\n",
            "Liblinear failed to converge, increase the number of iterations.\n",
            "\n",
            "/usr/local/lib/python3.10/dist-packages/sklearn/svm/_base.py:1244: ConvergenceWarning:\n",
            "\n",
            "Liblinear failed to converge, increase the number of iterations.\n",
            "\n",
            "/usr/local/lib/python3.10/dist-packages/sklearn/svm/_base.py:1244: ConvergenceWarning:\n",
            "\n",
            "Liblinear failed to converge, increase the number of iterations.\n",
            "\n",
            "/usr/local/lib/python3.10/dist-packages/sklearn/svm/_base.py:1244: ConvergenceWarning:\n",
            "\n",
            "Liblinear failed to converge, increase the number of iterations.\n",
            "\n",
            "/usr/local/lib/python3.10/dist-packages/sklearn/svm/_base.py:1244: ConvergenceWarning:\n",
            "\n",
            "Liblinear failed to converge, increase the number of iterations.\n",
            "\n",
            "/usr/local/lib/python3.10/dist-packages/sklearn/svm/_base.py:1244: ConvergenceWarning:\n",
            "\n",
            "Liblinear failed to converge, increase the number of iterations.\n",
            "\n",
            "/usr/local/lib/python3.10/dist-packages/sklearn/svm/_base.py:1244: ConvergenceWarning:\n",
            "\n",
            "Liblinear failed to converge, increase the number of iterations.\n",
            "\n",
            "/usr/local/lib/python3.10/dist-packages/sklearn/svm/_base.py:1244: ConvergenceWarning:\n",
            "\n",
            "Liblinear failed to converge, increase the number of iterations.\n",
            "\n",
            "/usr/local/lib/python3.10/dist-packages/sklearn/svm/_base.py:1244: ConvergenceWarning:\n",
            "\n",
            "Liblinear failed to converge, increase the number of iterations.\n",
            "\n",
            "/usr/local/lib/python3.10/dist-packages/sklearn/svm/_base.py:1244: ConvergenceWarning:\n",
            "\n",
            "Liblinear failed to converge, increase the number of iterations.\n",
            "\n",
            "/usr/local/lib/python3.10/dist-packages/sklearn/svm/_base.py:1244: ConvergenceWarning:\n",
            "\n",
            "Liblinear failed to converge, increase the number of iterations.\n",
            "\n",
            "/usr/local/lib/python3.10/dist-packages/sklearn/svm/_base.py:1244: ConvergenceWarning:\n",
            "\n",
            "Liblinear failed to converge, increase the number of iterations.\n",
            "\n",
            "/usr/local/lib/python3.10/dist-packages/sklearn/svm/_base.py:1244: ConvergenceWarning:\n",
            "\n",
            "Liblinear failed to converge, increase the number of iterations.\n",
            "\n",
            "/usr/local/lib/python3.10/dist-packages/sklearn/svm/_base.py:1244: ConvergenceWarning:\n",
            "\n",
            "Liblinear failed to converge, increase the number of iterations.\n",
            "\n",
            "/usr/local/lib/python3.10/dist-packages/sklearn/svm/_base.py:1244: ConvergenceWarning:\n",
            "\n",
            "Liblinear failed to converge, increase the number of iterations.\n",
            "\n",
            "/usr/local/lib/python3.10/dist-packages/sklearn/svm/_base.py:1244: ConvergenceWarning:\n",
            "\n",
            "Liblinear failed to converge, increase the number of iterations.\n",
            "\n",
            "/usr/local/lib/python3.10/dist-packages/sklearn/svm/_base.py:1244: ConvergenceWarning:\n",
            "\n",
            "Liblinear failed to converge, increase the number of iterations.\n",
            "\n",
            "/usr/local/lib/python3.10/dist-packages/sklearn/svm/_base.py:1244: ConvergenceWarning:\n",
            "\n",
            "Liblinear failed to converge, increase the number of iterations.\n",
            "\n",
            "/usr/local/lib/python3.10/dist-packages/sklearn/svm/_base.py:1244: ConvergenceWarning:\n",
            "\n",
            "Liblinear failed to converge, increase the number of iterations.\n",
            "\n",
            "/usr/local/lib/python3.10/dist-packages/sklearn/svm/_base.py:1244: ConvergenceWarning:\n",
            "\n",
            "Liblinear failed to converge, increase the number of iterations.\n",
            "\n",
            "/usr/local/lib/python3.10/dist-packages/sklearn/svm/_base.py:1244: ConvergenceWarning:\n",
            "\n",
            "Liblinear failed to converge, increase the number of iterations.\n",
            "\n",
            "/usr/local/lib/python3.10/dist-packages/sklearn/svm/_base.py:1244: ConvergenceWarning:\n",
            "\n",
            "Liblinear failed to converge, increase the number of iterations.\n",
            "\n",
            "/usr/local/lib/python3.10/dist-packages/sklearn/svm/_base.py:1244: ConvergenceWarning:\n",
            "\n",
            "Liblinear failed to converge, increase the number of iterations.\n",
            "\n",
            "/usr/local/lib/python3.10/dist-packages/sklearn/svm/_base.py:1244: ConvergenceWarning:\n",
            "\n",
            "Liblinear failed to converge, increase the number of iterations.\n",
            "\n",
            "/usr/local/lib/python3.10/dist-packages/sklearn/svm/_base.py:1244: ConvergenceWarning:\n",
            "\n",
            "Liblinear failed to converge, increase the number of iterations.\n",
            "\n",
            "/usr/local/lib/python3.10/dist-packages/sklearn/svm/_base.py:1244: ConvergenceWarning:\n",
            "\n",
            "Liblinear failed to converge, increase the number of iterations.\n",
            "\n",
            "/usr/local/lib/python3.10/dist-packages/sklearn/svm/_base.py:1244: ConvergenceWarning:\n",
            "\n",
            "Liblinear failed to converge, increase the number of iterations.\n",
            "\n",
            "/usr/local/lib/python3.10/dist-packages/sklearn/svm/_base.py:1244: ConvergenceWarning:\n",
            "\n",
            "Liblinear failed to converge, increase the number of iterations.\n",
            "\n",
            "/usr/local/lib/python3.10/dist-packages/sklearn/svm/_base.py:1244: ConvergenceWarning:\n",
            "\n",
            "Liblinear failed to converge, increase the number of iterations.\n",
            "\n",
            "/usr/local/lib/python3.10/dist-packages/sklearn/svm/_base.py:1244: ConvergenceWarning:\n",
            "\n",
            "Liblinear failed to converge, increase the number of iterations.\n",
            "\n",
            "/usr/local/lib/python3.10/dist-packages/sklearn/svm/_base.py:1244: ConvergenceWarning:\n",
            "\n",
            "Liblinear failed to converge, increase the number of iterations.\n",
            "\n",
            "/usr/local/lib/python3.10/dist-packages/sklearn/svm/_base.py:1244: ConvergenceWarning:\n",
            "\n",
            "Liblinear failed to converge, increase the number of iterations.\n",
            "\n",
            "/usr/local/lib/python3.10/dist-packages/sklearn/svm/_base.py:1244: ConvergenceWarning:\n",
            "\n",
            "Liblinear failed to converge, increase the number of iterations.\n",
            "\n",
            "/usr/local/lib/python3.10/dist-packages/sklearn/svm/_base.py:1244: ConvergenceWarning:\n",
            "\n",
            "Liblinear failed to converge, increase the number of iterations.\n",
            "\n",
            "/usr/local/lib/python3.10/dist-packages/sklearn/svm/_base.py:1244: ConvergenceWarning:\n",
            "\n",
            "Liblinear failed to converge, increase the number of iterations.\n",
            "\n",
            "/usr/local/lib/python3.10/dist-packages/sklearn/svm/_base.py:1244: ConvergenceWarning:\n",
            "\n",
            "Liblinear failed to converge, increase the number of iterations.\n",
            "\n",
            "/usr/local/lib/python3.10/dist-packages/sklearn/svm/_base.py:1244: ConvergenceWarning:\n",
            "\n",
            "Liblinear failed to converge, increase the number of iterations.\n",
            "\n",
            "/usr/local/lib/python3.10/dist-packages/sklearn/svm/_base.py:1244: ConvergenceWarning:\n",
            "\n",
            "Liblinear failed to converge, increase the number of iterations.\n",
            "\n",
            "/usr/local/lib/python3.10/dist-packages/sklearn/svm/_base.py:1244: ConvergenceWarning:\n",
            "\n",
            "Liblinear failed to converge, increase the number of iterations.\n",
            "\n",
            "/usr/local/lib/python3.10/dist-packages/sklearn/svm/_base.py:1244: ConvergenceWarning:\n",
            "\n",
            "Liblinear failed to converge, increase the number of iterations.\n",
            "\n",
            "/usr/local/lib/python3.10/dist-packages/sklearn/svm/_base.py:1244: ConvergenceWarning:\n",
            "\n",
            "Liblinear failed to converge, increase the number of iterations.\n",
            "\n",
            "/usr/local/lib/python3.10/dist-packages/sklearn/svm/_base.py:1244: ConvergenceWarning:\n",
            "\n",
            "Liblinear failed to converge, increase the number of iterations.\n",
            "\n",
            "/usr/local/lib/python3.10/dist-packages/sklearn/svm/_base.py:1244: ConvergenceWarning:\n",
            "\n",
            "Liblinear failed to converge, increase the number of iterations.\n",
            "\n",
            "/usr/local/lib/python3.10/dist-packages/sklearn/svm/_base.py:1244: ConvergenceWarning:\n",
            "\n",
            "Liblinear failed to converge, increase the number of iterations.\n",
            "\n",
            "/usr/local/lib/python3.10/dist-packages/sklearn/svm/_base.py:1244: ConvergenceWarning:\n",
            "\n",
            "Liblinear failed to converge, increase the number of iterations.\n",
            "\n",
            "/usr/local/lib/python3.10/dist-packages/sklearn/svm/_base.py:1244: ConvergenceWarning:\n",
            "\n",
            "Liblinear failed to converge, increase the number of iterations.\n",
            "\n",
            "/usr/local/lib/python3.10/dist-packages/sklearn/svm/_base.py:1244: ConvergenceWarning:\n",
            "\n",
            "Liblinear failed to converge, increase the number of iterations.\n",
            "\n",
            "/usr/local/lib/python3.10/dist-packages/sklearn/svm/_base.py:1244: ConvergenceWarning:\n",
            "\n",
            "Liblinear failed to converge, increase the number of iterations.\n",
            "\n",
            "/usr/local/lib/python3.10/dist-packages/sklearn/svm/_base.py:1244: ConvergenceWarning:\n",
            "\n",
            "Liblinear failed to converge, increase the number of iterations.\n",
            "\n",
            "/usr/local/lib/python3.10/dist-packages/sklearn/svm/_base.py:1244: ConvergenceWarning:\n",
            "\n",
            "Liblinear failed to converge, increase the number of iterations.\n",
            "\n",
            "/usr/local/lib/python3.10/dist-packages/sklearn/svm/_base.py:1244: ConvergenceWarning:\n",
            "\n",
            "Liblinear failed to converge, increase the number of iterations.\n",
            "\n",
            "/usr/local/lib/python3.10/dist-packages/sklearn/svm/_base.py:1244: ConvergenceWarning:\n",
            "\n",
            "Liblinear failed to converge, increase the number of iterations.\n",
            "\n"
          ]
        },
        {
          "output_type": "stream",
          "name": "stdout",
          "text": [
            "====================================================================================================\n",
            "Result: 0.4863 (0.1503)\n"
          ]
        },
        {
          "output_type": "stream",
          "name": "stderr",
          "text": [
            "/usr/local/lib/python3.10/dist-packages/sklearn/svm/_base.py:1244: ConvergenceWarning:\n",
            "\n",
            "Liblinear failed to converge, increase the number of iterations.\n",
            "\n",
            "/usr/local/lib/python3.10/dist-packages/sklearn/svm/_base.py:1244: ConvergenceWarning:\n",
            "\n",
            "Liblinear failed to converge, increase the number of iterations.\n",
            "\n"
          ]
        }
      ]
    },
    {
      "cell_type": "code",
      "source": [
        "from sklearn.linear_model import LinearRegression\n",
        "\n",
        "multi_out_regression(LinearRegression() )"
      ],
      "metadata": {
        "colab": {
          "base_uri": "https://localhost:8080/"
        },
        "id": "8kU2LNnDWSDE",
        "outputId": "292b4038-fbd9-4a5d-e3a6-42e9487fcaaf"
      },
      "execution_count": null,
      "outputs": [
        {
          "output_type": "stream",
          "name": "stdout",
          "text": [
            "MultiOutputRegressor(estimator=LinearRegression())\n",
            "====================================================================================================\n",
            "0.9999995082448145\n",
            "====================================================================================================\n",
            "y1 MSE:0.0002\n",
            "y2 MSE:0.0000\n",
            "====================================================================================================\n",
            "Result: 99016766884478091264.0000 (532776818271070126080.0000)\n"
          ]
        }
      ]
    },
    {
      "cell_type": "code",
      "source": [
        "from sklearn.neighbors import KNeighborsRegressor\n",
        "\n",
        "multi_out_regression(KNeighborsRegressor())"
      ],
      "metadata": {
        "colab": {
          "base_uri": "https://localhost:8080/"
        },
        "id": "0Aym_wioWgwZ",
        "outputId": "063083db-0b71-4a50-88b6-c142934a8e67"
      },
      "execution_count": null,
      "outputs": [
        {
          "output_type": "stream",
          "name": "stdout",
          "text": [
            "MultiOutputRegressor(estimator=KNeighborsRegressor())\n",
            "====================================================================================================\n",
            "0.4912232803405301\n",
            "====================================================================================================\n",
            "y1 MSE:0.0255\n",
            "y2 MSE:0.0019\n",
            "====================================================================================================\n",
            "Result: 0.8262 (0.2318)\n"
          ]
        }
      ]
    },
    {
      "cell_type": "code",
      "source": [
        "multi_out_regression(GradientBoostingRegressor())\n"
      ],
      "metadata": {
        "colab": {
          "base_uri": "https://localhost:8080/"
        },
        "id": "gLgcP1eoWi8Z",
        "outputId": "83631d3a-a4fc-435f-dc7b-f66ba4c8084c"
      },
      "execution_count": null,
      "outputs": [
        {
          "output_type": "stream",
          "name": "stdout",
          "text": [
            "MultiOutputRegressor(estimator=GradientBoostingRegressor())\n",
            "====================================================================================================\n",
            "0.9999842916576225\n",
            "====================================================================================================\n",
            "y1 MSE:0.0137\n",
            "y2 MSE:0.0000\n",
            "====================================================================================================\n",
            "Result: 0.9101 (0.2680)\n"
          ]
        }
      ]
    },
    {
      "cell_type": "code",
      "source": [
        "from sklearn.tree import DecisionTreeRegressor\n",
        "multi_out_regression(DecisionTreeRegressor())"
      ],
      "metadata": {
        "colab": {
          "base_uri": "https://localhost:8080/"
        },
        "id": "XwB3pO9pW6-X",
        "outputId": "0ef08486-e55a-4fae-96aa-870c51e4c306"
      },
      "execution_count": null,
      "outputs": [
        {
          "output_type": "stream",
          "name": "stdout",
          "text": [
            "MultiOutputRegressor(estimator=DecisionTreeRegressor())\n",
            "====================================================================================================\n",
            "1.0\n",
            "====================================================================================================\n",
            "y1 MSE:0.0022\n",
            "y2 MSE:0.0000\n",
            "====================================================================================================\n",
            "Result: 0.9173 (0.2464)\n"
          ]
        }
      ]
    },
    {
      "cell_type": "code",
      "source": [
        "sampleTest = df_cp.loc[(df_cp['scanner_K150'] == 1) & (df_cp['Failure'] == 2)]"
      ],
      "metadata": {
        "id": "9y4GJgv8XIeg"
      },
      "execution_count": null,
      "outputs": []
    },
    {
      "cell_type": "code",
      "source": [
        "print(sampleTest)"
      ],
      "metadata": {
        "colab": {
          "base_uri": "https://localhost:8080/"
        },
        "id": "fMJiWkgFXIXv",
        "outputId": "f9ffc5f2-bc5b-4ef9-d071-d47fe8d6aa0d"
      },
      "execution_count": null,
      "outputs": [
        {
          "output_type": "stream",
          "name": "stdout",
          "text": [
            "          min      max    err  pixels   minf   maxf  errf  MaxMinDiff  \\\n",
            "1446  33509.0  37801.0  12.04      18  35708  35726  0.05        4292   \n",
            "1512  33509.0  37792.0  12.01      18  35709  35725  0.04        4283   \n",
            "1553  33478.0  37815.0  12.17      21  35707  35728  0.06        4337   \n",
            "1766  27443.0  43960.0  46.26      34  35708  35727  0.05       16517   \n",
            "1771  27443.0  43960.0  46.26      34  35708  35727  0.05       16517   \n",
            "\n",
            "      MaxfMinfDiff  Failure  ...  scanner_K211  scanner_K212  scanner_K218  \\\n",
            "1446            18        2  ...             0             0             0   \n",
            "1512            16        2  ...             0             0             0   \n",
            "1553            21        2  ...             0             0             0   \n",
            "1766            19        2  ...             0             0             0   \n",
            "1771            19        2  ...             0             0             0   \n",
            "\n",
            "      scanner_K219  scanner_K220  scanner_K221  scanner_K237  scanner_K238  \\\n",
            "1446             0             0             0             0             0   \n",
            "1512             0             0             0             0             0   \n",
            "1553             0             0             0             0             0   \n",
            "1766             0             0             0             0             0   \n",
            "1771             0             0             0             0             0   \n",
            "\n",
            "      scanner_K239  scanner_K250  \n",
            "1446             0             0  \n",
            "1512             0             0  \n",
            "1553             0             0  \n",
            "1766             0             0  \n",
            "1771             0             0  \n",
            "\n",
            "[5 rows x 79 columns]\n"
          ]
        }
      ]
    },
    {
      "cell_type": "code",
      "source": [
        "Ypred_valid = model.predict(sampleTest.drop(['err','errf','Failure'],axis = 1))"
      ],
      "metadata": {
        "id": "8F5_vWNxXIRq"
      },
      "execution_count": null,
      "outputs": []
    },
    {
      "cell_type": "code",
      "source": [
        "print(Ypred_valid)\n"
      ],
      "metadata": {
        "colab": {
          "base_uri": "https://localhost:8080/"
        },
        "id": "dAiNfNBEXIE7",
        "outputId": "7ac8a4fb-79d3-4084-8f2f-836e50e9aaa9"
      },
      "execution_count": null,
      "outputs": [
        {
          "output_type": "stream",
          "name": "stdout",
          "text": [
            "[[1.20245850e+01 4.97372002e-02]\n",
            " [1.19949259e+01 4.15157097e-02]\n",
            " [1.20175811e+01 5.97572867e-02]\n",
            " [4.62299591e+01 4.97372002e-02]\n",
            " [4.62299591e+01 4.97372002e-02]]\n"
          ]
        }
      ]
    },
    {
      "cell_type": "code",
      "source": [
        "res = np.where((Ypred_valid[:,0] >= 12.0) | (Ypred_valid[:,1] >=0.5),2, 1)"
      ],
      "metadata": {
        "id": "g7u-V5FbXRsd"
      },
      "execution_count": null,
      "outputs": []
    },
    {
      "cell_type": "code",
      "source": [
        "res"
      ],
      "metadata": {
        "colab": {
          "base_uri": "https://localhost:8080/"
        },
        "id": "gEnnLecdXXtj",
        "outputId": "a3f89b21-6fa1-4033-9b06-31316434a730"
      },
      "execution_count": null,
      "outputs": [
        {
          "output_type": "execute_result",
          "data": {
            "text/plain": [
              "array([2, 1, 2, 2, 2])"
            ]
          },
          "metadata": {},
          "execution_count": 57
        }
      ]
    },
    {
      "cell_type": "markdown",
      "source": [
        "InsightS:\n",
        "\n",
        ">The difference between Max and Min increases then the scanner will likly towards failure after the value becomes 4000 and above The difference between Maxf and Minf increases then the scanner will likly towards failure after the value becomes 100/90 and above\n",
        "\n",
        ">Failure category: Never fail : Failure = 1 Routinely fail: Failure = 2 Expected to fail/Failing faster: Failure = 3\n",
        "\n",
        ">Based on the model prediction value, we can drive the category mentioned above\n",
        "\n",
        ">GradientBoostingRegressor gives good result."
      ],
      "metadata": {
        "id": "4HTlIv7gXdkC"
      }
    },
    {
      "cell_type": "code",
      "source": [],
      "metadata": {
        "id": "kt-DbrNZXZoT"
      },
      "execution_count": null,
      "outputs": []
    }
  ]
}