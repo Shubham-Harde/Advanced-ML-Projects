{
  "nbformat": 4,
  "nbformat_minor": 0,
  "metadata": {
    "colab": {
      "provenance": []
    },
    "kernelspec": {
      "name": "python3",
      "display_name": "Python 3"
    },
    "language_info": {
      "name": "python"
    }
  },
  "cells": [
    {
      "cell_type": "markdown",
      "source": [
        "# Predictive Maintenance - Classification Approach\n",
        "\n",
        "> Task 1 - build a model to answer a question\n",
        "question: Model the err, and errf columns for individual 'scanners' to show a expected failure rate of the encoder component. Scanners identified into two groups, based on the following criteria and grouping:\n",
        "\n",
        "  never fail: scanners whom never reach the 12 % range for err\n",
        "  routinely fail: scanners whom reach the 12% range for err on a routine basis\n",
        "\n",
        "  err and errf are both float values, they are loosely tied to each other, and are not a 1 for 1 relationship, e.g. a rising err value doesn't mean a errf value will rise, nor the opposite. Failure is defined as a err that is above 12 % and/or a errf that is above 0.5 %\n",
        "\n",
        "\n",
        "  background: err and errf represent a encoder error rate at which a led light is pulsating into a window barrier. This barrier, and subsequent calculation, represent the rate of rotation of a component, and the compensated ERRor and ERRor Filtered value.\n",
        "\n",
        ">task 2 - explain why the model was chosen to answer the question asked\n",
        "\n",
        ">task 3 - explain the performance of the model, and of other models that would prove the same question.\n",
        "\n",
        ">task-5: Build documentation and share it across."
      ],
      "metadata": {
        "id": "Pog_QnufYEC4"
      }
    },
    {
      "cell_type": "code",
      "source": [
        "%reload_ext autoreload\n",
        "%autoreload 2"
      ],
      "metadata": {
        "id": "TYVAzCaLYK5k"
      },
      "execution_count": null,
      "outputs": []
    },
    {
      "cell_type": "code",
      "source": [
        "import numpy as np\n",
        "import pandas as pd\n",
        "from scipy.stats import randint\n",
        "import matplotlib.pyplot as plt\n",
        "import seaborn as sns\n",
        "\n",
        "%matplotlib inline\n",
        "\n",
        "plt.style.use('seaborn-whitegrid')\n",
        "from plotly import __version__\n",
        "\n",
        "\n",
        "from plotly.offline import download_plotlyjs, init_notebook_mode, plot, iplot\n",
        "import plotly.graph_objs as go\n",
        "\n",
        "from sklearn.model_selection import train_test_split\n",
        "from sklearn.linear_model import LogisticRegression\n",
        "from sklearn.feature_selection import RFE\n",
        "from sklearn.model_selection import KFold\n",
        "from sklearn.model_selection import GridSearchCV\n",
        "from sklearn.model_selection import RandomizedSearchCV\n",
        "from sklearn.preprocessing import StandardScaler\n",
        "from sklearn.model_selection import cross_val_score\n",
        "from sklearn.metrics import classification_report\n",
        "from sklearn.metrics import confusion_matrix\n",
        "from sklearn.feature_selection import SelectFromModel\n",
        "from sklearn.ensemble import RandomForestClassifier\n",
        "from sklearn.model_selection import GridSearchCV\n",
        "from sklearn import metrics\n",
        "import re"
      ],
      "metadata": {
        "colab": {
          "base_uri": "https://localhost:8080/"
        },
        "id": "JJDwmsi-Yk2X",
        "outputId": "050fdd49-85dc-4767-ba50-998cf0779f32"
      },
      "execution_count": null,
      "outputs": [
        {
          "output_type": "stream",
          "name": "stderr",
          "text": [
            "<ipython-input-104-68f83b440201>:9: MatplotlibDeprecationWarning:\n",
            "\n",
            "The seaborn styles shipped by Matplotlib are deprecated since 3.6, as they no longer correspond to the styles shipped by seaborn. However, they will remain available as 'seaborn-v0_8-<style>'. Alternatively, directly use the seaborn API instead.\n",
            "\n"
          ]
        }
      ]
    },
    {
      "cell_type": "code",
      "source": [
        "df = pd.read_csv(\"/content/encoders (1).csv\", parse_dates=['date'], infer_datetime_format=True)"
      ],
      "metadata": {
        "colab": {
          "base_uri": "https://localhost:8080/"
        },
        "id": "5cj5FpIPYqm2",
        "outputId": "41757a18-91fe-4048-a2f7-4da4d85358e3"
      },
      "execution_count": null,
      "outputs": [
        {
          "output_type": "stream",
          "name": "stderr",
          "text": [
            "<ipython-input-105-0e122ee45a4a>:1: FutureWarning:\n",
            "\n",
            "The argument 'infer_datetime_format' is deprecated and will be removed in a future version. A strict version of it is now the default, see https://pandas.pydata.org/pdeps/0004-consistent-to-datetime-parsing.html. You can safely remove this argument.\n",
            "\n"
          ]
        }
      ]
    },
    {
      "cell_type": "code",
      "source": [
        "df.head(500)"
      ],
      "metadata": {
        "colab": {
          "base_uri": "https://localhost:8080/",
          "height": 423
        },
        "id": "BAOKHf5-YqjA",
        "outputId": "ab2d71e1-ad37-41ea-bb7b-b7a69645e564"
      },
      "execution_count": null,
      "outputs": [
        {
          "output_type": "execute_result",
          "data": {
            "text/plain": [
              "      id       date scanner    min    max   err  pixels   minf   maxf  errf  \\\n",
              "0     12 2017-12-17    K219  35435  35933  1.40       6  35681  35688  0.02   \n",
              "1     30 2017-12-18    H161  35155  36382  3.43      14  35731  35761  0.08   \n",
              "2     47 2017-12-18    K211  35305  36042  2.07      43  35692  35739  0.13   \n",
              "3     48 2017-12-18    K212  35216  36225  2.82      61  35686  35726  0.11   \n",
              "4     49 2017-12-18    K220  35196  36259  2.98      11  35709  35724  0.04   \n",
              "..   ...        ...     ...    ...    ...   ...     ...    ...    ...   ...   \n",
              "495  496 2017-12-29    K250  35232  36040  2.27      17  35696  35709  0.04   \n",
              "496  497 2017-12-30    K237  35459  36026  1.59      12  35711  35719  0.02   \n",
              "497  498 2017-12-30    K238  35115  36354  3.47       7  35709  35716  0.02   \n",
              "498  499 2017-12-30    K239  35169  36391  3.42      21  35721  35728  0.02   \n",
              "499  500 2017-12-30    K250  35232  36040  2.27      17  35696  35709  0.04   \n",
              "\n",
              "     created_at                  updated_at  \n",
              "0           NaN  2017-12-29 16:26:16.475205  \n",
              "1           NaN  2017-12-29 16:26:16.872783  \n",
              "2           NaN  2017-12-19 18:10:57.453846  \n",
              "3           NaN   2017-12-19 18:10:57.45983  \n",
              "4           NaN  2017-12-19 18:10:57.464388  \n",
              "..          ...                         ...  \n",
              "495         NaN                         NaN  \n",
              "496         NaN                         NaN  \n",
              "497         NaN                         NaN  \n",
              "498         NaN                         NaN  \n",
              "499         NaN                         NaN  \n",
              "\n",
              "[500 rows x 12 columns]"
            ],
            "text/html": [
              "\n",
              "  <div id=\"df-ee2a82b2-e2ae-4c4f-97fd-3549c222cb69\" class=\"colab-df-container\">\n",
              "    <div>\n",
              "<style scoped>\n",
              "    .dataframe tbody tr th:only-of-type {\n",
              "        vertical-align: middle;\n",
              "    }\n",
              "\n",
              "    .dataframe tbody tr th {\n",
              "        vertical-align: top;\n",
              "    }\n",
              "\n",
              "    .dataframe thead th {\n",
              "        text-align: right;\n",
              "    }\n",
              "</style>\n",
              "<table border=\"1\" class=\"dataframe\">\n",
              "  <thead>\n",
              "    <tr style=\"text-align: right;\">\n",
              "      <th></th>\n",
              "      <th>id</th>\n",
              "      <th>date</th>\n",
              "      <th>scanner</th>\n",
              "      <th>min</th>\n",
              "      <th>max</th>\n",
              "      <th>err</th>\n",
              "      <th>pixels</th>\n",
              "      <th>minf</th>\n",
              "      <th>maxf</th>\n",
              "      <th>errf</th>\n",
              "      <th>created_at</th>\n",
              "      <th>updated_at</th>\n",
              "    </tr>\n",
              "  </thead>\n",
              "  <tbody>\n",
              "    <tr>\n",
              "      <th>0</th>\n",
              "      <td>12</td>\n",
              "      <td>2017-12-17</td>\n",
              "      <td>K219</td>\n",
              "      <td>35435</td>\n",
              "      <td>35933</td>\n",
              "      <td>1.40</td>\n",
              "      <td>6</td>\n",
              "      <td>35681</td>\n",
              "      <td>35688</td>\n",
              "      <td>0.02</td>\n",
              "      <td>NaN</td>\n",
              "      <td>2017-12-29 16:26:16.475205</td>\n",
              "    </tr>\n",
              "    <tr>\n",
              "      <th>1</th>\n",
              "      <td>30</td>\n",
              "      <td>2017-12-18</td>\n",
              "      <td>H161</td>\n",
              "      <td>35155</td>\n",
              "      <td>36382</td>\n",
              "      <td>3.43</td>\n",
              "      <td>14</td>\n",
              "      <td>35731</td>\n",
              "      <td>35761</td>\n",
              "      <td>0.08</td>\n",
              "      <td>NaN</td>\n",
              "      <td>2017-12-29 16:26:16.872783</td>\n",
              "    </tr>\n",
              "    <tr>\n",
              "      <th>2</th>\n",
              "      <td>47</td>\n",
              "      <td>2017-12-18</td>\n",
              "      <td>K211</td>\n",
              "      <td>35305</td>\n",
              "      <td>36042</td>\n",
              "      <td>2.07</td>\n",
              "      <td>43</td>\n",
              "      <td>35692</td>\n",
              "      <td>35739</td>\n",
              "      <td>0.13</td>\n",
              "      <td>NaN</td>\n",
              "      <td>2017-12-19 18:10:57.453846</td>\n",
              "    </tr>\n",
              "    <tr>\n",
              "      <th>3</th>\n",
              "      <td>48</td>\n",
              "      <td>2017-12-18</td>\n",
              "      <td>K212</td>\n",
              "      <td>35216</td>\n",
              "      <td>36225</td>\n",
              "      <td>2.82</td>\n",
              "      <td>61</td>\n",
              "      <td>35686</td>\n",
              "      <td>35726</td>\n",
              "      <td>0.11</td>\n",
              "      <td>NaN</td>\n",
              "      <td>2017-12-19 18:10:57.45983</td>\n",
              "    </tr>\n",
              "    <tr>\n",
              "      <th>4</th>\n",
              "      <td>49</td>\n",
              "      <td>2017-12-18</td>\n",
              "      <td>K220</td>\n",
              "      <td>35196</td>\n",
              "      <td>36259</td>\n",
              "      <td>2.98</td>\n",
              "      <td>11</td>\n",
              "      <td>35709</td>\n",
              "      <td>35724</td>\n",
              "      <td>0.04</td>\n",
              "      <td>NaN</td>\n",
              "      <td>2017-12-19 18:10:57.464388</td>\n",
              "    </tr>\n",
              "    <tr>\n",
              "      <th>...</th>\n",
              "      <td>...</td>\n",
              "      <td>...</td>\n",
              "      <td>...</td>\n",
              "      <td>...</td>\n",
              "      <td>...</td>\n",
              "      <td>...</td>\n",
              "      <td>...</td>\n",
              "      <td>...</td>\n",
              "      <td>...</td>\n",
              "      <td>...</td>\n",
              "      <td>...</td>\n",
              "      <td>...</td>\n",
              "    </tr>\n",
              "    <tr>\n",
              "      <th>495</th>\n",
              "      <td>496</td>\n",
              "      <td>2017-12-29</td>\n",
              "      <td>K250</td>\n",
              "      <td>35232</td>\n",
              "      <td>36040</td>\n",
              "      <td>2.27</td>\n",
              "      <td>17</td>\n",
              "      <td>35696</td>\n",
              "      <td>35709</td>\n",
              "      <td>0.04</td>\n",
              "      <td>NaN</td>\n",
              "      <td>NaN</td>\n",
              "    </tr>\n",
              "    <tr>\n",
              "      <th>496</th>\n",
              "      <td>497</td>\n",
              "      <td>2017-12-30</td>\n",
              "      <td>K237</td>\n",
              "      <td>35459</td>\n",
              "      <td>36026</td>\n",
              "      <td>1.59</td>\n",
              "      <td>12</td>\n",
              "      <td>35711</td>\n",
              "      <td>35719</td>\n",
              "      <td>0.02</td>\n",
              "      <td>NaN</td>\n",
              "      <td>NaN</td>\n",
              "    </tr>\n",
              "    <tr>\n",
              "      <th>497</th>\n",
              "      <td>498</td>\n",
              "      <td>2017-12-30</td>\n",
              "      <td>K238</td>\n",
              "      <td>35115</td>\n",
              "      <td>36354</td>\n",
              "      <td>3.47</td>\n",
              "      <td>7</td>\n",
              "      <td>35709</td>\n",
              "      <td>35716</td>\n",
              "      <td>0.02</td>\n",
              "      <td>NaN</td>\n",
              "      <td>NaN</td>\n",
              "    </tr>\n",
              "    <tr>\n",
              "      <th>498</th>\n",
              "      <td>499</td>\n",
              "      <td>2017-12-30</td>\n",
              "      <td>K239</td>\n",
              "      <td>35169</td>\n",
              "      <td>36391</td>\n",
              "      <td>3.42</td>\n",
              "      <td>21</td>\n",
              "      <td>35721</td>\n",
              "      <td>35728</td>\n",
              "      <td>0.02</td>\n",
              "      <td>NaN</td>\n",
              "      <td>NaN</td>\n",
              "    </tr>\n",
              "    <tr>\n",
              "      <th>499</th>\n",
              "      <td>500</td>\n",
              "      <td>2017-12-30</td>\n",
              "      <td>K250</td>\n",
              "      <td>35232</td>\n",
              "      <td>36040</td>\n",
              "      <td>2.27</td>\n",
              "      <td>17</td>\n",
              "      <td>35696</td>\n",
              "      <td>35709</td>\n",
              "      <td>0.04</td>\n",
              "      <td>NaN</td>\n",
              "      <td>NaN</td>\n",
              "    </tr>\n",
              "  </tbody>\n",
              "</table>\n",
              "<p>500 rows × 12 columns</p>\n",
              "</div>\n",
              "    <div class=\"colab-df-buttons\">\n",
              "\n",
              "  <div class=\"colab-df-container\">\n",
              "    <button class=\"colab-df-convert\" onclick=\"convertToInteractive('df-ee2a82b2-e2ae-4c4f-97fd-3549c222cb69')\"\n",
              "            title=\"Convert this dataframe to an interactive table.\"\n",
              "            style=\"display:none;\">\n",
              "\n",
              "  <svg xmlns=\"http://www.w3.org/2000/svg\" height=\"24px\" viewBox=\"0 -960 960 960\">\n",
              "    <path d=\"M120-120v-720h720v720H120Zm60-500h600v-160H180v160Zm220 220h160v-160H400v160Zm0 220h160v-160H400v160ZM180-400h160v-160H180v160Zm440 0h160v-160H620v160ZM180-180h160v-160H180v160Zm440 0h160v-160H620v160Z\"/>\n",
              "  </svg>\n",
              "    </button>\n",
              "\n",
              "  <style>\n",
              "    .colab-df-container {\n",
              "      display:flex;\n",
              "      gap: 12px;\n",
              "    }\n",
              "\n",
              "    .colab-df-convert {\n",
              "      background-color: #E8F0FE;\n",
              "      border: none;\n",
              "      border-radius: 50%;\n",
              "      cursor: pointer;\n",
              "      display: none;\n",
              "      fill: #1967D2;\n",
              "      height: 32px;\n",
              "      padding: 0 0 0 0;\n",
              "      width: 32px;\n",
              "    }\n",
              "\n",
              "    .colab-df-convert:hover {\n",
              "      background-color: #E2EBFA;\n",
              "      box-shadow: 0px 1px 2px rgba(60, 64, 67, 0.3), 0px 1px 3px 1px rgba(60, 64, 67, 0.15);\n",
              "      fill: #174EA6;\n",
              "    }\n",
              "\n",
              "    .colab-df-buttons div {\n",
              "      margin-bottom: 4px;\n",
              "    }\n",
              "\n",
              "    [theme=dark] .colab-df-convert {\n",
              "      background-color: #3B4455;\n",
              "      fill: #D2E3FC;\n",
              "    }\n",
              "\n",
              "    [theme=dark] .colab-df-convert:hover {\n",
              "      background-color: #434B5C;\n",
              "      box-shadow: 0px 1px 3px 1px rgba(0, 0, 0, 0.15);\n",
              "      filter: drop-shadow(0px 1px 2px rgba(0, 0, 0, 0.3));\n",
              "      fill: #FFFFFF;\n",
              "    }\n",
              "  </style>\n",
              "\n",
              "    <script>\n",
              "      const buttonEl =\n",
              "        document.querySelector('#df-ee2a82b2-e2ae-4c4f-97fd-3549c222cb69 button.colab-df-convert');\n",
              "      buttonEl.style.display =\n",
              "        google.colab.kernel.accessAllowed ? 'block' : 'none';\n",
              "\n",
              "      async function convertToInteractive(key) {\n",
              "        const element = document.querySelector('#df-ee2a82b2-e2ae-4c4f-97fd-3549c222cb69');\n",
              "        const dataTable =\n",
              "          await google.colab.kernel.invokeFunction('convertToInteractive',\n",
              "                                                    [key], {});\n",
              "        if (!dataTable) return;\n",
              "\n",
              "        const docLinkHtml = 'Like what you see? Visit the ' +\n",
              "          '<a target=\"_blank\" href=https://colab.research.google.com/notebooks/data_table.ipynb>data table notebook</a>'\n",
              "          + ' to learn more about interactive tables.';\n",
              "        element.innerHTML = '';\n",
              "        dataTable['output_type'] = 'display_data';\n",
              "        await google.colab.output.renderOutput(dataTable, element);\n",
              "        const docLink = document.createElement('div');\n",
              "        docLink.innerHTML = docLinkHtml;\n",
              "        element.appendChild(docLink);\n",
              "      }\n",
              "    </script>\n",
              "  </div>\n",
              "\n",
              "\n",
              "<div id=\"df-d4922fde-3390-4066-bdf1-9357609511b9\">\n",
              "  <button class=\"colab-df-quickchart\" onclick=\"quickchart('df-d4922fde-3390-4066-bdf1-9357609511b9')\"\n",
              "            title=\"Suggest charts\"\n",
              "            style=\"display:none;\">\n",
              "\n",
              "<svg xmlns=\"http://www.w3.org/2000/svg\" height=\"24px\"viewBox=\"0 0 24 24\"\n",
              "     width=\"24px\">\n",
              "    <g>\n",
              "        <path d=\"M19 3H5c-1.1 0-2 .9-2 2v14c0 1.1.9 2 2 2h14c1.1 0 2-.9 2-2V5c0-1.1-.9-2-2-2zM9 17H7v-7h2v7zm4 0h-2V7h2v10zm4 0h-2v-4h2v4z\"/>\n",
              "    </g>\n",
              "</svg>\n",
              "  </button>\n",
              "\n",
              "<style>\n",
              "  .colab-df-quickchart {\n",
              "      --bg-color: #E8F0FE;\n",
              "      --fill-color: #1967D2;\n",
              "      --hover-bg-color: #E2EBFA;\n",
              "      --hover-fill-color: #174EA6;\n",
              "      --disabled-fill-color: #AAA;\n",
              "      --disabled-bg-color: #DDD;\n",
              "  }\n",
              "\n",
              "  [theme=dark] .colab-df-quickchart {\n",
              "      --bg-color: #3B4455;\n",
              "      --fill-color: #D2E3FC;\n",
              "      --hover-bg-color: #434B5C;\n",
              "      --hover-fill-color: #FFFFFF;\n",
              "      --disabled-bg-color: #3B4455;\n",
              "      --disabled-fill-color: #666;\n",
              "  }\n",
              "\n",
              "  .colab-df-quickchart {\n",
              "    background-color: var(--bg-color);\n",
              "    border: none;\n",
              "    border-radius: 50%;\n",
              "    cursor: pointer;\n",
              "    display: none;\n",
              "    fill: var(--fill-color);\n",
              "    height: 32px;\n",
              "    padding: 0;\n",
              "    width: 32px;\n",
              "  }\n",
              "\n",
              "  .colab-df-quickchart:hover {\n",
              "    background-color: var(--hover-bg-color);\n",
              "    box-shadow: 0 1px 2px rgba(60, 64, 67, 0.3), 0 1px 3px 1px rgba(60, 64, 67, 0.15);\n",
              "    fill: var(--button-hover-fill-color);\n",
              "  }\n",
              "\n",
              "  .colab-df-quickchart-complete:disabled,\n",
              "  .colab-df-quickchart-complete:disabled:hover {\n",
              "    background-color: var(--disabled-bg-color);\n",
              "    fill: var(--disabled-fill-color);\n",
              "    box-shadow: none;\n",
              "  }\n",
              "\n",
              "  .colab-df-spinner {\n",
              "    border: 2px solid var(--fill-color);\n",
              "    border-color: transparent;\n",
              "    border-bottom-color: var(--fill-color);\n",
              "    animation:\n",
              "      spin 1s steps(1) infinite;\n",
              "  }\n",
              "\n",
              "  @keyframes spin {\n",
              "    0% {\n",
              "      border-color: transparent;\n",
              "      border-bottom-color: var(--fill-color);\n",
              "      border-left-color: var(--fill-color);\n",
              "    }\n",
              "    20% {\n",
              "      border-color: transparent;\n",
              "      border-left-color: var(--fill-color);\n",
              "      border-top-color: var(--fill-color);\n",
              "    }\n",
              "    30% {\n",
              "      border-color: transparent;\n",
              "      border-left-color: var(--fill-color);\n",
              "      border-top-color: var(--fill-color);\n",
              "      border-right-color: var(--fill-color);\n",
              "    }\n",
              "    40% {\n",
              "      border-color: transparent;\n",
              "      border-right-color: var(--fill-color);\n",
              "      border-top-color: var(--fill-color);\n",
              "    }\n",
              "    60% {\n",
              "      border-color: transparent;\n",
              "      border-right-color: var(--fill-color);\n",
              "    }\n",
              "    80% {\n",
              "      border-color: transparent;\n",
              "      border-right-color: var(--fill-color);\n",
              "      border-bottom-color: var(--fill-color);\n",
              "    }\n",
              "    90% {\n",
              "      border-color: transparent;\n",
              "      border-bottom-color: var(--fill-color);\n",
              "    }\n",
              "  }\n",
              "</style>\n",
              "\n",
              "  <script>\n",
              "    async function quickchart(key) {\n",
              "      const quickchartButtonEl =\n",
              "        document.querySelector('#' + key + ' button');\n",
              "      quickchartButtonEl.disabled = true;  // To prevent multiple clicks.\n",
              "      quickchartButtonEl.classList.add('colab-df-spinner');\n",
              "      try {\n",
              "        const charts = await google.colab.kernel.invokeFunction(\n",
              "            'suggestCharts', [key], {});\n",
              "      } catch (error) {\n",
              "        console.error('Error during call to suggestCharts:', error);\n",
              "      }\n",
              "      quickchartButtonEl.classList.remove('colab-df-spinner');\n",
              "      quickchartButtonEl.classList.add('colab-df-quickchart-complete');\n",
              "    }\n",
              "    (() => {\n",
              "      let quickchartButtonEl =\n",
              "        document.querySelector('#df-d4922fde-3390-4066-bdf1-9357609511b9 button');\n",
              "      quickchartButtonEl.style.display =\n",
              "        google.colab.kernel.accessAllowed ? 'block' : 'none';\n",
              "    })();\n",
              "  </script>\n",
              "</div>\n",
              "\n",
              "    </div>\n",
              "  </div>\n"
            ],
            "application/vnd.google.colaboratory.intrinsic+json": {
              "type": "dataframe",
              "variable_name": "df",
              "summary": "{\n  \"name\": \"df\",\n  \"rows\": 2752,\n  \"fields\": [\n    {\n      \"column\": \"id\",\n      \"properties\": {\n        \"dtype\": \"number\",\n        \"std\": 794,\n        \"min\": 1,\n        \"max\": 2752,\n        \"num_unique_values\": 2752,\n        \"samples\": [\n          1358,\n          487,\n          218\n        ],\n        \"semantic_type\": \"\",\n        \"description\": \"\"\n      }\n    },\n    {\n      \"column\": \"date\",\n      \"properties\": {\n        \"dtype\": \"date\",\n        \"min\": \"2014-07-18 00:00:00\",\n        \"max\": \"2018-03-07 00:00:00\",\n        \"num_unique_values\": 173,\n        \"samples\": [\n          \"2017-04-28 00:00:00\",\n          \"2017-06-29 00:00:00\",\n          \"2018-01-16 00:00:00\"\n        ],\n        \"semantic_type\": \"\",\n        \"description\": \"\"\n      }\n    },\n    {\n      \"column\": \"scanner\",\n      \"properties\": {\n        \"dtype\": \"category\",\n        \"num_unique_values\": 73,\n        \"samples\": [\n          \"K220\",\n          \"H156\",\n          \"K239\"\n        ],\n        \"semantic_type\": \"\",\n        \"description\": \"\"\n      }\n    },\n    {\n      \"column\": \"min\",\n      \"properties\": {\n        \"dtype\": \"number\",\n        \"std\": 8003,\n        \"min\": -1,\n        \"max\": 45275,\n        \"num_unique_values\": 724,\n        \"samples\": [\n          35051,\n          34406,\n          34994\n        ],\n        \"semantic_type\": \"\",\n        \"description\": \"\"\n      }\n    },\n    {\n      \"column\": \"max\",\n      \"properties\": {\n        \"dtype\": \"number\",\n        \"std\": 8211,\n        \"min\": -1,\n        \"max\": 47057,\n        \"num_unique_values\": 735,\n        \"samples\": [\n          37042,\n          36433,\n          36153\n        ],\n        \"semantic_type\": \"\",\n        \"description\": \"\"\n      }\n    },\n    {\n      \"column\": \"err\",\n      \"properties\": {\n        \"dtype\": \"number\",\n        \"std\": 4.337743076371398,\n        \"min\": -0.0,\n        \"max\": 200.01,\n        \"num_unique_values\": 443,\n        \"samples\": [\n          2.16,\n          2.33,\n          1.46\n        ],\n        \"semantic_type\": \"\",\n        \"description\": \"\"\n      }\n    },\n    {\n      \"column\": \"pixels\",\n      \"properties\": {\n        \"dtype\": \"number\",\n        \"std\": 32,\n        \"min\": -1,\n        \"max\": 175,\n        \"num_unique_values\": 143,\n        \"samples\": [\n          173,\n          49,\n          139\n        ],\n        \"semantic_type\": \"\",\n        \"description\": \"\"\n      }\n    },\n    {\n      \"column\": \"minf\",\n      \"properties\": {\n        \"dtype\": \"number\",\n        \"std\": 8112,\n        \"min\": -1,\n        \"max\": 45717,\n        \"num_unique_values\": 147,\n        \"samples\": [\n          35747,\n          35740,\n          35657\n        ],\n        \"semantic_type\": \"\",\n        \"description\": \"\"\n      }\n    },\n    {\n      \"column\": \"maxf\",\n      \"properties\": {\n        \"dtype\": \"number\",\n        \"std\": 8094,\n        \"min\": -1,\n        \"max\": 46344,\n        \"num_unique_values\": 166,\n        \"samples\": [\n          35732,\n          35780,\n          35572\n        ],\n        \"semantic_type\": \"\",\n        \"description\": \"\"\n      }\n    },\n    {\n      \"column\": \"errf\",\n      \"properties\": {\n        \"dtype\": \"number\",\n        \"std\": 3.812030898874114,\n        \"min\": -0.0,\n        \"max\": 200.01,\n        \"num_unique_values\": 34,\n        \"samples\": [\n          0.12,\n          0.17,\n          0.19\n        ],\n        \"semantic_type\": \"\",\n        \"description\": \"\"\n      }\n    },\n    {\n      \"column\": \"created_at\",\n      \"properties\": {\n        \"dtype\": \"number\",\n        \"std\": null,\n        \"min\": null,\n        \"max\": null,\n        \"num_unique_values\": 0,\n        \"samples\": [],\n        \"semantic_type\": \"\",\n        \"description\": \"\"\n      }\n    },\n    {\n      \"column\": \"updated_at\",\n      \"properties\": {\n        \"dtype\": \"object\",\n        \"num_unique_values\": 1921,\n        \"samples\": [],\n        \"semantic_type\": \"\",\n        \"description\": \"\"\n      }\n    }\n  ]\n}"
            }
          },
          "metadata": {},
          "execution_count": 106
        }
      ]
    },
    {
      "cell_type": "markdown",
      "source": [
        "Note:\n",
        "> From the \"updates_at\" value we can get the duration of which scanner worked before doing the measurement"
      ],
      "metadata": {
        "id": "6-lBpWi6Y7lD"
      }
    },
    {
      "cell_type": "code",
      "source": [
        "df['updated_at'] = np.where(df['updated_at']=='?', df['date'].dt.strftime('%Y-%m-%d %H:%M:%S.%f'), df['updated_at'])"
      ],
      "metadata": {
        "id": "202LEXv-Y-Lk"
      },
      "execution_count": null,
      "outputs": []
    },
    {
      "cell_type": "code",
      "source": [
        "df['updated_at'] = df['updated_at'].astype(str).apply(lambda x: x.replace(\"'\", \"\") if pd.notnull(x) else x)"
      ],
      "metadata": {
        "id": "i6C4IuiZY-JH"
      },
      "execution_count": null,
      "outputs": []
    },
    {
      "cell_type": "code",
      "source": [
        "df['updated_at']  = pd.to_datetime(df['updated_at'])"
      ],
      "metadata": {
        "id": "_ZREsyhZY-GR"
      },
      "execution_count": null,
      "outputs": []
    },
    {
      "cell_type": "code",
      "source": [
        "type(df['updated_at'][0])"
      ],
      "metadata": {
        "colab": {
          "base_uri": "https://localhost:8080/"
        },
        "id": "3TdLivXfY-AW",
        "outputId": "d2d803c0-7d14-4794-ae9f-e367b41ced6e"
      },
      "execution_count": null,
      "outputs": [
        {
          "output_type": "execute_result",
          "data": {
            "text/plain": [
              "pandas._libs.tslibs.timestamps.Timestamp"
            ]
          },
          "metadata": {},
          "execution_count": 110
        }
      ]
    },
    {
      "cell_type": "code",
      "source": [
        "df['duration'] = df['updated_at']-df['date']\n",
        "df['duration'] = df['duration'].apply(lambda x:x.days)"
      ],
      "metadata": {
        "id": "e2maXxbcYqa_"
      },
      "execution_count": null,
      "outputs": []
    },
    {
      "cell_type": "code",
      "source": [
        "df = df.drop(['updated_at','date'],axis= 1)"
      ],
      "metadata": {
        "id": "TX0rzASgdGID"
      },
      "execution_count": null,
      "outputs": []
    },
    {
      "cell_type": "code",
      "source": [
        "df.info()"
      ],
      "metadata": {
        "colab": {
          "base_uri": "https://localhost:8080/"
        },
        "id": "44_pJeZHdIWD",
        "outputId": "119127cf-ca02-4e9e-b216-e521f58db0b2"
      },
      "execution_count": null,
      "outputs": [
        {
          "output_type": "stream",
          "name": "stdout",
          "text": [
            "<class 'pandas.core.frame.DataFrame'>\n",
            "RangeIndex: 2752 entries, 0 to 2751\n",
            "Data columns (total 11 columns):\n",
            " #   Column      Non-Null Count  Dtype  \n",
            "---  ------      --------------  -----  \n",
            " 0   id          2752 non-null   int64  \n",
            " 1   scanner     2752 non-null   object \n",
            " 2   min         2752 non-null   int64  \n",
            " 3   max         2752 non-null   int64  \n",
            " 4   err         2752 non-null   float64\n",
            " 5   pixels      2752 non-null   int64  \n",
            " 6   minf        2752 non-null   int64  \n",
            " 7   maxf        2752 non-null   int64  \n",
            " 8   errf        2752 non-null   float64\n",
            " 9   created_at  0 non-null      float64\n",
            " 10  duration    1921 non-null   float64\n",
            "dtypes: float64(4), int64(6), object(1)\n",
            "memory usage: 236.6+ KB\n"
          ]
        }
      ]
    },
    {
      "cell_type": "markdown",
      "source": [
        "Data Clean-up: Removing rows which is not having any recorded value\n"
      ],
      "metadata": {
        "id": "7uhRif8UdMMW"
      }
    },
    {
      "cell_type": "code",
      "source": [
        " df = df.loc[~((df['min']<=0) & (df['max']<=0) & (df['err'] <= 0)),:]"
      ],
      "metadata": {
        "id": "VNnVIVhIdKCE"
      },
      "execution_count": null,
      "outputs": []
    },
    {
      "cell_type": "code",
      "source": [
        "df.info()"
      ],
      "metadata": {
        "colab": {
          "base_uri": "https://localhost:8080/"
        },
        "id": "GPARAKR1dOYG",
        "outputId": "7c8c04c5-48b7-4afc-b59d-59b36c05b467"
      },
      "execution_count": null,
      "outputs": [
        {
          "output_type": "stream",
          "name": "stdout",
          "text": [
            "<class 'pandas.core.frame.DataFrame'>\n",
            "Index: 2603 entries, 0 to 2751\n",
            "Data columns (total 11 columns):\n",
            " #   Column      Non-Null Count  Dtype  \n",
            "---  ------      --------------  -----  \n",
            " 0   id          2603 non-null   int64  \n",
            " 1   scanner     2603 non-null   object \n",
            " 2   min         2603 non-null   int64  \n",
            " 3   max         2603 non-null   int64  \n",
            " 4   err         2603 non-null   float64\n",
            " 5   pixels      2603 non-null   int64  \n",
            " 6   minf        2603 non-null   int64  \n",
            " 7   maxf        2603 non-null   int64  \n",
            " 8   errf        2603 non-null   float64\n",
            " 9   created_at  0 non-null      float64\n",
            " 10  duration    1810 non-null   float64\n",
            "dtypes: float64(4), int64(6), object(1)\n",
            "memory usage: 244.0+ KB\n"
          ]
        }
      ]
    },
    {
      "cell_type": "markdown",
      "source": [],
      "metadata": {
        "id": "suTO3lvbOaGB"
      }
    },
    {
      "cell_type": "markdown",
      "source": [
        "\"created_at\" column contains 0 non null value so we must delete this column from the dataframe"
      ],
      "metadata": {
        "id": "dXFYsA1pOmpX"
      }
    },
    {
      "cell_type": "code",
      "source": [
        "df.columns"
      ],
      "metadata": {
        "colab": {
          "base_uri": "https://localhost:8080/"
        },
        "id": "kN31BzPmO5G4",
        "outputId": "be0ca45d-bec1-4b74-e916-0def49c61cee"
      },
      "execution_count": null,
      "outputs": [
        {
          "output_type": "execute_result",
          "data": {
            "text/plain": [
              "Index(['id', 'scanner', 'min', 'max', 'err', 'pixels', 'minf', 'maxf', 'errf',\n",
              "       'created_at', 'duration'],\n",
              "      dtype='object')"
            ]
          },
          "metadata": {},
          "execution_count": 116
        }
      ]
    },
    {
      "cell_type": "code",
      "source": [
        "df = df.drop(['created_at'], axis=1)"
      ],
      "metadata": {
        "id": "1ThiB1VBOncD"
      },
      "execution_count": null,
      "outputs": []
    },
    {
      "cell_type": "code",
      "source": [
        "df.head()"
      ],
      "metadata": {
        "colab": {
          "base_uri": "https://localhost:8080/",
          "height": 206
        },
        "id": "dHYqG23IdP43",
        "outputId": "27e6a811-0ab9-4cf8-fcf8-9355640a0874"
      },
      "execution_count": null,
      "outputs": [
        {
          "output_type": "execute_result",
          "data": {
            "text/plain": [
              "   id scanner    min    max   err  pixels   minf   maxf  errf  duration\n",
              "0  12    K219  35435  35933  1.40       6  35681  35688  0.02      12.0\n",
              "1  30    H161  35155  36382  3.43      14  35731  35761  0.08      11.0\n",
              "2  47    K211  35305  36042  2.07      43  35692  35739  0.13       1.0\n",
              "3  48    K212  35216  36225  2.82      61  35686  35726  0.11       1.0\n",
              "4  49    K220  35196  36259  2.98      11  35709  35724  0.04       1.0"
            ],
            "text/html": [
              "\n",
              "  <div id=\"df-284fedb3-8269-4696-9265-4975553b86c5\" class=\"colab-df-container\">\n",
              "    <div>\n",
              "<style scoped>\n",
              "    .dataframe tbody tr th:only-of-type {\n",
              "        vertical-align: middle;\n",
              "    }\n",
              "\n",
              "    .dataframe tbody tr th {\n",
              "        vertical-align: top;\n",
              "    }\n",
              "\n",
              "    .dataframe thead th {\n",
              "        text-align: right;\n",
              "    }\n",
              "</style>\n",
              "<table border=\"1\" class=\"dataframe\">\n",
              "  <thead>\n",
              "    <tr style=\"text-align: right;\">\n",
              "      <th></th>\n",
              "      <th>id</th>\n",
              "      <th>scanner</th>\n",
              "      <th>min</th>\n",
              "      <th>max</th>\n",
              "      <th>err</th>\n",
              "      <th>pixels</th>\n",
              "      <th>minf</th>\n",
              "      <th>maxf</th>\n",
              "      <th>errf</th>\n",
              "      <th>duration</th>\n",
              "    </tr>\n",
              "  </thead>\n",
              "  <tbody>\n",
              "    <tr>\n",
              "      <th>0</th>\n",
              "      <td>12</td>\n",
              "      <td>K219</td>\n",
              "      <td>35435</td>\n",
              "      <td>35933</td>\n",
              "      <td>1.40</td>\n",
              "      <td>6</td>\n",
              "      <td>35681</td>\n",
              "      <td>35688</td>\n",
              "      <td>0.02</td>\n",
              "      <td>12.0</td>\n",
              "    </tr>\n",
              "    <tr>\n",
              "      <th>1</th>\n",
              "      <td>30</td>\n",
              "      <td>H161</td>\n",
              "      <td>35155</td>\n",
              "      <td>36382</td>\n",
              "      <td>3.43</td>\n",
              "      <td>14</td>\n",
              "      <td>35731</td>\n",
              "      <td>35761</td>\n",
              "      <td>0.08</td>\n",
              "      <td>11.0</td>\n",
              "    </tr>\n",
              "    <tr>\n",
              "      <th>2</th>\n",
              "      <td>47</td>\n",
              "      <td>K211</td>\n",
              "      <td>35305</td>\n",
              "      <td>36042</td>\n",
              "      <td>2.07</td>\n",
              "      <td>43</td>\n",
              "      <td>35692</td>\n",
              "      <td>35739</td>\n",
              "      <td>0.13</td>\n",
              "      <td>1.0</td>\n",
              "    </tr>\n",
              "    <tr>\n",
              "      <th>3</th>\n",
              "      <td>48</td>\n",
              "      <td>K212</td>\n",
              "      <td>35216</td>\n",
              "      <td>36225</td>\n",
              "      <td>2.82</td>\n",
              "      <td>61</td>\n",
              "      <td>35686</td>\n",
              "      <td>35726</td>\n",
              "      <td>0.11</td>\n",
              "      <td>1.0</td>\n",
              "    </tr>\n",
              "    <tr>\n",
              "      <th>4</th>\n",
              "      <td>49</td>\n",
              "      <td>K220</td>\n",
              "      <td>35196</td>\n",
              "      <td>36259</td>\n",
              "      <td>2.98</td>\n",
              "      <td>11</td>\n",
              "      <td>35709</td>\n",
              "      <td>35724</td>\n",
              "      <td>0.04</td>\n",
              "      <td>1.0</td>\n",
              "    </tr>\n",
              "  </tbody>\n",
              "</table>\n",
              "</div>\n",
              "    <div class=\"colab-df-buttons\">\n",
              "\n",
              "  <div class=\"colab-df-container\">\n",
              "    <button class=\"colab-df-convert\" onclick=\"convertToInteractive('df-284fedb3-8269-4696-9265-4975553b86c5')\"\n",
              "            title=\"Convert this dataframe to an interactive table.\"\n",
              "            style=\"display:none;\">\n",
              "\n",
              "  <svg xmlns=\"http://www.w3.org/2000/svg\" height=\"24px\" viewBox=\"0 -960 960 960\">\n",
              "    <path d=\"M120-120v-720h720v720H120Zm60-500h600v-160H180v160Zm220 220h160v-160H400v160Zm0 220h160v-160H400v160ZM180-400h160v-160H180v160Zm440 0h160v-160H620v160ZM180-180h160v-160H180v160Zm440 0h160v-160H620v160Z\"/>\n",
              "  </svg>\n",
              "    </button>\n",
              "\n",
              "  <style>\n",
              "    .colab-df-container {\n",
              "      display:flex;\n",
              "      gap: 12px;\n",
              "    }\n",
              "\n",
              "    .colab-df-convert {\n",
              "      background-color: #E8F0FE;\n",
              "      border: none;\n",
              "      border-radius: 50%;\n",
              "      cursor: pointer;\n",
              "      display: none;\n",
              "      fill: #1967D2;\n",
              "      height: 32px;\n",
              "      padding: 0 0 0 0;\n",
              "      width: 32px;\n",
              "    }\n",
              "\n",
              "    .colab-df-convert:hover {\n",
              "      background-color: #E2EBFA;\n",
              "      box-shadow: 0px 1px 2px rgba(60, 64, 67, 0.3), 0px 1px 3px 1px rgba(60, 64, 67, 0.15);\n",
              "      fill: #174EA6;\n",
              "    }\n",
              "\n",
              "    .colab-df-buttons div {\n",
              "      margin-bottom: 4px;\n",
              "    }\n",
              "\n",
              "    [theme=dark] .colab-df-convert {\n",
              "      background-color: #3B4455;\n",
              "      fill: #D2E3FC;\n",
              "    }\n",
              "\n",
              "    [theme=dark] .colab-df-convert:hover {\n",
              "      background-color: #434B5C;\n",
              "      box-shadow: 0px 1px 3px 1px rgba(0, 0, 0, 0.15);\n",
              "      filter: drop-shadow(0px 1px 2px rgba(0, 0, 0, 0.3));\n",
              "      fill: #FFFFFF;\n",
              "    }\n",
              "  </style>\n",
              "\n",
              "    <script>\n",
              "      const buttonEl =\n",
              "        document.querySelector('#df-284fedb3-8269-4696-9265-4975553b86c5 button.colab-df-convert');\n",
              "      buttonEl.style.display =\n",
              "        google.colab.kernel.accessAllowed ? 'block' : 'none';\n",
              "\n",
              "      async function convertToInteractive(key) {\n",
              "        const element = document.querySelector('#df-284fedb3-8269-4696-9265-4975553b86c5');\n",
              "        const dataTable =\n",
              "          await google.colab.kernel.invokeFunction('convertToInteractive',\n",
              "                                                    [key], {});\n",
              "        if (!dataTable) return;\n",
              "\n",
              "        const docLinkHtml = 'Like what you see? Visit the ' +\n",
              "          '<a target=\"_blank\" href=https://colab.research.google.com/notebooks/data_table.ipynb>data table notebook</a>'\n",
              "          + ' to learn more about interactive tables.';\n",
              "        element.innerHTML = '';\n",
              "        dataTable['output_type'] = 'display_data';\n",
              "        await google.colab.output.renderOutput(dataTable, element);\n",
              "        const docLink = document.createElement('div');\n",
              "        docLink.innerHTML = docLinkHtml;\n",
              "        element.appendChild(docLink);\n",
              "      }\n",
              "    </script>\n",
              "  </div>\n",
              "\n",
              "\n",
              "<div id=\"df-2eb57f07-1f3f-4a0d-b537-27da41d97eb2\">\n",
              "  <button class=\"colab-df-quickchart\" onclick=\"quickchart('df-2eb57f07-1f3f-4a0d-b537-27da41d97eb2')\"\n",
              "            title=\"Suggest charts\"\n",
              "            style=\"display:none;\">\n",
              "\n",
              "<svg xmlns=\"http://www.w3.org/2000/svg\" height=\"24px\"viewBox=\"0 0 24 24\"\n",
              "     width=\"24px\">\n",
              "    <g>\n",
              "        <path d=\"M19 3H5c-1.1 0-2 .9-2 2v14c0 1.1.9 2 2 2h14c1.1 0 2-.9 2-2V5c0-1.1-.9-2-2-2zM9 17H7v-7h2v7zm4 0h-2V7h2v10zm4 0h-2v-4h2v4z\"/>\n",
              "    </g>\n",
              "</svg>\n",
              "  </button>\n",
              "\n",
              "<style>\n",
              "  .colab-df-quickchart {\n",
              "      --bg-color: #E8F0FE;\n",
              "      --fill-color: #1967D2;\n",
              "      --hover-bg-color: #E2EBFA;\n",
              "      --hover-fill-color: #174EA6;\n",
              "      --disabled-fill-color: #AAA;\n",
              "      --disabled-bg-color: #DDD;\n",
              "  }\n",
              "\n",
              "  [theme=dark] .colab-df-quickchart {\n",
              "      --bg-color: #3B4455;\n",
              "      --fill-color: #D2E3FC;\n",
              "      --hover-bg-color: #434B5C;\n",
              "      --hover-fill-color: #FFFFFF;\n",
              "      --disabled-bg-color: #3B4455;\n",
              "      --disabled-fill-color: #666;\n",
              "  }\n",
              "\n",
              "  .colab-df-quickchart {\n",
              "    background-color: var(--bg-color);\n",
              "    border: none;\n",
              "    border-radius: 50%;\n",
              "    cursor: pointer;\n",
              "    display: none;\n",
              "    fill: var(--fill-color);\n",
              "    height: 32px;\n",
              "    padding: 0;\n",
              "    width: 32px;\n",
              "  }\n",
              "\n",
              "  .colab-df-quickchart:hover {\n",
              "    background-color: var(--hover-bg-color);\n",
              "    box-shadow: 0 1px 2px rgba(60, 64, 67, 0.3), 0 1px 3px 1px rgba(60, 64, 67, 0.15);\n",
              "    fill: var(--button-hover-fill-color);\n",
              "  }\n",
              "\n",
              "  .colab-df-quickchart-complete:disabled,\n",
              "  .colab-df-quickchart-complete:disabled:hover {\n",
              "    background-color: var(--disabled-bg-color);\n",
              "    fill: var(--disabled-fill-color);\n",
              "    box-shadow: none;\n",
              "  }\n",
              "\n",
              "  .colab-df-spinner {\n",
              "    border: 2px solid var(--fill-color);\n",
              "    border-color: transparent;\n",
              "    border-bottom-color: var(--fill-color);\n",
              "    animation:\n",
              "      spin 1s steps(1) infinite;\n",
              "  }\n",
              "\n",
              "  @keyframes spin {\n",
              "    0% {\n",
              "      border-color: transparent;\n",
              "      border-bottom-color: var(--fill-color);\n",
              "      border-left-color: var(--fill-color);\n",
              "    }\n",
              "    20% {\n",
              "      border-color: transparent;\n",
              "      border-left-color: var(--fill-color);\n",
              "      border-top-color: var(--fill-color);\n",
              "    }\n",
              "    30% {\n",
              "      border-color: transparent;\n",
              "      border-left-color: var(--fill-color);\n",
              "      border-top-color: var(--fill-color);\n",
              "      border-right-color: var(--fill-color);\n",
              "    }\n",
              "    40% {\n",
              "      border-color: transparent;\n",
              "      border-right-color: var(--fill-color);\n",
              "      border-top-color: var(--fill-color);\n",
              "    }\n",
              "    60% {\n",
              "      border-color: transparent;\n",
              "      border-right-color: var(--fill-color);\n",
              "    }\n",
              "    80% {\n",
              "      border-color: transparent;\n",
              "      border-right-color: var(--fill-color);\n",
              "      border-bottom-color: var(--fill-color);\n",
              "    }\n",
              "    90% {\n",
              "      border-color: transparent;\n",
              "      border-bottom-color: var(--fill-color);\n",
              "    }\n",
              "  }\n",
              "</style>\n",
              "\n",
              "  <script>\n",
              "    async function quickchart(key) {\n",
              "      const quickchartButtonEl =\n",
              "        document.querySelector('#' + key + ' button');\n",
              "      quickchartButtonEl.disabled = true;  // To prevent multiple clicks.\n",
              "      quickchartButtonEl.classList.add('colab-df-spinner');\n",
              "      try {\n",
              "        const charts = await google.colab.kernel.invokeFunction(\n",
              "            'suggestCharts', [key], {});\n",
              "      } catch (error) {\n",
              "        console.error('Error during call to suggestCharts:', error);\n",
              "      }\n",
              "      quickchartButtonEl.classList.remove('colab-df-spinner');\n",
              "      quickchartButtonEl.classList.add('colab-df-quickchart-complete');\n",
              "    }\n",
              "    (() => {\n",
              "      let quickchartButtonEl =\n",
              "        document.querySelector('#df-2eb57f07-1f3f-4a0d-b537-27da41d97eb2 button');\n",
              "      quickchartButtonEl.style.display =\n",
              "        google.colab.kernel.accessAllowed ? 'block' : 'none';\n",
              "    })();\n",
              "  </script>\n",
              "</div>\n",
              "\n",
              "    </div>\n",
              "  </div>\n"
            ],
            "application/vnd.google.colaboratory.intrinsic+json": {
              "type": "dataframe",
              "variable_name": "df",
              "summary": "{\n  \"name\": \"df\",\n  \"rows\": 2603,\n  \"fields\": [\n    {\n      \"column\": \"id\",\n      \"properties\": {\n        \"dtype\": \"number\",\n        \"std\": 795,\n        \"min\": 1,\n        \"max\": 2752,\n        \"num_unique_values\": 2603,\n        \"samples\": [\n          797,\n          980,\n          1908\n        ],\n        \"semantic_type\": \"\",\n        \"description\": \"\"\n      }\n    },\n    {\n      \"column\": \"scanner\",\n      \"properties\": {\n        \"dtype\": \"category\",\n        \"num_unique_values\": 69,\n        \"samples\": [\n          \"H132\",\n          \"K219\",\n          \"K173\"\n        ],\n        \"semantic_type\": \"\",\n        \"description\": \"\"\n      }\n    },\n    {\n      \"column\": \"min\",\n      \"properties\": {\n        \"dtype\": \"number\",\n        \"std\": 882,\n        \"min\": -1,\n        \"max\": 45275,\n        \"num_unique_values\": 723,\n        \"samples\": [\n          35483,\n          34406,\n          35458\n        ],\n        \"semantic_type\": \"\",\n        \"description\": \"\"\n      }\n    },\n    {\n      \"column\": \"max\",\n      \"properties\": {\n        \"dtype\": \"number\",\n        \"std\": 554,\n        \"min\": 35761,\n        \"max\": 47057,\n        \"num_unique_values\": 733,\n        \"samples\": [\n          36329,\n          36473,\n          36354\n        ],\n        \"semantic_type\": \"\",\n        \"description\": \"\"\n      }\n    },\n    {\n      \"column\": \"err\",\n      \"properties\": {\n        \"dtype\": \"number\",\n        \"std\": 4.406524695147797,\n        \"min\": 1.03,\n        \"max\": 200.01,\n        \"num_unique_values\": 442,\n        \"samples\": [\n          6.07,\n          3.37,\n          1.33\n        ],\n        \"semantic_type\": \"\",\n        \"description\": \"\"\n      }\n    },\n    {\n      \"column\": \"pixels\",\n      \"properties\": {\n        \"dtype\": \"number\",\n        \"std\": 32,\n        \"min\": -1,\n        \"max\": 175,\n        \"num_unique_values\": 143,\n        \"samples\": [\n          79,\n          59,\n          155\n        ],\n        \"semantic_type\": \"\",\n        \"description\": \"\"\n      }\n    },\n    {\n      \"column\": \"minf\",\n      \"properties\": {\n        \"dtype\": \"number\",\n        \"std\": 800,\n        \"min\": -1,\n        \"max\": 45717,\n        \"num_unique_values\": 146,\n        \"samples\": [\n          35717,\n          35543,\n          35517\n        ],\n        \"semantic_type\": \"\",\n        \"description\": \"\"\n      }\n    },\n    {\n      \"column\": \"maxf\",\n      \"properties\": {\n        \"dtype\": \"number\",\n        \"std\": 413,\n        \"min\": 35527,\n        \"max\": 46344,\n        \"num_unique_values\": 164,\n        \"samples\": [\n          35791,\n          35788,\n          35755\n        ],\n        \"semantic_type\": \"\",\n        \"description\": \"\"\n      }\n    },\n    {\n      \"column\": \"errf\",\n      \"properties\": {\n        \"dtype\": \"number\",\n        \"std\": 3.9195133407782223,\n        \"min\": 0.0,\n        \"max\": 200.01,\n        \"num_unique_values\": 34,\n        \"samples\": [\n          0.22,\n          0.15,\n          0.27\n        ],\n        \"semantic_type\": \"\",\n        \"description\": \"\"\n      }\n    },\n    {\n      \"column\": \"duration\",\n      \"properties\": {\n        \"dtype\": \"number\",\n        \"std\": 58.51871901917455,\n        \"min\": 0.0,\n        \"max\": 530.0,\n        \"num_unique_values\": 40,\n        \"samples\": [\n          4.0,\n          65.0,\n          3.0\n        ],\n        \"semantic_type\": \"\",\n        \"description\": \"\"\n      }\n    }\n  ]\n}"
            }
          },
          "metadata": {},
          "execution_count": 118
        }
      ]
    },
    {
      "cell_type": "code",
      "source": [
        "df.isnull().sum()"
      ],
      "metadata": {
        "colab": {
          "base_uri": "https://localhost:8080/"
        },
        "id": "4luJq9dnPiNE",
        "outputId": "f5828ba2-94fa-4cda-ee62-21135825f7c2"
      },
      "execution_count": null,
      "outputs": [
        {
          "output_type": "execute_result",
          "data": {
            "text/plain": [
              "id            0\n",
              "scanner       0\n",
              "min           0\n",
              "max           0\n",
              "err           0\n",
              "pixels        0\n",
              "minf          0\n",
              "maxf          0\n",
              "errf          0\n",
              "duration    793\n",
              "dtype: int64"
            ]
          },
          "metadata": {},
          "execution_count": 119
        }
      ]
    },
    {
      "cell_type": "code",
      "source": [],
      "metadata": {
        "id": "fnmlCx3aQXq1"
      },
      "execution_count": null,
      "outputs": []
    },
    {
      "cell_type": "code",
      "source": [
        "from sklearn.compose import ColumnTransformer\n",
        "from sklearn.impute import SimpleImputer\n",
        "\n",
        "# Define which columns are numeric\n",
        "numeric_features = df.select_dtypes(include=['number']).columns\n",
        "\n",
        "# Create mean imputer for numeric columns, but keep existing numeric values unchanged\n",
        "numeric_imputer = ColumnTransformer(\n",
        "    transformers=[('numeric', SimpleImputer(strategy='mean'), numeric_features)],\n",
        "    remainder='passthrough'\n",
        ")\n",
        "\n",
        "\n",
        "# Apply imputation strategies to the respective columns\n",
        "df_filled = df.copy()\n",
        "df_filled[numeric_features] = numeric_imputer.fit_transform(df[numeric_features])\n",
        "\n",
        "print(df_filled)"
      ],
      "metadata": {
        "colab": {
          "base_uri": "https://localhost:8080/"
        },
        "id": "ZAC1CL3zQyej",
        "outputId": "14c28858-562c-4d9b-9ca6-d2f65de67b13"
      },
      "execution_count": null,
      "outputs": [
        {
          "output_type": "stream",
          "name": "stdout",
          "text": [
            "          id scanner      min      max   err  pixels     minf     maxf  errf  \\\n",
            "0       12.0    K219  35435.0  35933.0  1.40     6.0  35681.0  35688.0  0.02   \n",
            "1       30.0    H161  35155.0  36382.0  3.43    14.0  35731.0  35761.0  0.08   \n",
            "2       47.0    K211  35305.0  36042.0  2.07    43.0  35692.0  35739.0  0.13   \n",
            "3       48.0    K212  35216.0  36225.0  2.82    61.0  35686.0  35726.0  0.11   \n",
            "4       49.0    K220  35196.0  36259.0  2.98    11.0  35709.0  35724.0  0.04   \n",
            "...      ...     ...      ...      ...   ...     ...      ...      ...   ...   \n",
            "2745  2745.0    K168  35185.0  35958.0  2.17    48.0  35541.0  35565.0  0.07   \n",
            "2746  2747.0    K114  35220.0  36071.0  2.39    17.0  35715.0  35735.0  0.06   \n",
            "2747  2748.0    K171  35109.0  35912.0  2.26    50.0  35504.0  35531.0  0.08   \n",
            "2750  2751.0    K220  35181.0  36229.0  2.94     9.0  35702.0  35715.0  0.04   \n",
            "2751  2752.0    K221  35288.0  36266.0  2.73     3.0  35734.0  35737.0  0.01   \n",
            "\n",
            "      duration  \n",
            "0         12.0  \n",
            "1         11.0  \n",
            "2          1.0  \n",
            "3          1.0  \n",
            "4          1.0  \n",
            "...        ...  \n",
            "2745       1.0  \n",
            "2746       1.0  \n",
            "2747       1.0  \n",
            "2750       1.0  \n",
            "2751       1.0  \n",
            "\n",
            "[2603 rows x 10 columns]\n"
          ]
        }
      ]
    },
    {
      "cell_type": "code",
      "source": [
        "df_filled.isnull().sum()"
      ],
      "metadata": {
        "colab": {
          "base_uri": "https://localhost:8080/"
        },
        "id": "dCJ9OHihRKCI",
        "outputId": "4b9cc791-6c4c-43a3-a987-c384120e795f"
      },
      "execution_count": null,
      "outputs": [
        {
          "output_type": "execute_result",
          "data": {
            "text/plain": [
              "id          0\n",
              "scanner     0\n",
              "min         0\n",
              "max         0\n",
              "err         0\n",
              "pixels      0\n",
              "minf        0\n",
              "maxf        0\n",
              "errf        0\n",
              "duration    0\n",
              "dtype: int64"
            ]
          },
          "metadata": {},
          "execution_count": 121
        }
      ]
    },
    {
      "cell_type": "code",
      "source": [
        "df = df_filled"
      ],
      "metadata": {
        "id": "tS9_KsuARWBs"
      },
      "execution_count": null,
      "outputs": []
    },
    {
      "cell_type": "code",
      "source": [
        "from numpy import absolute\n",
        "df['MaxMinDiff'] = absolute(df['max']-df['min'])\n",
        "\n",
        "df['MaxfMinfDiff'] = absolute(df['maxf']-df['minf'])"
      ],
      "metadata": {
        "id": "1-f-_OJIdSPW"
      },
      "execution_count": null,
      "outputs": []
    },
    {
      "cell_type": "code",
      "source": [
        "plt.figure(figsize=(10,8))\n",
        "\n",
        "plt.title('err vs MaxMinDiff')\n",
        "sns.scatterplot(x=df['err'],y=df['MaxMinDiff'],hue=df['scanner'],legend= False)\n",
        "plt.xlabel('err')\n",
        "plt.ylabel('MaxMinDiff')\n",
        "\n",
        "plt.show()\n",
        "plt.tight_layout()"
      ],
      "metadata": {
        "colab": {
          "base_uri": "https://localhost:8080/",
          "height": 729
        },
        "id": "hDDai9ZtdYn2",
        "outputId": "d78a0aca-0250-40d2-f818-9581a226d6be"
      },
      "execution_count": null,
      "outputs": [
        {
          "output_type": "display_data",
          "data": {
            "text/plain": [
              "<Figure size 1000x800 with 1 Axes>"
            ],
            "image/png": "[encoded data removed]"
          },
          "metadata": {}
        },
        {
          "output_type": "display_data",
          "data": {
            "text/plain": [
              "<Figure size 640x480 with 0 Axes>"
            ]
          },
          "metadata": {}
        }
      ]
    },
    {
      "cell_type": "code",
      "source": [
        "plt.figure(figsize=(10,8))\n",
        "\n",
        "plt.title('errf vs MaxfMinfDiff')\n",
        "sns.scatterplot(x=df['errf'],y=df['MaxfMinfDiff'],hue=df['scanner'],legend= False)\n",
        "plt.xlabel('errf')\n",
        "plt.ylabel('MaxfMinfDiff')\n",
        "\n",
        "plt.show()\n",
        "plt.tight_layout()"
      ],
      "metadata": {
        "colab": {
          "base_uri": "https://localhost:8080/",
          "height": 729
        },
        "id": "pbDMSXvkdbHN",
        "outputId": "2c478620-1af5-4466-d698-c171f69baa60"
      },
      "execution_count": null,
      "outputs": [
        {
          "output_type": "display_data",
          "data": {
            "text/plain": [
              "<Figure size 1000x800 with 1 Axes>"
            ],
            "image/png": "[encoded data removed]"
          },
          "metadata": {}
        },
        {
          "output_type": "display_data",
          "data": {
            "text/plain": [
              "<Figure size 640x480 with 0 Axes>"
            ]
          },
          "metadata": {}
        }
      ]
    },
    {
      "cell_type": "markdown",
      "source": [
        "*Err and Errf values are dependent on Max min difference of their respective parameters*\n",
        "> MaxMinDiff value threshold is approximately 4500 beyond which the Err value goes beyond 12% which is failure of the device\n",
        "\n",
        ">MaxfMinfDiff value threshold is approximately 150 beyond which the Err value goes beyond 0.5% which is failure of the device"
      ],
      "metadata": {
        "id": "dqWC_H-cdh66"
      }
    },
    {
      "cell_type": "code",
      "source": [
        "# Add Failure column which is our output lable\n",
        "\n",
        "df['Failure'] = np.where((df['err'] >= 12.0) | (df['errf'] >=0.5),2, 1)\n",
        "df['Failure'].unique()"
      ],
      "metadata": {
        "colab": {
          "base_uri": "https://localhost:8080/"
        },
        "id": "B_pJ0AUkdd8t",
        "outputId": "4b75aace-b8a2-470a-eaf7-528ba0d1d21d"
      },
      "execution_count": null,
      "outputs": [
        {
          "output_type": "execute_result",
          "data": {
            "text/plain": [
              "array([1, 2])"
            ]
          },
          "metadata": {},
          "execution_count": 126
        }
      ]
    },
    {
      "cell_type": "code",
      "source": [
        "df['Failure'].value_counts()"
      ],
      "metadata": {
        "colab": {
          "base_uri": "https://localhost:8080/"
        },
        "id": "Q-7xdx0IdtTO",
        "outputId": "3c5393f3-e4de-40fa-8c22-d34173c66ad5"
      },
      "execution_count": null,
      "outputs": [
        {
          "output_type": "execute_result",
          "data": {
            "text/plain": [
              "Failure\n",
              "1    2591\n",
              "2      12\n",
              "Name: count, dtype: int64"
            ]
          },
          "metadata": {},
          "execution_count": 127
        }
      ]
    },
    {
      "cell_type": "markdown",
      "source": [
        "In the dataset, we have only 12 rows which has failure scanner data value available"
      ],
      "metadata": {
        "id": "9cn_gJuzeGQF"
      }
    },
    {
      "cell_type": "code",
      "source": [
        "df.columns"
      ],
      "metadata": {
        "colab": {
          "base_uri": "https://localhost:8080/"
        },
        "id": "i9J6_WKeeEc0",
        "outputId": "d19118ac-13a8-41e2-ccea-7c1e217a4172"
      },
      "execution_count": null,
      "outputs": [
        {
          "output_type": "execute_result",
          "data": {
            "text/plain": [
              "Index(['id', 'scanner', 'min', 'max', 'err', 'pixels', 'minf', 'maxf', 'errf',\n",
              "       'duration', 'MaxMinDiff', 'MaxfMinfDiff', 'Failure'],\n",
              "      dtype='object')"
            ]
          },
          "metadata": {},
          "execution_count": 128
        }
      ]
    },
    {
      "cell_type": "code",
      "source": [
        "df_copy = df.drop('scanner',axis =1)"
      ],
      "metadata": {
        "id": "S9rmrJyXeIZV"
      },
      "execution_count": null,
      "outputs": []
    },
    {
      "cell_type": "code",
      "source": [
        "plt.figure(figsize=(20,16))\n",
        "\n",
        "plt.title('pixels vs Failure')\n",
        "sns.scatterplot(x=df_copy['pixels'],y=df_copy['Failure'],hue=df['scanner'], legend = False)\n",
        "plt.xlabel('pixels')\n",
        "plt.ylabel('Failure')\n",
        "\n",
        "plt.show()\n",
        "plt.tight_layout()"
      ],
      "metadata": {
        "colab": {
          "base_uri": "https://localhost:8080/",
          "height": 938
        },
        "id": "JXn_V2QaggBX",
        "outputId": "8dc2c69c-2eee-449c-a720-d9ac2bf732e4"
      },
      "execution_count": null,
      "outputs": [
        {
          "output_type": "display_data",
          "data": {
            "text/plain": [
              "<Figure size 2000x1600 with 1 Axes>"
            ],
            "image/png": "[encoded data removed]"
          },
          "metadata": {}
        },
        {
          "output_type": "display_data",
          "data": {
            "text/plain": [
              "<Figure size 640x480 with 0 Axes>"
            ]
          },
          "metadata": {}
        }
      ]
    },
    {
      "cell_type": "markdown",
      "source": [
        "Note : Pixel values are not having influence on the failure\n"
      ],
      "metadata": {
        "id": "ZHZcLZXHLH2c"
      }
    },
    {
      "cell_type": "code",
      "source": [
        "# Creating a new dataframe with categorical variables\n",
        "\n",
        "\n",
        "f, axes = plt.subplots(1, 1, figsize=(50, 35), facecolor='white')\n",
        "f.suptitle('FREQUENCY OF CATEGORICAL FEATURES (BY TARGET)')\n",
        "sns.countplot(x=\"scanner\", hue=\"Failure\", data=df, palette=\"Blues\")"
      ],
      "metadata": {
        "colab": {
          "base_uri": "https://localhost:8080/",
          "height": 912
        },
        "id": "DGoOnI23LE9_",
        "outputId": "4194277e-477a-4665-d0a9-f27a5536744b"
      },
      "execution_count": null,
      "outputs": [
        {
          "output_type": "execute_result",
          "data": {
            "text/plain": [
              "<Axes: xlabel='scanner', ylabel='count'>"
            ]
          },
          "metadata": {},
          "execution_count": 131
        },
        {
          "output_type": "display_data",
          "data": {
            "text/plain": [
              "<Figure size 5000x3500 with 1 Axes>"
            ],
            "image/png": "[encoded data removed]"
          },
          "metadata": {}
        }
      ]
    },
    {
      "cell_type": "markdown",
      "source": [
        "Note: The dataset is not having all the failure cases of the scanner or only few of the scanner fails\n"
      ],
      "metadata": {
        "id": "aJrmeDtoLM6m"
      }
    },
    {
      "cell_type": "code",
      "source": [
        "df_copy1 = pd.concat([df,pd.get_dummies(df['scanner'], prefix='scanner',dummy_na=False)],axis=1).drop(['scanner'],axis=1)"
      ],
      "metadata": {
        "id": "425t1pDFLKZP"
      },
      "execution_count": null,
      "outputs": []
    },
    {
      "cell_type": "code",
      "source": [
        "df_copy1.head()\n"
      ],
      "metadata": {
        "colab": {
          "base_uri": "https://localhost:8080/",
          "height": 255
        },
        "id": "uScQ_St9LPsv",
        "outputId": "96cc30ae-00dc-4143-d22a-3a0d4e3e0aba"
      },
      "execution_count": null,
      "outputs": [
        {
          "output_type": "execute_result",
          "data": {
            "text/plain": [
              "     id      min      max   err  pixels     minf     maxf  errf  duration  \\\n",
              "0  12.0  35435.0  35933.0  1.40     6.0  35681.0  35688.0  0.02      12.0   \n",
              "1  30.0  35155.0  36382.0  3.43    14.0  35731.0  35761.0  0.08      11.0   \n",
              "2  47.0  35305.0  36042.0  2.07    43.0  35692.0  35739.0  0.13       1.0   \n",
              "3  48.0  35216.0  36225.0  2.82    61.0  35686.0  35726.0  0.11       1.0   \n",
              "4  49.0  35196.0  36259.0  2.98    11.0  35709.0  35724.0  0.04       1.0   \n",
              "\n",
              "   MaxMinDiff  ...  scanner_K211  scanner_K212  scanner_K218  scanner_K219  \\\n",
              "0       498.0  ...         False         False         False          True   \n",
              "1      1227.0  ...         False         False         False         False   \n",
              "2       737.0  ...          True         False         False         False   \n",
              "3      1009.0  ...         False          True         False         False   \n",
              "4      1063.0  ...         False         False         False         False   \n",
              "\n",
              "   scanner_K220  scanner_K221  scanner_K237  scanner_K238  scanner_K239  \\\n",
              "0         False         False         False         False         False   \n",
              "1         False         False         False         False         False   \n",
              "2         False         False         False         False         False   \n",
              "3         False         False         False         False         False   \n",
              "4          True         False         False         False         False   \n",
              "\n",
              "   scanner_K250  \n",
              "0         False  \n",
              "1         False  \n",
              "2         False  \n",
              "3         False  \n",
              "4         False  \n",
              "\n",
              "[5 rows x 81 columns]"
            ],
            "text/html": [
              "\n",
              "  <div id=\"df-be0426c6-3ea0-4da7-b2b5-97dde07c91c7\" class=\"colab-df-container\">\n",
              "    <div>\n",
              "<style scoped>\n",
              "    .dataframe tbody tr th:only-of-type {\n",
              "        vertical-align: middle;\n",
              "    }\n",
              "\n",
              "    .dataframe tbody tr th {\n",
              "        vertical-align: top;\n",
              "    }\n",
              "\n",
              "    .dataframe thead th {\n",
              "        text-align: right;\n",
              "    }\n",
              "</style>\n",
              "<table border=\"1\" class=\"dataframe\">\n",
              "  <thead>\n",
              "    <tr style=\"text-align: right;\">\n",
              "      <th></th>\n",
              "      <th>id</th>\n",
              "      <th>min</th>\n",
              "      <th>max</th>\n",
              "      <th>err</th>\n",
              "      <th>pixels</th>\n",
              "      <th>minf</th>\n",
              "      <th>maxf</th>\n",
              "      <th>errf</th>\n",
              "      <th>duration</th>\n",
              "      <th>MaxMinDiff</th>\n",
              "      <th>...</th>\n",
              "      <th>scanner_K211</th>\n",
              "      <th>scanner_K212</th>\n",
              "      <th>scanner_K218</th>\n",
              "      <th>scanner_K219</th>\n",
              "      <th>scanner_K220</th>\n",
              "      <th>scanner_K221</th>\n",
              "      <th>scanner_K237</th>\n",
              "      <th>scanner_K238</th>\n",
              "      <th>scanner_K239</th>\n",
              "      <th>scanner_K250</th>\n",
              "    </tr>\n",
              "  </thead>\n",
              "  <tbody>\n",
              "    <tr>\n",
              "      <th>0</th>\n",
              "      <td>12.0</td>\n",
              "      <td>35435.0</td>\n",
              "      <td>35933.0</td>\n",
              "      <td>1.40</td>\n",
              "      <td>6.0</td>\n",
              "      <td>35681.0</td>\n",
              "      <td>35688.0</td>\n",
              "      <td>0.02</td>\n",
              "      <td>12.0</td>\n",
              "      <td>498.0</td>\n",
              "      <td>...</td>\n",
              "      <td>False</td>\n",
              "      <td>False</td>\n",
              "      <td>False</td>\n",
              "      <td>True</td>\n",
              "      <td>False</td>\n",
              "      <td>False</td>\n",
              "      <td>False</td>\n",
              "      <td>False</td>\n",
              "      <td>False</td>\n",
              "      <td>False</td>\n",
              "    </tr>\n",
              "    <tr>\n",
              "      <th>1</th>\n",
              "      <td>30.0</td>\n",
              "      <td>35155.0</td>\n",
              "      <td>36382.0</td>\n",
              "      <td>3.43</td>\n",
              "      <td>14.0</td>\n",
              "      <td>35731.0</td>\n",
              "      <td>35761.0</td>\n",
              "      <td>0.08</td>\n",
              "      <td>11.0</td>\n",
              "      <td>1227.0</td>\n",
              "      <td>...</td>\n",
              "      <td>False</td>\n",
              "      <td>False</td>\n",
              "      <td>False</td>\n",
              "      <td>False</td>\n",
              "      <td>False</td>\n",
              "      <td>False</td>\n",
              "      <td>False</td>\n",
              "      <td>False</td>\n",
              "      <td>False</td>\n",
              "      <td>False</td>\n",
              "    </tr>\n",
              "    <tr>\n",
              "      <th>2</th>\n",
              "      <td>47.0</td>\n",
              "      <td>35305.0</td>\n",
              "      <td>36042.0</td>\n",
              "      <td>2.07</td>\n",
              "      <td>43.0</td>\n",
              "      <td>35692.0</td>\n",
              "      <td>35739.0</td>\n",
              "      <td>0.13</td>\n",
              "      <td>1.0</td>\n",
              "      <td>737.0</td>\n",
              "      <td>...</td>\n",
              "      <td>True</td>\n",
              "      <td>False</td>\n",
              "      <td>False</td>\n",
              "      <td>False</td>\n",
              "      <td>False</td>\n",
              "      <td>False</td>\n",
              "      <td>False</td>\n",
              "      <td>False</td>\n",
              "      <td>False</td>\n",
              "      <td>False</td>\n",
              "    </tr>\n",
              "    <tr>\n",
              "      <th>3</th>\n",
              "      <td>48.0</td>\n",
              "      <td>35216.0</td>\n",
              "      <td>36225.0</td>\n",
              "      <td>2.82</td>\n",
              "      <td>61.0</td>\n",
              "      <td>35686.0</td>\n",
              "      <td>35726.0</td>\n",
              "      <td>0.11</td>\n",
              "      <td>1.0</td>\n",
              "      <td>1009.0</td>\n",
              "      <td>...</td>\n",
              "      <td>False</td>\n",
              "      <td>True</td>\n",
              "      <td>False</td>\n",
              "      <td>False</td>\n",
              "      <td>False</td>\n",
              "      <td>False</td>\n",
              "      <td>False</td>\n",
              "      <td>False</td>\n",
              "      <td>False</td>\n",
              "      <td>False</td>\n",
              "    </tr>\n",
              "    <tr>\n",
              "      <th>4</th>\n",
              "      <td>49.0</td>\n",
              "      <td>35196.0</td>\n",
              "      <td>36259.0</td>\n",
              "      <td>2.98</td>\n",
              "      <td>11.0</td>\n",
              "      <td>35709.0</td>\n",
              "      <td>35724.0</td>\n",
              "      <td>0.04</td>\n",
              "      <td>1.0</td>\n",
              "      <td>1063.0</td>\n",
              "      <td>...</td>\n",
              "      <td>False</td>\n",
              "      <td>False</td>\n",
              "      <td>False</td>\n",
              "      <td>False</td>\n",
              "      <td>True</td>\n",
              "      <td>False</td>\n",
              "      <td>False</td>\n",
              "      <td>False</td>\n",
              "      <td>False</td>\n",
              "      <td>False</td>\n",
              "    </tr>\n",
              "  </tbody>\n",
              "</table>\n",
              "<p>5 rows × 81 columns</p>\n",
              "</div>\n",
              "    <div class=\"colab-df-buttons\">\n",
              "\n",
              "  <div class=\"colab-df-container\">\n",
              "    <button class=\"colab-df-convert\" onclick=\"convertToInteractive('df-be0426c6-3ea0-4da7-b2b5-97dde07c91c7')\"\n",
              "            title=\"Convert this dataframe to an interactive table.\"\n",
              "            style=\"display:none;\">\n",
              "\n",
              "  <svg xmlns=\"http://www.w3.org/2000/svg\" height=\"24px\" viewBox=\"0 -960 960 960\">\n",
              "    <path d=\"M120-120v-720h720v720H120Zm60-500h600v-160H180v160Zm220 220h160v-160H400v160Zm0 220h160v-160H400v160ZM180-400h160v-160H180v160Zm440 0h160v-160H620v160ZM180-180h160v-160H180v160Zm440 0h160v-160H620v160Z\"/>\n",
              "  </svg>\n",
              "    </button>\n",
              "\n",
              "  <style>\n",
              "    .colab-df-container {\n",
              "      display:flex;\n",
              "      gap: 12px;\n",
              "    }\n",
              "\n",
              "    .colab-df-convert {\n",
              "      background-color: #E8F0FE;\n",
              "      border: none;\n",
              "      border-radius: 50%;\n",
              "      cursor: pointer;\n",
              "      display: none;\n",
              "      fill: #1967D2;\n",
              "      height: 32px;\n",
              "      padding: 0 0 0 0;\n",
              "      width: 32px;\n",
              "    }\n",
              "\n",
              "    .colab-df-convert:hover {\n",
              "      background-color: #E2EBFA;\n",
              "      box-shadow: 0px 1px 2px rgba(60, 64, 67, 0.3), 0px 1px 3px 1px rgba(60, 64, 67, 0.15);\n",
              "      fill: #174EA6;\n",
              "    }\n",
              "\n",
              "    .colab-df-buttons div {\n",
              "      margin-bottom: 4px;\n",
              "    }\n",
              "\n",
              "    [theme=dark] .colab-df-convert {\n",
              "      background-color: #3B4455;\n",
              "      fill: #D2E3FC;\n",
              "    }\n",
              "\n",
              "    [theme=dark] .colab-df-convert:hover {\n",
              "      background-color: #434B5C;\n",
              "      box-shadow: 0px 1px 3px 1px rgba(0, 0, 0, 0.15);\n",
              "      filter: drop-shadow(0px 1px 2px rgba(0, 0, 0, 0.3));\n",
              "      fill: #FFFFFF;\n",
              "    }\n",
              "  </style>\n",
              "\n",
              "    <script>\n",
              "      const buttonEl =\n",
              "        document.querySelector('#df-be0426c6-3ea0-4da7-b2b5-97dde07c91c7 button.colab-df-convert');\n",
              "      buttonEl.style.display =\n",
              "        google.colab.kernel.accessAllowed ? 'block' : 'none';\n",
              "\n",
              "      async function convertToInteractive(key) {\n",
              "        const element = document.querySelector('#df-be0426c6-3ea0-4da7-b2b5-97dde07c91c7');\n",
              "        const dataTable =\n",
              "          await google.colab.kernel.invokeFunction('convertToInteractive',\n",
              "                                                    [key], {});\n",
              "        if (!dataTable) return;\n",
              "\n",
              "        const docLinkHtml = 'Like what you see? Visit the ' +\n",
              "          '<a target=\"_blank\" href=https://colab.research.google.com/notebooks/data_table.ipynb>data table notebook</a>'\n",
              "          + ' to learn more about interactive tables.';\n",
              "        element.innerHTML = '';\n",
              "        dataTable['output_type'] = 'display_data';\n",
              "        await google.colab.output.renderOutput(dataTable, element);\n",
              "        const docLink = document.createElement('div');\n",
              "        docLink.innerHTML = docLinkHtml;\n",
              "        element.appendChild(docLink);\n",
              "      }\n",
              "    </script>\n",
              "  </div>\n",
              "\n",
              "\n",
              "<div id=\"df-6e1a931c-fa3a-4f30-8b62-1a31fa190efe\">\n",
              "  <button class=\"colab-df-quickchart\" onclick=\"quickchart('df-6e1a931c-fa3a-4f30-8b62-1a31fa190efe')\"\n",
              "            title=\"Suggest charts\"\n",
              "            style=\"display:none;\">\n",
              "\n",
              "<svg xmlns=\"http://www.w3.org/2000/svg\" height=\"24px\"viewBox=\"0 0 24 24\"\n",
              "     width=\"24px\">\n",
              "    <g>\n",
              "        <path d=\"M19 3H5c-1.1 0-2 .9-2 2v14c0 1.1.9 2 2 2h14c1.1 0 2-.9 2-2V5c0-1.1-.9-2-2-2zM9 17H7v-7h2v7zm4 0h-2V7h2v10zm4 0h-2v-4h2v4z\"/>\n",
              "    </g>\n",
              "</svg>\n",
              "  </button>\n",
              "\n",
              "<style>\n",
              "  .colab-df-quickchart {\n",
              "      --bg-color: #E8F0FE;\n",
              "      --fill-color: #1967D2;\n",
              "      --hover-bg-color: #E2EBFA;\n",
              "      --hover-fill-color: #174EA6;\n",
              "      --disabled-fill-color: #AAA;\n",
              "      --disabled-bg-color: #DDD;\n",
              "  }\n",
              "\n",
              "  [theme=dark] .colab-df-quickchart {\n",
              "      --bg-color: #3B4455;\n",
              "      --fill-color: #D2E3FC;\n",
              "      --hover-bg-color: #434B5C;\n",
              "      --hover-fill-color: #FFFFFF;\n",
              "      --disabled-bg-color: #3B4455;\n",
              "      --disabled-fill-color: #666;\n",
              "  }\n",
              "\n",
              "  .colab-df-quickchart {\n",
              "    background-color: var(--bg-color);\n",
              "    border: none;\n",
              "    border-radius: 50%;\n",
              "    cursor: pointer;\n",
              "    display: none;\n",
              "    fill: var(--fill-color);\n",
              "    height: 32px;\n",
              "    padding: 0;\n",
              "    width: 32px;\n",
              "  }\n",
              "\n",
              "  .colab-df-quickchart:hover {\n",
              "    background-color: var(--hover-bg-color);\n",
              "    box-shadow: 0 1px 2px rgba(60, 64, 67, 0.3), 0 1px 3px 1px rgba(60, 64, 67, 0.15);\n",
              "    fill: var(--button-hover-fill-color);\n",
              "  }\n",
              "\n",
              "  .colab-df-quickchart-complete:disabled,\n",
              "  .colab-df-quickchart-complete:disabled:hover {\n",
              "    background-color: var(--disabled-bg-color);\n",
              "    fill: var(--disabled-fill-color);\n",
              "    box-shadow: none;\n",
              "  }\n",
              "\n",
              "  .colab-df-spinner {\n",
              "    border: 2px solid var(--fill-color);\n",
              "    border-color: transparent;\n",
              "    border-bottom-color: var(--fill-color);\n",
              "    animation:\n",
              "      spin 1s steps(1) infinite;\n",
              "  }\n",
              "\n",
              "  @keyframes spin {\n",
              "    0% {\n",
              "      border-color: transparent;\n",
              "      border-bottom-color: var(--fill-color);\n",
              "      border-left-color: var(--fill-color);\n",
              "    }\n",
              "    20% {\n",
              "      border-color: transparent;\n",
              "      border-left-color: var(--fill-color);\n",
              "      border-top-color: var(--fill-color);\n",
              "    }\n",
              "    30% {\n",
              "      border-color: transparent;\n",
              "      border-left-color: var(--fill-color);\n",
              "      border-top-color: var(--fill-color);\n",
              "      border-right-color: var(--fill-color);\n",
              "    }\n",
              "    40% {\n",
              "      border-color: transparent;\n",
              "      border-right-color: var(--fill-color);\n",
              "      border-top-color: var(--fill-color);\n",
              "    }\n",
              "    60% {\n",
              "      border-color: transparent;\n",
              "      border-right-color: var(--fill-color);\n",
              "    }\n",
              "    80% {\n",
              "      border-color: transparent;\n",
              "      border-right-color: var(--fill-color);\n",
              "      border-bottom-color: var(--fill-color);\n",
              "    }\n",
              "    90% {\n",
              "      border-color: transparent;\n",
              "      border-bottom-color: var(--fill-color);\n",
              "    }\n",
              "  }\n",
              "</style>\n",
              "\n",
              "  <script>\n",
              "    async function quickchart(key) {\n",
              "      const quickchartButtonEl =\n",
              "        document.querySelector('#' + key + ' button');\n",
              "      quickchartButtonEl.disabled = true;  // To prevent multiple clicks.\n",
              "      quickchartButtonEl.classList.add('colab-df-spinner');\n",
              "      try {\n",
              "        const charts = await google.colab.kernel.invokeFunction(\n",
              "            'suggestCharts', [key], {});\n",
              "      } catch (error) {\n",
              "        console.error('Error during call to suggestCharts:', error);\n",
              "      }\n",
              "      quickchartButtonEl.classList.remove('colab-df-spinner');\n",
              "      quickchartButtonEl.classList.add('colab-df-quickchart-complete');\n",
              "    }\n",
              "    (() => {\n",
              "      let quickchartButtonEl =\n",
              "        document.querySelector('#df-6e1a931c-fa3a-4f30-8b62-1a31fa190efe button');\n",
              "      quickchartButtonEl.style.display =\n",
              "        google.colab.kernel.accessAllowed ? 'block' : 'none';\n",
              "    })();\n",
              "  </script>\n",
              "</div>\n",
              "\n",
              "    </div>\n",
              "  </div>\n"
            ],
            "application/vnd.google.colaboratory.intrinsic+json": {
              "type": "dataframe",
              "variable_name": "df_copy1"
            }
          },
          "metadata": {},
          "execution_count": 133
        }
      ]
    },
    {
      "cell_type": "code",
      "source": [
        "df_copy1.info()\n"
      ],
      "metadata": {
        "colab": {
          "base_uri": "https://localhost:8080/"
        },
        "id": "o-lWNGWULQuv",
        "outputId": "2fa01e36-1892-4c91-a00a-70ebb8113be2"
      },
      "execution_count": null,
      "outputs": [
        {
          "output_type": "stream",
          "name": "stdout",
          "text": [
            "<class 'pandas.core.frame.DataFrame'>\n",
            "Index: 2603 entries, 0 to 2751\n",
            "Data columns (total 81 columns):\n",
            " #   Column        Non-Null Count  Dtype  \n",
            "---  ------        --------------  -----  \n",
            " 0   id            2603 non-null   float64\n",
            " 1   min           2603 non-null   float64\n",
            " 2   max           2603 non-null   float64\n",
            " 3   err           2603 non-null   float64\n",
            " 4   pixels        2603 non-null   float64\n",
            " 5   minf          2603 non-null   float64\n",
            " 6   maxf          2603 non-null   float64\n",
            " 7   errf          2603 non-null   float64\n",
            " 8   duration      2603 non-null   float64\n",
            " 9   MaxMinDiff    2603 non-null   float64\n",
            " 10  MaxfMinfDiff  2603 non-null   float64\n",
            " 11  Failure       2603 non-null   int64  \n",
            " 12  scanner_H127  2603 non-null   bool   \n",
            " 13  scanner_H128  2603 non-null   bool   \n",
            " 14  scanner_H129  2603 non-null   bool   \n",
            " 15  scanner_H130  2603 non-null   bool   \n",
            " 16  scanner_H131  2603 non-null   bool   \n",
            " 17  scanner_H132  2603 non-null   bool   \n",
            " 18  scanner_H133  2603 non-null   bool   \n",
            " 19  scanner_H134  2603 non-null   bool   \n",
            " 20  scanner_H135  2603 non-null   bool   \n",
            " 21  scanner_H138  2603 non-null   bool   \n",
            " 22  scanner_H139  2603 non-null   bool   \n",
            " 23  scanner_H142  2603 non-null   bool   \n",
            " 24  scanner_H143  2603 non-null   bool   \n",
            " 25  scanner_H147  2603 non-null   bool   \n",
            " 26  scanner_H148  2603 non-null   bool   \n",
            " 27  scanner_H149  2603 non-null   bool   \n",
            " 28  scanner_H150  2603 non-null   bool   \n",
            " 29  scanner_H151  2603 non-null   bool   \n",
            " 30  scanner_H152  2603 non-null   bool   \n",
            " 31  scanner_H153  2603 non-null   bool   \n",
            " 32  scanner_H154  2603 non-null   bool   \n",
            " 33  scanner_H155  2603 non-null   bool   \n",
            " 34  scanner_H156  2603 non-null   bool   \n",
            " 35  scanner_H157  2603 non-null   bool   \n",
            " 36  scanner_H161  2603 non-null   bool   \n",
            " 37  scanner_H162  2603 non-null   bool   \n",
            " 38  scanner_H163  2603 non-null   bool   \n",
            " 39  scanner_H165  2603 non-null   bool   \n",
            " 40  scanner_H166  2603 non-null   bool   \n",
            " 41  scanner_H167  2603 non-null   bool   \n",
            " 42  scanner_H168  2603 non-null   bool   \n",
            " 43  scanner_H169  2603 non-null   bool   \n",
            " 44  scanner_H170  2603 non-null   bool   \n",
            " 45  scanner_H171  2603 non-null   bool   \n",
            " 46  scanner_H172  2603 non-null   bool   \n",
            " 47  scanner_H173  2603 non-null   bool   \n",
            " 48  scanner_H174  2603 non-null   bool   \n",
            " 49  scanner_H175  2603 non-null   bool   \n",
            " 50  scanner_H176  2603 non-null   bool   \n",
            " 51  scanner_H177  2603 non-null   bool   \n",
            " 52  scanner_K112  2603 non-null   bool   \n",
            " 53  scanner_K113  2603 non-null   bool   \n",
            " 54  scanner_K114  2603 non-null   bool   \n",
            " 55  scanner_K115  2603 non-null   bool   \n",
            " 56  scanner_K120  2603 non-null   bool   \n",
            " 57  scanner_K121  2603 non-null   bool   \n",
            " 58  scanner_K141  2603 non-null   bool   \n",
            " 59  scanner_K147  2603 non-null   bool   \n",
            " 60  scanner_K149  2603 non-null   bool   \n",
            " 61  scanner_K150  2603 non-null   bool   \n",
            " 62  scanner_K167  2603 non-null   bool   \n",
            " 63  scanner_K168  2603 non-null   bool   \n",
            " 64  scanner_K169  2603 non-null   bool   \n",
            " 65  scanner_K171  2603 non-null   bool   \n",
            " 66  scanner_K172  2603 non-null   bool   \n",
            " 67  scanner_K173  2603 non-null   bool   \n",
            " 68  scanner_K208  2603 non-null   bool   \n",
            " 69  scanner_K209  2603 non-null   bool   \n",
            " 70  scanner_K210  2603 non-null   bool   \n",
            " 71  scanner_K211  2603 non-null   bool   \n",
            " 72  scanner_K212  2603 non-null   bool   \n",
            " 73  scanner_K218  2603 non-null   bool   \n",
            " 74  scanner_K219  2603 non-null   bool   \n",
            " 75  scanner_K220  2603 non-null   bool   \n",
            " 76  scanner_K221  2603 non-null   bool   \n",
            " 77  scanner_K237  2603 non-null   bool   \n",
            " 78  scanner_K238  2603 non-null   bool   \n",
            " 79  scanner_K239  2603 non-null   bool   \n",
            " 80  scanner_K250  2603 non-null   bool   \n",
            "dtypes: bool(69), float64(11), int64(1)\n",
            "memory usage: 439.8 KB\n"
          ]
        }
      ]
    },
    {
      "cell_type": "code",
      "source": [
        "df_copy1['max'].describe()"
      ],
      "metadata": {
        "colab": {
          "base_uri": "https://localhost:8080/"
        },
        "id": "N44fhTiDLSBf",
        "outputId": "d99f805e-1a58-4594-b3d3-9fe4c3874a07"
      },
      "execution_count": null,
      "outputs": [
        {
          "output_type": "execute_result",
          "data": {
            "text/plain": [
              "count     2603.000000\n",
              "mean     36200.400307\n",
              "std        554.719813\n",
              "min      35761.000000\n",
              "25%      36007.500000\n",
              "50%      36119.000000\n",
              "75%      36264.000000\n",
              "max      47057.000000\n",
              "Name: max, dtype: float64"
            ]
          },
          "metadata": {},
          "execution_count": 135
        }
      ]
    },
    {
      "cell_type": "code",
      "source": [
        "f, axes = plt.subplots(2,2, figsize=(20, 15), facecolor='white')\n",
        "f.suptitle('FREQUENCY OF CATEGORICAL FEATURES (BY TARGET)')\n",
        "sns.scatterplot(x=df_copy1['Failure'],y=df_copy1['max'],palette =\"Set1\",ax=axes[0,0])\n",
        "sns.scatterplot(x=df_copy1['Failure'],y=df_copy1['min'],palette =\"Set1\", ax=axes[0,1])\n",
        "sns.scatterplot(x=df_copy1['Failure'],y=df_copy1['duration'],palette =\"Set1\", ax=axes[1,0])"
      ],
      "metadata": {
        "colab": {
          "base_uri": "https://localhost:8080/",
          "height": 1000
        },
        "id": "6lgJs9mbLUP_",
        "outputId": "f9ec89ed-e179-4497-de4b-8321bebcef69"
      },
      "execution_count": null,
      "outputs": [
        {
          "output_type": "stream",
          "name": "stderr",
          "text": [
            "<ipython-input-136-3bd91b5eec6e>:3: UserWarning:\n",
            "\n",
            "Ignoring `palette` because no `hue` variable has been assigned.\n",
            "\n",
            "<ipython-input-136-3bd91b5eec6e>:4: UserWarning:\n",
            "\n",
            "Ignoring `palette` because no `hue` variable has been assigned.\n",
            "\n",
            "<ipython-input-136-3bd91b5eec6e>:5: UserWarning:\n",
            "\n",
            "Ignoring `palette` because no `hue` variable has been assigned.\n",
            "\n"
          ]
        },
        {
          "output_type": "execute_result",
          "data": {
            "text/plain": [
              "<Axes: xlabel='Failure', ylabel='duration'>"
            ]
          },
          "metadata": {},
          "execution_count": 136
        },
        {
          "output_type": "display_data",
          "data": {
            "text/plain": [
              "<Figure size 2000x1500 with 4 Axes>"
            ],
            "image/png": "[encoded data removed]"
          },
          "metadata": {}
        }
      ]
    },
    {
      "cell_type": "code",
      "source": [
        "df_copy1.columns.size\n"
      ],
      "metadata": {
        "colab": {
          "base_uri": "https://localhost:8080/"
        },
        "id": "XDrxtrwQLXIP",
        "outputId": "ffc32af0-82d0-4673-9d3b-6dc7b39188f7"
      },
      "execution_count": null,
      "outputs": [
        {
          "output_type": "execute_result",
          "data": {
            "text/plain": [
              "81"
            ]
          },
          "metadata": {},
          "execution_count": 137
        }
      ]
    },
    {
      "cell_type": "code",
      "source": [
        "df_copy1['scanner_H150'].value_counts()\n"
      ],
      "metadata": {
        "colab": {
          "base_uri": "https://localhost:8080/"
        },
        "id": "c8xKEdspLZuP",
        "outputId": "6279566c-5def-4010-9d97-ab9c725db5ac"
      },
      "execution_count": null,
      "outputs": [
        {
          "output_type": "execute_result",
          "data": {
            "text/plain": [
              "scanner_H150\n",
              "False    2598\n",
              "True        5\n",
              "Name: count, dtype: int64"
            ]
          },
          "metadata": {},
          "execution_count": 138
        }
      ]
    },
    {
      "cell_type": "code",
      "source": [
        "import plotly.express as px\n",
        "\n",
        "fig = px.scatter_3d(df_copy1, x='MaxMinDiff', y='err', z='pixels',\n",
        "              color='scanner_K150')\n",
        "fig.show()"
      ],
      "metadata": {
        "colab": {
          "base_uri": "https://localhost:8080/",
          "height": 542
        },
        "id": "_aef9tKdLiuP",
        "outputId": "48e065b8-8e58-40f7-cf0d-4863eef949e1"
      },
      "execution_count": null,
      "outputs": [
        {
          "output_type": "display_data",
          "data": {
            "text/html": [
              "<html>\n",
              "<head><meta charset=\"utf-8\" /></head>\n",
              "<body>\n",
              "    <div>            <script src=\"https://cdnjs.cloudflare.com/ajax/libs/mathjax/2.7.5/MathJax.js?config=TeX-AMS-MML_SVG\"></script><script type=\"text/javascript\">if (window.MathJax && window.MathJax.Hub && window.MathJax.Hub.Config) {window.MathJax.Hub.Config({SVG: {font: \"STIX-Web\"}});}</script>                <script type=\"text/javascript\">window.PlotlyConfig = {MathJaxConfig: 'local'};</script>\n",
              "        <script charset=\"utf-8\" src=\"https://cdn.plot.ly/plotly-2.24.1.min.js\"></script>                <div id=\"f119264e-1173-4df4-ad91-8a6385b82443\" class=\"plotly-graph-div\" style=\"height:525px; width:100%;\"></div>            <script type=\"text/javascript\">                                    window.PLOTLYENV=window.PLOTLYENV || {};                                    if (document.getElementById(\"f119264e-1173-4df4-ad91-8a6385b82443\")) {                    Plotly.newPlot(                        \"f119264e-1173-4df4-ad91-8a6385b82443\",                        [{\"hovertemplate\":\"scanner_K150=False\\u003cbr\\u003eMaxMinDiff=%{x}\\u003cbr\\u003eerr=%{y}\\u003cbr\\u003epixels=%{z}\\u003cextra\\u003e\\u003c\\u002fextra\\u003e\",\"legendgroup\":\"False\",\"marker\":{\"color\":\"#636efa\",\"symbol\":\"circle\"},\"mode\":\"markers\",\"name\":\"False\",\"scene\":\"scene\",\"showlegend\":true,\"x\":[498.0,1227.0,737.0,1009.0,1063.0,663.0,1284.0,725.0,1052.0,658.0,617.0,542.0,3056.0,974.0,533.0,720.0,702.0,949.0,982.0,652.0,569.0,616.0,1648.0,672.0,1811.0,2071.0,684.0,1087.0,2528.0,584.0,620.0,934.0,718.0,1616.0,1180.0,978.0,1369.0,916.0,616.0,576.0,636.0,813.0,853.0,856.0,893.0,890.0,714.0,1649.0,826.0,816.0,816.0,914.0,1344.0,1340.0,1340.0,525.0,1357.0,556.0,714.0,1002.0,1000.0,1062.0,659.0,644.0,1276.0,916.0,673.0,668.0,615.0,615.0,614.0,669.0,1795.0,2480.0,685.0,1089.0,2530.0,582.0,667.0,683.0,814.0,811.0,856.0,905.0,897.0,669.0,658.0,546.0,3039.0,3037.0,969.0,968.0,545.0,739.0,739.0,541.0,521.0,476.0,1219.0,1241.0,720.0,720.0,937.0,982.0,978.0,1085.0,1082.0,1089.0,1916.0,2042.0,2042.0,1080.0,658.0,645.0,643.0,644.0,617.0,552.0,551.0,552.0,615.0,615.0,614.0,1795.0,2530.0,579.0,579.0,579.0,579.0,667.0,667.0,667.0,667.0,667.0,814.0,814.0,814.0,814.0,814.0,866.0,866.0,866.0,866.0,866.0,905.0,905.0,905.0,905.0,976.0,976.0,838.0,976.0,976.0,976.0,620.0,620.0,620.0,620.0,620.0,934.0,934.0,934.0,934.0,934.0,934.0,716.0,716.0,720.0,716.0,716.0,1654.0,476.0,931.0,1339.0,837.0,984.0,824.0,521.0,483.0,723.0,957.0,1357.0,908.0,669.0,1406.0,613.0,604.0,1577.0,1800.0,2924.0,707.0,1094.0,1137.0,577.0,530.0,780.0,784.0,1120.0,1160.0,579.0,579.0,576.0,580.0,667.0,814.0,815.0,815.0,866.0,867.0,867.0,905.0,905.0,907.0,663.0,577.0,3110.0,971.0,551.0,859.0,847.0,401.0,409.0,934.0,934.0,716.0,1646.0,1646.0,483.0,483.0,1353.0,1353.0,514.0,836.0,839.0,982.0,823.0,823.0,1245.0,1500.0,881.0,1064.0,874.0,1306.0,1332.0,933.0,907.0,920.0,659.0,667.0,574.0,690.0,812.0,904.0,701.0,577.0,3117.0,909.0,557.0,841.0,860.0,406.0,378.0,934.0,739.0,722.0,1646.0,1648.0,479.0,915.0,856.0,856.0,1357.0,483.0,483.0,839.0,839.0,1008.0,1020.0,831.0,830.0,1245.0,1244.0,732.0,949.0,946.0,959.0,1108.0,1108.0,1108.0,1099.0,1099.0,1099.0,618.0,36018.0,621.0,621.0,552.0,552.0,550.0,878.0,1053.0,871.0,1094.0,827.0,569.0,1325.0,910.0,579.0,590.0,667.0,684.0,706.0,812.0,866.0,876.0,905.0,892.0,865.0,849.0,378.0,392.0,376.0,934.0,934.0,729.0,740.0,736.0,1648.0,1652.0,1649.0,482.0,482.0,482.0,857.0,867.0,869.0,1356.0,1356.0,1356.0,1360.0,474.0,481.0,838.0,848.0,843.0,1017.0,1014.0,834.0,834.0,834.0,830.0,1240.0,734.0,729.0,949.0,1128.0,1015.0,550.0,744.0,1174.0,1169.0,1056.0,1056.0,869.0,1116.0,503.0,1242.0,731.0,961.0,1112.0,878.0,1282.0,1277.0,1272.0,1349.0,1275.0,911.0,901.0,641.0,659.0,670.0,663.0,628.0,1652.0,1652.0,666.0,1120.0,2557.0,579.0,579.0,577.0,667.0,664.0,812.0,814.0,814.0,813.0,866.0,866.0,877.0,867.0,905.0,905.0,896.0,538.0,544.0,716.0,1139.0,976.0,850.0,620.0,934.0,934.0,934.0,716.0,716.0,713.0,1649.0,1652.0,481.0,479.0,876.0,1351.0,532.0,516.0,481.0,1011.0,1005.0,1357.0,1141.0,495.0,1238.0,1921.0,1249.0,728.0,916.0,1108.0,1052.0,1099.0,1091.0,655.0,550.0,552.0,687.0,813.0,578.0,872.0,863.0,926.0,642.0,1281.0,1215.0,821.0,999.0,1227.0,820.0,1020.0,650.0,1275.0,910.0,651.0,1278.0,1215.0,819.0,1026.0,671.0,814.0,583.0,864.0,862.0,676.0,814.0,576.0,863.0,863.0,567.0,1239.0,1222.0,808.0,567.0,1239.0,1222.0,808.0,567.0,1239.0,1222.0,808.0,567.0,1239.0,1222.0,808.0,567.0,1239.0,1222.0,808.0,656.0,815.0,569.0,931.0,1215.0,804.0,983.0,909.0,660.0,1280.0,1069.0,927.0,1069.0,815.0,1429.0,947.0,1354.0,487.0,820.0,1618.0,4024.0,390.0,934.0,850.0,723.0,796.0,1211.0,869.0,1354.0,487.0,820.0,1618.0,1354.0,487.0,820.0,1618.0,796.0,1211.0,869.0,934.0,866.0,704.0,1354.0,487.0,820.0,1618.0,394.0,934.0,873.0,739.0,567.0,1240.0,1220.0,681.0,1350.0,476.0,827.0,1623.0,376.0,934.0,853.0,757.0,806.0,1222.0,873.0,1185.0,1214.0,739.0,12144.0,1987.0,2156.0,1205.0,2914.0,992.0,679.0,2985.0,507.0,894.0,756.0,757.0,793.0,1206.0,741.0,12209.0,1977.0,2162.0,1198.0,2933.0,994.0,595.0,2983.0,502.0,898.0,811.0,788.0,1066.0,813.0,1624.0,487.0,1359.0,829.0,901.0,437.0,934.0,757.0,521.0,510.0,1007.0,1221.0,599.0,572.0,654.0,814.0,963.0,946.0,553.0,655.0,813.0,939.0,945.0,1220.0,818.0,896.0,855.0,680.0,1308.0,876.0,1303.0,1220.0,812.0,983.0,694.0,1192.0,1184.0,2479.0,1535.0,1993.0,712.0,2917.0,1216.0,2172.0,584.0,818.0,2989.0,898.0,500.0,771.0,1053.0,803.0,1426.0,942.0,1433.0,925.0,4024.0,4024.0,791.0,1218.0,868.0,1346.0,484.0,822.0,1688.0,986.0,432.0,934.0,753.0,796.0,868.0,917.0,400.0,934.0,747.0,883.0,484.0,804.0,1611.0,576.0,667.0,814.0,962.0,939.0,1239.0,816.0,1510.0,1313.0,860.0,684.0,598.0,598.0,2980.0,895.0,498.0,723.0,1057.0,812.0,1358.0,715.0,644.0,1651.0,1854.0,2493.0,717.0,3397.0,714.0,1146.0,1353.0,484.0,813.0,1642.0,1353.0,484.0,813.0,1642.0,1293.0,1164.0,2450.0,1005.0,1948.0,709.0,2923.0,1213.0,2139.0,1353.0,484.0,813.0,1642.0,898.0,751.0,934.0,784.0,457.0,692.0,2050.0,1177.0,656.0,814.0,577.0,943.0,940.0,522.0,520.0,860.0,680.0,1308.0,1260.0,650.0,1481.0,579.0,661.0,813.0,958.0,936.0,1266.0,672.0,1556.0,1298.0,833.0,678.0,1022.0,1216.0,676.0,1126.0,1022.0,1217.0,680.0,1126.0,1022.0,1217.0,680.0,1126.0,616.0,601.0,2977.0,892.0,579.0,748.0,1022.0,1217.0,680.0,1121.0,1296.0,858.0,674.0,576.0,941.0,813.0,962.0,938.0,1283.0,656.0,1503.0,1233.0,834.0,1017.0,988.0,604.0,1121.0,1873.0,475.0,1355.0,813.0,475.0,1355.0,1873.0,813.0,717.0,934.0,920.0,799.0,448.0,685.0,1959.0,1196.0,1355.0,480.0,813.0,1873.0,708.0,934.0,919.0,826.0,1196.0,448.0,685.0,1959.0,1355.0,482.0,813.0,1853.0,694.0,934.0,900.0,824.0,1193.0,456.0,692.0,1975.0,939.0,813.0,561.0,955.0,936.0,1293.0,662.0,1589.0,1304.0,864.0,715.0,1549.0,1164.0,2422.0,972.0,1984.0,707.0,2913.0,1266.0,2166.0,1018.0,825.0,654.0,569.0,562.0,2976.0,889.0,574.0,746.0,1020.0,987.0,609.0,1132.0,1362.0,479.0,813.0,1844.0,702.0,934.0,933.0,820.0,1190.0,458.0,688.0,2421.0,923.0,1188.0,570.0,955.0,777.0,1238.0,658.0,1571.0,1299.0,849.0,702.0,549.0,896.0,2980.0,888.0,573.0,740.0,1020.0,982.0,615.0,676.0,1841.0,470.0,1114.0,815.0,911.0,518.0,934.0,735.0,479.0,689.0,2420.0,1179.0,555.0,922.0,1186.0,940.0,776.0,1246.0,656.0,854.0,1300.0,866.0,732.0,834.0,889.0,2977.0,886.0,574.0,741.0,1038.0,1018.0,1371.0,922.0,1088.0,1023.0,985.0,610.0,677.0,944.0,1181.0,554.0,937.0,781.0,1293.0,907.0,701.0,1275.0,654.0,850.0,1365.0,926.0,1094.0,1017.0,1007.0,583.0,874.0,2976.0,884.0,581.0,716.0,933.0,1174.0,536.0,924.0,795.0,1356.0,923.0,1092.0,1277.0,687.0,849.0,1338.0,909.0,680.0,582.0,519.0,2975.0,886.0,581.0,722.0,954.0,1177.0,556.0,937.0,799.0,906.0,676.0,1338.0,1274.0,696.0,849.0,1557.0,1166.0,2567.0,994.0,2276.0,701.0,2703.0,1295.0,1740.0,1027.0,1002.0,596.0,676.0,676.0,1002.0,1027.0,596.0,676.0,1002.0,1027.0,596.0,1274.0,687.0,834.0,1346.0,933.0,703.0,955.0,787.0,563.0,940.0,873.0,997.0,895.0,826.0,4024.0,651.0,567.0,726.0,637.0,3017.0,889.0,578.0,706.0,542.0,937.0,789.0,925.0,865.0,1272.0,686.0,830.0,1338.0,911.0,681.0,716.0,638.0,3016.0,887.0,581.0,729.0,996.0,894.0,651.0,579.0,1113.0,478.0,810.0,1844.0,2198.0,573.0,934.0,728.0,994.0,998.0,596.0,483.0,692.0,2115.0,1182.0,651.0,579.0,1852.0,489.0,1096.0,774.0,1325.0,934.0,2291.0,751.0,861.0,625.0,689.0,2315.0,1855.0,498.0,1096.0,768.0,1273.0,934.0,2169.0,730.0,865.0,625.0,689.0,2315.0,865.0,625.0,689.0,2315.0,1281.0,683.0,849.0,1339.0,682.0,943.0,788.0,563.0,937.0,863.0,1015.0,1024.0,718.0,647.0,3013.0,886.0,1023.0,717.0,594.0,542.0,1469.0,820.0,1461.0,835.0,4024.0,594.0,542.0,550.0,947.0,787.0,926.0,958.0,1271.0,678.0,817.0,1342.0,759.0,991.0,932.0,596.0,537.0,713.0,646.0,3021.0,754.0,1018.0,711.0,485.0,1096.0,770.0,1853.0,987.0,970.0,709.0,1355.0,934.0,2238.0,736.0,865.0,625.0,689.0,2315.0,1075.0,487.0,767.0,1842.0,1386.0,934.0,2450.0,721.0,638.0,688.0,2236.0,862.0,985.0,991.0,1074.0,484.0,767.0,1843.0,2371.0,1323.0,934.0,740.0,638.0,688.0,2236.0,862.0,1841.0,483.0,1076.0,766.0,945.0,791.0,560.0,928.0,952.0,1272.0,680.0,829.0,1331.0,740.0,997.0,861.0,1488.0,934.0,2388.0,665.0,633.0,687.0,2239.0,865.0,1455.0,825.0,1468.0,829.0,4024.0,543.0,648.0,3022.0,757.0,1015.0,736.0,957.0,790.0,535.0,921.0,955.0,601.0,517.0,1272.0,680.0,829.0,1344.0,907.0,738.0,543.0,648.0,3022.0,757.0,1015.0,736.0,537.0,478.0,3039.0,754.0,1015.0,711.0,538.0,944.0,788.0,926.0,946.0,998.0,1056.0,1275.0,676.0,897.0,1291.0,901.0,754.0,992.0,985.0,720.0,678.0,545.0,476.0,3035.0,754.0,1019.0,708.0,1277.0,663.0,903.0,1289.0,903.0,755.0,965.0,790.0,543.0,930.0,897.0,997.0,1078.0,633.0,687.0,2239.0,865.0,1076.0,483.0,766.0,1841.0,1076.0,483.0,766.0,1841.0,2418.0,1512.0,934.0,688.0,2418.0,1512.0,934.0,688.0,865.0,640.0,690.0,2158.0,943.0,993.0,713.0,943.0,993.0,713.0,980.0,990.0,715.0,988.0,986.0,724.0,678.0,985.0,991.0,987.0,970.0,709.0,555.0,973.0,790.0,930.0,839.0,1280.0,663.0,875.0,1284.0,899.0,735.0,995.0,1046.0,990.0,935.0,723.0,677.0,540.0,476.0,3027.0,734.0,1028.0,720.0,1853.0,490.0,1069.0,766.0,543.0,1524.0,934.0,682.0,885.0,614.0,819.0,1858.0,1845.0,540.0,946.0,1465.0,934.0,536.0,691.0,614.0,819.0,1858.0,885.0,1845.0,540.0,946.0,507.0,1454.0,934.0,702.0,885.0,614.0,819.0,1858.0,863.0,789.0,557.0,933.0,842.0,546.0,471.0,3019.0,736.0,1012.0,716.0,1287.0,878.0,733.0,1277.0,674.0,905.0,1042.0,904.0,713.0,676.0,556.0,858.0,789.0,938.0,844.0,1278.0,678.0,907.0,1301.0,879.0,689.0,542.0,473.0,3016.0,784.0,1017.0,700.0,995.0,1068.0,1846.0,538.0,1064.0,946.0,1463.0,934.0,615.0,715.0,888.0,629.0,806.0,1878.0,1845.0,540.0,946.0,802.0,1429.0,934.0,705.0,802.0,1429.0,934.0,705.0,896.0,639.0,812.0,1887.0,1847.0,533.0,940.0,836.0,1468.0,934.0,671.0,878.0,637.0,808.0,1715.0,1162.0,537.0,941.0,1855.0,369.0,1468.0,934.0,684.0,638.0,809.0,1698.0,881.0,548.0,863.0,795.0,931.0,1254.0,661.0,915.0,1309.0,854.0,681.0,991.0,1212.0,558.0,469.0,3018.0,797.0,1025.0,692.0,848.0,794.0,545.0,933.0,808.0,995.0,1210.0,1251.0,665.0,916.0,869.0,680.0,1307.0,552.0,467.0,3014.0,794.0,1016.0,698.0,839.0,789.0,551.0,932.0,808.0,879.0,694.0,1310.0,1255.0,662.0,927.0,993.0,1228.0,1156.0,912.0,713.0,519.0,594.0,492.0,3023.0,805.0,1020.0,721.0,1252.0,655.0,893.0,1304.0,883.0,663.0,1937.0,878.0,1156.0,909.0,853.0,518.0,593.0,493.0,3024.0,799.0,1022.0,691.0,767.0,512.0,830.0,790.0,557.0,936.0,825.0,790.0,547.0,930.0,1310.0,869.0,670.0,1246.0,649.0,920.0,758.0,518.0,1942.0,874.0,993.0,1236.0,546.0,777.0,1650.0,905.0,1147.0,975.0,851.0,518.0,1251.0,646.0,895.0,1300.0,877.0,662.0,554.0,721.0,790.0,859.0,806.0,762.0,519.0,601.0,491.0,3024.0,794.0,620.0,702.0,2224.0,871.0,720.0,788.0,591.0,864.0,860.0,1241.0,650.0,862.0,653.0,1300.0,599.0,3014.0,627.0,1600.0,710.0,488.0,707.0,542.0,967.0,875.0,595.0,735.0,786.0,864.0,1304.0,903.0,665.0,1258.0,663.0,882.0,691.0,540.0,952.0,877.0,600.0,447.0,3017.0,1614.0,1210.0,702.0,716.0,787.0,591.0,861.0,840.0,409.0,722.0,934.0,678.0,518.0,782.0,1605.0,900.0,1912.0,627.0,1166.0,1230.0,1912.0,627.0,1166.0,1230.0,1247.0,732.0,901.0,908.0,675.0,1312.0,595.0,446.0,3020.0,1620.0,1217.0,721.0,597.0,712.0,791.0,867.0,838.0,1243.0,740.0,868.0,1301.0,878.0,672.0,518.0,975.0,1078.0,853.0,660.0,535.0,1303.0,890.0,670.0,1239.0,733.0,891.0,876.0,882.0,609.0,417.0,3046.0,1621.0,1207.0,717.0,1078.0,975.0,853.0,518.0,1073.0,976.0,1962.0,502.0,1031.0,950.0,1922.0,499.0,1091.0,979.0,2638.0,497.0,581.0,718.0,788.0,860.0,829.0,721.0,788.0,581.0,860.0,828.0,599.0,419.0,3047.0,1599.0,1204.0,819.0,1244.0,741.0,886.0,1292.0,907.0,682.0,659.0,531.0,1355.0,995.0,1277.0,838.0,878.0,1070.0,964.0,2660.0,504.0,722.0,787.0,575.0,863.0,771.0,1286.0,880.0,647.0,1242.0,723.0,901.0,604.0,668.0,3044.0,1604.0,1215.0,756.0,656.0,535.0,845.0,880.0,1075.0,949.0,977.0,503.0,592.0,772.0,784.0,860.0,769.0,1244.0,722.0,865.0,1282.0,903.0,667.0,602.0,659.0,3050.0,1629.0,1226.0,747.0,675.0,537.0,829.0,873.0,1306.0,1000.0,1319.0,1841.0,960.0,972.0,532.0,572.0,657.0,3047.0,804.0,1273.0,762.0,914.0,660.0,1287.0,1249.0,728.0,883.0,1291.0,886.0,681.0,1214.0,699.0,884.0,579.0,653.0,3039.0,796.0,1273.0,785.0,570.0,793.0,787.0,1046.0,766.0,576.0,727.0,3040.0,804.0,1264.0,774.0,1281.0,891.0,704.0,1300.0,988.0,701.0,1837.0,1061.0,886.0,504.0,1837.0,1061.0,886.0,504.0,1837.0,1061.0,886.0,504.0,564.0,564.0,1203.0,688.0,914.0,909.0,718.0,1301.0,1203.0,688.0,914.0,795.0,783.0,581.0,1051.0,769.0,1891.0,528.0,1260.0,1230.0,1260.0,528.0,1230.0,1891.0,409.0,722.0,934.0,678.0,1260.0,1891.0,528.0,1230.0,503.0,774.0,1545.0,862.0,1876.0,1090.0,888.0,499.0,571.0,727.0,3036.0,808.0,1265.0,797.0,799.0,786.0,572.0,1034.0,764.0,1297.0,899.0,707.0,1200.0,683.0,883.0,572.0,727.0,3042.0,820.0,1259.0,804.0,2183.0,595.0,1886.0,1110.0,897.0,481.0,575.0,807.0,972.0,1036.0,760.0,1215.0,711.0,879.0,1295.0,886.0,638.0,567.0,733.0,3040.0,808.0,1259.0,802.0,1296.0,991.0,1340.0,1260.0,528.0,1230.0,1891.0,401.0,432.0,934.0,659.0,503.0,774.0,1545.0,862.0,1260.0,528.0,1230.0,1891.0,1820.0,1115.0,898.0,481.0,387.0,415.0,934.0,681.0,870.0,526.0,779.0,1623.0,793.0,570.0,1023.0,765.0,793.0,570.0,1023.0,765.0,1294.0,882.0,637.0,1214.0,704.0,895.0,1280.0,988.0,1332.0,2394.0,586.0,568.0,801.0,961.0,1033.0,767.0,2331.0,589.0,1278.0,988.0,1333.0,564.0,1561.0,3036.0,798.0,573.0,745.0,799.0,570.0,1023.0,767.0,1294.0,990.0,1335.0,536.0,1150.0,3007.0,797.0,570.0,742.0,2388.0,590.0,1299.0,1040.0,633.0,1217.0,725.0,889.0,536.0,1143.0,3017.0,798.0,568.0,750.0,1054.0,649.0,1291.0,1820.0,1115.0,898.0,481.0,1277.0,990.0,1422.0,980.0,485.0,1495.0,1907.0,1221.0,730.0,900.0,1300.0,1049.0,651.0,402.0,571.0,934.0,678.0,862.0,867.0,514.0,779.0,1101.0,892.0,1907.0,485.0,980.0,1495.0,577.0,934.0,392.0,692.0,501.0,774.0,1103.0,887.0,980.0,485.0,1495.0,1907.0,612.0,934.0,410.0,669.0,887.0,501.0,774.0,1103.0,980.0,485.0,1495.0,1907.0,603.0,934.0,411.0,663.0,614.0,658.0,894.0,506.0,763.0,1101.0,980.0,485.0,1495.0,1907.0,586.0,934.0,421.0,671.0,897.0,506.0,767.0,1144.0,1903.0,416.0,980.0,1501.0,428.0,669.0,934.0,689.0,506.0,767.0,1144.0,897.0,980.0,416.0,1501.0,1903.0,412.0,665.0,934.0,708.0,897.0,507.0,748.0,1144.0,506.0,767.0,1144.0,897.0,1903.0,416.0,980.0,1501.0,915.0,934.0,407.0,708.0,897.0,507.0,748.0,1144.0,1903.0,416.0,980.0,1501.0,952.0,934.0,433.0,711.0,901.0,507.0,763.0,1134.0,535.0,1004.0,3014.0,786.0,563.0,743.0,809.0,954.0,576.0,1028.0,768.0,809.0,954.0,577.0,1035.0,768.0,856.0,862.0,1217.0,727.0,920.0,1298.0,1046.0,612.0,1830.0,1112.0,937.0,479.0,1838.0,2003.0,940.0,484.0,618.0,649.0,633.0,800.0,924.0,871.0,773.0,1288.0,991.0,1420.0,865.0,878.0,1913.0,410.0,970.0,1542.0,628.0,646.0,540.0,968.0,3012.0,796.0,567.0,772.0,729.0,385.0,934.0,834.0,911.0,632.0,742.0,1517.0,970.0,410.0,1542.0,1913.0,731.0,445.0,934.0,822.0,620.0,765.0,1077.0,914.0,722.0,416.0,934.0,809.0,1905.0,431.0,975.0,1495.0,606.0,755.0,1652.0,912.0,970.0,410.0,1542.0,1913.0,726.0,423.0,934.0,844.0,610.0,778.0,1561.0,921.0,1913.0,422.0,987.0,1525.0,721.0,454.0,934.0,812.0,927.0,612.0,773.0,1563.0,1292.0,893.0,715.0,481.0,948.0,1362.0,934.0,1218.0,704.0,924.0,1836.0,2042.0,479.0,738.0,924.0,637.0,870.0,761.0,1221.0,680.0,907.0,885.0,702.0,1290.0,1293.0,992.0,1424.0,622.0,660.0,622.0,660.0,539.0,3021.0,557.0,802.0,715.0,997.0,621.0,722.0,922.0,869.0,759.0,1212.0,679.0,924.0,1345.0,904.0,700.0,534.0,784.0,3008.0,926.0,559.0,725.0,618.0,656.0,707.0,919.0,629.0,864.0,758.0,888.0,699.0,1342.0,1188.0,746.0,952.0,539.0,782.0,3033.0,912.0,560.0,745.0,1002.0,411.0,1532.0,1899.0,427.0,934.0,723.0,820.0,613.0,774.0,1553.0,921.0,932.0,712.0,1274.0,1184.0,686.0,910.0,628.0,715.0,935.0,863.0,766.0,628.0,719.0,930.0,863.0,765.0,1264.0,993.0,1403.0,640.0,658.0,1907.0,454.0,980.0,1576.0,477.0,432.0,934.0,841.0,617.0,753.0,936.0,1331.0,922.0,830.0,445.0,617.0,753.0,936.0,980.0,454.0,1576.0,1907.0,475.0,430.0,934.0,1373.0,980.0,454.0,1576.0,1912.0,475.0,448.0,934.0,1381.0,937.0,607.0,744.0,1331.0,922.0,830.0,445.0,884.0,703.0,1269.0,1190.0,695.0,939.0,731.0,938.0,638.0,866.0,805.0,634.0,652.0,1047.0,952.0,527.0,785.0,3042.0,921.0,556.0,731.0,1333.0,980.0,826.0,448.0,1263.0,910.0,2276.0,1194.0,693.0,928.0,628.0,650.0,1276.0,993.0,1296.0,1051.0,945.0,536.0,787.0,3045.0,918.0,553.0,728.0,1334.0,983.0,829.0,449.0,996.0,583.0,1569.0,1917.0,478.0,418.0,934.0,1368.0,749.0,756.0,1533.0,944.0,1923.0,583.0,999.0,1575.0,430.0,934.0,510.0,1347.0,749.0,756.0,1533.0,944.0,996.0,601.0,1561.0,1922.0,416.0,934.0,502.0,1331.0,949.0,762.0,761.0,1538.0,707.0,772.0,571.0,851.0,803.0,571.0,707.0,773.0,851.0,803.0,571.0,707.0,773.0,851.0,803.0,1048.0,978.0],\"y\":[1.4,3.43,2.07,2.82,2.98,1.86,3.61,2.03,2.95,1.84,1.72,1.52,8.6,2.72,1.49,2.01,1.97,2.65,2.75,1.83,1.59,1.73,4.62,1.87,5.07,5.8,1.92,3.04,7.12,1.64,1.74,2.62,2.01,4.54,3.31,2.75,3.83,2.58,1.72,1.62,1.78,2.29,2.39,2.4,2.5,2.49,2.0,4.63,2.32,2.29,2.29,2.58,3.77,3.76,3.76,1.47,3.8,1.56,2.0,2.81,2.8,2.97,1.84,1.8,3.59,2.58,1.88,1.87,1.72,1.72,1.72,1.87,5.03,6.95,1.92,3.05,7.13,1.64,1.87,1.91,2.29,2.28,2.4,2.54,2.51,1.87,1.84,1.53,8.55,8.55,2.71,2.71,1.53,2.07,2.07,1.51,1.46,1.33,3.41,3.47,2.02,2.02,2.62,2.75,2.74,3.04,3.03,3.05,5.36,5.71,5.71,3.03,1.84,1.81,1.8,1.8,1.72,1.54,1.54,1.54,1.72,1.72,1.72,5.03,7.13,1.63,1.63,1.63,1.63,1.87,1.87,1.87,1.87,1.87,2.29,2.29,2.29,2.29,2.29,2.43,2.43,2.43,2.43,2.43,2.54,2.54,2.54,2.54,2.73,2.73,2.35,2.73,2.73,2.73,1.74,1.74,1.74,1.74,1.74,2.62,2.62,2.62,2.62,2.62,2.62,2.01,2.01,2.02,2.01,2.01,4.64,1.34,2.63,3.75,2.34,2.77,2.31,1.46,1.35,2.02,2.67,3.81,2.56,1.87,3.94,1.72,1.69,4.41,5.04,8.19,1.98,3.06,3.18,1.62,1.48,2.18,2.19,3.14,3.25,1.63,1.63,1.62,1.63,1.87,2.29,2.29,2.29,2.43,2.43,2.43,2.54,2.54,2.54,1.85,1.61,8.75,2.71,1.54,2.41,2.37,1.12,1.15,2.62,2.62,2.01,4.62,4.62,1.36,1.36,3.79,3.79,1.44,2.34,2.35,2.76,2.31,2.31,2.76,3.26,2.47,2.98,2.45,3.67,3.74,2.63,2.56,2.59,1.85,1.87,1.62,1.93,2.28,2.53,1.96,1.61,8.77,2.54,1.56,2.35,2.41,1.14,1.06,2.62,2.07,2.02,4.62,4.62,1.35,2.58,2.41,2.41,3.81,1.35,1.35,2.35,2.35,2.84,2.87,2.33,2.33,3.48,3.48,2.05,2.65,2.64,2.68,3.1,3.1,3.1,3.08,3.08,3.08,1.73,200.01,1.74,1.74,1.54,1.54,1.54,2.46,2.95,2.44,3.07,2.32,1.59,3.72,2.56,1.63,1.66,1.87,1.92,1.98,2.28,2.43,2.46,2.54,2.5,2.42,2.38,1.06,1.1,1.05,2.62,2.62,2.04,2.07,2.06,4.62,4.63,4.63,1.36,1.36,1.36,2.42,2.44,2.45,3.8,3.8,3.8,3.81,1.33,1.35,2.35,2.37,2.36,2.86,2.85,2.34,2.34,2.34,2.33,3.47,2.05,2.04,2.65,3.15,2.84,1.54,2.09,3.29,3.28,2.96,2.96,2.43,3.13,1.41,3.47,2.05,2.69,3.1,2.46,3.61,3.59,3.58,3.79,3.59,2.57,2.54,1.79,1.85,1.88,1.86,1.76,4.63,4.63,1.86,3.13,7.21,1.63,1.63,1.62,1.87,1.86,2.28,2.29,2.29,2.29,2.43,2.43,2.46,2.43,2.54,2.54,2.51,1.5,1.52,2.0,3.19,2.73,2.38,1.74,2.62,2.62,2.62,2.01,2.01,2.0,4.63,4.63,1.35,1.35,2.47,3.79,1.49,1.45,1.35,2.85,2.83,3.8,3.2,1.39,3.46,4.17,3.49,2.04,2.56,3.1,2.95,3.08,3.06,1.84,1.54,1.54,1.92,2.29,1.63,2.45,2.42,2.61,1.8,3.6,3.4,2.3,2.79,3.43,2.29,2.85,1.82,3.59,2.56,1.82,3.6,3.4,2.29,2.87,1.88,2.29,1.64,2.43,2.42,1.89,2.29,1.62,2.42,2.42,1.59,3.47,3.42,2.27,1.59,3.47,3.42,2.27,1.59,3.47,3.42,2.27,1.59,3.47,3.42,2.27,1.59,3.47,3.42,2.27,1.84,2.29,1.6,2.61,3.4,2.25,2.75,2.56,1.85,3.6,3.0,2.6,2.99,2.28,4.02,2.66,3.8,1.37,2.3,4.54,11.26,1.09,2.62,2.38,2.03,2.23,3.41,2.45,3.8,1.37,2.3,4.54,3.8,1.37,2.3,4.54,2.23,3.41,2.45,2.62,2.42,1.97,3.8,1.37,2.3,4.54,1.1,2.62,2.44,2.07,1.59,3.47,3.41,1.91,3.79,1.34,2.32,4.55,1.05,2.62,2.39,2.12,2.26,3.44,2.46,3.32,3.4,2.06,34.0,5.58,6.04,3.37,8.18,2.78,1.9,8.4,1.42,2.5,2.11,2.11,2.23,3.38,2.07,34.19,5.55,6.06,3.35,8.23,2.78,1.66,8.4,1.4,2.51,2.27,2.2,2.98,2.28,4.56,1.37,3.81,2.33,2.52,1.22,2.62,2.12,1.46,1.43,2.82,3.42,1.68,1.61,1.83,2.29,2.7,2.65,1.56,1.83,2.29,2.64,2.65,3.41,2.29,2.5,2.41,1.9,3.68,2.47,3.67,3.41,2.27,2.75,1.94,3.34,3.32,6.99,3.36,5.6,1.99,8.19,3.4,6.09,1.63,2.28,8.41,2.51,1.4,2.15,2.95,2.25,4.01,2.65,4.03,2.6,11.26,11.26,2.21,3.43,2.45,3.77,1.36,2.31,4.73,2.76,1.21,2.62,2.11,2.23,2.45,2.57,1.12,2.62,2.09,2.49,1.36,2.25,4.54,1.62,1.87,2.29,2.7,2.63,3.46,2.28,4.22,3.69,2.42,1.92,1.67,1.67,8.39,2.5,1.39,2.02,2.96,2.27,3.81,2.0,1.81,4.62,5.2,7.03,2.0,9.51,2.0,3.21,3.79,1.36,2.28,4.6,3.79,1.36,2.28,4.6,3.63,3.26,6.91,2.82,5.47,1.99,8.2,3.4,6.0,3.79,1.36,2.28,4.6,2.51,2.11,2.62,2.2,1.28,1.94,5.77,3.31,1.84,2.29,1.62,2.65,2.63,1.46,1.46,2.42,1.9,3.68,3.52,1.82,4.14,1.63,1.85,2.29,2.69,2.62,3.54,1.88,4.36,3.65,2.35,1.9,2.86,3.4,1.89,3.15,2.86,3.4,1.9,3.15,2.86,3.4,1.9,3.15,1.72,1.68,8.38,2.5,1.62,2.09,2.86,3.4,1.9,3.14,3.65,2.42,1.89,1.62,2.63,2.29,2.7,2.63,3.59,1.84,4.21,3.45,2.33,2.84,2.77,1.69,3.14,5.25,1.34,3.8,2.28,1.34,3.8,5.25,2.28,2.01,2.62,2.58,2.24,1.26,1.92,5.52,3.36,3.8,1.35,2.28,5.25,1.98,2.62,2.57,2.31,3.36,1.26,1.92,5.52,3.79,1.36,2.28,5.19,1.95,2.62,2.52,2.31,3.36,1.28,1.94,5.56,2.62,2.29,1.58,2.68,2.62,3.62,1.85,4.45,3.67,2.43,2.0,4.35,3.26,6.83,2.72,5.57,1.98,8.18,3.54,6.07,2.84,2.31,1.83,1.6,1.57,8.37,2.49,1.61,2.09,2.85,2.77,1.71,3.17,3.81,1.35,2.28,5.16,1.97,2.62,2.61,2.3,3.35,1.28,1.93,6.81,2.58,3.36,1.6,2.68,2.18,3.46,1.84,4.4,3.66,2.39,1.97,1.53,2.51,8.39,2.48,1.6,2.07,2.85,2.75,1.72,1.9,5.16,1.32,3.13,2.29,2.55,1.45,2.62,2.06,1.34,1.93,6.81,3.32,1.56,2.58,3.35,2.64,2.17,3.48,1.84,2.39,3.66,2.44,2.05,2.34,2.49,8.38,2.48,1.61,2.07,2.89,2.85,3.83,2.58,3.05,2.86,2.76,1.71,1.9,2.64,3.34,1.56,2.63,2.19,3.64,2.56,1.96,3.57,1.83,2.38,3.82,2.59,3.06,2.84,2.82,1.63,2.45,8.37,2.47,1.63,2.0,2.61,3.32,1.51,2.59,2.23,3.79,2.58,3.06,3.57,1.92,2.37,3.76,2.56,1.9,1.63,1.45,8.37,2.48,1.63,2.02,2.67,3.32,1.56,2.63,2.24,2.55,1.89,3.76,3.56,1.95,2.37,4.37,3.27,7.23,2.78,6.39,1.96,7.57,3.63,4.88,2.87,2.81,1.67,1.9,1.9,2.81,2.87,1.67,1.9,2.81,2.87,1.67,3.56,1.92,2.33,3.78,2.63,1.97,2.67,2.21,1.58,2.64,2.44,2.78,2.5,2.32,11.26,1.82,1.59,2.03,1.78,8.49,2.49,1.62,1.97,1.52,2.62,2.22,2.6,2.42,3.56,1.92,2.32,3.76,2.57,1.91,2.0,1.78,8.49,2.48,1.63,2.04,2.78,2.5,1.82,1.62,3.13,1.34,2.27,5.16,6.17,1.6,2.62,2.04,2.78,2.8,1.67,1.35,1.94,5.96,3.32,1.82,1.62,5.18,1.38,3.08,2.17,3.72,2.62,6.43,2.1,2.42,1.75,1.93,6.51,5.19,1.4,3.08,2.15,3.57,2.62,6.09,2.05,2.43,1.75,1.93,6.51,2.43,1.75,1.93,6.51,3.58,1.91,2.37,3.76,1.91,2.64,2.22,1.58,2.63,2.42,2.83,2.87,2.01,1.81,8.48,2.48,2.86,2.0,1.66,1.52,4.13,2.3,4.11,2.35,11.26,1.66,1.52,1.55,2.65,2.21,2.6,2.68,3.55,1.9,2.28,3.77,2.13,2.76,2.61,1.67,1.5,1.99,1.81,8.5,2.11,2.85,1.99,1.36,3.08,2.16,5.19,2.76,2.72,1.98,3.8,2.62,6.29,2.06,2.43,1.75,1.93,6.51,3.02,1.37,2.15,5.16,3.89,2.62,6.88,2.02,1.79,1.93,6.3,2.43,2.76,2.77,3.02,1.36,2.15,5.16,6.66,3.71,2.62,2.07,1.79,1.93,6.3,2.43,5.15,1.36,3.02,2.15,2.64,2.22,1.58,2.6,2.66,3.56,1.9,2.31,3.74,2.07,2.78,2.41,4.16,2.62,6.71,1.87,1.77,1.92,6.3,2.43,4.09,2.32,4.13,2.33,11.26,1.52,1.81,8.5,2.12,2.84,2.06,2.67,2.22,1.5,2.58,2.67,1.68,1.45,3.56,1.9,2.31,3.78,2.56,2.07,1.52,1.81,8.5,2.12,2.84,2.06,1.5,1.34,8.55,2.11,2.84,1.99,1.51,2.64,2.22,2.6,2.65,2.79,2.96,3.57,1.89,2.51,3.63,2.54,2.11,2.78,2.76,2.01,1.9,1.52,1.33,8.54,2.11,2.85,1.98,3.57,1.86,2.52,3.62,2.54,2.11,2.7,2.22,1.53,2.61,2.51,2.79,3.02,1.77,1.92,6.3,2.43,3.02,1.36,2.15,5.15,3.02,1.36,2.15,5.15,6.79,4.23,2.62,1.93,6.79,4.23,2.62,1.93,2.43,1.79,1.93,6.08,2.64,2.78,1.99,2.64,2.78,1.99,2.75,2.77,2.0,2.76,2.76,2.03,1.9,2.76,2.77,2.76,2.72,1.98,1.56,2.72,2.22,2.61,2.35,3.58,1.86,2.45,3.61,2.53,2.06,2.78,2.93,2.77,2.62,2.02,1.9,1.51,1.33,8.52,2.05,2.87,2.01,5.19,1.38,3.0,2.15,1.52,4.27,2.62,1.91,2.49,1.72,2.29,5.23,5.17,1.52,2.65,4.1,2.62,1.5,1.94,1.72,2.29,5.23,2.49,5.17,1.52,2.65,1.42,4.07,2.62,1.97,2.49,1.72,2.29,5.23,2.42,2.22,1.57,2.62,2.36,1.53,1.32,8.5,2.06,2.83,2.0,3.62,2.47,2.05,3.57,1.89,2.53,2.91,2.54,1.99,1.9,1.56,2.4,2.22,2.63,2.36,3.57,1.9,2.53,3.66,2.48,1.93,1.52,1.32,8.49,2.19,2.84,1.96,2.78,2.99,5.17,1.51,2.99,2.65,4.09,2.62,1.73,2.01,2.5,1.76,2.26,5.29,5.17,1.52,2.65,2.24,4.0,2.62,1.98,2.24,4.0,2.62,1.98,2.52,1.79,2.27,5.31,5.17,1.5,2.63,2.34,4.11,2.62,1.88,2.47,1.78,2.26,4.83,3.26,1.51,2.63,5.19,1.03,4.11,2.62,1.92,1.79,2.27,4.78,2.48,1.54,2.42,2.24,2.61,3.51,1.85,2.56,3.68,2.41,1.91,2.77,3.4,1.56,1.31,8.49,2.23,2.87,1.93,2.37,2.23,1.53,2.62,2.26,2.78,3.39,3.5,1.86,2.56,2.45,1.9,3.67,1.54,1.31,8.48,2.22,2.84,1.95,2.35,2.22,1.55,2.62,2.26,2.48,1.94,3.68,3.51,1.85,2.59,2.78,3.44,3.23,2.56,1.99,1.45,1.66,1.38,8.51,2.25,2.85,2.02,3.5,1.83,2.5,3.67,2.49,1.86,5.41,2.46,3.23,2.55,2.39,1.45,1.66,1.38,8.51,2.23,2.86,1.93,2.14,1.43,2.32,2.22,1.57,2.63,2.31,2.22,1.54,2.61,3.68,2.45,1.88,3.48,1.82,2.57,2.12,1.45,5.43,2.45,2.78,3.46,1.53,2.18,4.65,2.55,3.21,2.73,2.39,1.45,3.5,1.81,2.5,3.65,2.47,1.85,1.56,2.02,2.22,2.41,2.26,2.13,1.45,1.68,1.37,8.51,2.22,1.73,1.96,6.22,2.44,2.02,2.22,1.66,2.42,2.4,3.47,1.82,2.43,1.83,3.65,1.68,8.48,1.75,4.47,1.99,1.37,1.98,1.52,2.71,2.45,1.67,2.06,2.21,2.42,3.67,2.54,1.86,3.52,1.86,2.47,1.93,1.51,2.67,2.45,1.68,1.25,8.49,4.51,3.38,1.96,2.01,2.21,1.66,2.42,2.37,1.15,2.02,2.62,1.9,1.45,2.19,4.52,2.54,5.36,1.76,3.27,3.46,5.36,1.76,3.27,3.46,3.49,2.05,2.52,2.56,1.89,3.69,1.67,1.25,8.5,4.53,3.4,2.02,1.68,2.0,2.22,2.43,2.36,3.48,2.07,2.43,3.66,2.47,1.88,1.45,2.73,3.01,2.39,1.85,1.5,3.66,2.51,1.88,3.46,2.05,2.49,2.45,2.47,1.7,1.17,8.57,4.53,3.38,2.0,3.01,2.73,2.39,1.45,3.0,2.74,5.49,1.41,2.88,2.66,5.38,1.4,3.05,2.75,7.38,1.39,1.63,2.01,2.22,2.41,2.34,2.02,2.22,1.63,2.41,2.33,1.68,1.17,8.57,4.47,3.37,2.29,3.48,2.07,2.48,3.63,2.55,1.91,1.84,1.49,3.79,2.78,3.58,2.35,2.46,2.99,2.7,7.45,1.41,2.02,2.21,1.62,2.42,2.17,3.61,2.48,1.81,3.47,2.02,2.52,1.69,1.87,8.56,4.48,3.4,2.11,1.84,1.5,2.37,2.46,3.0,2.66,2.72,1.41,1.67,2.16,2.2,2.41,2.16,3.48,2.02,2.42,3.6,2.54,1.87,1.69,1.85,8.58,4.55,3.43,2.09,1.89,1.5,2.32,2.44,3.65,2.8,3.7,5.16,2.69,2.71,1.49,1.6,1.84,8.57,2.25,3.56,2.13,2.57,1.85,3.62,3.49,2.04,2.47,3.63,2.5,1.91,3.39,1.96,2.47,1.62,1.83,8.55,2.23,3.56,2.19,1.6,2.22,2.21,2.93,2.16,1.61,2.04,8.55,2.25,3.54,2.16,3.6,2.51,1.97,3.65,2.78,1.96,5.14,2.97,2.48,1.41,5.14,2.97,2.48,1.41,5.14,2.97,2.48,1.41,1.58,1.58,3.36,1.93,2.55,2.56,2.01,3.66,3.36,1.93,2.55,2.23,2.2,1.63,2.95,2.16,5.3,1.49,3.53,3.45,3.53,1.49,3.45,5.3,1.15,2.02,2.62,1.9,3.53,5.3,1.49,3.45,1.41,2.17,4.35,2.43,5.25,3.05,2.49,1.4,1.6,2.04,8.54,2.26,3.54,2.23,2.24,2.21,1.61,2.9,2.15,3.65,2.53,1.98,3.35,1.91,2.46,1.6,2.04,8.56,2.29,3.52,2.25,6.12,1.67,5.28,3.11,2.51,1.35,1.62,2.26,2.74,2.91,2.14,3.4,1.99,2.45,3.64,2.5,1.79,1.59,2.06,8.55,2.26,3.52,2.24,3.62,2.77,3.76,3.53,1.49,3.45,5.3,1.12,1.21,2.62,1.85,1.41,2.17,4.35,2.43,3.53,1.49,3.45,5.3,5.09,3.12,2.52,1.35,1.08,1.16,2.62,1.91,2.45,1.47,2.18,4.57,2.22,1.6,2.87,2.15,2.22,1.6,2.87,2.15,3.64,2.49,1.78,3.39,1.97,2.5,3.58,2.76,3.74,6.71,1.64,1.6,2.24,2.7,2.9,2.16,6.54,1.65,3.57,2.76,3.74,1.58,4.37,8.54,2.23,1.6,2.08,2.24,1.6,2.87,2.16,3.62,2.77,3.74,1.5,3.22,8.47,2.23,1.6,2.07,6.7,1.65,3.65,2.93,1.77,3.4,2.03,2.49,1.5,3.21,8.49,2.23,1.59,2.1,2.97,1.82,3.63,5.09,3.12,2.52,1.35,3.57,2.77,3.99,2.75,1.36,4.19,5.34,3.41,2.04,2.51,3.65,2.96,1.82,1.13,1.6,2.62,1.9,2.42,2.42,1.44,2.18,3.1,2.51,5.34,1.36,2.75,4.19,1.62,2.62,1.1,1.94,1.4,2.17,3.1,2.5,2.75,1.36,4.19,5.34,1.71,2.62,1.15,1.88,2.5,1.4,2.17,3.1,2.75,1.36,4.19,5.34,1.69,2.62,1.15,1.86,1.72,1.84,2.52,1.42,2.14,3.1,2.75,1.36,4.19,5.34,1.64,2.62,1.18,1.88,2.52,1.42,2.15,3.22,5.33,1.17,2.75,4.21,1.2,1.87,2.62,1.93,1.42,2.15,3.22,2.52,2.75,1.17,4.21,5.33,1.15,1.86,2.62,1.99,2.52,1.42,2.1,3.22,1.42,2.15,3.22,2.52,5.33,1.17,2.75,4.21,2.56,2.62,1.14,1.99,2.52,1.42,2.1,3.22,5.33,1.17,2.75,4.21,2.67,2.62,1.21,1.99,2.54,1.42,2.14,3.19,1.5,2.81,8.48,2.2,1.58,2.08,2.27,2.68,1.62,2.88,2.16,2.27,2.68,1.62,2.9,2.16,2.4,2.41,3.4,2.04,2.57,3.65,2.95,1.71,5.12,3.11,2.63,1.34,5.14,5.61,2.63,1.35,1.73,1.82,1.78,2.24,2.6,2.44,2.18,3.6,2.77,3.98,2.42,2.45,5.36,1.15,2.73,4.32,1.76,1.81,1.51,2.71,8.48,2.23,1.59,2.16,2.04,1.08,2.62,2.34,2.57,1.77,2.08,4.27,2.73,1.15,4.32,5.36,2.05,1.25,2.62,2.3,1.74,2.14,3.03,2.57,2.02,1.16,2.62,2.27,5.34,1.21,2.74,4.19,1.7,2.12,4.65,2.57,2.73,1.15,4.32,5.36,2.04,1.18,2.62,2.36,1.71,2.18,4.4,2.59,5.36,1.19,2.77,4.27,2.02,1.27,2.62,2.27,2.61,1.71,2.17,4.4,3.63,2.52,2.01,1.35,2.65,3.81,2.62,3.41,1.97,2.58,5.14,5.72,1.34,2.07,2.6,1.79,2.44,2.14,3.41,1.9,2.53,2.49,1.97,3.63,3.61,2.77,3.99,1.74,1.85,1.74,1.85,1.51,8.5,1.56,2.24,2.0,2.79,1.75,2.03,2.59,2.44,2.14,3.39,1.9,2.58,3.78,2.55,1.96,1.49,2.19,8.47,2.59,1.56,2.03,1.73,1.84,1.98,2.59,1.77,2.42,2.13,2.5,1.96,3.77,3.32,2.09,2.66,1.51,2.19,8.54,2.55,1.57,2.08,2.81,1.16,4.29,5.32,1.2,2.62,2.03,2.3,1.72,2.17,4.37,2.59,2.63,2.0,3.58,3.31,1.92,2.54,1.77,2.01,2.63,2.42,2.16,1.77,2.02,2.62,2.42,2.15,3.53,2.78,3.93,1.79,1.84,5.34,1.28,2.75,4.42,1.33,1.21,2.62,2.36,1.73,2.11,2.64,3.72,2.58,2.33,1.24,1.73,2.11,2.64,2.75,1.28,4.42,5.34,1.33,1.2,2.62,3.84,2.75,1.28,4.42,5.36,1.33,1.25,2.62,3.87,2.64,1.7,2.08,3.72,2.58,2.33,1.24,2.49,1.97,3.57,3.33,1.95,2.63,2.05,2.64,1.79,2.43,2.27,1.78,1.83,2.93,2.66,1.48,2.2,8.56,2.58,1.56,2.04,3.73,2.75,2.32,1.25,3.55,2.57,6.42,3.34,1.94,2.59,1.76,1.82,3.57,2.78,3.64,2.94,2.64,1.5,2.2,8.57,2.57,1.55,2.03,3.73,2.76,2.33,1.26,2.8,1.64,4.4,5.37,1.34,1.17,2.62,3.83,2.1,2.12,4.32,2.66,5.39,1.64,2.81,4.41,1.2,2.62,1.43,3.77,2.1,2.12,4.32,2.66,2.8,1.69,4.37,5.39,1.16,2.62,1.4,3.73,2.67,2.13,2.13,4.33,1.98,2.17,1.61,2.39,2.26,1.61,1.98,2.17,2.39,2.26,1.61,1.98,2.17,2.39,2.26,2.94,2.73],\"z\":[6.0,14.0,43.0,61.0,11.0,5.0,51.0,39.0,6.0,17.0,11.0,11.0,50.0,42.0,25.0,39.0,119.0,58.0,21.0,44.0,19.0,29.0,49.0,59.0,76.0,52.0,85.0,98.0,34.0,35.0,67.0,-1.0,147.0,48.0,43.0,30.0,35.0,37.0,32.0,36.0,24.0,48.0,24.0,26.0,40.0,53.0,18.0,53.0,61.0,41.0,41.0,30.0,53.0,53.0,53.0,52.0,27.0,12.0,43.0,61.0,61.0,11.0,6.0,5.0,33.0,29.0,32.0,34.0,32.0,27.0,29.0,61.0,77.0,56.0,88.0,98.0,34.0,44.0,33.0,28.0,42.0,41.0,26.0,43.0,38.0,22.0,22.0,13.0,54.0,56.0,32.0,31.0,29.0,39.0,39.0,11.0,11.0,11.0,15.0,12.0,41.0,26.0,59.0,21.0,21.0,20.0,21.0,20.0,6.0,6.0,6.0,6.0,17.0,17.0,17.0,17.0,11.0,12.0,11.0,11.0,32.0,27.0,29.0,77.0,34.0,46.0,46.0,46.0,46.0,33.0,33.0,33.0,33.0,33.0,42.0,42.0,42.0,42.0,42.0,29.0,29.0,29.0,29.0,29.0,43.0,43.0,43.0,43.0,119.0,119.0,121.0,119.0,119.0,119.0,67.0,67.0,67.0,67.0,67.0,-1.0,-1.0,-1.0,-1.0,-1.0,-1.0,149.0,149.0,150.0,149.0,149.0,53.0,44.0,31.0,42.0,43.0,38.0,22.0,10.0,10.0,32.0,59.0,59.0,28.0,41.0,35.0,21.0,32.0,43.0,91.0,26.0,61.0,83.0,40.0,36.0,24.0,30.0,32.0,59.0,40.0,46.0,46.0,46.0,47.0,33.0,42.0,42.0,44.0,29.0,30.0,30.0,43.0,43.0,43.0,24.0,15.0,66.0,37.0,29.0,130.0,130.0,30.0,43.0,-1.0,-1.0,151.0,63.0,63.0,37.0,37.0,50.0,50.0,63.0,44.0,38.0,39.0,25.0,25.0,36.0,59.0,30.0,8.0,3.0,59.0,65.0,26.0,24.0,26.0,42.0,43.0,49.0,26.0,28.0,41.0,26.0,20.0,69.0,31.0,30.0,131.0,132.0,26.0,26.0,-1.0,151.0,151.0,63.0,63.0,37.0,25.0,24.0,24.0,52.0,39.0,39.0,38.0,39.0,26.0,26.0,25.0,30.0,22.0,22.0,43.0,65.0,71.0,71.0,22.0,22.0,22.0,6.0,6.0,6.0,17.0,17.0,17.0,17.0,13.0,13.0,12.0,30.0,6.0,3.0,6.0,17.0,12.0,67.0,29.0,46.0,52.0,33.0,28.0,25.0,30.0,29.0,34.0,43.0,41.0,134.0,138.0,26.0,26.0,26.0,-1.0,-1.0,151.0,152.0,153.0,41.0,41.0,49.0,48.0,48.0,48.0,24.0,24.0,24.0,56.0,56.0,56.0,60.0,39.0,46.0,39.0,41.0,42.0,27.0,27.0,31.0,31.0,31.0,34.0,39.0,46.0,47.0,43.0,21.0,17.0,11.0,43.0,56.0,58.0,11.0,6.0,3.0,12.0,6.0,42.0,52.0,48.0,21.0,33.0,47.0,59.0,59.0,59.0,45.0,22.0,30.0,38.0,34.0,41.0,43.0,28.0,49.0,49.0,46.0,18.0,42.0,46.0,46.0,52.0,33.0,27.0,33.0,42.0,42.0,30.0,29.0,29.0,34.0,35.0,43.0,35.0,41.0,11.0,26.0,40.0,43.0,119.0,138.0,67.0,-1.0,-1.0,-1.0,149.0,149.0,151.0,53.0,41.0,44.0,52.0,31.0,50.0,61.0,63.0,46.0,25.0,27.0,27.0,60.0,8.0,18.0,20.0,24.0,42.0,59.0,22.0,6.0,6.0,6.0,17.0,13.0,13.0,30.0,35.0,55.0,37.0,38.0,33.0,29.0,47.0,8.0,20.0,55.0,15.0,24.0,60.0,32.0,47.0,30.0,32.0,48.0,17.0,26.0,61.0,34.0,35.0,56.0,39.0,41.0,37.0,39.0,56.0,41.0,44.0,12.0,7.0,21.0,17.0,12.0,7.0,21.0,17.0,12.0,7.0,21.0,17.0,12.0,7.0,21.0,17.0,12.0,7.0,21.0,17.0,42.0,40.0,20.0,44.0,18.0,29.0,66.0,32.0,33.0,52.0,63.0,37.0,5.0,3.0,-1.0,-1.0,65.0,59.0,36.0,55.0,-1.0,26.0,-1.0,139.0,155.0,36.0,24.0,24.0,65.0,59.0,36.0,55.0,65.0,59.0,36.0,55.0,36.0,24.0,24.0,-1.0,139.0,156.0,65.0,59.0,36.0,55.0,40.0,-1.0,139.0,158.0,11.0,6.0,21.0,16.0,65.0,60.0,40.0,57.0,48.0,-1.0,141.0,159.0,37.0,26.0,24.0,92.0,68.0,18.0,15.0,96.0,74.0,128.0,143.0,67.0,36.0,53.0,16.0,31.0,54.0,27.0,91.0,68.0,17.0,15.0,96.0,71.0,128.0,143.0,67.0,13.0,54.0,16.0,32.0,54.0,28.0,5.0,3.0,57.0,61.0,67.0,43.0,141.0,52.0,-1.0,161.0,14.0,6.0,17.0,5.0,10.0,29.0,32.0,32.0,18.0,40.0,29.0,24.0,41.0,18.0,37.0,21.0,45.0,38.0,38.0,29.0,37.0,33.0,47.0,19.0,32.0,39.0,29.0,92.0,70.0,12.0,67.0,100.0,8.0,143.0,129.0,76.0,21.0,28.0,56.0,37.0,16.0,55.0,5.0,3.0,-1.0,-1.0,-1.0,-1.0,-1.0,-1.0,49.0,27.0,24.0,68.0,62.0,43.0,57.0,143.0,58.0,-1.0,161.0,51.0,25.0,146.0,71.0,-1.0,164.0,25.0,40.0,53.0,23.0,31.0,34.0,34.0,18.0,39.0,7.0,47.0,52.0,49.0,41.0,31.0,21.0,11.0,40.0,37.0,17.0,47.0,5.0,3.0,28.0,57.0,9.0,41.0,63.0,24.0,47.0,45.0,60.0,83.0,74.0,66.0,43.0,40.0,74.0,66.0,43.0,40.0,94.0,70.0,14.0,31.0,100.0,13.0,146.0,38.0,76.0,74.0,66.0,43.0,40.0,146.0,27.0,-1.0,164.0,39.0,43.0,22.0,20.0,36.0,38.0,32.0,13.0,42.0,12.0,6.0,42.0,32.0,38.0,8.0,21.0,54.0,34.0,37.0,40.0,18.0,33.0,13.0,28.0,55.0,42.0,43.0,33.0,21.0,6.0,17.0,12.0,18.0,6.0,17.0,12.0,18.0,6.0,17.0,12.0,23.0,15.0,46.0,39.0,12.0,47.0,18.0,6.0,17.0,11.0,46.0,43.0,35.0,35.0,23.0,42.0,20.0,45.0,13.0,28.0,55.0,7.0,3.0,19.0,6.0,17.0,11.0,44.0,38.0,77.0,43.0,38.0,77.0,44.0,43.0,35.0,-1.0,146.0,165.0,41.0,44.0,23.0,21.0,77.0,38.0,43.0,44.0,44.0,-1.0,146.0,168.0,21.0,41.0,44.0,23.0,77.0,41.0,43.0,41.0,49.0,-1.0,146.0,168.0,21.0,43.0,44.0,26.0,30.0,42.0,35.0,22.0,47.0,14.0,29.0,57.0,49.0,44.0,27.0,94.0,74.0,19.0,35.0,106.0,17.0,149.0,49.0,77.0,9.0,4.0,13.0,6.0,28.0,46.0,30.0,16.0,50.0,21.0,6.0,17.0,11.0,81.0,43.0,43.0,44.0,54.0,-1.0,149.0,170.0,23.0,44.0,48.0,26.0,32.0,43.0,36.0,23.0,48.0,15.0,33.0,57.0,49.0,47.0,29.0,34.0,13.0,46.0,31.0,18.0,50.0,21.0,6.0,17.0,12.0,36.0,47.0,50.0,27.0,151.0,60.0,-1.0,170.0,46.0,50.0,27.0,24.0,36.0,32.0,45.0,23.0,49.0,8.0,37.0,42.0,49.0,49.0,30.0,18.0,15.0,46.0,31.0,19.0,62.0,11.0,5.0,98.0,63.0,27.0,21.0,6.0,18.0,11.0,35.0,30.0,36.0,23.0,52.0,54.0,30.0,32.0,10.0,37.0,47.0,98.0,63.0,32.0,10.0,5.0,23.0,15.0,47.0,32.0,20.0,64.0,35.0,33.0,38.0,23.0,53.0,101.0,67.0,34.0,11.0,25.0,47.0,33.0,36.0,33.0,25.0,17.0,47.0,39.0,20.0,36.0,39.0,34.0,39.0,24.0,53.0,38.0,33.0,33.0,13.0,27.0,49.0,107.0,77.0,26.0,45.0,44.0,28.0,27.0,66.0,45.0,20.0,6.0,18.0,11.0,11.0,6.0,20.0,18.0,11.0,6.0,20.0,18.0,17.0,28.0,51.0,34.0,39.0,33.0,44.0,30.0,40.0,24.0,35.0,6.0,3.0,-1.0,-1.0,16.0,6.0,26.0,17.0,53.0,44.0,23.0,39.0,41.0,45.0,33.0,26.0,41.0,19.0,28.0,51.0,34.0,40.0,35.0,26.0,19.0,58.0,44.0,25.0,31.0,5.0,3.0,16.0,6.0,54.0,48.0,30.0,44.0,152.0,70.0,-1.0,170.0,18.0,6.0,17.0,48.0,50.0,27.0,25.0,16.0,6.0,49.0,61.0,48.0,34.0,70.0,-1.0,153.0,170.0,24.0,51.0,56.0,26.0,49.0,61.0,48.0,34.0,72.0,-1.0,153.0,172.0,24.0,51.0,56.0,26.0,24.0,51.0,56.0,26.0,24.0,29.0,53.0,38.0,37.0,47.0,33.0,41.0,27.0,35.0,9.0,3.0,28.0,19.0,58.0,45.0,26.0,37.0,12.0,6.0,-1.0,-1.0,-1.0,-1.0,-1.0,12.0,6.0,41.0,36.0,35.0,15.0,38.0,24.0,29.0,54.0,39.0,39.0,5.0,3.0,13.0,6.0,31.0,20.0,58.0,23.0,27.0,40.0,61.0,48.0,34.0,49.0,20.0,6.0,19.0,74.0,-1.0,153.0,173.0,24.0,51.0,56.0,26.0,56.0,64.0,36.0,49.0,79.0,-1.0,154.0,174.0,51.0,57.0,26.0,26.0,5.0,20.0,56.0,64.0,36.0,49.0,156.0,82.0,-1.0,174.0,51.0,57.0,26.0,26.0,49.0,64.0,56.0,37.0,37.0,35.0,42.0,18.0,39.0,32.0,30.0,57.0,40.0,40.0,7.0,3.0,91.0,-1.0,157.0,175.0,52.0,59.0,26.0,28.0,-1.0,-1.0,-1.0,-1.0,-1.0,32.0,21.0,58.0,29.0,27.0,41.0,38.0,36.0,42.0,19.0,39.0,18.0,8.0,32.0,30.0,57.0,45.0,31.0,42.0,32.0,21.0,58.0,29.0,27.0,41.0,33.0,22.0,61.0,29.0,28.0,41.0,44.0,34.0,37.0,19.0,40.0,75.0,36.0,35.0,23.0,51.0,30.0,35.0,43.0,20.0,6.0,19.0,13.0,33.0,23.0,62.0,30.0,28.0,44.0,35.0,23.0,52.0,34.0,38.0,45.0,36.0,42.0,45.0,19.0,38.0,75.0,37.0,52.0,59.0,26.0,28.0,56.0,64.0,37.0,49.0,56.0,64.0,37.0,49.0,158.0,98.0,-1.0,175.0,158.0,98.0,-1.0,175.0,30.0,52.0,62.0,26.0,5.0,18.0,18.0,5.0,18.0,18.0,6.0,21.0,19.0,21.0,6.0,20.0,11.0,5.0,20.0,20.0,6.0,19.0,47.0,40.0,45.0,19.0,32.0,36.0,23.0,53.0,39.0,42.0,49.0,77.0,39.0,21.0,6.0,18.0,12.0,35.0,23.0,64.0,31.0,28.0,46.0,51.0,39.0,56.0,39.0,159.0,105.0,-1.0,175.0,31.0,41.0,38.0,24.0,58.0,50.0,38.0,117.0,-1.0,160.0,175.0,41.0,38.0,24.0,31.0,58.0,50.0,38.0,160.0,127.0,-1.0,175.0,31.0,41.0,38.0,24.0,27.0,36.0,48.0,19.0,37.0,36.0,23.0,65.0,32.0,29.0,46.0,40.0,27.0,50.0,37.0,25.0,54.0,19.0,6.0,19.0,11.0,48.0,33.0,37.0,17.0,34.0,37.0,28.0,45.0,37.0,31.0,26.0,37.0,23.0,67.0,21.0,37.0,49.0,81.0,13.0,53.0,45.0,59.0,37.0,135.0,-1.0,164.0,175.0,31.0,41.0,38.0,24.0,58.0,50.0,38.0,164.0,48.0,-1.0,175.0,164.0,48.0,-1.0,175.0,31.0,41.0,39.0,26.0,59.0,56.0,38.0,166.0,54.0,-1.0,175.0,31.0,49.0,40.0,26.0,50.0,57.0,39.0,62.0,166.0,54.0,-1.0,175.0,53.0,42.0,28.0,31.0,10.0,35.0,37.0,18.0,16.0,22.0,46.0,39.0,36.0,27.0,81.0,20.0,37.0,24.0,70.0,30.0,38.0,51.0,35.0,37.0,19.0,18.0,32.0,81.0,22.0,19.0,28.0,47.0,37.0,27.0,40.0,39.0,24.0,70.0,30.0,39.0,51.0,36.0,39.0,20.0,18.0,32.0,39.0,30.0,30.0,22.0,30.0,48.0,82.0,25.0,21.0,6.0,18.0,11.0,28.0,8.0,73.0,31.0,43.0,53.0,24.0,31.0,49.0,30.0,39.0,34.0,11.0,4.0,19.0,6.0,19.0,12.0,32.0,19.0,73.0,31.0,52.0,34.0,12.0,8.0,39.0,43.0,23.0,18.0,39.0,43.0,23.0,18.0,33.0,39.0,35.0,25.0,36.0,44.0,11.0,7.0,11.0,3.0,85.0,21.0,55.0,40.0,29.0,30.0,22.0,6.0,19.0,12.0,28.0,39.0,45.0,36.0,41.0,41.0,23.0,31.0,30.0,16.0,38.0,12.0,7.0,34.0,24.0,73.0,32.0,11.0,34.0,9.0,3.0,39.0,33.0,13.0,20.0,41.0,30.0,41.0,41.0,42.0,37.0,35.0,74.0,18.0,34.0,34.0,24.0,11.0,8.0,9.0,3.0,17.0,40.0,36.0,21.0,39.0,28.0,43.0,34.0,18.0,47.0,11.0,8.0,10.0,3.0,35.0,26.0,74.0,35.0,18.0,34.0,0.0,36.0,19.0,21.0,40.0,175.0,17.0,-1.0,5.0,70.0,46.0,30.0,30.0,43.0,68.0,64.0,51.0,43.0,68.0,64.0,51.0,7.0,31.0,52.0,30.0,43.0,39.0,38.0,28.0,75.0,37.0,18.0,34.0,26.0,19.0,36.0,21.0,34.0,7.0,32.0,53.0,41.0,32.0,44.0,11.0,6.0,20.0,19.0,11.0,8.0,42.0,32.0,50.0,8.0,33.0,56.0,11.0,4.0,40.0,38.0,43.0,39.0,21.0,39.0,20.0,6.0,19.0,11.0,21.0,6.0,19.0,11.0,19.0,6.0,19.0,11.0,21.0,6.0,19.0,12.0,27.0,21.0,34.0,23.0,42.0,21.0,34.0,27.0,23.0,42.0,41.0,41.0,50.0,39.0,21.0,39.0,9.0,35.0,61.0,44.0,33.0,50.0,12.0,8.0,48.0,92.0,25.0,10.0,3.0,21.0,6.0,19.0,11.0,22.0,35.0,28.0,27.0,36.0,32.0,35.0,33.0,10.0,38.0,61.0,42.0,43.0,53.0,40.0,25.0,40.0,12.0,7.0,12.0,5.0,21.0,6.0,20.0,11.0,29.0,17.0,35.0,28.0,41.0,11.0,22.0,61.0,33.0,35.0,35.0,42.0,45.0,58.0,30.0,27.0,41.0,11.0,7.0,10.0,5.0,54.0,94.0,17.0,20.0,6.0,19.0,11.0,37.0,65.0,64.0,63.0,22.0,40.0,38.0,35.0,38.0,7.0,24.0,53.0,38.0,24.0,57.0,22.0,35.0,57.0,38.0,72.0,66.0,66.0,22.0,40.0,34.0,23.0,37.0,34.0,46.0,22.0,8.0,66.0,66.0,22.0,42.0,41.0,40.0,44.0,28.0,26.0,44.0,19.0,6.0,25.0,11.0,19.0,6.0,25.0,11.0,19.0,6.0,25.0,11.0,11.0,5.0,26.0,35.0,57.0,27.0,60.0,40.0,26.0,35.0,57.0,16.0,37.0,35.0,36.0,49.0,45.0,69.0,67.0,51.0,67.0,69.0,51.0,45.0,175.0,17.0,-1.0,5.0,67.0,45.0,69.0,51.0,73.0,47.0,30.0,32.0,20.0,6.0,26.0,11.0,26.0,21.0,68.0,68.0,24.0,43.0,19.0,39.0,35.0,38.0,49.0,40.0,27.0,60.0,28.0,23.0,57.0,38.0,22.0,70.0,72.0,25.0,49.0,11.0,4.0,22.0,6.0,27.0,11.0,36.0,19.0,36.0,15.0,50.0,9.0,21.0,58.0,32.0,28.0,28.0,39.0,28.0,78.0,72.0,26.0,49.0,58.0,108.0,17.0,67.0,69.0,51.0,45.0,175.0,26.0,-1.0,6.0,73.0,47.0,30.0,32.0,67.0,69.0,51.0,45.0,20.0,6.0,23.0,11.0,175.0,28.0,-1.0,6.0,32.0,73.0,47.0,30.0,21.0,36.0,18.0,52.0,21.0,36.0,18.0,52.0,34.0,29.0,29.0,11.0,23.0,61.0,58.0,108.0,17.0,8.0,5.0,37.0,22.0,36.0,18.0,53.0,8.0,5.0,58.0,108.0,17.0,39.0,29.0,78.0,74.0,32.0,34.0,22.0,37.0,18.0,54.0,58.0,108.0,19.0,17.0,40.0,79.0,74.0,33.0,35.0,7.0,6.0,38.0,36.0,32.0,14.0,28.0,45.0,19.0,44.0,79.0,74.0,35.0,35.0,37.0,32.0,41.0,20.0,6.0,23.0,11.0,62.0,113.0,19.0,68.0,101.0,24.0,52.0,15.0,31.0,50.0,42.0,38.0,32.0,175.0,30.0,-1.0,8.0,11.0,5.0,43.0,51.0,24.0,24.0,52.0,101.0,68.0,24.0,33.0,-1.0,175.0,8.0,43.0,51.0,24.0,25.0,68.0,101.0,24.0,52.0,34.0,-1.0,175.0,11.0,25.0,43.0,51.0,24.0,68.0,101.0,24.0,52.0,39.0,-1.0,175.0,19.0,8.0,5.0,25.0,44.0,42.0,24.0,68.0,101.0,24.0,52.0,44.0,-1.0,175.0,21.0,27.0,55.0,51.0,27.0,52.0,101.0,68.0,24.0,175.0,49.0,-1.0,23.0,55.0,51.0,27.0,27.0,68.0,101.0,24.0,52.0,175.0,49.0,-1.0,27.0,27.0,54.0,51.0,27.0,55.0,51.0,27.0,27.0,52.0,101.0,68.0,24.0,49.0,-1.0,175.0,29.0,27.0,54.0,51.0,27.0,52.0,101.0,68.0,24.0,52.0,-1.0,175.0,32.0,27.0,55.0,52.0,26.0,20.0,44.0,80.0,75.0,36.0,42.0,30.0,45.0,21.0,15.0,53.0,30.0,45.0,21.0,15.0,53.0,10.0,5.0,8.0,45.0,50.0,44.0,39.0,29.0,21.0,6.0,25.0,11.0,20.0,6.0,26.0,11.0,8.0,5.0,22.0,30.0,30.0,12.0,54.0,66.0,113.0,21.0,10.0,5.0,52.0,102.0,69.0,27.0,14.0,8.0,27.0,50.0,83.0,78.0,38.0,48.0,22.0,70.0,-1.0,22.0,29.0,54.0,41.0,27.0,69.0,102.0,27.0,52.0,24.0,76.0,-1.0,26.0,54.0,40.0,27.0,28.0,24.0,79.0,-1.0,26.0,52.0,101.0,68.0,24.0,55.0,42.0,27.0,30.0,69.0,102.0,27.0,52.0,25.0,37.0,-1.0,27.0,56.0,43.0,30.0,30.0,52.0,103.0,69.0,30.0,26.0,54.0,-1.0,31.0,37.0,58.0,44.0,32.0,33.0,24.0,34.0,11.0,6.0,19.0,24.0,8.0,23.0,54.0,21.0,6.0,14.0,19.0,38.0,25.0,15.0,42.0,9.0,23.0,58.0,27.0,35.0,34.0,67.0,114.0,22.0,12.0,7.0,12.0,7.0,27.0,83.0,44.0,78.0,50.0,51.0,26.0,21.0,41.0,18.0,43.0,9.0,23.0,49.0,34.0,29.0,36.0,18.0,7.0,84.0,25.0,56.0,32.0,15.0,6.0,22.0,32.0,29.0,14.0,46.0,31.0,38.0,37.0,8.0,27.0,56.0,20.0,12.0,86.0,31.0,57.0,36.0,70.0,103.0,32.0,52.0,68.0,-1.0,28.0,31.0,58.0,46.0,33.0,37.0,30.0,35.0,30.0,11.0,22.0,62.0,29.0,23.0,45.0,14.0,47.0,29.0,23.0,45.0,14.0,47.0,82.0,118.0,23.0,8.0,5.0,55.0,107.0,70.0,33.0,8.0,73.0,-1.0,37.0,64.0,49.0,40.0,17.0,4.0,32.0,9.0,64.0,49.0,40.0,70.0,107.0,33.0,55.0,10.0,35.0,-1.0,37.0,70.0,107.0,33.0,55.0,13.0,50.0,-1.0,37.0,40.0,63.0,49.0,17.0,4.0,32.0,9.0,38.0,42.0,46.0,13.0,26.0,69.0,25.0,46.0,30.0,13.0,47.0,8.0,5.0,10.0,5.0,22.0,14.0,88.0,41.0,61.0,36.0,19.0,6.0,25.0,11.0,49.0,40.0,49.0,14.0,27.0,69.0,8.0,5.0,84.0,118.0,29.0,10.0,5.0,24.0,14.0,47.0,46.0,64.0,36.0,20.0,5.0,24.0,11.0,79.0,111.0,38.0,63.0,13.0,58.0,-1.0,4.0,67.0,54.0,24.0,44.0,63.0,111.0,79.0,38.0,65.0,-1.0,14.0,4.0,67.0,54.0,24.0,44.0,79.0,111.0,38.0,63.0,67.0,-1.0,15.0,10.0,41.0,67.0,54.0,24.0,19.0,48.0,36.0,17.0,50.0,36.0,19.0,48.0,17.0,50.0,36.0,19.0,48.0,17.0,50.0,9.0,3.0],\"type\":\"scatter3d\"},{\"hovertemplate\":\"scanner_K150=True\\u003cbr\\u003eMaxMinDiff=%{x}\\u003cbr\\u003eerr=%{y}\\u003cbr\\u003epixels=%{z}\\u003cextra\\u003e\\u003c\\u002fextra\\u003e\",\"legendgroup\":\"True\",\"marker\":{\"color\":\"#EF553B\",\"symbol\":\"circle\"},\"mode\":\"markers\",\"name\":\"True\",\"scene\":\"scene\",\"showlegend\":true,\"x\":[1383.0,1380.0,1343.0,1346.0,1346.0,1389.0,1369.0,1380.0,1398.0,1431.0,1380.0,1398.0,1400.0,1400.0,1400.0,1400.0,1404.0,1435.0,1450.0,1538.0,1538.0,1538.0,1549.0,1549.0,1534.0,1546.0,1571.0,1560.0,1612.0,1726.0,1721.0,1721.0,1848.0,1892.0,1805.0,1805.0,1805.0,1902.0,4292.0,4247.0,4283.0,4247.0,4213.0,4337.0,16517.0,16517.0,1485.0,1484.0,1485.0,1484.0,1484.0,1170.0,1170.0,1170.0,1170.0,1170.0,1161.0,1161.0,1161.0,1161.0,1202.0,1202.0,1168.0,1202.0,1186.0,1167.0,1180.0,1180.0,1180.0,1181.0,1195.0,1171.0],\"y\":[3.87,3.86,3.75,3.76,3.76,3.88,3.83,3.86,3.91,4.0,3.86,3.91,3.91,3.91,3.91,3.91,3.92,4.01,4.05,4.3,4.3,4.3,4.33,4.33,4.29,4.33,4.4,4.37,4.51,4.82,4.81,4.81,5.17,5.29,5.05,5.05,5.05,5.32,12.04,11.92,12.01,11.92,11.83,12.17,46.26,46.26,4.16,4.15,4.16,4.15,4.15,3.28,3.28,3.28,3.28,3.28,3.25,3.25,3.25,3.25,3.36,3.36,3.27,3.36,3.32,3.27,3.3,3.3,3.3,3.31,3.34,3.28],\"z\":[19.0,26.0,29.0,17.0,17.0,17.0,19.0,21.0,21.0,21.0,26.0,21.0,20.0,20.0,20.0,20.0,22.0,23.0,23.0,28.0,28.0,28.0,32.0,32.0,32.0,33.0,35.0,37.0,37.0,27.0,27.0,27.0,28.0,28.0,28.0,28.0,28.0,29.0,18.0,18.0,18.0,18.0,19.0,21.0,34.0,34.0,25.0,25.0,25.0,25.0,25.0,41.0,41.0,41.0,41.0,41.0,41.0,41.0,41.0,41.0,42.0,42.0,41.0,42.0,42.0,42.0,44.0,44.0,44.0,47.0,47.0,47.0],\"type\":\"scatter3d\"}],                        {\"template\":{\"data\":{\"histogram2dcontour\":[{\"type\":\"histogram2dcontour\",\"colorbar\":{\"outlinewidth\":0,\"ticks\":\"\"},\"colorscale\":[[0.0,\"#0d0887\"],[0.1111111111111111,\"#46039f\"],[0.2222222222222222,\"#7201a8\"],[0.3333333333333333,\"#9c179e\"],[0.4444444444444444,\"#bd3786\"],[0.5555555555555556,\"#d8576b\"],[0.6666666666666666,\"#ed7953\"],[0.7777777777777778,\"#fb9f3a\"],[0.8888888888888888,\"#fdca26\"],[1.0,\"#f0f921\"]]}],\"choropleth\":[{\"type\":\"choropleth\",\"colorbar\":{\"outlinewidth\":0,\"ticks\":\"\"}}],\"histogram2d\":[{\"type\":\"histogram2d\",\"colorbar\":{\"outlinewidth\":0,\"ticks\":\"\"},\"colorscale\":[[0.0,\"#0d0887\"],[0.1111111111111111,\"#46039f\"],[0.2222222222222222,\"#7201a8\"],[0.3333333333333333,\"#9c179e\"],[0.4444444444444444,\"#bd3786\"],[0.5555555555555556,\"#d8576b\"],[0.6666666666666666,\"#ed7953\"],[0.7777777777777778,\"#fb9f3a\"],[0.8888888888888888,\"#fdca26\"],[1.0,\"#f0f921\"]]}],\"heatmap\":[{\"type\":\"heatmap\",\"colorbar\":{\"outlinewidth\":0,\"ticks\":\"\"},\"colorscale\":[[0.0,\"#0d0887\"],[0.1111111111111111,\"#46039f\"],[0.2222222222222222,\"#7201a8\"],[0.3333333333333333,\"#9c179e\"],[0.4444444444444444,\"#bd3786\"],[0.5555555555555556,\"#d8576b\"],[0.6666666666666666,\"#ed7953\"],[0.7777777777777778,\"#fb9f3a\"],[0.8888888888888888,\"#fdca26\"],[1.0,\"#f0f921\"]]}],\"heatmapgl\":[{\"type\":\"heatmapgl\",\"colorbar\":{\"outlinewidth\":0,\"ticks\":\"\"},\"colorscale\":[[0.0,\"#0d0887\"],[0.1111111111111111,\"#46039f\"],[0.2222222222222222,\"#7201a8\"],[0.3333333333333333,\"#9c179e\"],[0.4444444444444444,\"#bd3786\"],[0.5555555555555556,\"#d8576b\"],[0.6666666666666666,\"#ed7953\"],[0.7777777777777778,\"#fb9f3a\"],[0.8888888888888888,\"#fdca26\"],[1.0,\"#f0f921\"]]}],\"contourcarpet\":[{\"type\":\"contourcarpet\",\"colorbar\":{\"outlinewidth\":0,\"ticks\":\"\"}}],\"contour\":[{\"type\":\"contour\",\"colorbar\":{\"outlinewidth\":0,\"ticks\":\"\"},\"colorscale\":[[0.0,\"#0d0887\"],[0.1111111111111111,\"#46039f\"],[0.2222222222222222,\"#7201a8\"],[0.3333333333333333,\"#9c179e\"],[0.4444444444444444,\"#bd3786\"],[0.5555555555555556,\"#d8576b\"],[0.6666666666666666,\"#ed7953\"],[0.7777777777777778,\"#fb9f3a\"],[0.8888888888888888,\"#fdca26\"],[1.0,\"#f0f921\"]]}],\"surface\":[{\"type\":\"surface\",\"colorbar\":{\"outlinewidth\":0,\"ticks\":\"\"},\"colorscale\":[[0.0,\"#0d0887\"],[0.1111111111111111,\"#46039f\"],[0.2222222222222222,\"#7201a8\"],[0.3333333333333333,\"#9c179e\"],[0.4444444444444444,\"#bd3786\"],[0.5555555555555556,\"#d8576b\"],[0.6666666666666666,\"#ed7953\"],[0.7777777777777778,\"#fb9f3a\"],[0.8888888888888888,\"#fdca26\"],[1.0,\"#f0f921\"]]}],\"mesh3d\":[{\"type\":\"mesh3d\",\"colorbar\":{\"outlinewidth\":0,\"ticks\":\"\"}}],\"scatter\":[{\"fillpattern\":{\"fillmode\":\"overlay\",\"size\":10,\"solidity\":0.2},\"type\":\"scatter\"}],\"parcoords\":[{\"type\":\"parcoords\",\"line\":{\"colorbar\":{\"outlinewidth\":0,\"ticks\":\"\"}}}],\"scatterpolargl\":[{\"type\":\"scatterpolargl\",\"marker\":{\"colorbar\":{\"outlinewidth\":0,\"ticks\":\"\"}}}],\"bar\":[{\"error_x\":{\"color\":\"#2a3f5f\"},\"error_y\":{\"color\":\"#2a3f5f\"},\"marker\":{\"line\":{\"color\":\"#E5ECF6\",\"width\":0.5},\"pattern\":{\"fillmode\":\"overlay\",\"size\":10,\"solidity\":0.2}},\"type\":\"bar\"}],\"scattergeo\":[{\"type\":\"scattergeo\",\"marker\":{\"colorbar\":{\"outlinewidth\":0,\"ticks\":\"\"}}}],\"scatterpolar\":[{\"type\":\"scatterpolar\",\"marker\":{\"colorbar\":{\"outlinewidth\":0,\"ticks\":\"\"}}}],\"histogram\":[{\"marker\":{\"pattern\":{\"fillmode\":\"overlay\",\"size\":10,\"solidity\":0.2}},\"type\":\"histogram\"}],\"scattergl\":[{\"type\":\"scattergl\",\"marker\":{\"colorbar\":{\"outlinewidth\":0,\"ticks\":\"\"}}}],\"scatter3d\":[{\"type\":\"scatter3d\",\"line\":{\"colorbar\":{\"outlinewidth\":0,\"ticks\":\"\"}},\"marker\":{\"colorbar\":{\"outlinewidth\":0,\"ticks\":\"\"}}}],\"scattermapbox\":[{\"type\":\"scattermapbox\",\"marker\":{\"colorbar\":{\"outlinewidth\":0,\"ticks\":\"\"}}}],\"scatterternary\":[{\"type\":\"scatterternary\",\"marker\":{\"colorbar\":{\"outlinewidth\":0,\"ticks\":\"\"}}}],\"scattercarpet\":[{\"type\":\"scattercarpet\",\"marker\":{\"colorbar\":{\"outlinewidth\":0,\"ticks\":\"\"}}}],\"carpet\":[{\"aaxis\":{\"endlinecolor\":\"#2a3f5f\",\"gridcolor\":\"white\",\"linecolor\":\"white\",\"minorgridcolor\":\"white\",\"startlinecolor\":\"#2a3f5f\"},\"baxis\":{\"endlinecolor\":\"#2a3f5f\",\"gridcolor\":\"white\",\"linecolor\":\"white\",\"minorgridcolor\":\"white\",\"startlinecolor\":\"#2a3f5f\"},\"type\":\"carpet\"}],\"table\":[{\"cells\":{\"fill\":{\"color\":\"#EBF0F8\"},\"line\":{\"color\":\"white\"}},\"header\":{\"fill\":{\"color\":\"#C8D4E3\"},\"line\":{\"color\":\"white\"}},\"type\":\"table\"}],\"barpolar\":[{\"marker\":{\"line\":{\"color\":\"#E5ECF6\",\"width\":0.5},\"pattern\":{\"fillmode\":\"overlay\",\"size\":10,\"solidity\":0.2}},\"type\":\"barpolar\"}],\"pie\":[{\"automargin\":true,\"type\":\"pie\"}]},\"layout\":{\"autotypenumbers\":\"strict\",\"colorway\":[\"#636efa\",\"#EF553B\",\"#00cc96\",\"#ab63fa\",\"#FFA15A\",\"#19d3f3\",\"#FF6692\",\"#B6E880\",\"#FF97FF\",\"#FECB52\"],\"font\":{\"color\":\"#2a3f5f\"},\"hovermode\":\"closest\",\"hoverlabel\":{\"align\":\"left\"},\"paper_bgcolor\":\"white\",\"plot_bgcolor\":\"#E5ECF6\",\"polar\":{\"bgcolor\":\"#E5ECF6\",\"angularaxis\":{\"gridcolor\":\"white\",\"linecolor\":\"white\",\"ticks\":\"\"},\"radialaxis\":{\"gridcolor\":\"white\",\"linecolor\":\"white\",\"ticks\":\"\"}},\"ternary\":{\"bgcolor\":\"#E5ECF6\",\"aaxis\":{\"gridcolor\":\"white\",\"linecolor\":\"white\",\"ticks\":\"\"},\"baxis\":{\"gridcolor\":\"white\",\"linecolor\":\"white\",\"ticks\":\"\"},\"caxis\":{\"gridcolor\":\"white\",\"linecolor\":\"white\",\"ticks\":\"\"}},\"coloraxis\":{\"colorbar\":{\"outlinewidth\":0,\"ticks\":\"\"}},\"colorscale\":{\"sequential\":[[0.0,\"#0d0887\"],[0.1111111111111111,\"#46039f\"],[0.2222222222222222,\"#7201a8\"],[0.3333333333333333,\"#9c179e\"],[0.4444444444444444,\"#bd3786\"],[0.5555555555555556,\"#d8576b\"],[0.6666666666666666,\"#ed7953\"],[0.7777777777777778,\"#fb9f3a\"],[0.8888888888888888,\"#fdca26\"],[1.0,\"#f0f921\"]],\"sequentialminus\":[[0.0,\"#0d0887\"],[0.1111111111111111,\"#46039f\"],[0.2222222222222222,\"#7201a8\"],[0.3333333333333333,\"#9c179e\"],[0.4444444444444444,\"#bd3786\"],[0.5555555555555556,\"#d8576b\"],[0.6666666666666666,\"#ed7953\"],[0.7777777777777778,\"#fb9f3a\"],[0.8888888888888888,\"#fdca26\"],[1.0,\"#f0f921\"]],\"diverging\":[[0,\"#8e0152\"],[0.1,\"#c51b7d\"],[0.2,\"#de77ae\"],[0.3,\"#f1b6da\"],[0.4,\"#fde0ef\"],[0.5,\"#f7f7f7\"],[0.6,\"#e6f5d0\"],[0.7,\"#b8e186\"],[0.8,\"#7fbc41\"],[0.9,\"#4d9221\"],[1,\"#276419\"]]},\"xaxis\":{\"gridcolor\":\"white\",\"linecolor\":\"white\",\"ticks\":\"\",\"title\":{\"standoff\":15},\"zerolinecolor\":\"white\",\"automargin\":true,\"zerolinewidth\":2},\"yaxis\":{\"gridcolor\":\"white\",\"linecolor\":\"white\",\"ticks\":\"\",\"title\":{\"standoff\":15},\"zerolinecolor\":\"white\",\"automargin\":true,\"zerolinewidth\":2},\"scene\":{\"xaxis\":{\"backgroundcolor\":\"#E5ECF6\",\"gridcolor\":\"white\",\"linecolor\":\"white\",\"showbackground\":true,\"ticks\":\"\",\"zerolinecolor\":\"white\",\"gridwidth\":2},\"yaxis\":{\"backgroundcolor\":\"#E5ECF6\",\"gridcolor\":\"white\",\"linecolor\":\"white\",\"showbackground\":true,\"ticks\":\"\",\"zerolinecolor\":\"white\",\"gridwidth\":2},\"zaxis\":{\"backgroundcolor\":\"#E5ECF6\",\"gridcolor\":\"white\",\"linecolor\":\"white\",\"showbackground\":true,\"ticks\":\"\",\"zerolinecolor\":\"white\",\"gridwidth\":2}},\"shapedefaults\":{\"line\":{\"color\":\"#2a3f5f\"}},\"annotationdefaults\":{\"arrowcolor\":\"#2a3f5f\",\"arrowhead\":0,\"arrowwidth\":1},\"geo\":{\"bgcolor\":\"white\",\"landcolor\":\"#E5ECF6\",\"subunitcolor\":\"white\",\"showland\":true,\"showlakes\":true,\"lakecolor\":\"white\"},\"title\":{\"x\":0.05},\"mapbox\":{\"style\":\"light\"}}},\"scene\":{\"domain\":{\"x\":[0.0,1.0],\"y\":[0.0,1.0]},\"xaxis\":{\"title\":{\"text\":\"MaxMinDiff\"}},\"yaxis\":{\"title\":{\"text\":\"err\"}},\"zaxis\":{\"title\":{\"text\":\"pixels\"}}},\"legend\":{\"title\":{\"text\":\"scanner_K150\"},\"tracegroupgap\":0},\"margin\":{\"t\":60}},                        {\"responsive\": true}                    ).then(function(){\n",
              "                            \n",
              "var gd = document.getElementById('f119264e-1173-4df4-ad91-8a6385b82443');\n",
              "var x = new MutationObserver(function (mutations, observer) {{\n",
              "        var display = window.getComputedStyle(gd).display;\n",
              "        if (!display || display === 'none') {{\n",
              "            console.log([gd, 'removed!']);\n",
              "            Plotly.purge(gd);\n",
              "            observer.disconnect();\n",
              "        }}\n",
              "}});\n",
              "\n",
              "// Listen for the removal of the full notebook cells\n",
              "var notebookContainer = gd.closest('#notebook-container');\n",
              "if (notebookContainer) {{\n",
              "    x.observe(notebookContainer, {childList: true});\n",
              "}}\n",
              "\n",
              "// Listen for the clearing of the current output cell\n",
              "var outputEl = gd.closest('.output');\n",
              "if (outputEl) {{\n",
              "    x.observe(outputEl, {childList: true});\n",
              "}}\n",
              "\n",
              "                        })                };                            </script>        </div>\n",
              "</body>\n",
              "</html>"
            ]
          },
          "metadata": {}
        }
      ]
    },
    {
      "cell_type": "markdown",
      "source": [
        "Final thought before modeling\n",
        "\n",
        "> The difference between Max and Min increases then the scanner will likly towards failure after the value becomes 4000 and above\n",
        "\n",
        ">The difference between Maxf and Minf increases then the scanner will likly towards failure after the value becomes 100/90 and above"
      ],
      "metadata": {
        "id": "A3Ahl4XBLowb"
      }
    },
    {
      "cell_type": "markdown",
      "source": [
        "Failure category:\n",
        "\n",
        "    Never fail : Failure = 1\n",
        "\n",
        "    Routinely fail: Failure = 2\n",
        "\n",
        "    Expected to fail/Failing faster: Failure = 3"
      ],
      "metadata": {
        "id": "SO4Xr0V3Lt6B"
      }
    },
    {
      "cell_type": "code",
      "source": [
        "df_model = df_copy1.copy()\n"
      ],
      "metadata": {
        "id": "5Nom3NXwLlr_"
      },
      "execution_count": null,
      "outputs": []
    },
    {
      "cell_type": "code",
      "source": [
        "df_copy1['Failure'] = np.where(((df_copy1['MaxMinDiff'] >= 4000) & (df_copy1['MaxMinDiff'] <= 4280)) |((df_copy1['MaxfMinfDiff'] >= 90) & (df_copy1['MaxfMinfDiff'] <= 120)),3, df_copy1['Failure'])\n"
      ],
      "metadata": {
        "id": "QhYsm6BcL3ve"
      },
      "execution_count": null,
      "outputs": []
    },
    {
      "cell_type": "code",
      "source": [
        "df_copy1['Failure'].value_counts()\n"
      ],
      "metadata": {
        "colab": {
          "base_uri": "https://localhost:8080/"
        },
        "id": "RleNf5WCL47-",
        "outputId": "f4cb46e0-5ae9-41b0-d97b-6587da02b19a"
      },
      "execution_count": null,
      "outputs": [
        {
          "output_type": "execute_result",
          "data": {
            "text/plain": [
              "Failure\n",
              "1    2565\n",
              "3      27\n",
              "2      11\n",
              "Name: count, dtype: int64"
            ]
          },
          "metadata": {},
          "execution_count": 142
        }
      ]
    },
    {
      "cell_type": "markdown",
      "source": [
        "Data Split\n"
      ],
      "metadata": {
        "id": "nCrpuezML79z"
      }
    },
    {
      "cell_type": "code",
      "source": [
        "# Original dataset\n",
        "X = df_copy1.drop('Failure', axis=1)\n",
        "Y = df_copy1['Failure']\n",
        "\n",
        "X_train, X_test, Y_train, Y_test = train_test_split(X,Y, test_size=0.3, stratify=Y, random_state=45)"
      ],
      "metadata": {
        "id": "2Bxab4P2L6Cu"
      },
      "execution_count": null,
      "outputs": []
    },
    {
      "cell_type": "code",
      "source": [
        "rf = RandomForestClassifier()\n",
        "\n",
        "def model_classifier(mod_est):\n",
        "      brk_str = '=='*50\n",
        "      parameters = {'n_estimators': [50, 150, 250],'max_depth': [4, 8, 16, 32, 64, None]}\n",
        "      print(brk_str)\n",
        "      cv = GridSearchCV(rf, parameters, cv=10)\n",
        "      cv.fit(X_train, Y_train)\n",
        "      print(brk_str)\n",
        "      print(cv.best_params_)\n",
        "      print(brk_str)\n",
        "      Y_pred= cv.predict(X_test)\n",
        "      print('Accuracy:', metrics.accuracy_score(Y_pred,Y_test))\n",
        "\n",
        "      cv_scores =cross_val_score(cv, X, Y, cv=5)\n",
        "      print(brk_str)\n",
        "      print(' Print the 5-fold cross-validation scores')\n",
        "      print(brk_str)\n",
        "      print(classification_report(Y_test, Y_pred))\n",
        "      print()\n",
        "      print(\"Average 5-Fold CV Score: {}\".format(round(np.mean(cv_scores),4)),\", Standard deviation: {}\".format(round(np.std(cv_scores),4)))\n",
        "      ConfMatrix = confusion_matrix(Y_test,cv.predict(X_test))\n",
        "      print()\n",
        "      print(ConfMatrix)\n",
        "      print()\n",
        "      print(brk_str)\n",
        "\n",
        "      print('Sample Test check')\n",
        "      sample_test = df_copy1.loc[(df_copy1['scanner_K150'] == 1) & (df_copy1['Failure'] == 3)]\n",
        "      Ypred_sample = cv.predict(sample_test.drop(['Failure'],axis = 1))\n",
        "      print(Ypred_sample)\n",
        "      print(brk_str)"
      ],
      "metadata": {
        "id": "ETjKO5j_MJly"
      },
      "execution_count": null,
      "outputs": []
    },
    {
      "cell_type": "code",
      "source": [
        "model_classifier(RandomForestClassifier())"
      ],
      "metadata": {
        "colab": {
          "base_uri": "https://localhost:8080/"
        },
        "id": "Em6eMT9LMJ8Y",
        "outputId": "412de5e2-34b1-4779-d792-08f148edb713"
      },
      "execution_count": null,
      "outputs": [
        {
          "output_type": "stream",
          "name": "stdout",
          "text": [
            "====================================================================================================\n"
          ]
        },
        {
          "output_type": "stream",
          "name": "stderr",
          "text": [
            "/usr/local/lib/python3.10/dist-packages/sklearn/model_selection/_split.py:700: UserWarning:\n",
            "\n",
            "The least populated class in y has only 8 members, which is less than n_splits=10.\n",
            "\n"
          ]
        },
        {
          "output_type": "stream",
          "name": "stdout",
          "text": [
            "====================================================================================================\n",
            "{'max_depth': None, 'n_estimators': 50}\n",
            "====================================================================================================\n",
            "Accuracy: 0.9974391805377721\n"
          ]
        },
        {
          "output_type": "stream",
          "name": "stderr",
          "text": [
            "/usr/local/lib/python3.10/dist-packages/sklearn/model_selection/_split.py:700: UserWarning:\n",
            "\n",
            "The least populated class in y has only 8 members, which is less than n_splits=10.\n",
            "\n",
            "/usr/local/lib/python3.10/dist-packages/sklearn/model_selection/_split.py:700: UserWarning:\n",
            "\n",
            "The least populated class in y has only 9 members, which is less than n_splits=10.\n",
            "\n",
            "/usr/local/lib/python3.10/dist-packages/sklearn/model_selection/_split.py:700: UserWarning:\n",
            "\n",
            "The least populated class in y has only 9 members, which is less than n_splits=10.\n",
            "\n",
            "/usr/local/lib/python3.10/dist-packages/sklearn/model_selection/_split.py:700: UserWarning:\n",
            "\n",
            "The least populated class in y has only 9 members, which is less than n_splits=10.\n",
            "\n",
            "/usr/local/lib/python3.10/dist-packages/sklearn/model_selection/_split.py:700: UserWarning:\n",
            "\n",
            "The least populated class in y has only 9 members, which is less than n_splits=10.\n",
            "\n"
          ]
        },
        {
          "output_type": "stream",
          "name": "stdout",
          "text": [
            "====================================================================================================\n",
            " Print the 5-fold cross-validation scores\n",
            "====================================================================================================\n",
            "              precision    recall  f1-score   support\n",
            "\n",
            "           1       1.00      1.00      1.00       770\n",
            "           2       1.00      1.00      1.00         3\n",
            "           3       0.80      1.00      0.89         8\n",
            "\n",
            "    accuracy                           1.00       781\n",
            "   macro avg       0.93      1.00      0.96       781\n",
            "weighted avg       1.00      1.00      1.00       781\n",
            "\n",
            "\n",
            "Average 5-Fold CV Score: 0.9969 , Standard deviation: 0.0026\n",
            "\n",
            "[[768   0   2]\n",
            " [  0   3   0]\n",
            " [  0   0   8]]\n",
            "\n",
            "====================================================================================================\n",
            "Sample Test check\n",
            "[3 3 3]\n",
            "====================================================================================================\n"
          ]
        }
      ]
    },
    {
      "cell_type": "markdown",
      "source": [
        "Gradient Boosting Classifier\n"
      ],
      "metadata": {
        "id": "W-xYQNX4L7a9"
      }
    },
    {
      "cell_type": "code",
      "source": [
        "from sklearn.ensemble import GradientBoostingClassifier\n",
        "model_classifier(GradientBoostingClassifier())"
      ],
      "metadata": {
        "colab": {
          "base_uri": "https://localhost:8080/"
        },
        "id": "UJH5ol8hU9cr",
        "outputId": "d47725e2-3769-4670-9f71-1d420e06da7d"
      },
      "execution_count": null,
      "outputs": [
        {
          "output_type": "stream",
          "name": "stdout",
          "text": [
            "====================================================================================================\n"
          ]
        },
        {
          "output_type": "stream",
          "name": "stderr",
          "text": [
            "/usr/local/lib/python3.10/dist-packages/sklearn/model_selection/_split.py:700: UserWarning:\n",
            "\n",
            "The least populated class in y has only 8 members, which is less than n_splits=10.\n",
            "\n"
          ]
        },
        {
          "output_type": "stream",
          "name": "stdout",
          "text": [
            "====================================================================================================\n",
            "{'max_depth': 16, 'n_estimators': 50}\n",
            "====================================================================================================\n",
            "Accuracy: 0.9974391805377721\n"
          ]
        },
        {
          "output_type": "stream",
          "name": "stderr",
          "text": [
            "/usr/local/lib/python3.10/dist-packages/sklearn/model_selection/_split.py:700: UserWarning:\n",
            "\n",
            "The least populated class in y has only 8 members, which is less than n_splits=10.\n",
            "\n",
            "/usr/local/lib/python3.10/dist-packages/sklearn/model_selection/_split.py:700: UserWarning:\n",
            "\n",
            "The least populated class in y has only 9 members, which is less than n_splits=10.\n",
            "\n",
            "/usr/local/lib/python3.10/dist-packages/sklearn/model_selection/_split.py:700: UserWarning:\n",
            "\n",
            "The least populated class in y has only 9 members, which is less than n_splits=10.\n",
            "\n",
            "/usr/local/lib/python3.10/dist-packages/sklearn/model_selection/_split.py:700: UserWarning:\n",
            "\n",
            "The least populated class in y has only 9 members, which is less than n_splits=10.\n",
            "\n",
            "/usr/local/lib/python3.10/dist-packages/sklearn/model_selection/_split.py:700: UserWarning:\n",
            "\n",
            "The least populated class in y has only 9 members, which is less than n_splits=10.\n",
            "\n"
          ]
        },
        {
          "output_type": "stream",
          "name": "stdout",
          "text": [
            "====================================================================================================\n",
            " Print the 5-fold cross-validation scores\n",
            "====================================================================================================\n",
            "              precision    recall  f1-score   support\n",
            "\n",
            "           1       1.00      1.00      1.00       770\n",
            "           2       1.00      1.00      1.00         3\n",
            "           3       0.80      1.00      0.89         8\n",
            "\n",
            "    accuracy                           1.00       781\n",
            "   macro avg       0.93      1.00      0.96       781\n",
            "weighted avg       1.00      1.00      1.00       781\n",
            "\n",
            "\n",
            "Average 5-Fold CV Score: 0.9969 , Standard deviation: 0.0023\n",
            "\n",
            "[[768   0   2]\n",
            " [  0   3   0]\n",
            " [  0   0   8]]\n",
            "\n",
            "====================================================================================================\n",
            "Sample Test check\n",
            "[3 3 3]\n",
            "====================================================================================================\n"
          ]
        }
      ]
    },
    {
      "cell_type": "markdown",
      "source": [
        "Conclusion:\n",
        "\n",
        ">Based on the model estimation both the model's the accuracy and precision and recall values are satisfactory along with cross-validation scores\n",
        "Gradient Boosting model gives results faster than Random Forest."
      ],
      "metadata": {
        "id": "Ccwd-W6fiGIl"
      }
    },
    {
      "cell_type": "code",
      "source": [],
      "metadata": {
        "id": "l55U2cVZU_Ru"
      },
      "execution_count": null,
      "outputs": []
    }
  ]
}